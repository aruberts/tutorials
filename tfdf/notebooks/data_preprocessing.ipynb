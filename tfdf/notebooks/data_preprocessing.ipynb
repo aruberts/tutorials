{
 "cells": [
  {
   "cell_type": "code",
   "execution_count": 1,
   "metadata": {},
   "outputs": [
    {
     "name": "stderr",
     "output_type": "stream",
     "text": [
      "2023-03-17 17:18:41.007743: I tensorflow/core/platform/cpu_feature_guard.cc:193] This TensorFlow binary is optimized with oneAPI Deep Neural Network Library (oneDNN) to use the following CPU instructions in performance-critical operations:  AVX2 AVX512F AVX512_VNNI FMA\n",
      "To enable them in other operations, rebuild TensorFlow with the appropriate compiler flags.\n"
     ]
    }
   ],
   "source": [
    "import pandas as pd\n",
    "import numpy as np\n",
    "import plotly.express as px"
   ]
  },
  {
   "cell_type": "code",
   "execution_count": 2,
   "metadata": {},
   "outputs": [
    {
     "name": "stderr",
     "output_type": "stream",
     "text": [
      "Columns (9) have mixed types. Specify dtype option on import or set low_memory=False.\n"
     ]
    }
   ],
   "source": [
    "data = pd.read_csv(\"SBAnational.csv\")"
   ]
  },
  {
   "cell_type": "code",
   "execution_count": 3,
   "metadata": {},
   "outputs": [],
   "source": [
    "def get_frequent(x, thr=0.005):\n",
    "    count_norm = x.value_counts(normalize=True)\n",
    "    frequent = count_norm[count_norm >= thr]\n",
    "    return frequent.index\n",
    "\n",
    "\n",
    "def plot_numeric_boxplots(data, target, feature):\n",
    "    fig = px.box(\n",
    "        data,\n",
    "        x=target,\n",
    "        y=feature,\n",
    "    )\n",
    "    fig.show()\n",
    "\n",
    "\n",
    "def plot_category_props(data, x, target):\n",
    "    prop = data.groupby(x)[target].mean()\n",
    "    fig = px.bar(x=prop.index, y=prop.values, labels={\"x\": x, \"y\": target})\n",
    "    fig.show()"
   ]
  },
  {
   "cell_type": "code",
   "execution_count": 4,
   "metadata": {},
   "outputs": [],
   "source": [
    "data['is_default'] = ~data['ChgOffDate'].isna()"
   ]
  },
  {
   "cell_type": "markdown",
   "metadata": {},
   "source": [
    "## Feature Cleaning"
   ]
  },
  {
   "cell_type": "code",
   "execution_count": 5,
   "metadata": {},
   "outputs": [],
   "source": [
    "frequent_city = get_frequent(data['City'])\n",
    "data['City'] = data['City'].apply(lambda x: x if x in frequent_city else 'Other')\n",
    "\n",
    "frequent_banks = get_frequent(data['Bank'])\n",
    "data['Bank'] = data['Bank'].apply(lambda x: x if x in frequent_banks else 'Other')\n"
   ]
  },
  {
   "cell_type": "code",
   "execution_count": 6,
   "metadata": {},
   "outputs": [],
   "source": [
    "frequent_fr_code = get_frequent(data[\"FranchiseCode\"].astype(str))\n",
    "data[\"FranchiseCode\"] = data[\"FranchiseCode\"].apply(\n",
    "    lambda x: str(x) if str(x) in frequent_fr_code else \"Other\"\n",
    ")\n"
   ]
  },
  {
   "cell_type": "code",
   "execution_count": 7,
   "metadata": {},
   "outputs": [],
   "source": [
    "data['RevLineCr'] = data['RevLineCr'].apply(lambda x: x if x in (\"Y\", 'N') else 'Other')\n",
    "data['LowDoc'] = data['LowDoc'].apply(lambda x: x if x in (\"Y\", 'N') else 'Other')"
   ]
  },
  {
   "cell_type": "code",
   "execution_count": 8,
   "metadata": {},
   "outputs": [],
   "source": [
    "data['GrAppv'] = data['GrAppv'].apply(lambda x: float(x.replace('$', '').replace('.', '').replace(',', '')))\n",
    "data['SBA_Appv'] = data['SBA_Appv'].apply(lambda x: float(x.replace('$', '').replace('.', '').replace(',', '')))"
   ]
  },
  {
   "cell_type": "code",
   "execution_count": 9,
   "metadata": {},
   "outputs": [
    {
     "data": {
      "text/plain": [
       "1.0    644869\n",
       "2.0    253125\n",
       "0.0      1034\n",
       "Name: NewExist, dtype: int64"
      ]
     },
     "execution_count": 9,
     "metadata": {},
     "output_type": "execute_result"
    }
   ],
   "source": [
    "data['NewExist'].value_counts()"
   ]
  },
  {
   "cell_type": "code",
   "execution_count": 10,
   "metadata": {},
   "outputs": [],
   "source": [
    "data['is_new'] = data['NewExist'].apply(lambda x: x == 2)"
   ]
  },
  {
   "cell_type": "markdown",
   "metadata": {},
   "source": [
    "## Feature Engineering"
   ]
  },
  {
   "cell_type": "code",
   "execution_count": 11,
   "metadata": {},
   "outputs": [],
   "source": [
    "data['same_state'] = data['State'] == data['BankState']"
   ]
  },
  {
   "cell_type": "code",
   "execution_count": 12,
   "metadata": {},
   "outputs": [],
   "source": [
    "import pgeocode\n",
    "\n",
    "zip_codes = data['Zip'].astype(str).unique()\n",
    "nomi = pgeocode.Nominatim('us')\n",
    "zip_aug = nomi.query_postal_code(zip_codes)\n",
    "\n",
    "zip_long_map = dict(zip(zip_aug['postal_code'].values, zip_aug['longitude'].values))\n",
    "zip_lat_map = dict(zip(zip_aug['postal_code'].values, zip_aug['latitude'].values))\n",
    "\n",
    "data['longitude'] = data['Zip'].astype(str).map(zip_long_map)\n",
    "data['latitude'] = data['Zip'].astype(str).map(zip_lat_map)"
   ]
  },
  {
   "cell_type": "markdown",
   "metadata": {},
   "source": [
    "## Featur Selection"
   ]
  },
  {
   "cell_type": "code",
   "execution_count": 13,
   "metadata": {},
   "outputs": [],
   "source": [
    "NUMERIC_FEATURES = [\n",
    "    \"Term\",\n",
    "    \"NoEmp\",\n",
    "    \"CreateJob\",\n",
    "    \"RetainedJob\",\n",
    "    \"longitude\",\n",
    "    \"latitude\",\n",
    "    \"GrAppv\",\n",
    "    \"SBA_Appv\",\n",
    "]\n",
    "\n",
    "CATEGORICAL_FEATURES = [\n",
    "    \"is_new\",\n",
    "    \"FranchiseCode\",\n",
    "    \"UrbanRural\",\n",
    "    \"City\",\n",
    "    \"State\",\n",
    "    \"Bank\",\n",
    "    \"BankState\",\n",
    "    \"RevLineCr\",\n",
    "    \"naics_first_two\",\n",
    "    \"same_state\",\n",
    "]\n",
    "\n",
    "TARGET = \"is_default\"\n"
   ]
  },
  {
   "cell_type": "code",
   "execution_count": 14,
   "metadata": {},
   "outputs": [],
   "source": [
    "clean_data = data[['ApprovalFY'] + NUMERIC_FEATURES + CATEGORICAL_FEATURES + [TARGET]]"
   ]
  },
  {
   "cell_type": "code",
   "execution_count": 15,
   "metadata": {},
   "outputs": [],
   "source": [
    "clean_data = clean_data[clean_data['ApprovalFY'] != '1976A']\n",
    "clean_data['ApprovalFY'] = clean_data['ApprovalFY'].astype(int)\n",
    "clean_data.to_parquet(\"loan_data_clean.parquet\")"
   ]
  },
  {
   "cell_type": "markdown",
   "metadata": {},
   "source": [
    "## Data Split"
   ]
  },
  {
   "cell_type": "code",
   "execution_count": 16,
   "metadata": {},
   "outputs": [],
   "source": [
    "test_thr = np.quantile(clean_data['ApprovalFY'], 0.90)\n",
    "train_data = clean_data[clean_data['ApprovalFY'] <= test_thr]\n",
    "test_data = clean_data[clean_data['ApprovalFY'] > test_thr]"
   ]
  },
  {
   "cell_type": "code",
   "execution_count": 17,
   "metadata": {},
   "outputs": [],
   "source": [
    "val_thr = np.quantile(train_data['ApprovalFY'], 0.90)\n",
    "val_data = train_data[train_data['ApprovalFY'] > val_thr]\n",
    "train_data = train_data[train_data['ApprovalFY'] <= val_thr]"
   ]
  },
  {
   "cell_type": "code",
   "execution_count": 104,
   "metadata": {},
   "outputs": [
    {
     "data": {
      "text/plain": [
       "((802301, 20), (39540, 20), (57305, 20))"
      ]
     },
     "execution_count": 104,
     "metadata": {},
     "output_type": "execute_result"
    }
   ],
   "source": [
    "train_data.shape, val_data.shape, test_data.shape"
   ]
  },
  {
   "cell_type": "code",
   "execution_count": 19,
   "metadata": {},
   "outputs": [],
   "source": [
    "train_data.to_parquet('train_data.parquet', index=False)\n",
    "val_data.to_parquet('val_data.parquet', index=False)\n",
    "test_data.to_parquet('test_data.parquet', index=False)"
   ]
  },
  {
   "attachments": {},
   "cell_type": "markdown",
   "metadata": {},
   "source": [
    "[data split](#)"
   ]
  }
 ],
 "metadata": {
  "interpreter": {
   "hash": "a2df742b932880654a3f6652148a9c802dc0dfad475f6beda4797814052023f2"
  },
  "kernelspec": {
   "display_name": "Python 3.9.13",
   "language": "python",
   "name": "python3"
  },
  "language_info": {
   "codemirror_mode": {
    "name": "ipython",
    "version": 3
   },
   "file_extension": ".py",
   "mimetype": "text/x-python",
   "name": "python",
   "nbconvert_exporter": "python",
   "pygments_lexer": "ipython3",
   "version": "3.10.9"
  },
  "orig_nbformat": 4
 },
 "nbformat": 4,
 "nbformat_minor": 2
}
