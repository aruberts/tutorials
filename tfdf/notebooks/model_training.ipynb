{
 "cells": [
  {
   "cell_type": "code",
   "execution_count": 51,
   "metadata": {},
   "outputs": [],
   "source": [
    "import pandas as pd\n",
    "import numpy as np\n",
    "from sklearn.metrics import roc_auc_score, average_precision_score\n",
    "import tensorflow_decision_forests as tfdf\n",
    "import tensorflow as tf\n",
    "from numpy.typing import NDArray\n",
    "import matplotlib.pyplot as plt\n",
    "import seaborn as sns\n"
   ]
  },
  {
   "cell_type": "code",
   "execution_count": 54,
   "metadata": {},
   "outputs": [],
   "source": [
    "def evaluate_model(y_true: NDArray[np.complex64], y_pred: NDArray[np.complex64]):\n",
    "    pr_auc = average_precision_score(y_true, y_pred)\n",
    "    roc_auc = roc_auc_score(y_true, y_pred)\n",
    "\n",
    "    print(f\"PR AUC: {pr_auc.round(4)}\")\n",
    "    print(f\"ROC AUC: {roc_auc.round(4)}\")\n",
    "\n",
    "    return pr_auc, roc_auc\n",
    "\n",
    "\n",
    "def plot_tfdf_logs(inspector: tfdf.inspector.AbstractInspector):\n",
    "    # This function is blah blahß\n",
    "    logs = inspector.training_logs()\n",
    "    num_trees = [log.num_trees for log in logs]\n",
    "    losses = [log.evaluation.loss for log in logs]\n",
    "\n",
    "    plt.plot(num_trees, losses)\n",
    "    plt.xlabel(\"Number of Trees\")\n",
    "    plt.ylabel(\"Validation Loss\")\n",
    "    plt.show()\n",
    "\n",
    "\n",
    "def plot_tfdf_importances(\n",
    "    inspector: tfdf.inspector.AbstractInspector, importance_type: str\n",
    "):\n",
    "    \"\"\"Extracts and plots TFDF importances from the given inspector object\n",
    "\n",
    "    Args:\n",
    "        inspector (tfdf.inspector.AbstractInspector): inspector object created from your TFDF model\n",
    "        importance_type (str): importance type to plotß\n",
    "    \"\"\"\n",
    "    try:\n",
    "        importances = inspector.variable_importances()[importance_type]\n",
    "    except KeyError:\n",
    "        raise ValueError(\n",
    "            f\"No {importance_type} importances found in the given inspector object\"\n",
    "        )\n",
    "\n",
    "    names = []\n",
    "    scores = []\n",
    "    for f in importances:\n",
    "        names.append(f[0].name)\n",
    "        scores.append(f[1])\n",
    "\n",
    "    sns.barplot(x=scores, y=names, color=\"#5a7dbf\")\n",
    "    plt.xlabel(importance_type)\n",
    "    plt.title(\"Variable Importance\")\n",
    "    plt.show()"
   ]
  },
  {
   "cell_type": "code",
   "execution_count": 9,
   "metadata": {},
   "outputs": [],
   "source": [
    "NUMERIC_FEATURES = [\n",
    "    \"Term\",\n",
    "    \"NoEmp\",\n",
    "    \"CreateJob\",\n",
    "    \"RetainedJob\",\n",
    "    \"longitude\",\n",
    "    \"latitude\",\n",
    "    \"GrAppv\",\n",
    "    \"SBA_Appv\",\n",
    "    \"is_new\",\n",
    "    \"same_state\",\n",
    "]\n",
    "\n",
    "CATEGORICAL_FEATURES = [\n",
    "    \"FranchiseCode\",\n",
    "    \"UrbanRural\",\n",
    "    \"City\",\n",
    "    \"State\",\n",
    "    \"Bank\",\n",
    "    \"BankState\",\n",
    "    \"RevLineCr\",\n",
    "    \"naics_first_two\",\n",
    "]\n",
    "\n",
    "TARGET = \"is_default\""
   ]
  },
  {
   "cell_type": "markdown",
   "metadata": {},
   "source": [
    "## Load Data"
   ]
  },
  {
   "cell_type": "code",
   "execution_count": 10,
   "metadata": {},
   "outputs": [],
   "source": [
    "train_data: pd.DataFrame = pd.read_parquet(\"../data/train_data.parquet\")\n",
    "val_data: pd.DataFrame = pd.read_parquet(\"../data/val_data.parquet\")\n",
    "test_data: pd.DataFrame = pd.read_parquet(\"../data/test_data.parquet\")"
   ]
  },
  {
   "cell_type": "code",
   "execution_count": 11,
   "metadata": {},
   "outputs": [
    {
     "data": {
      "text/plain": [
       "(802301, 20)"
      ]
     },
     "execution_count": 11,
     "metadata": {},
     "output_type": "execute_result"
    }
   ],
   "source": [
    "train_data.shape"
   ]
  },
  {
   "cell_type": "markdown",
   "metadata": {},
   "source": [
    "## Prepare Data"
   ]
  },
  {
   "cell_type": "markdown",
   "metadata": {},
   "source": [
    "### Feature Types"
   ]
  },
  {
   "cell_type": "code",
   "execution_count": 47,
   "metadata": {},
   "outputs": [],
   "source": [
    "dsets = [train_data,val_data,test_data]\n",
    "for d in dsets:\n",
    "    d[NUMERIC_FEATURES] = d[NUMERIC_FEATURES].astype(np.float32)\n",
    "    d[CATEGORICAL_FEATURES] = d[CATEGORICAL_FEATURES].astype(str)"
   ]
  },
  {
   "cell_type": "markdown",
   "metadata": {},
   "source": [
    "### Specify Feature Usage"
   ]
  },
  {
   "cell_type": "code",
   "execution_count": 15,
   "metadata": {},
   "outputs": [],
   "source": [
    "feature_usages = []\n",
    "\n",
    "for feature_name in NUMERIC_FEATURES:\n",
    "    feature_usage = tfdf.keras.FeatureUsage(\n",
    "        name=feature_name, semantic=tfdf.keras.FeatureSemantic.NUMERICAL\n",
    "    )\n",
    "    feature_usages.append(feature_usage)\n",
    "\n",
    "for feature_name in CATEGORICAL_FEATURES:\n",
    "    feature_usage = tfdf.keras.FeatureUsage(\n",
    "        name=feature_name,\n",
    "        semantic=tfdf.keras.FeatureSemantic.CATEGORICAL,\n",
    "        min_vocab_frequency=1000,\n",
    "    )\n",
    "    feature_usages.append(feature_usage)"
   ]
  },
  {
   "cell_type": "markdown",
   "metadata": {},
   "source": [
    "### TF Dataset"
   ]
  },
  {
   "cell_type": "code",
   "execution_count": 16,
   "metadata": {},
   "outputs": [
    {
     "name": "stdout",
     "output_type": "stream",
     "text": [
      "Metal device set to: Apple M2 Pro\n",
      "\n",
      "systemMemory: 16.00 GB\n",
      "maxCacheSize: 5.33 GB\n",
      "\n"
     ]
    },
    {
     "name": "stderr",
     "output_type": "stream",
     "text": [
      "2023-04-02 16:47:37.674549: I tensorflow/core/common_runtime/pluggable_device/pluggable_device_factory.cc:306] Could not identify NUMA node of platform GPU ID 0, defaulting to 0. Your kernel may not have been built with NUMA support.\n",
      "2023-04-02 16:47:37.674576: I tensorflow/core/common_runtime/pluggable_device/pluggable_device_factory.cc:272] Created TensorFlow device (/job:localhost/replica:0/task:0/device:GPU:0 with 0 MB memory) -> physical PluggableDevice (device: 0, name: METAL, pci bus id: <undefined>)\n"
     ]
    }
   ],
   "source": [
    "# Use TF Dataset\n",
    "train_dataset = tfdf.keras.pd_dataframe_to_tf_dataset(\n",
    "    train_data, label=TARGET, weight=None, batch_size=1000\n",
    ")\n",
    "val_dataset = tfdf.keras.pd_dataframe_to_tf_dataset(\n",
    "    val_data, label=TARGET, weight=None, batch_size=1000\n",
    ")\n",
    "test_dataset = tfdf.keras.pd_dataframe_to_tf_dataset(\n",
    "    test_data, label=TARGET, weight=None, batch_size=1000\n",
    ")"
   ]
  },
  {
   "attachments": {},
   "cell_type": "markdown",
   "metadata": {},
   "source": [
    "## Base Models"
   ]
  },
  {
   "attachments": {},
   "cell_type": "markdown",
   "metadata": {},
   "source": [
    "### Fit in-memory"
   ]
  },
  {
   "cell_type": "code",
   "execution_count": 67,
   "metadata": {},
   "outputs": [],
   "source": [
    "# Define the models\n",
    "gbt_model = tfdf.keras.GradientBoostedTreesModel(\n",
    "    features=feature_usages,\n",
    "    exclude_non_specified_features=True,\n",
    ")\n",
    "\n",
    "rf_model = tfdf.keras.RandomForestModel(\n",
    "    features=feature_usages,\n",
    "    exclude_non_specified_features=True,\n",
    ")\n",
    "\n",
    "# Compile the models (Optional)\n",
    "gbt_model.compile(metrics=[tf.keras.metrics.AUC(curve=\"PR\")])\n",
    "rf_model.compile(metrics=[tf.keras.metrics.AUC(curve=\"PR\")])\n",
    "\n",
    "# Fit the models\n",
    "gbt_model.fit(train_dataset, validation_data=val_dataset)\n",
    "rf_model.fit(train_dataset, validation_data=val_dataset)\n"
   ]
  },
  {
   "cell_type": "code",
   "execution_count": 68,
   "metadata": {},
   "outputs": [
    {
     "name": "stdout",
     "output_type": "stream",
     "text": [
      "50/58 [========================>.....] - ETA: 0s"
     ]
    },
    {
     "name": "stderr",
     "output_type": "stream",
     "text": [
      "2023-04-04 17:48:27.336497: I tensorflow/core/grappler/optimizers/custom_graph_optimizer_registry.cc:114] Plugin optimizer for device_type GPU is enabled.\n"
     ]
    },
    {
     "name": "stdout",
     "output_type": "stream",
     "text": [
      "58/58 [==============================] - 0s 3ms/step\n",
      " 2/58 [>.............................] - ETA: 3s"
     ]
    },
    {
     "name": "stderr",
     "output_type": "stream",
     "text": [
      "2023-04-04 17:48:27.568628: I tensorflow/core/grappler/optimizers/custom_graph_optimizer_registry.cc:114] Plugin optimizer for device_type GPU is enabled.\n"
     ]
    },
    {
     "name": "stdout",
     "output_type": "stream",
     "text": [
      "58/58 [==============================] - 4s 67ms/step\n"
     ]
    }
   ],
   "source": [
    "gbt_test_preds_basic = gbt_model.predict(test_dataset)\n",
    "rf_test_preds_basic = rf_model.predict(test_dataset)"
   ]
  },
  {
   "cell_type": "code",
   "execution_count": 73,
   "metadata": {},
   "outputs": [
    {
     "name": "stdout",
     "output_type": "stream",
     "text": [
      "GBT with Default Parameters\n",
      "PR AUC: 0.8367\n",
      "ROC AUC: 0.9583\n",
      "\n",
      "RF with Default Parameters\n",
      "PR AUC: 0.8102\n",
      "ROC AUC: 0.9453\n"
     ]
    }
   ],
   "source": [
    "print(\"GBT with Default Parameters\")\n",
    "default_gbt_pr, default_gbt_roc = evaluate_model(\n",
    "    test_data[TARGET].values, gbt_test_preds_basic.ravel()\n",
    ")\n",
    "\n",
    "print(\"\\nRF with Default Parameters\")\n",
    "default_rf_pr, default_rf_roc = evaluate_model(\n",
    "    test_data[TARGET].values, rf_test_preds_basic.ravel()\n",
    ")"
   ]
  },
  {
   "attachments": {},
   "cell_type": "markdown",
   "metadata": {},
   "source": [
    "## HP template"
   ]
  },
  {
   "cell_type": "code",
   "execution_count": 81,
   "metadata": {},
   "outputs": [],
   "source": [
    "# Define the models\n",
    "better_default_gbt_model = tfdf.keras.GradientBoostedTreesModel(\n",
    "    hyperparameter_template='better_default',\n",
    "    features=feature_usages,\n",
    "    exclude_non_specified_features=True,\n",
    ")\n",
    "\n",
    "# Define the models\n",
    "bbenchmark_gbt_model = tfdf.keras.GradientBoostedTreesModel(\n",
    "    hyperparameter_template='benchmark_rank1',\n",
    "    features=feature_usages,\n",
    "    exclude_non_specified_features=True,\n",
    ")\n",
    "\n",
    "better_default_gbt_model.fit(train_dataset, validation_data=val_dataset)\n",
    "bbenchmark_gbt_model.fit(train_dataset, validation_data=val_dataset)"
   ]
  },
  {
   "cell_type": "code",
   "execution_count": 79,
   "metadata": {},
   "outputs": [
    {
     "name": "stdout",
     "output_type": "stream",
     "text": [
      "58/58 [==============================] - 0s 3ms/step\n"
     ]
    },
    {
     "name": "stderr",
     "output_type": "stream",
     "text": [
      "2023-04-04 18:34:24.516679: I tensorflow/core/grappler/optimizers/custom_graph_optimizer_registry.cc:114] Plugin optimizer for device_type GPU is enabled.\n"
     ]
    },
    {
     "name": "stdout",
     "output_type": "stream",
     "text": [
      "39/58 [===================>..........] - ETA: 0s"
     ]
    },
    {
     "name": "stderr",
     "output_type": "stream",
     "text": [
      "2023-04-04 18:34:24.729302: I tensorflow/core/grappler/optimizers/custom_graph_optimizer_registry.cc:114] Plugin optimizer for device_type GPU is enabled.\n"
     ]
    },
    {
     "name": "stdout",
     "output_type": "stream",
     "text": [
      "58/58 [==============================] - 0s 4ms/step\n"
     ]
    }
   ],
   "source": [
    "better_default_preds = better_default_gbt_model.predict(test_dataset)\n",
    "benchmark_preds = bbenchmark_gbt_model.predict(test_dataset)"
   ]
  },
  {
   "cell_type": "code",
   "execution_count": 80,
   "metadata": {},
   "outputs": [
    {
     "name": "stdout",
     "output_type": "stream",
     "text": [
      "GBT with 'Better Default' Parameters\n",
      "PR AUC: 0.8483\n",
      "ROC AUC: 0.9593\n",
      "\n",
      "GBT with 'Benchmark Rank 1' Parameters\n",
      "PR AUC: 0.7869\n",
      "ROC AUC: 0.9442\n"
     ]
    }
   ],
   "source": [
    "print(\"GBT with 'Better Default' Parameters\")\n",
    "default_gbt_pr, default_gbt_roc = evaluate_model(\n",
    "    test_data[TARGET].values, better_default_preds.ravel()\n",
    ")\n",
    "\n",
    "print(\"\\nGBT with 'Benchmark Rank 1' Parameters\")\n",
    "default_rf_pr, default_rf_roc = evaluate_model(\n",
    "    test_data[TARGET].values, benchmark_preds.ravel()\n",
    ")"
   ]
  },
  {
   "attachments": {},
   "cell_type": "markdown",
   "metadata": {},
   "source": [
    "## HP Search with Pre-Defined Space"
   ]
  },
  {
   "cell_type": "code",
   "execution_count": 99,
   "metadata": {},
   "outputs": [],
   "source": [
    "# Create a Random Search tuner with 50 trials and automatic hp configuration.\n",
    "tuner = tfdf.tuner.RandomSearch(num_trials=50, use_predefined_hps=True)\n",
    "\n",
    "# Define and train the model.\n",
    "tuned_model = tfdf.keras.GradientBoostedTreesModel(tuner=tuner)\n",
    "tuned_model.fit(train_dataset, validation_data=val_dataset, verbose=2)"
   ]
  },
  {
   "cell_type": "code",
   "execution_count": 98,
   "metadata": {},
   "outputs": [
    {
     "data": {
      "text/html": [
       "<div>\n",
       "<style scoped>\n",
       "    .dataframe tbody tr th:only-of-type {\n",
       "        vertical-align: middle;\n",
       "    }\n",
       "\n",
       "    .dataframe tbody tr th {\n",
       "        vertical-align: top;\n",
       "    }\n",
       "\n",
       "    .dataframe thead th {\n",
       "        text-align: right;\n",
       "    }\n",
       "</style>\n",
       "<table border=\"1\" class=\"dataframe\">\n",
       "  <thead>\n",
       "    <tr style=\"text-align: right;\">\n",
       "      <th></th>\n",
       "      <th>score</th>\n",
       "      <th>evaluation_time</th>\n",
       "      <th>best</th>\n",
       "      <th>split_axis</th>\n",
       "      <th>sparse_oblique_projection_density_factor</th>\n",
       "      <th>sparse_oblique_normalization</th>\n",
       "      <th>sparse_oblique_weights</th>\n",
       "      <th>categorical_algorithm</th>\n",
       "      <th>growing_strategy</th>\n",
       "      <th>max_num_nodes</th>\n",
       "      <th>sampling_method</th>\n",
       "      <th>subsample</th>\n",
       "      <th>shrinkage</th>\n",
       "      <th>min_examples</th>\n",
       "      <th>use_hessian_gain</th>\n",
       "      <th>num_candidate_attributes_ratio</th>\n",
       "      <th>max_depth</th>\n",
       "    </tr>\n",
       "  </thead>\n",
       "  <tbody>\n",
       "    <tr>\n",
       "      <th>0</th>\n",
       "      <td>-0.541425</td>\n",
       "      <td>12736.215482</td>\n",
       "      <td>False</td>\n",
       "      <td>SPARSE_OBLIQUE</td>\n",
       "      <td>1.0</td>\n",
       "      <td>NONE</td>\n",
       "      <td>BINARY</td>\n",
       "      <td>CART</td>\n",
       "      <td>BEST_FIRST_GLOBAL</td>\n",
       "      <td>64.0</td>\n",
       "      <td>RANDOM</td>\n",
       "      <td>1.0</td>\n",
       "      <td>0.10</td>\n",
       "      <td>20</td>\n",
       "      <td>false</td>\n",
       "      <td>0.2</td>\n",
       "      <td>NaN</td>\n",
       "    </tr>\n",
       "    <tr>\n",
       "      <th>1</th>\n",
       "      <td>-0.580445</td>\n",
       "      <td>13781.933550</td>\n",
       "      <td>False</td>\n",
       "      <td>SPARSE_OBLIQUE</td>\n",
       "      <td>1.0</td>\n",
       "      <td>MIN_MAX</td>\n",
       "      <td>BINARY</td>\n",
       "      <td>RANDOM</td>\n",
       "      <td>BEST_FIRST_GLOBAL</td>\n",
       "      <td>32.0</td>\n",
       "      <td>RANDOM</td>\n",
       "      <td>0.6</td>\n",
       "      <td>0.02</td>\n",
       "      <td>20</td>\n",
       "      <td>false</td>\n",
       "      <td>1.0</td>\n",
       "      <td>NaN</td>\n",
       "    </tr>\n",
       "    <tr>\n",
       "      <th>2</th>\n",
       "      <td>-0.556208</td>\n",
       "      <td>14427.947074</td>\n",
       "      <td>False</td>\n",
       "      <td>SPARSE_OBLIQUE</td>\n",
       "      <td>3.0</td>\n",
       "      <td>STANDARD_DEVIATION</td>\n",
       "      <td>CONTINUOUS</td>\n",
       "      <td>CART</td>\n",
       "      <td>LOCAL</td>\n",
       "      <td>NaN</td>\n",
       "      <td>RANDOM</td>\n",
       "      <td>0.8</td>\n",
       "      <td>0.10</td>\n",
       "      <td>7</td>\n",
       "      <td>false</td>\n",
       "      <td>0.9</td>\n",
       "      <td>4.0</td>\n",
       "    </tr>\n",
       "    <tr>\n",
       "      <th>3</th>\n",
       "      <td>-0.515258</td>\n",
       "      <td>15449.505790</td>\n",
       "      <td>False</td>\n",
       "      <td>SPARSE_OBLIQUE</td>\n",
       "      <td>3.0</td>\n",
       "      <td>NONE</td>\n",
       "      <td>BINARY</td>\n",
       "      <td>RANDOM</td>\n",
       "      <td>LOCAL</td>\n",
       "      <td>NaN</td>\n",
       "      <td>RANDOM</td>\n",
       "      <td>1.0</td>\n",
       "      <td>0.10</td>\n",
       "      <td>5</td>\n",
       "      <td>false</td>\n",
       "      <td>0.5</td>\n",
       "      <td>8.0</td>\n",
       "    </tr>\n",
       "    <tr>\n",
       "      <th>4</th>\n",
       "      <td>-0.435757</td>\n",
       "      <td>16238.986607</td>\n",
       "      <td>True</td>\n",
       "      <td>SPARSE_OBLIQUE</td>\n",
       "      <td>1.0</td>\n",
       "      <td>MIN_MAX</td>\n",
       "      <td>BINARY</td>\n",
       "      <td>CART</td>\n",
       "      <td>BEST_FIRST_GLOBAL</td>\n",
       "      <td>16.0</td>\n",
       "      <td>RANDOM</td>\n",
       "      <td>0.6</td>\n",
       "      <td>0.10</td>\n",
       "      <td>10</td>\n",
       "      <td>true</td>\n",
       "      <td>0.2</td>\n",
       "      <td>NaN</td>\n",
       "    </tr>\n",
       "  </tbody>\n",
       "</table>\n",
       "</div>"
      ],
      "text/plain": [
       "      score  evaluation_time   best      split_axis  \\\n",
       "0 -0.541425     12736.215482  False  SPARSE_OBLIQUE   \n",
       "1 -0.580445     13781.933550  False  SPARSE_OBLIQUE   \n",
       "2 -0.556208     14427.947074  False  SPARSE_OBLIQUE   \n",
       "3 -0.515258     15449.505790  False  SPARSE_OBLIQUE   \n",
       "4 -0.435757     16238.986607   True  SPARSE_OBLIQUE   \n",
       "\n",
       "   sparse_oblique_projection_density_factor sparse_oblique_normalization  \\\n",
       "0                                       1.0                         NONE   \n",
       "1                                       1.0                      MIN_MAX   \n",
       "2                                       3.0           STANDARD_DEVIATION   \n",
       "3                                       3.0                         NONE   \n",
       "4                                       1.0                      MIN_MAX   \n",
       "\n",
       "  sparse_oblique_weights categorical_algorithm   growing_strategy  \\\n",
       "0                 BINARY                  CART  BEST_FIRST_GLOBAL   \n",
       "1                 BINARY                RANDOM  BEST_FIRST_GLOBAL   \n",
       "2             CONTINUOUS                  CART              LOCAL   \n",
       "3                 BINARY                RANDOM              LOCAL   \n",
       "4                 BINARY                  CART  BEST_FIRST_GLOBAL   \n",
       "\n",
       "   max_num_nodes sampling_method  subsample  shrinkage  min_examples  \\\n",
       "0           64.0          RANDOM        1.0       0.10            20   \n",
       "1           32.0          RANDOM        0.6       0.02            20   \n",
       "2            NaN          RANDOM        0.8       0.10             7   \n",
       "3            NaN          RANDOM        1.0       0.10             5   \n",
       "4           16.0          RANDOM        0.6       0.10            10   \n",
       "\n",
       "  use_hessian_gain  num_candidate_attributes_ratio  max_depth  \n",
       "0            false                             0.2        NaN  \n",
       "1            false                             1.0        NaN  \n",
       "2            false                             0.9        4.0  \n",
       "3            false                             0.5        8.0  \n",
       "4             true                             0.2        NaN  "
      ]
     },
     "execution_count": 98,
     "metadata": {},
     "output_type": "execute_result"
    }
   ],
   "source": [
    "tuning_logs = tuned_model.make_inspector().tuning_logs()\n",
    "tuning_logs.head()"
   ]
  },
  {
   "cell_type": "code",
   "execution_count": 101,
   "metadata": {},
   "outputs": [
    {
     "data": {
      "text/plain": [
       "(12, 17)"
      ]
     },
     "execution_count": 101,
     "metadata": {},
     "output_type": "execute_result"
    }
   ],
   "source": [
    "tuning_logs.shape"
   ]
  },
  {
   "cell_type": "code",
   "execution_count": 38,
   "metadata": {},
   "outputs": [
    {
     "name": "stdout",
     "output_type": "stream",
     "text": [
      "11/58 [====>.........................] - ETA: 0s"
     ]
    },
    {
     "name": "stderr",
     "output_type": "stream",
     "text": [
      "2023-04-03 08:57:19.487067: I tensorflow/core/grappler/optimizers/custom_graph_optimizer_registry.cc:114] Plugin optimizer for device_type GPU is enabled.\n"
     ]
    },
    {
     "name": "stdout",
     "output_type": "stream",
     "text": [
      "58/58 [==============================] - 1s 12ms/step\n",
      "GBT PR AUC w. #1 Template Parameters 0.8216224718382337\n"
     ]
    }
   ],
   "source": [
    "tuned_predefined_gbt_preds = tuned_model.predict(test_dataset)"
   ]
  },
  {
   "cell_type": "code",
   "execution_count": 100,
   "metadata": {},
   "outputs": [
    {
     "name": "stdout",
     "output_type": "stream",
     "text": [
      "PR AUC: 0.8216\n",
      "ROC AUC: 0.9418\n"
     ]
    }
   ],
   "source": [
    "tuned_pr, tuned_roc = evaluate_model(test_data[TARGET].values, tuned_predefined_gbt_preds.ravel())"
   ]
  },
  {
   "attachments": {},
   "cell_type": "markdown",
   "metadata": {},
   "source": [
    "## HP Search with Custom Space "
   ]
  },
  {
   "cell_type": "code",
   "execution_count": 167,
   "metadata": {},
   "outputs": [
    {
     "name": "stderr",
     "output_type": "stream",
     "text": [
      "\u001b[32m[I 2023-04-06 21:37:16,163]\u001b[0m A new study created in memory with name: no-name-906c02b8-8ef1-4fdf-b53e-9fa6fb95578b\u001b[0m\n"
     ]
    },
    {
     "name": "stdout",
     "output_type": "stream",
     "text": [
      "Use /var/folders/80/5mgc74450p1b9jxkl3fd7z780000gn/T/tmpaa0tze5t as temporary training directory\n"
     ]
    },
    {
     "name": "stderr",
     "output_type": "stream",
     "text": [
      "2023-04-06 21:37:16.336601: I tensorflow/core/grappler/optimizers/custom_graph_optimizer_registry.cc:114] Plugin optimizer for device_type GPU is enabled.\n"
     ]
    },
    {
     "name": "stdout",
     "output_type": "stream",
     "text": [
      "Num validation examples: tf.Tensor(39540, shape=(), dtype=int32)\n"
     ]
    },
    {
     "name": "stderr",
     "output_type": "stream",
     "text": [
      "2023-04-06 21:37:18.956770: I tensorflow/core/grappler/optimizers/custom_graph_optimizer_registry.cc:114] Plugin optimizer for device_type GPU is enabled.\n",
      "2023-04-06 21:37:19.430382: W external/ydf/yggdrasil_decision_forests/learner/gradient_boosted_trees/gradient_boosted_trees.cc:1790] \"goss_alpha\" set but \"sampling_method\" not equal to \"GOSS\".\n",
      "2023-04-06 21:37:19.430395: W external/ydf/yggdrasil_decision_forests/learner/gradient_boosted_trees/gradient_boosted_trees.cc:1800] \"goss_beta\" set but \"sampling_method\" not equal to \"GOSS\".\n",
      "2023-04-06 21:37:19.430398: W external/ydf/yggdrasil_decision_forests/learner/gradient_boosted_trees/gradient_boosted_trees.cc:1814] \"selective_gradient_boosting_ratio\" set but \"sampling_method\" not equal to \"SELGB\".\n",
      "2023-04-06 21:37:19.430706: I external/ydf/yggdrasil_decision_forests/learner/gradient_boosted_trees/gradient_boosted_trees.cc:1077] Training gradient boosted tree on 802301 example(s) and 18 feature(s).\n",
      "2023-04-06 21:37:19.430794: I external/ydf/yggdrasil_decision_forests/learner/gradient_boosted_trees/gradient_boosted_trees.cc:1120] 802301 examples used for training and 39540 examples used for validation\n",
      "2023-04-06 21:37:19.862138: I external/ydf/yggdrasil_decision_forests/learner/gradient_boosted_trees/gradient_boosted_trees.cc:1518] \tnum-trees:1 train-loss:0.689001 train-accuracy:0.827721 valid-loss:1.352810 valid-accuracy:0.579514\n",
      "2023-04-06 21:37:20.208181: I external/ydf/yggdrasil_decision_forests/learner/gradient_boosted_trees/gradient_boosted_trees.cc:1520] \tnum-trees:2 train-loss:0.593949 train-accuracy:0.897902 valid-loss:1.252179 valid-accuracy:0.649064\n",
      "2023-04-06 21:37:50.262219: I external/ydf/yggdrasil_decision_forests/learner/gradient_boosted_trees/gradient_boosted_trees.cc:1568] Create final snapshot of the model at iteration 88\n",
      "2023-04-06 21:37:50.264852: I external/ydf/yggdrasil_decision_forests/learner/gradient_boosted_trees/gradient_boosted_trees.cc:247] Truncates the model to 39 tree(s) i.e. 39  iteration(s).\n",
      "2023-04-06 21:37:50.265519: I external/ydf/yggdrasil_decision_forests/learner/gradient_boosted_trees/gradient_boosted_trees.cc:309] Final model num-trees:39 valid-loss:0.865215 valid-accuracy:0.790744\n",
      "[INFO 2023-04-06T21:37:50.279007+01:00 kernel.cc:1214] Loading model from path /var/folders/80/5mgc74450p1b9jxkl3fd7z780000gn/T/tmpaa0tze5t/model/ with prefix 707026f07f3b40d3\n",
      "[INFO 2023-04-06T21:37:50.282333+01:00 abstract_model.cc:1312] Engine \"GradientBoostedTreesQuickScorerExtended\" built\n",
      "[INFO 2023-04-06T21:37:50.282347+01:00 kernel.cc:1046] Use fast generic engine\n",
      "2023-04-06 21:37:50.421053: I tensorflow/core/grappler/optimizers/custom_graph_optimizer_registry.cc:114] Plugin optimizer for device_type GPU is enabled.\n"
     ]
    },
    {
     "name": "stdout",
     "output_type": "stream",
     "text": [
      " 1/40 [..............................] - ETA: 1s"
     ]
    },
    {
     "name": "stderr",
     "output_type": "stream",
     "text": [
      "2023-04-06 21:37:50.475485: I tensorflow/core/grappler/optimizers/custom_graph_optimizer_registry.cc:114] Plugin optimizer for device_type GPU is enabled.\n",
      "2023-04-06 21:37:50.631731: I tensorflow/core/grappler/optimizers/custom_graph_optimizer_registry.cc:114] Plugin optimizer for device_type GPU is enabled.\n"
     ]
    },
    {
     "name": "stdout",
     "output_type": "stream",
     "text": [
      "40/40 [==============================] - 0s 3ms/step\n"
     ]
    },
    {
     "name": "stderr",
     "output_type": "stream",
     "text": [
      "\u001b[32m[I 2023-04-06 21:37:50,786]\u001b[0m Trial 0 finished with value: 0.9700312116792607 and parameters: {'max_depth': 11, 'l1_regularization': 1.5051791113958675, 'l2_regularization': 12.125335040579373, 'growing_strategy': 'BEST_FIRST_GLOBAL', 'loss': 'BINOMIAL_LOG_LIKELIHOOD', 'min_examples': 765, 'num_candidate_attributes_ratio': 0.3000177957120827, 'shrinkage': 0.28444370405512476, 'discretize_numerical_features': False, 'num_discretized_numerical_bins': 410}. Best is trial 0 with value: 0.9700312116792607.\u001b[0m\n"
     ]
    },
    {
     "name": "stdout",
     "output_type": "stream",
     "text": [
      "Use /var/folders/80/5mgc74450p1b9jxkl3fd7z780000gn/T/tmpgj2qorv8 as temporary training directory\n"
     ]
    },
    {
     "name": "stderr",
     "output_type": "stream",
     "text": [
      "2023-04-06 21:37:50.904492: I tensorflow/core/grappler/optimizers/custom_graph_optimizer_registry.cc:114] Plugin optimizer for device_type GPU is enabled.\n"
     ]
    },
    {
     "name": "stdout",
     "output_type": "stream",
     "text": [
      "Num validation examples: tf.Tensor(39540, shape=(), dtype=int32)\n"
     ]
    },
    {
     "name": "stderr",
     "output_type": "stream",
     "text": [
      "2023-04-06 21:37:53.448677: I tensorflow/core/grappler/optimizers/custom_graph_optimizer_registry.cc:114] Plugin optimizer for device_type GPU is enabled.\n",
      "2023-04-06 21:37:54.209028: W external/ydf/yggdrasil_decision_forests/learner/gradient_boosted_trees/gradient_boosted_trees.cc:1790] \"goss_alpha\" set but \"sampling_method\" not equal to \"GOSS\".\n",
      "2023-04-06 21:37:54.209045: W external/ydf/yggdrasil_decision_forests/learner/gradient_boosted_trees/gradient_boosted_trees.cc:1800] \"goss_beta\" set but \"sampling_method\" not equal to \"GOSS\".\n",
      "2023-04-06 21:37:54.209048: W external/ydf/yggdrasil_decision_forests/learner/gradient_boosted_trees/gradient_boosted_trees.cc:1814] \"selective_gradient_boosting_ratio\" set but \"sampling_method\" not equal to \"SELGB\".\n",
      "2023-04-06 21:37:54.209273: I external/ydf/yggdrasil_decision_forests/learner/gradient_boosted_trees/gradient_boosted_trees.cc:1077] Training gradient boosted tree on 802301 example(s) and 18 feature(s).\n",
      "2023-04-06 21:37:54.209367: I external/ydf/yggdrasil_decision_forests/learner/gradient_boosted_trees/gradient_boosted_trees.cc:1120] 802301 examples used for training and 39540 examples used for validation\n",
      "2023-04-06 21:37:54.318697: I external/ydf/yggdrasil_decision_forests/learner/gradient_boosted_trees/gradient_boosted_trees.cc:1518] \tnum-trees:1 train-loss:0.567146 train-accuracy:0.904607 valid-loss:1.456843 valid-accuracy:0.705918\n",
      "2023-04-06 21:37:54.446866: I external/ydf/yggdrasil_decision_forests/learner/gradient_boosted_trees/gradient_boosted_trees.cc:1520] \tnum-trees:2 train-loss:0.524301 train-accuracy:0.908711 valid-loss:1.448615 valid-accuracy:0.687506\n",
      "2023-04-06 21:38:02.091966: I external/ydf/yggdrasil_decision_forests/learner/gradient_boosted_trees/gradient_boosted_trees.cc:1568] Create final snapshot of the model at iteration 61\n",
      "2023-04-06 21:38:02.093691: I external/ydf/yggdrasil_decision_forests/learner/gradient_boosted_trees/gradient_boosted_trees.cc:247] Truncates the model to 12 tree(s) i.e. 12  iteration(s).\n",
      "2023-04-06 21:38:02.094258: I external/ydf/yggdrasil_decision_forests/learner/gradient_boosted_trees/gradient_boosted_trees.cc:309] Final model num-trees:12 valid-loss:1.586727 valid-accuracy:0.678857\n",
      "[INFO 2023-04-06T21:38:02.107786+01:00 kernel.cc:1214] Loading model from path /var/folders/80/5mgc74450p1b9jxkl3fd7z780000gn/T/tmpgj2qorv8/model/ with prefix a736ef864fe442a5\n",
      "[INFO 2023-04-06T21:38:02.108906+01:00 abstract_model.cc:1312] Engine \"GradientBoostedTreesQuickScorerExtended\" built\n",
      "[INFO 2023-04-06T21:38:02.108921+01:00 kernel.cc:1046] Use fast generic engine\n",
      "2023-04-06 21:38:02.205268: I tensorflow/core/grappler/optimizers/custom_graph_optimizer_registry.cc:114] Plugin optimizer for device_type GPU is enabled.\n",
      "2023-04-06 21:38:02.258234: I tensorflow/core/grappler/optimizers/custom_graph_optimizer_registry.cc:114] Plugin optimizer for device_type GPU is enabled.\n"
     ]
    },
    {
     "name": "stdout",
     "output_type": "stream",
     "text": [
      "40/40 [==============================] - 0s 3ms/step\n"
     ]
    },
    {
     "name": "stderr",
     "output_type": "stream",
     "text": [
      "2023-04-06 21:38:02.408935: I tensorflow/core/grappler/optimizers/custom_graph_optimizer_registry.cc:114] Plugin optimizer for device_type GPU is enabled.\n",
      "\u001b[32m[I 2023-04-06 21:38:02,560]\u001b[0m Trial 1 finished with value: 0.9486230555025992 and parameters: {'max_depth': 6, 'l1_regularization': 3.1452716660792417, 'l2_regularization': 15.632103540065735, 'growing_strategy': 'BEST_FIRST_GLOBAL', 'loss': 'BINOMIAL_LOG_LIKELIHOOD', 'min_examples': 645, 'num_candidate_attributes_ratio': 0.38119980678224313, 'shrinkage': 0.7272523763937464, 'discretize_numerical_features': True}. Best is trial 0 with value: 0.9700312116792607.\u001b[0m\n"
     ]
    },
    {
     "name": "stdout",
     "output_type": "stream",
     "text": [
      "Use /var/folders/80/5mgc74450p1b9jxkl3fd7z780000gn/T/tmp13ikgebt as temporary training directory\n"
     ]
    },
    {
     "name": "stderr",
     "output_type": "stream",
     "text": [
      "2023-04-06 21:38:02.678160: I tensorflow/core/grappler/optimizers/custom_graph_optimizer_registry.cc:114] Plugin optimizer for device_type GPU is enabled.\n"
     ]
    },
    {
     "name": "stdout",
     "output_type": "stream",
     "text": [
      "Num validation examples: tf.Tensor(39540, shape=(), dtype=int32)\n"
     ]
    },
    {
     "name": "stderr",
     "output_type": "stream",
     "text": [
      "2023-04-06 21:38:05.217709: I tensorflow/core/grappler/optimizers/custom_graph_optimizer_registry.cc:114] Plugin optimizer for device_type GPU is enabled.\n",
      "2023-04-06 21:38:05.978326: W external/ydf/yggdrasil_decision_forests/learner/gradient_boosted_trees/gradient_boosted_trees.cc:1790] \"goss_alpha\" set but \"sampling_method\" not equal to \"GOSS\".\n",
      "2023-04-06 21:38:05.978339: W external/ydf/yggdrasil_decision_forests/learner/gradient_boosted_trees/gradient_boosted_trees.cc:1800] \"goss_beta\" set but \"sampling_method\" not equal to \"GOSS\".\n",
      "2023-04-06 21:38:05.978343: W external/ydf/yggdrasil_decision_forests/learner/gradient_boosted_trees/gradient_boosted_trees.cc:1814] \"selective_gradient_boosting_ratio\" set but \"sampling_method\" not equal to \"SELGB\".\n",
      "2023-04-06 21:38:05.978558: I external/ydf/yggdrasil_decision_forests/learner/gradient_boosted_trees/gradient_boosted_trees.cc:1077] Training gradient boosted tree on 802301 example(s) and 18 feature(s).\n",
      "2023-04-06 21:38:05.978638: I external/ydf/yggdrasil_decision_forests/learner/gradient_boosted_trees/gradient_boosted_trees.cc:1120] 802301 examples used for training and 39540 examples used for validation\n",
      "2023-04-06 21:38:06.100352: I external/ydf/yggdrasil_decision_forests/learner/gradient_boosted_trees/gradient_boosted_trees.cc:1518] \tnum-trees:1 train-loss:0.545370 train-accuracy:0.910672 valid-loss:1.279887 valid-accuracy:0.654122\n",
      "2023-04-06 21:38:13.409314: I external/ydf/yggdrasil_decision_forests/learner/gradient_boosted_trees/gradient_boosted_trees.cc:1568] Create final snapshot of the model at iteration 61\n",
      "2023-04-06 21:38:13.411030: I external/ydf/yggdrasil_decision_forests/learner/gradient_boosted_trees/gradient_boosted_trees.cc:247] Truncates the model to 12 tree(s) i.e. 12  iteration(s).\n",
      "2023-04-06 21:38:13.411630: I external/ydf/yggdrasil_decision_forests/learner/gradient_boosted_trees/gradient_boosted_trees.cc:309] Final model num-trees:12 valid-loss:1.316802 valid-accuracy:0.703338\n",
      "[INFO 2023-04-06T21:38:13.424553+01:00 kernel.cc:1214] Loading model from path /var/folders/80/5mgc74450p1b9jxkl3fd7z780000gn/T/tmp13ikgebt/model/ with prefix f4768d6f8e4b445e\n",
      "[INFO 2023-04-06T21:38:13.425691+01:00 abstract_model.cc:1312] Engine \"GradientBoostedTreesQuickScorerExtended\" built\n",
      "[INFO 2023-04-06T21:38:13.425705+01:00 kernel.cc:1046] Use fast generic engine\n",
      "2023-04-06 21:38:13.525832: I tensorflow/core/grappler/optimizers/custom_graph_optimizer_registry.cc:114] Plugin optimizer for device_type GPU is enabled.\n",
      "2023-04-06 21:38:13.576713: I tensorflow/core/grappler/optimizers/custom_graph_optimizer_registry.cc:114] Plugin optimizer for device_type GPU is enabled.\n"
     ]
    },
    {
     "name": "stdout",
     "output_type": "stream",
     "text": [
      "40/40 [==============================] - 0s 3ms/step\n"
     ]
    },
    {
     "name": "stderr",
     "output_type": "stream",
     "text": [
      "2023-04-06 21:38:13.726103: I tensorflow/core/grappler/optimizers/custom_graph_optimizer_registry.cc:114] Plugin optimizer for device_type GPU is enabled.\n",
      "\u001b[32m[I 2023-04-06 21:38:13,876]\u001b[0m Trial 2 finished with value: 0.9584311173777859 and parameters: {'max_depth': 7, 'l1_regularization': 12.945654195288114, 'l2_regularization': 18.018960410947106, 'growing_strategy': 'BEST_FIRST_GLOBAL', 'loss': 'BINOMIAL_LOG_LIKELIHOOD', 'min_examples': 380, 'num_candidate_attributes_ratio': 0.4027933603961775, 'shrinkage': 0.6986073095045428, 'discretize_numerical_features': True}. Best is trial 0 with value: 0.9700312116792607.\u001b[0m\n"
     ]
    },
    {
     "name": "stdout",
     "output_type": "stream",
     "text": [
      "Use /var/folders/80/5mgc74450p1b9jxkl3fd7z780000gn/T/tmprh1_ebvg as temporary training directory\n"
     ]
    },
    {
     "name": "stderr",
     "output_type": "stream",
     "text": [
      "2023-04-06 21:38:13.991226: I tensorflow/core/grappler/optimizers/custom_graph_optimizer_registry.cc:114] Plugin optimizer for device_type GPU is enabled.\n"
     ]
    },
    {
     "name": "stdout",
     "output_type": "stream",
     "text": [
      "Num validation examples: tf.Tensor(39540, shape=(), dtype=int32)\n"
     ]
    },
    {
     "name": "stderr",
     "output_type": "stream",
     "text": [
      "2023-04-06 21:38:16.543893: I tensorflow/core/grappler/optimizers/custom_graph_optimizer_registry.cc:114] Plugin optimizer for device_type GPU is enabled.\n",
      "2023-04-06 21:38:17.306840: W external/ydf/yggdrasil_decision_forests/learner/gradient_boosted_trees/gradient_boosted_trees.cc:1790] \"goss_alpha\" set but \"sampling_method\" not equal to \"GOSS\".\n",
      "2023-04-06 21:38:17.306855: W external/ydf/yggdrasil_decision_forests/learner/gradient_boosted_trees/gradient_boosted_trees.cc:1800] \"goss_beta\" set but \"sampling_method\" not equal to \"GOSS\".\n",
      "2023-04-06 21:38:17.306858: W external/ydf/yggdrasil_decision_forests/learner/gradient_boosted_trees/gradient_boosted_trees.cc:1814] \"selective_gradient_boosting_ratio\" set but \"sampling_method\" not equal to \"SELGB\".\n",
      "2023-04-06 21:38:17.307091: I external/ydf/yggdrasil_decision_forests/learner/gradient_boosted_trees/gradient_boosted_trees.cc:1077] Training gradient boosted tree on 802301 example(s) and 18 feature(s).\n",
      "2023-04-06 21:38:17.307168: I external/ydf/yggdrasil_decision_forests/learner/gradient_boosted_trees/gradient_boosted_trees.cc:1120] 802301 examples used for training and 39540 examples used for validation\n",
      "2023-04-06 21:38:17.419877: I external/ydf/yggdrasil_decision_forests/learner/gradient_boosted_trees/gradient_boosted_trees.cc:1518] \tnum-trees:1 train-loss:0.571675 train-accuracy:0.905861 valid-loss:1.262106 valid-accuracy:0.675417\n",
      "2023-04-06 21:38:24.471391: I external/ydf/yggdrasil_decision_forests/learner/gradient_boosted_trees/gradient_boosted_trees.cc:1520] \tnum-trees:58 train-loss:0.237694 train-accuracy:0.954923 valid-loss:1.590931 valid-accuracy:0.689226\n",
      "2023-04-06 21:38:24.783921: I external/ydf/yggdrasil_decision_forests/learner/gradient_boosted_trees/gradient_boosted_trees.cc:1568] Create final snapshot of the model at iteration 60\n",
      "2023-04-06 21:38:24.786648: I external/ydf/yggdrasil_decision_forests/learner/gradient_boosted_trees/gradient_boosted_trees.cc:247] Truncates the model to 11 tree(s) i.e. 11  iteration(s).\n",
      "2023-04-06 21:38:24.787253: W external/ydf/yggdrasil_decision_forests/learner/gradient_boosted_trees/gradient_boosted_trees.cc:267] The best validation loss was obtained during iteration 10. This is the first step during which a validation loss was computed, hence the validation loss might still have been unstable and not optimal. Following are examples of hyper-parameter changes that might help with the situation. Try them in order: (1) Decrease the 'shrinkage rate' parameter (default value of 0.1). For example divide its value by 2. (2) Decrease the 'num_candidate_attributes_ratio' hyper-parameter (default value of 1) by 80%. (3) Increase the early_stopping_num_trees_look_ahead parameter (e.g., try multiplying it by a factor of 2). (4) Use a more expensive but stable version of early stopping with 'early_stopping=MIN_LOSS_FINAL'. (4) Disable early stopping completely with 'early_stopping=NONE'.\n",
      "2023-04-06 21:38:24.787260: I external/ydf/yggdrasil_decision_forests/learner/gradient_boosted_trees/gradient_boosted_trees.cc:309] Final model num-trees:11 valid-loss:1.303946 valid-accuracy:0.694740\n",
      "[INFO 2023-04-06T21:38:24.799748+01:00 kernel.cc:1214] Loading model from path /var/folders/80/5mgc74450p1b9jxkl3fd7z780000gn/T/tmprh1_ebvg/model/ with prefix 0ff834d5cb7c444d\n",
      "[INFO 2023-04-06T21:38:24.800866+01:00 abstract_model.cc:1312] Engine \"GradientBoostedTreesQuickScorerExtended\" built\n",
      "[INFO 2023-04-06T21:38:24.800891+01:00 kernel.cc:1046] Use fast generic engine\n",
      "2023-04-06 21:38:24.920284: I tensorflow/core/grappler/optimizers/custom_graph_optimizer_registry.cc:114] Plugin optimizer for device_type GPU is enabled.\n",
      "2023-04-06 21:38:24.969556: I tensorflow/core/grappler/optimizers/custom_graph_optimizer_registry.cc:114] Plugin optimizer for device_type GPU is enabled.\n"
     ]
    },
    {
     "name": "stdout",
     "output_type": "stream",
     "text": [
      "40/40 [==============================] - 0s 3ms/step\n"
     ]
    },
    {
     "name": "stderr",
     "output_type": "stream",
     "text": [
      "2023-04-06 21:38:25.119311: I tensorflow/core/grappler/optimizers/custom_graph_optimizer_registry.cc:114] Plugin optimizer for device_type GPU is enabled.\n",
      "\u001b[32m[I 2023-04-06 21:38:25,266]\u001b[0m Trial 3 finished with value: 0.9526873662783204 and parameters: {'max_depth': 7, 'l1_regularization': 14.276550242175963, 'l2_regularization': 9.232445594696443, 'growing_strategy': 'BEST_FIRST_GLOBAL', 'loss': 'BINOMIAL_LOG_LIKELIHOOD', 'min_examples': 400, 'num_candidate_attributes_ratio': 0.3277808337890817, 'shrinkage': 0.6799661892919465, 'discretize_numerical_features': True}. Best is trial 0 with value: 0.9700312116792607.\u001b[0m\n"
     ]
    },
    {
     "name": "stdout",
     "output_type": "stream",
     "text": [
      "Use /var/folders/80/5mgc74450p1b9jxkl3fd7z780000gn/T/tmp4ipfihp4 as temporary training directory\n"
     ]
    },
    {
     "name": "stderr",
     "output_type": "stream",
     "text": [
      "2023-04-06 21:38:25.381559: I tensorflow/core/grappler/optimizers/custom_graph_optimizer_registry.cc:114] Plugin optimizer for device_type GPU is enabled.\n"
     ]
    },
    {
     "name": "stdout",
     "output_type": "stream",
     "text": [
      "Num validation examples: tf.Tensor(39540, shape=(), dtype=int32)\n"
     ]
    },
    {
     "name": "stderr",
     "output_type": "stream",
     "text": [
      "2023-04-06 21:38:27.953863: I tensorflow/core/grappler/optimizers/custom_graph_optimizer_registry.cc:114] Plugin optimizer for device_type GPU is enabled.\n",
      "2023-04-06 21:38:28.421303: W external/ydf/yggdrasil_decision_forests/learner/gradient_boosted_trees/gradient_boosted_trees.cc:1790] \"goss_alpha\" set but \"sampling_method\" not equal to \"GOSS\".\n",
      "2023-04-06 21:38:28.421320: W external/ydf/yggdrasil_decision_forests/learner/gradient_boosted_trees/gradient_boosted_trees.cc:1800] \"goss_beta\" set but \"sampling_method\" not equal to \"GOSS\".\n",
      "2023-04-06 21:38:28.421323: W external/ydf/yggdrasil_decision_forests/learner/gradient_boosted_trees/gradient_boosted_trees.cc:1814] \"selective_gradient_boosting_ratio\" set but \"sampling_method\" not equal to \"SELGB\".\n",
      "2023-04-06 21:38:28.421582: I external/ydf/yggdrasil_decision_forests/learner/gradient_boosted_trees/gradient_boosted_trees.cc:1077] Training gradient boosted tree on 802301 example(s) and 18 feature(s).\n",
      "2023-04-06 21:38:28.421664: I external/ydf/yggdrasil_decision_forests/learner/gradient_boosted_trees/gradient_boosted_trees.cc:1120] 802301 examples used for training and 39540 examples used for validation\n",
      "2023-04-06 21:38:29.843019: I external/ydf/yggdrasil_decision_forests/learner/gradient_boosted_trees/gradient_boosted_trees.cc:1518] \tnum-trees:1 train-loss:0.052288 train-accuracy:0.827721 valid-loss:0.131337 valid-accuracy:0.579514\n",
      "2023-04-06 21:38:55.409203: I external/ydf/yggdrasil_decision_forests/learner/gradient_boosted_trees/gradient_boosted_trees.cc:1520] \tnum-trees:20 train-loss:0.006873 train-accuracy:0.947472 valid-loss:0.028607 valid-accuracy:0.715073\n",
      "2023-04-06 21:39:26.175081: I external/ydf/yggdrasil_decision_forests/learner/gradient_boosted_trees/gradient_boosted_trees.cc:1520] \tnum-trees:43 train-loss:0.005725 train-accuracy:0.955674 valid-loss:0.023995 valid-accuracy:0.760268\n",
      "2023-04-06 21:39:57.350132: I external/ydf/yggdrasil_decision_forests/learner/gradient_boosted_trees/gradient_boosted_trees.cc:1520] \tnum-trees:67 train-loss:0.005516 train-accuracy:0.956918 valid-loss:0.023240 valid-accuracy:0.769727\n",
      "2023-04-06 21:40:28.099266: I external/ydf/yggdrasil_decision_forests/learner/gradient_boosted_trees/gradient_boosted_trees.cc:1520] \tnum-trees:91 train-loss:0.005406 train-accuracy:0.957627 valid-loss:0.022680 valid-accuracy:0.774836\n",
      "2023-04-06 21:40:58.744977: I external/ydf/yggdrasil_decision_forests/learner/gradient_boosted_trees/gradient_boosted_trees.cc:1520] \tnum-trees:115 train-loss:0.005326 train-accuracy:0.958098 valid-loss:0.022471 valid-accuracy:0.778604\n",
      "2023-04-06 21:41:28.877929: I external/ydf/yggdrasil_decision_forests/learner/gradient_boosted_trees/gradient_boosted_trees.cc:1520] \tnum-trees:139 train-loss:0.005263 train-accuracy:0.958521 valid-loss:0.022283 valid-accuracy:0.780754\n",
      "2023-04-06 21:41:59.678636: I external/ydf/yggdrasil_decision_forests/learner/gradient_boosted_trees/gradient_boosted_trees.cc:1520] \tnum-trees:163 train-loss:0.005210 train-accuracy:0.958807 valid-loss:0.022264 valid-accuracy:0.781816\n",
      "2023-04-06 21:42:29.999559: I external/ydf/yggdrasil_decision_forests/learner/gradient_boosted_trees/gradient_boosted_trees.cc:1520] \tnum-trees:187 train-loss:0.005182 train-accuracy:0.958941 valid-loss:0.022342 valid-accuracy:0.781614\n",
      "2023-04-06 21:43:01.108340: I external/ydf/yggdrasil_decision_forests/learner/gradient_boosted_trees/gradient_boosted_trees.cc:1520] \tnum-trees:212 train-loss:0.005148 train-accuracy:0.959134 valid-loss:0.022275 valid-accuracy:0.782676\n",
      "2023-04-06 21:43:20.952663: I external/ydf/yggdrasil_decision_forests/learner/gradient_boosted_trees/gradient_boosted_trees.cc:1568] Create final snapshot of the model at iteration 227\n",
      "2023-04-06 21:43:21.035932: I external/ydf/yggdrasil_decision_forests/learner/gradient_boosted_trees/gradient_boosted_trees.cc:247] Truncates the model to 178 tree(s) i.e. 178  iteration(s).\n",
      "2023-04-06 21:43:21.043680: I external/ydf/yggdrasil_decision_forests/learner/gradient_boosted_trees/gradient_boosted_trees.cc:309] Final model num-trees:178 valid-loss:0.022231 valid-accuracy:0.782372\n",
      "[INFO 2023-04-06T21:43:21.191542+01:00 kernel.cc:1214] Loading model from path /var/folders/80/5mgc74450p1b9jxkl3fd7z780000gn/T/tmp4ipfihp4/model/ with prefix 08240309788449dd\n",
      "[INFO 2023-04-06T21:43:21.425239+01:00 decision_forest.cc:661] Model loaded with 178 root(s), 182654 node(s), and 18 input feature(s).\n",
      "[INFO 2023-04-06T21:43:21.425264+01:00 abstract_model.cc:1312] Engine \"GradientBoostedTreesGeneric\" built\n",
      "[INFO 2023-04-06T21:43:21.425278+01:00 kernel.cc:1046] Use fast generic engine\n",
      "2023-04-06 21:43:21.595484: I tensorflow/core/grappler/optimizers/custom_graph_optimizer_registry.cc:114] Plugin optimizer for device_type GPU is enabled.\n",
      "2023-04-06 21:43:21.692854: I tensorflow/core/grappler/optimizers/custom_graph_optimizer_registry.cc:114] Plugin optimizer for device_type GPU is enabled.\n"
     ]
    },
    {
     "name": "stdout",
     "output_type": "stream",
     "text": [
      " 5/40 [==>...........................] - ETA: 1s"
     ]
    },
    {
     "name": "stderr",
     "output_type": "stream",
     "text": [
      "2023-04-06 21:43:22.902077: I tensorflow/core/grappler/optimizers/custom_graph_optimizer_registry.cc:114] Plugin optimizer for device_type GPU is enabled.\n"
     ]
    },
    {
     "name": "stdout",
     "output_type": "stream",
     "text": [
      "40/40 [==============================] - 1s 30ms/step\n"
     ]
    },
    {
     "name": "stderr",
     "output_type": "stream",
     "text": [
      "\u001b[32m[I 2023-04-06 21:43:24,151]\u001b[0m Trial 4 finished with value: 0.9760002028733349 and parameters: {'max_depth': 16, 'l1_regularization': 11.170408251945789, 'l2_regularization': 5.598989714085807, 'growing_strategy': 'LOCAL', 'loss': 'BINARY_FOCAL_LOSS', 'min_examples': 605, 'num_candidate_attributes_ratio': 0.3871950857325683, 'shrinkage': 0.18354520548376113, 'discretize_numerical_features': False, 'num_discretized_numerical_bins': 960, 'focal_loss_gamma': 3.644255438865251}. Best is trial 4 with value: 0.9760002028733349.\u001b[0m\n"
     ]
    },
    {
     "name": "stdout",
     "output_type": "stream",
     "text": [
      "Use /var/folders/80/5mgc74450p1b9jxkl3fd7z780000gn/T/tmpxmnwjc95 as temporary training directory\n"
     ]
    },
    {
     "name": "stderr",
     "output_type": "stream",
     "text": [
      "2023-04-06 21:43:24.311890: I tensorflow/core/grappler/optimizers/custom_graph_optimizer_registry.cc:114] Plugin optimizer for device_type GPU is enabled.\n"
     ]
    },
    {
     "name": "stdout",
     "output_type": "stream",
     "text": [
      "Num validation examples: tf.Tensor(39540, shape=(), dtype=int32)\n"
     ]
    },
    {
     "name": "stderr",
     "output_type": "stream",
     "text": [
      "2023-04-06 21:43:26.963421: I tensorflow/core/grappler/optimizers/custom_graph_optimizer_registry.cc:114] Plugin optimizer for device_type GPU is enabled.\n",
      "2023-04-06 21:43:27.739803: W external/ydf/yggdrasil_decision_forests/learner/gradient_boosted_trees/gradient_boosted_trees.cc:1790] \"goss_alpha\" set but \"sampling_method\" not equal to \"GOSS\".\n",
      "2023-04-06 21:43:27.739820: W external/ydf/yggdrasil_decision_forests/learner/gradient_boosted_trees/gradient_boosted_trees.cc:1800] \"goss_beta\" set but \"sampling_method\" not equal to \"GOSS\".\n",
      "2023-04-06 21:43:27.739823: W external/ydf/yggdrasil_decision_forests/learner/gradient_boosted_trees/gradient_boosted_trees.cc:1814] \"selective_gradient_boosting_ratio\" set but \"sampling_method\" not equal to \"SELGB\".\n",
      "2023-04-06 21:43:27.740107: I external/ydf/yggdrasil_decision_forests/learner/gradient_boosted_trees/gradient_boosted_trees.cc:1077] Training gradient boosted tree on 802301 example(s) and 18 feature(s).\n",
      "2023-04-06 21:43:27.740195: I external/ydf/yggdrasil_decision_forests/learner/gradient_boosted_trees/gradient_boosted_trees.cc:1120] 802301 examples used for training and 39540 examples used for validation\n",
      "2023-04-06 21:43:28.343510: I external/ydf/yggdrasil_decision_forests/learner/gradient_boosted_trees/gradient_boosted_trees.cc:1518] \tnum-trees:1 train-loss:0.051875 train-accuracy:0.931345 valid-loss:0.158407 valid-accuracy:0.738366\n",
      "2023-04-06 21:43:31.666029: I external/ydf/yggdrasil_decision_forests/learner/gradient_boosted_trees/gradient_boosted_trees.cc:1520] \tnum-trees:7 train-loss:0.036734 train-accuracy:0.950293 valid-loss:0.168754 valid-accuracy:0.718336\n",
      "2023-04-06 21:43:57.554786: I external/ydf/yggdrasil_decision_forests/learner/gradient_boosted_trees/gradient_boosted_trees.cc:1568] Create final snapshot of the model at iteration 60\n",
      "2023-04-06 21:43:57.559355: I external/ydf/yggdrasil_decision_forests/learner/gradient_boosted_trees/gradient_boosted_trees.cc:247] Truncates the model to 11 tree(s) i.e. 11  iteration(s).\n",
      "2023-04-06 21:43:57.560976: W external/ydf/yggdrasil_decision_forests/learner/gradient_boosted_trees/gradient_boosted_trees.cc:267] The best validation loss was obtained during iteration 10. This is the first step during which a validation loss was computed, hence the validation loss might still have been unstable and not optimal. Following are examples of hyper-parameter changes that might help with the situation. Try them in order: (1) Decrease the 'shrinkage rate' parameter (default value of 0.1). For example divide its value by 2. (2) Decrease the 'num_candidate_attributes_ratio' hyper-parameter (default value of 1) by 80%. (3) Increase the early_stopping_num_trees_look_ahead parameter (e.g., try multiplying it by a factor of 2). (4) Use a more expensive but stable version of early stopping with 'early_stopping=MIN_LOSS_FINAL'. (4) Disable early stopping completely with 'early_stopping=NONE'.\n",
      "2023-04-06 21:43:57.560984: I external/ydf/yggdrasil_decision_forests/learner/gradient_boosted_trees/gradient_boosted_trees.cc:309] Final model num-trees:11 valid-loss:0.172235 valid-accuracy:0.719499\n",
      "[INFO 2023-04-06T21:43:57.577396+01:00 kernel.cc:1214] Loading model from path /var/folders/80/5mgc74450p1b9jxkl3fd7z780000gn/T/tmpxmnwjc95/model/ with prefix d70726d3560b4a0f\n",
      "[INFO 2023-04-06T21:43:57.585262+01:00 decision_forest.cc:661] Model loaded with 11 root(s), 5609 node(s), and 17 input feature(s).\n",
      "[INFO 2023-04-06T21:43:57.585275+01:00 abstract_model.cc:1312] Engine \"GradientBoostedTreesGeneric\" built\n",
      "[INFO 2023-04-06T21:43:57.585322+01:00 kernel.cc:1046] Use fast generic engine\n",
      "2023-04-06 21:43:58.785464: I tensorflow/core/grappler/optimizers/custom_graph_optimizer_registry.cc:114] Plugin optimizer for device_type GPU is enabled.\n",
      "2023-04-06 21:43:58.835807: I tensorflow/core/grappler/optimizers/custom_graph_optimizer_registry.cc:114] Plugin optimizer for device_type GPU is enabled.\n"
     ]
    },
    {
     "name": "stdout",
     "output_type": "stream",
     "text": [
      "40/40 [==============================] - 0s 3ms/step\n"
     ]
    },
    {
     "name": "stderr",
     "output_type": "stream",
     "text": [
      "2023-04-06 21:43:58.991029: I tensorflow/core/grappler/optimizers/custom_graph_optimizer_registry.cc:114] Plugin optimizer for device_type GPU is enabled.\n",
      "\u001b[32m[I 2023-04-06 21:43:59,145]\u001b[0m Trial 5 finished with value: 0.9724841396841637 and parameters: {'max_depth': 12, 'l1_regularization': 16.310696523325326, 'l2_regularization': 5.783708896988348, 'growing_strategy': 'LOCAL', 'loss': 'BINARY_FOCAL_LOSS', 'min_examples': 710, 'num_candidate_attributes_ratio': 0.9381945398996052, 'shrinkage': 0.6500301382804434, 'discretize_numerical_features': True, 'focal_loss_gamma': 0.8444099011612571}. Best is trial 4 with value: 0.9760002028733349.\u001b[0m\n"
     ]
    },
    {
     "name": "stdout",
     "output_type": "stream",
     "text": [
      "Use /var/folders/80/5mgc74450p1b9jxkl3fd7z780000gn/T/tmpu76w1cl4 as temporary training directory\n"
     ]
    },
    {
     "name": "stderr",
     "output_type": "stream",
     "text": [
      "2023-04-06 21:43:59.257114: I tensorflow/core/grappler/optimizers/custom_graph_optimizer_registry.cc:114] Plugin optimizer for device_type GPU is enabled.\n"
     ]
    },
    {
     "name": "stdout",
     "output_type": "stream",
     "text": [
      "Num validation examples: tf.Tensor(39540, shape=(), dtype=int32)\n"
     ]
    },
    {
     "name": "stderr",
     "output_type": "stream",
     "text": [
      "2023-04-06 21:44:01.903667: I tensorflow/core/grappler/optimizers/custom_graph_optimizer_registry.cc:114] Plugin optimizer for device_type GPU is enabled.\n",
      "2023-04-06 21:44:02.684489: W external/ydf/yggdrasil_decision_forests/learner/gradient_boosted_trees/gradient_boosted_trees.cc:1790] \"goss_alpha\" set but \"sampling_method\" not equal to \"GOSS\".\n",
      "2023-04-06 21:44:02.684510: W external/ydf/yggdrasil_decision_forests/learner/gradient_boosted_trees/gradient_boosted_trees.cc:1800] \"goss_beta\" set but \"sampling_method\" not equal to \"GOSS\".\n",
      "2023-04-06 21:44:02.684513: W external/ydf/yggdrasil_decision_forests/learner/gradient_boosted_trees/gradient_boosted_trees.cc:1814] \"selective_gradient_boosting_ratio\" set but \"sampling_method\" not equal to \"SELGB\".\n",
      "2023-04-06 21:44:02.684734: I external/ydf/yggdrasil_decision_forests/learner/gradient_boosted_trees/gradient_boosted_trees.cc:1077] Training gradient boosted tree on 802301 example(s) and 18 feature(s).\n",
      "2023-04-06 21:44:02.684856: I external/ydf/yggdrasil_decision_forests/learner/gradient_boosted_trees/gradient_boosted_trees.cc:1120] 802301 examples used for training and 39540 examples used for validation\n",
      "2023-04-06 21:44:02.814109: I external/ydf/yggdrasil_decision_forests/learner/gradient_boosted_trees/gradient_boosted_trees.cc:1518] \tnum-trees:1 train-loss:0.499770 train-accuracy:0.919054 valid-loss:1.135865 valid-accuracy:0.708118\n",
      "2023-04-06 21:44:02.950111: I external/ydf/yggdrasil_decision_forests/learner/gradient_boosted_trees/gradient_boosted_trees.cc:1520] \tnum-trees:2 train-loss:0.411615 train-accuracy:0.929094 valid-loss:1.178944 valid-accuracy:0.715630\n",
      "2023-04-06 21:44:10.858578: I external/ydf/yggdrasil_decision_forests/learner/gradient_boosted_trees/gradient_boosted_trees.cc:1568] Create final snapshot of the model at iteration 63\n",
      "2023-04-06 21:44:10.860541: I external/ydf/yggdrasil_decision_forests/learner/gradient_boosted_trees/gradient_boosted_trees.cc:247] Truncates the model to 14 tree(s) i.e. 14  iteration(s).\n",
      "2023-04-06 21:44:10.861300: I external/ydf/yggdrasil_decision_forests/learner/gradient_boosted_trees/gradient_boosted_trees.cc:309] Final model num-trees:14 valid-loss:1.323408 valid-accuracy:0.697699\n",
      "[INFO 2023-04-06T21:44:10.874305+01:00 kernel.cc:1214] Loading model from path /var/folders/80/5mgc74450p1b9jxkl3fd7z780000gn/T/tmpu76w1cl4/model/ with prefix ecb071b8cf4b4818\n",
      "[INFO 2023-04-06T21:44:10.875596+01:00 abstract_model.cc:1312] Engine \"GradientBoostedTreesQuickScorerExtended\" built\n",
      "[INFO 2023-04-06T21:44:10.875611+01:00 kernel.cc:1046] Use fast generic engine\n",
      "2023-04-06 21:44:10.974241: I tensorflow/core/grappler/optimizers/custom_graph_optimizer_registry.cc:114] Plugin optimizer for device_type GPU is enabled.\n",
      "2023-04-06 21:44:11.024763: I tensorflow/core/grappler/optimizers/custom_graph_optimizer_registry.cc:114] Plugin optimizer for device_type GPU is enabled.\n"
     ]
    },
    {
     "name": "stdout",
     "output_type": "stream",
     "text": [
      "40/40 [==============================] - 0s 3ms/step\n"
     ]
    },
    {
     "name": "stderr",
     "output_type": "stream",
     "text": [
      "2023-04-06 21:44:11.180168: I tensorflow/core/grappler/optimizers/custom_graph_optimizer_registry.cc:114] Plugin optimizer for device_type GPU is enabled.\n",
      "\u001b[32m[I 2023-04-06 21:44:11,335]\u001b[0m Trial 6 finished with value: 0.9688322562764073 and parameters: {'max_depth': 7, 'l1_regularization': 4.852714984764434, 'l2_regularization': 8.117567242379009, 'growing_strategy': 'BEST_FIRST_GLOBAL', 'loss': 'BINOMIAL_LOG_LIKELIHOOD', 'min_examples': 850, 'num_candidate_attributes_ratio': 0.7561739319911435, 'shrinkage': 0.6518011600904212, 'discretize_numerical_features': True}. Best is trial 4 with value: 0.9760002028733349.\u001b[0m\n"
     ]
    },
    {
     "name": "stdout",
     "output_type": "stream",
     "text": [
      "Use /var/folders/80/5mgc74450p1b9jxkl3fd7z780000gn/T/tmpw4pyjyxd as temporary training directory\n"
     ]
    },
    {
     "name": "stderr",
     "output_type": "stream",
     "text": [
      "2023-04-06 21:44:11.447589: I tensorflow/core/grappler/optimizers/custom_graph_optimizer_registry.cc:114] Plugin optimizer for device_type GPU is enabled.\n"
     ]
    },
    {
     "name": "stdout",
     "output_type": "stream",
     "text": [
      "Num validation examples: tf.Tensor(39540, shape=(), dtype=int32)\n"
     ]
    },
    {
     "name": "stderr",
     "output_type": "stream",
     "text": [
      "2023-04-06 21:44:14.082117: I tensorflow/core/grappler/optimizers/custom_graph_optimizer_registry.cc:114] Plugin optimizer for device_type GPU is enabled.\n",
      "2023-04-06 21:44:14.858497: W external/ydf/yggdrasil_decision_forests/learner/gradient_boosted_trees/gradient_boosted_trees.cc:1790] \"goss_alpha\" set but \"sampling_method\" not equal to \"GOSS\".\n",
      "2023-04-06 21:44:14.858512: W external/ydf/yggdrasil_decision_forests/learner/gradient_boosted_trees/gradient_boosted_trees.cc:1800] \"goss_beta\" set but \"sampling_method\" not equal to \"GOSS\".\n",
      "2023-04-06 21:44:14.858515: W external/ydf/yggdrasil_decision_forests/learner/gradient_boosted_trees/gradient_boosted_trees.cc:1814] \"selective_gradient_boosting_ratio\" set but \"sampling_method\" not equal to \"SELGB\".\n",
      "2023-04-06 21:44:14.858756: I external/ydf/yggdrasil_decision_forests/learner/gradient_boosted_trees/gradient_boosted_trees.cc:1077] Training gradient boosted tree on 802301 example(s) and 18 feature(s).\n",
      "2023-04-06 21:44:14.858854: I external/ydf/yggdrasil_decision_forests/learner/gradient_boosted_trees/gradient_boosted_trees.cc:1120] 802301 examples used for training and 39540 examples used for validation\n",
      "2023-04-06 21:44:15.106736: I external/ydf/yggdrasil_decision_forests/learner/gradient_boosted_trees/gradient_boosted_trees.cc:1518] \tnum-trees:1 train-loss:0.038562 train-accuracy:0.827721 valid-loss:0.094166 valid-accuracy:0.579514\n",
      "2023-04-06 21:44:33.013243: I external/ydf/yggdrasil_decision_forests/learner/gradient_boosted_trees/gradient_boosted_trees.cc:1520] \tnum-trees:66 train-loss:0.003196 train-accuracy:0.943287 valid-loss:0.010461 valid-accuracy:0.701037\n",
      "2023-04-06 21:44:35.661725: I external/ydf/yggdrasil_decision_forests/learner/gradient_boosted_trees/gradient_boosted_trees.cc:1568] Create final snapshot of the model at iteration 74\n",
      "2023-04-06 21:44:35.663803: I external/ydf/yggdrasil_decision_forests/learner/gradient_boosted_trees/gradient_boosted_trees.cc:247] Truncates the model to 25 tree(s) i.e. 25  iteration(s).\n",
      "2023-04-06 21:44:35.664486: I external/ydf/yggdrasil_decision_forests/learner/gradient_boosted_trees/gradient_boosted_trees.cc:309] Final model num-trees:25 valid-loss:0.010202 valid-accuracy:0.702605\n",
      "[INFO 2023-04-06T21:44:35.67761+01:00 kernel.cc:1214] Loading model from path /var/folders/80/5mgc74450p1b9jxkl3fd7z780000gn/T/tmpw4pyjyxd/model/ with prefix caa9c59107f54603\n",
      "[INFO 2023-04-06T21:44:35.67968+01:00 abstract_model.cc:1312] Engine \"GradientBoostedTreesQuickScorerExtended\" built\n",
      "[INFO 2023-04-06T21:44:35.679694+01:00 kernel.cc:1046] Use fast generic engine\n",
      "2023-04-06 21:44:35.807191: I tensorflow/core/grappler/optimizers/custom_graph_optimizer_registry.cc:114] Plugin optimizer for device_type GPU is enabled.\n",
      "2023-04-06 21:44:35.859498: I tensorflow/core/grappler/optimizers/custom_graph_optimizer_registry.cc:114] Plugin optimizer for device_type GPU is enabled.\n"
     ]
    },
    {
     "name": "stdout",
     "output_type": "stream",
     "text": [
      "40/40 [==============================] - 0s 3ms/step\n"
     ]
    },
    {
     "name": "stderr",
     "output_type": "stream",
     "text": [
      "2023-04-06 21:44:36.012468: I tensorflow/core/grappler/optimizers/custom_graph_optimizer_registry.cc:114] Plugin optimizer for device_type GPU is enabled.\n",
      "\u001b[32m[I 2023-04-06 21:44:36,169]\u001b[0m Trial 7 finished with value: 0.9248089827960473 and parameters: {'max_depth': 14, 'l1_regularization': 13.099265740307716, 'l2_regularization': 2.1512955827080025, 'growing_strategy': 'BEST_FIRST_GLOBAL', 'loss': 'BINARY_FOCAL_LOSS', 'min_examples': 755, 'num_candidate_attributes_ratio': 0.18653593230478727, 'shrinkage': 0.21266319709931175, 'discretize_numerical_features': True, 'focal_loss_gamma': 4.856857229957052}. Best is trial 4 with value: 0.9760002028733349.\u001b[0m\n"
     ]
    },
    {
     "name": "stdout",
     "output_type": "stream",
     "text": [
      "Use /var/folders/80/5mgc74450p1b9jxkl3fd7z780000gn/T/tmpog1f9lfn as temporary training directory\n"
     ]
    },
    {
     "name": "stderr",
     "output_type": "stream",
     "text": [
      "2023-04-06 21:44:36.283031: I tensorflow/core/grappler/optimizers/custom_graph_optimizer_registry.cc:114] Plugin optimizer for device_type GPU is enabled.\n"
     ]
    },
    {
     "name": "stdout",
     "output_type": "stream",
     "text": [
      "Num validation examples: tf.Tensor(39540, shape=(), dtype=int32)\n"
     ]
    },
    {
     "name": "stderr",
     "output_type": "stream",
     "text": [
      "2023-04-06 21:44:38.932611: I tensorflow/core/grappler/optimizers/custom_graph_optimizer_registry.cc:114] Plugin optimizer for device_type GPU is enabled.\n",
      "2023-04-06 21:44:39.398852: W external/ydf/yggdrasil_decision_forests/learner/gradient_boosted_trees/gradient_boosted_trees.cc:1790] \"goss_alpha\" set but \"sampling_method\" not equal to \"GOSS\".\n",
      "2023-04-06 21:44:39.398866: W external/ydf/yggdrasil_decision_forests/learner/gradient_boosted_trees/gradient_boosted_trees.cc:1800] \"goss_beta\" set but \"sampling_method\" not equal to \"GOSS\".\n",
      "2023-04-06 21:44:39.398870: W external/ydf/yggdrasil_decision_forests/learner/gradient_boosted_trees/gradient_boosted_trees.cc:1814] \"selective_gradient_boosting_ratio\" set but \"sampling_method\" not equal to \"SELGB\".\n",
      "2023-04-06 21:44:39.399086: I external/ydf/yggdrasil_decision_forests/learner/gradient_boosted_trees/gradient_boosted_trees.cc:1077] Training gradient boosted tree on 802301 example(s) and 18 feature(s).\n",
      "2023-04-06 21:44:39.399161: I external/ydf/yggdrasil_decision_forests/learner/gradient_boosted_trees/gradient_boosted_trees.cc:1120] 802301 examples used for training and 39540 examples used for validation\n",
      "2023-04-06 21:44:39.815739: I external/ydf/yggdrasil_decision_forests/learner/gradient_boosted_trees/gradient_boosted_trees.cc:1518] \tnum-trees:1 train-loss:0.768382 train-accuracy:0.827721 valid-loss:1.470110 valid-accuracy:0.579514\n",
      "2023-04-06 21:45:03.101783: I external/ydf/yggdrasil_decision_forests/learner/gradient_boosted_trees/gradient_boosted_trees.cc:1520] \tnum-trees:65 train-loss:0.267124 train-accuracy:0.950996 valid-loss:0.887279 valid-accuracy:0.784598\n",
      "2023-04-06 21:45:30.499894: I external/ydf/yggdrasil_decision_forests/learner/gradient_boosted_trees/gradient_boosted_trees.cc:1568] Create final snapshot of the model at iteration 146\n",
      "2023-04-06 21:45:30.503360: I external/ydf/yggdrasil_decision_forests/learner/gradient_boosted_trees/gradient_boosted_trees.cc:247] Truncates the model to 97 tree(s) i.e. 97  iteration(s).\n",
      "2023-04-06 21:45:30.504011: I external/ydf/yggdrasil_decision_forests/learner/gradient_boosted_trees/gradient_boosted_trees.cc:309] Final model num-trees:97 valid-loss:0.865020 valid-accuracy:0.790111\n",
      "[INFO 2023-04-06T21:45:30.520398+01:00 kernel.cc:1214] Loading model from path /var/folders/80/5mgc74450p1b9jxkl3fd7z780000gn/T/tmpog1f9lfn/model/ with prefix 35c16c902c3b473d\n",
      "[INFO 2023-04-06T21:45:30.527755+01:00 abstract_model.cc:1312] Engine \"GradientBoostedTreesQuickScorerExtended\" built\n",
      "[INFO 2023-04-06T21:45:30.527771+01:00 kernel.cc:1046] Use fast generic engine\n",
      "2023-04-06 21:45:30.653175: I tensorflow/core/grappler/optimizers/custom_graph_optimizer_registry.cc:114] Plugin optimizer for device_type GPU is enabled.\n"
     ]
    },
    {
     "name": "stdout",
     "output_type": "stream",
     "text": [
      " 1/40 [..............................] - ETA: 1s"
     ]
    },
    {
     "name": "stderr",
     "output_type": "stream",
     "text": [
      "2023-04-06 21:45:30.707949: I tensorflow/core/grappler/optimizers/custom_graph_optimizer_registry.cc:114] Plugin optimizer for device_type GPU is enabled.\n",
      "2023-04-06 21:45:30.860430: I tensorflow/core/grappler/optimizers/custom_graph_optimizer_registry.cc:114] Plugin optimizer for device_type GPU is enabled.\n"
     ]
    },
    {
     "name": "stdout",
     "output_type": "stream",
     "text": [
      "40/40 [==============================] - 0s 3ms/step\n"
     ]
    },
    {
     "name": "stderr",
     "output_type": "stream",
     "text": [
      "\u001b[32m[I 2023-04-06 21:45:31,012]\u001b[0m Trial 8 finished with value: 0.9735810942990718 and parameters: {'max_depth': 12, 'l1_regularization': 14.117557550419203, 'l2_regularization': 14.530062072439849, 'growing_strategy': 'BEST_FIRST_GLOBAL', 'loss': 'BINOMIAL_LOG_LIKELIHOOD', 'min_examples': 725, 'num_candidate_attributes_ratio': 0.28289954937324874, 'shrinkage': 0.17118738755419327, 'discretize_numerical_features': False, 'num_discretized_numerical_bins': 440}. Best is trial 4 with value: 0.9760002028733349.\u001b[0m\n"
     ]
    },
    {
     "name": "stdout",
     "output_type": "stream",
     "text": [
      "Use /var/folders/80/5mgc74450p1b9jxkl3fd7z780000gn/T/tmp1wby9q2w as temporary training directory\n"
     ]
    },
    {
     "name": "stderr",
     "output_type": "stream",
     "text": [
      "2023-04-06 21:45:31.121259: I tensorflow/core/grappler/optimizers/custom_graph_optimizer_registry.cc:114] Plugin optimizer for device_type GPU is enabled.\n"
     ]
    },
    {
     "name": "stdout",
     "output_type": "stream",
     "text": [
      "Num validation examples: tf.Tensor(39540, shape=(), dtype=int32)\n"
     ]
    },
    {
     "name": "stderr",
     "output_type": "stream",
     "text": [
      "2023-04-06 21:45:33.718698: I tensorflow/core/grappler/optimizers/custom_graph_optimizer_registry.cc:114] Plugin optimizer for device_type GPU is enabled.\n",
      "2023-04-06 21:45:34.474595: W external/ydf/yggdrasil_decision_forests/learner/gradient_boosted_trees/gradient_boosted_trees.cc:1790] \"goss_alpha\" set but \"sampling_method\" not equal to \"GOSS\".\n",
      "2023-04-06 21:45:34.474611: W external/ydf/yggdrasil_decision_forests/learner/gradient_boosted_trees/gradient_boosted_trees.cc:1800] \"goss_beta\" set but \"sampling_method\" not equal to \"GOSS\".\n",
      "2023-04-06 21:45:34.474614: W external/ydf/yggdrasil_decision_forests/learner/gradient_boosted_trees/gradient_boosted_trees.cc:1814] \"selective_gradient_boosting_ratio\" set but \"sampling_method\" not equal to \"SELGB\".\n",
      "2023-04-06 21:45:34.474822: I external/ydf/yggdrasil_decision_forests/learner/gradient_boosted_trees/gradient_boosted_trees.cc:1077] Training gradient boosted tree on 802301 example(s) and 18 feature(s).\n",
      "2023-04-06 21:45:34.474908: I external/ydf/yggdrasil_decision_forests/learner/gradient_boosted_trees/gradient_boosted_trees.cc:1120] 802301 examples used for training and 39540 examples used for validation\n",
      "2023-04-06 21:45:34.749386: I external/ydf/yggdrasil_decision_forests/learner/gradient_boosted_trees/gradient_boosted_trees.cc:1518] \tnum-trees:1 train-loss:0.081140 train-accuracy:0.827721 valid-loss:0.204673 valid-accuracy:0.579514\n",
      "2023-04-06 21:45:35.013206: I external/ydf/yggdrasil_decision_forests/learner/gradient_boosted_trees/gradient_boosted_trees.cc:1520] \tnum-trees:2 train-loss:0.067731 train-accuracy:0.827721 valid-loss:0.173928 valid-accuracy:0.579514\n",
      "2023-04-06 21:45:52.302392: I external/ydf/yggdrasil_decision_forests/learner/gradient_boosted_trees/gradient_boosted_trees.cc:1568] Create final snapshot of the model at iteration 62\n",
      "2023-04-06 21:45:52.304140: I external/ydf/yggdrasil_decision_forests/learner/gradient_boosted_trees/gradient_boosted_trees.cc:247] Truncates the model to 13 tree(s) i.e. 13  iteration(s).\n",
      "2023-04-06 21:45:52.304778: I external/ydf/yggdrasil_decision_forests/learner/gradient_boosted_trees/gradient_boosted_trees.cc:309] Final model num-trees:13 valid-loss:0.123881 valid-accuracy:0.705513\n",
      "[INFO 2023-04-06T21:45:52.316897+01:00 kernel.cc:1214] Loading model from path /var/folders/80/5mgc74450p1b9jxkl3fd7z780000gn/T/tmp1wby9q2w/model/ with prefix 0a8d8002b2ea471b\n",
      "[INFO 2023-04-06T21:45:52.318081+01:00 abstract_model.cc:1312] Engine \"GradientBoostedTreesQuickScorerExtended\" built\n",
      "[INFO 2023-04-06T21:45:52.318093+01:00 kernel.cc:1046] Use fast generic engine\n",
      "2023-04-06 21:45:52.413282: I tensorflow/core/grappler/optimizers/custom_graph_optimizer_registry.cc:114] Plugin optimizer for device_type GPU is enabled.\n",
      "2023-04-06 21:45:52.463082: I tensorflow/core/grappler/optimizers/custom_graph_optimizer_registry.cc:114] Plugin optimizer for device_type GPU is enabled.\n"
     ]
    },
    {
     "name": "stdout",
     "output_type": "stream",
     "text": [
      "40/40 [==============================] - 0s 3ms/step\n"
     ]
    },
    {
     "name": "stderr",
     "output_type": "stream",
     "text": [
      "2023-04-06 21:45:52.612305: I tensorflow/core/grappler/optimizers/custom_graph_optimizer_registry.cc:114] Plugin optimizer for device_type GPU is enabled.\n",
      "\u001b[32m[I 2023-04-06 21:45:52,759]\u001b[0m Trial 9 finished with value: 0.9620602082721937 and parameters: {'max_depth': 18, 'l1_regularization': 8.0414630054633, 'l2_regularization': 18.458799470249318, 'growing_strategy': 'BEST_FIRST_GLOBAL', 'loss': 'BINARY_FOCAL_LOSS', 'min_examples': 275, 'num_candidate_attributes_ratio': 0.9403956476586075, 'shrinkage': 0.21583074956894227, 'discretize_numerical_features': True, 'focal_loss_gamma': 1.1976187988913056}. Best is trial 4 with value: 0.9760002028733349.\u001b[0m\n"
     ]
    },
    {
     "name": "stdout",
     "output_type": "stream",
     "text": [
      "Use /var/folders/80/5mgc74450p1b9jxkl3fd7z780000gn/T/tmp0k2k4sej as temporary training directory\n"
     ]
    },
    {
     "name": "stderr",
     "output_type": "stream",
     "text": [
      "2023-04-06 21:45:52.883065: I tensorflow/core/grappler/optimizers/custom_graph_optimizer_registry.cc:114] Plugin optimizer for device_type GPU is enabled.\n"
     ]
    },
    {
     "name": "stdout",
     "output_type": "stream",
     "text": [
      "Num validation examples: tf.Tensor(39540, shape=(), dtype=int32)\n"
     ]
    },
    {
     "name": "stderr",
     "output_type": "stream",
     "text": [
      "2023-04-06 21:45:55.493619: I tensorflow/core/grappler/optimizers/custom_graph_optimizer_registry.cc:114] Plugin optimizer for device_type GPU is enabled.\n",
      "2023-04-06 21:45:55.962593: W external/ydf/yggdrasil_decision_forests/learner/gradient_boosted_trees/gradient_boosted_trees.cc:1790] \"goss_alpha\" set but \"sampling_method\" not equal to \"GOSS\".\n",
      "2023-04-06 21:45:55.962610: W external/ydf/yggdrasil_decision_forests/learner/gradient_boosted_trees/gradient_boosted_trees.cc:1800] \"goss_beta\" set but \"sampling_method\" not equal to \"GOSS\".\n",
      "2023-04-06 21:45:55.962613: W external/ydf/yggdrasil_decision_forests/learner/gradient_boosted_trees/gradient_boosted_trees.cc:1814] \"selective_gradient_boosting_ratio\" set but \"sampling_method\" not equal to \"SELGB\".\n",
      "2023-04-06 21:45:55.962841: I external/ydf/yggdrasil_decision_forests/learner/gradient_boosted_trees/gradient_boosted_trees.cc:1077] Training gradient boosted tree on 802301 example(s) and 18 feature(s).\n",
      "2023-04-06 21:45:55.962928: I external/ydf/yggdrasil_decision_forests/learner/gradient_boosted_trees/gradient_boosted_trees.cc:1120] 802301 examples used for training and 39540 examples used for validation\n",
      "2023-04-06 21:45:58.156792: I external/ydf/yggdrasil_decision_forests/learner/gradient_boosted_trees/gradient_boosted_trees.cc:1518] \tnum-trees:1 train-loss:0.072384 train-accuracy:0.827721 valid-loss:0.179432 valid-accuracy:0.579514\n",
      "2023-04-06 21:46:06.543711: I external/ydf/yggdrasil_decision_forests/learner/gradient_boosted_trees/gradient_boosted_trees.cc:1520] \tnum-trees:5 train-loss:0.060259 train-accuracy:0.827721 valid-loss:0.161736 valid-accuracy:0.579514\n",
      "2023-04-06 21:46:37.940641: I external/ydf/yggdrasil_decision_forests/learner/gradient_boosted_trees/gradient_boosted_trees.cc:1520] \tnum-trees:20 train-loss:0.038644 train-accuracy:0.827721 valid-loss:0.125865 valid-accuracy:0.579514\n",
      "2023-04-06 21:47:09.084875: I external/ydf/yggdrasil_decision_forests/learner/gradient_boosted_trees/gradient_boosted_trees.cc:1520] \tnum-trees:35 train-loss:0.029665 train-accuracy:0.827721 valid-loss:0.108150 valid-accuracy:0.579514\n",
      "2023-04-06 21:47:40.648614: I external/ydf/yggdrasil_decision_forests/learner/gradient_boosted_trees/gradient_boosted_trees.cc:1520] \tnum-trees:50 train-loss:0.024880 train-accuracy:0.828882 valid-loss:0.097888 valid-accuracy:0.579843\n",
      "2023-04-06 21:48:12.082728: I external/ydf/yggdrasil_decision_forests/learner/gradient_boosted_trees/gradient_boosted_trees.cc:1520] \tnum-trees:65 train-loss:0.022584 train-accuracy:0.833359 valid-loss:0.093293 valid-accuracy:0.581108\n",
      "2023-04-06 21:48:43.279367: I external/ydf/yggdrasil_decision_forests/learner/gradient_boosted_trees/gradient_boosted_trees.cc:1520] \tnum-trees:80 train-loss:0.020808 train-accuracy:0.838994 valid-loss:0.089270 valid-accuracy:0.582828\n",
      "2023-04-06 21:49:14.445863: I external/ydf/yggdrasil_decision_forests/learner/gradient_boosted_trees/gradient_boosted_trees.cc:1520] \tnum-trees:95 train-loss:0.019563 train-accuracy:0.843131 valid-loss:0.086416 valid-accuracy:0.583890\n",
      "2023-04-06 21:49:45.214097: I external/ydf/yggdrasil_decision_forests/learner/gradient_boosted_trees/gradient_boosted_trees.cc:1520] \tnum-trees:110 train-loss:0.018570 train-accuracy:0.847760 valid-loss:0.084057 valid-accuracy:0.584876\n",
      "2023-04-06 21:50:16.232659: I external/ydf/yggdrasil_decision_forests/learner/gradient_boosted_trees/gradient_boosted_trees.cc:1520] \tnum-trees:125 train-loss:0.017840 train-accuracy:0.851795 valid-loss:0.081549 valid-accuracy:0.586217\n",
      "2023-04-06 21:50:47.231630: I external/ydf/yggdrasil_decision_forests/learner/gradient_boosted_trees/gradient_boosted_trees.cc:1520] \tnum-trees:140 train-loss:0.017288 train-accuracy:0.854568 valid-loss:0.080019 valid-accuracy:0.587279\n",
      "2023-04-06 21:51:18.150451: I external/ydf/yggdrasil_decision_forests/learner/gradient_boosted_trees/gradient_boosted_trees.cc:1520] \tnum-trees:155 train-loss:0.016760 train-accuracy:0.857703 valid-loss:0.078497 valid-accuracy:0.588569\n",
      "2023-04-06 21:51:49.173504: I external/ydf/yggdrasil_decision_forests/learner/gradient_boosted_trees/gradient_boosted_trees.cc:1520] \tnum-trees:170 train-loss:0.016359 train-accuracy:0.860666 valid-loss:0.077338 valid-accuracy:0.589858\n",
      "2023-04-06 21:52:19.932242: I external/ydf/yggdrasil_decision_forests/learner/gradient_boosted_trees/gradient_boosted_trees.cc:1520] \tnum-trees:185 train-loss:0.015974 train-accuracy:0.863044 valid-loss:0.075990 valid-accuracy:0.591047\n",
      "2023-04-06 21:52:50.756817: I external/ydf/yggdrasil_decision_forests/learner/gradient_boosted_trees/gradient_boosted_trees.cc:1520] \tnum-trees:200 train-loss:0.015646 train-accuracy:0.865354 valid-loss:0.075162 valid-accuracy:0.592236\n",
      "2023-04-06 21:53:21.830234: I external/ydf/yggdrasil_decision_forests/learner/gradient_boosted_trees/gradient_boosted_trees.cc:1520] \tnum-trees:215 train-loss:0.015423 train-accuracy:0.866707 valid-loss:0.074484 valid-accuracy:0.593247\n",
      "2023-04-06 21:53:52.660271: I external/ydf/yggdrasil_decision_forests/learner/gradient_boosted_trees/gradient_boosted_trees.cc:1520] \tnum-trees:230 train-loss:0.015184 train-accuracy:0.868188 valid-loss:0.073789 valid-accuracy:0.593753\n",
      "2023-04-06 21:54:23.567617: I external/ydf/yggdrasil_decision_forests/learner/gradient_boosted_trees/gradient_boosted_trees.cc:1520] \tnum-trees:245 train-loss:0.014981 train-accuracy:0.869551 valid-loss:0.073263 valid-accuracy:0.594613\n",
      "2023-04-06 21:54:54.083888: I external/ydf/yggdrasil_decision_forests/learner/gradient_boosted_trees/gradient_boosted_trees.cc:1520] \tnum-trees:260 train-loss:0.014719 train-accuracy:0.871755 valid-loss:0.072189 valid-accuracy:0.596080\n",
      "2023-04-06 21:55:24.682299: I external/ydf/yggdrasil_decision_forests/learner/gradient_boosted_trees/gradient_boosted_trees.cc:1520] \tnum-trees:275 train-loss:0.014560 train-accuracy:0.873013 valid-loss:0.071483 valid-accuracy:0.596990\n",
      "2023-04-06 21:55:55.480650: I external/ydf/yggdrasil_decision_forests/learner/gradient_boosted_trees/gradient_boosted_trees.cc:1520] \tnum-trees:290 train-loss:0.014418 train-accuracy:0.874073 valid-loss:0.070948 valid-accuracy:0.597749\n",
      "2023-04-06 21:56:26.309315: I external/ydf/yggdrasil_decision_forests/learner/gradient_boosted_trees/gradient_boosted_trees.cc:1520] \tnum-trees:305 train-loss:0.014286 train-accuracy:0.874919 valid-loss:0.070523 valid-accuracy:0.598331\n",
      "2023-04-06 21:56:56.903494: I external/ydf/yggdrasil_decision_forests/learner/gradient_boosted_trees/gradient_boosted_trees.cc:1520] \tnum-trees:320 train-loss:0.014136 train-accuracy:0.875858 valid-loss:0.070101 valid-accuracy:0.598963\n",
      "2023-04-06 21:57:27.822855: I external/ydf/yggdrasil_decision_forests/learner/gradient_boosted_trees/gradient_boosted_trees.cc:1520] \tnum-trees:335 train-loss:0.014022 train-accuracy:0.876779 valid-loss:0.069754 valid-accuracy:0.599621\n",
      "2023-04-06 21:57:58.658949: I external/ydf/yggdrasil_decision_forests/learner/gradient_boosted_trees/gradient_boosted_trees.cc:1520] \tnum-trees:350 train-loss:0.013920 train-accuracy:0.877526 valid-loss:0.069359 valid-accuracy:0.599975\n",
      "2023-04-06 21:58:29.297683: I external/ydf/yggdrasil_decision_forests/learner/gradient_boosted_trees/gradient_boosted_trees.cc:1520] \tnum-trees:365 train-loss:0.013805 train-accuracy:0.878379 valid-loss:0.068968 valid-accuracy:0.600607\n",
      "2023-04-06 21:59:00.497358: I external/ydf/yggdrasil_decision_forests/learner/gradient_boosted_trees/gradient_boosted_trees.cc:1520] \tnum-trees:380 train-loss:0.013721 train-accuracy:0.878959 valid-loss:0.068703 valid-accuracy:0.600885\n",
      "2023-04-06 21:59:31.273356: I external/ydf/yggdrasil_decision_forests/learner/gradient_boosted_trees/gradient_boosted_trees.cc:1520] \tnum-trees:395 train-loss:0.013629 train-accuracy:0.879679 valid-loss:0.068427 valid-accuracy:0.601214\n",
      "2023-04-06 22:00:01.748362: I external/ydf/yggdrasil_decision_forests/learner/gradient_boosted_trees/gradient_boosted_trees.cc:1520] \tnum-trees:410 train-loss:0.013543 train-accuracy:0.880423 valid-loss:0.068180 valid-accuracy:0.601593\n",
      "2023-04-06 22:00:32.053238: I external/ydf/yggdrasil_decision_forests/learner/gradient_boosted_trees/gradient_boosted_trees.cc:1520] \tnum-trees:425 train-loss:0.013455 train-accuracy:0.881264 valid-loss:0.067924 valid-accuracy:0.601922\n",
      "2023-04-06 22:01:02.366277: I external/ydf/yggdrasil_decision_forests/learner/gradient_boosted_trees/gradient_boosted_trees.cc:1520] \tnum-trees:440 train-loss:0.013359 train-accuracy:0.882184 valid-loss:0.067500 valid-accuracy:0.602504\n",
      "2023-04-06 22:01:32.737433: I external/ydf/yggdrasil_decision_forests/learner/gradient_boosted_trees/gradient_boosted_trees.cc:1520] \tnum-trees:455 train-loss:0.013278 train-accuracy:0.882935 valid-loss:0.067137 valid-accuracy:0.603617\n",
      "2023-04-06 22:02:02.957059: I external/ydf/yggdrasil_decision_forests/learner/gradient_boosted_trees/gradient_boosted_trees.cc:1520] \tnum-trees:470 train-loss:0.013216 train-accuracy:0.883434 valid-loss:0.066917 valid-accuracy:0.604021\n",
      "2023-04-06 22:02:33.079252: I external/ydf/yggdrasil_decision_forests/learner/gradient_boosted_trees/gradient_boosted_trees.cc:1520] \tnum-trees:485 train-loss:0.013154 train-accuracy:0.883939 valid-loss:0.066686 valid-accuracy:0.604401\n",
      "2023-04-06 22:03:03.482510: I external/ydf/yggdrasil_decision_forests/learner/gradient_boosted_trees/gradient_boosted_trees.cc:1520] \tnum-trees:500 train-loss:0.013112 train-accuracy:0.884311 valid-loss:0.066469 valid-accuracy:0.604856\n",
      "2023-04-06 22:03:33.962241: I external/ydf/yggdrasil_decision_forests/learner/gradient_boosted_trees/gradient_boosted_trees.cc:1520] \tnum-trees:515 train-loss:0.013048 train-accuracy:0.884884 valid-loss:0.066140 valid-accuracy:0.605260\n",
      "2023-04-06 22:04:04.334596: I external/ydf/yggdrasil_decision_forests/learner/gradient_boosted_trees/gradient_boosted_trees.cc:1520] \tnum-trees:530 train-loss:0.012997 train-accuracy:0.885373 valid-loss:0.065941 valid-accuracy:0.605438\n",
      "2023-04-06 22:04:34.448264: I external/ydf/yggdrasil_decision_forests/learner/gradient_boosted_trees/gradient_boosted_trees.cc:1520] \tnum-trees:545 train-loss:0.012938 train-accuracy:0.885978 valid-loss:0.065697 valid-accuracy:0.605690\n",
      "2023-04-06 22:05:04.714282: I external/ydf/yggdrasil_decision_forests/learner/gradient_boosted_trees/gradient_boosted_trees.cc:1520] \tnum-trees:560 train-loss:0.012891 train-accuracy:0.886376 valid-loss:0.065459 valid-accuracy:0.606171\n",
      "2023-04-06 22:05:34.964307: I external/ydf/yggdrasil_decision_forests/learner/gradient_boosted_trees/gradient_boosted_trees.cc:1520] \tnum-trees:575 train-loss:0.012817 train-accuracy:0.887050 valid-loss:0.065195 valid-accuracy:0.607233\n",
      "2023-04-06 22:06:05.313324: I external/ydf/yggdrasil_decision_forests/learner/gradient_boosted_trees/gradient_boosted_trees.cc:1520] \tnum-trees:590 train-loss:0.012768 train-accuracy:0.887537 valid-loss:0.064994 valid-accuracy:0.608144\n",
      "2023-04-06 22:06:35.623754: I external/ydf/yggdrasil_decision_forests/learner/gradient_boosted_trees/gradient_boosted_trees.cc:1520] \tnum-trees:605 train-loss:0.012716 train-accuracy:0.887875 valid-loss:0.064849 valid-accuracy:0.608548\n",
      "2023-04-06 22:07:05.750725: I external/ydf/yggdrasil_decision_forests/learner/gradient_boosted_trees/gradient_boosted_trees.cc:1520] \tnum-trees:620 train-loss:0.012661 train-accuracy:0.888360 valid-loss:0.064642 valid-accuracy:0.608928\n",
      "2023-04-06 22:07:37.733376: I external/ydf/yggdrasil_decision_forests/learner/gradient_boosted_trees/gradient_boosted_trees.cc:1520] \tnum-trees:636 train-loss:0.012595 train-accuracy:0.888941 valid-loss:0.064453 valid-accuracy:0.609383\n",
      "2023-04-06 22:08:08.391902: I external/ydf/yggdrasil_decision_forests/learner/gradient_boosted_trees/gradient_boosted_trees.cc:1520] \tnum-trees:651 train-loss:0.012555 train-accuracy:0.889422 valid-loss:0.064264 valid-accuracy:0.609585\n",
      "2023-04-06 22:08:38.966298: I external/ydf/yggdrasil_decision_forests/learner/gradient_boosted_trees/gradient_boosted_trees.cc:1520] \tnum-trees:666 train-loss:0.012515 train-accuracy:0.889817 valid-loss:0.064120 valid-accuracy:0.609863\n",
      "2023-04-06 22:09:09.095174: I external/ydf/yggdrasil_decision_forests/learner/gradient_boosted_trees/gradient_boosted_trees.cc:1520] \tnum-trees:681 train-loss:0.012480 train-accuracy:0.890160 valid-loss:0.064044 valid-accuracy:0.610066\n",
      "2023-04-06 22:09:39.335755: I external/ydf/yggdrasil_decision_forests/learner/gradient_boosted_trees/gradient_boosted_trees.cc:1520] \tnum-trees:696 train-loss:0.012442 train-accuracy:0.890464 valid-loss:0.063899 valid-accuracy:0.610470\n",
      "2023-04-06 22:10:09.677542: I external/ydf/yggdrasil_decision_forests/learner/gradient_boosted_trees/gradient_boosted_trees.cc:1520] \tnum-trees:711 train-loss:0.012408 train-accuracy:0.890724 valid-loss:0.063707 valid-accuracy:0.610824\n",
      "2023-04-06 22:10:41.529131: I external/ydf/yggdrasil_decision_forests/learner/gradient_boosted_trees/gradient_boosted_trees.cc:1520] \tnum-trees:727 train-loss:0.012362 train-accuracy:0.891147 valid-loss:0.063526 valid-accuracy:0.611305\n",
      "2023-04-06 22:11:13.389883: I external/ydf/yggdrasil_decision_forests/learner/gradient_boosted_trees/gradient_boosted_trees.cc:1520] \tnum-trees:743 train-loss:0.012311 train-accuracy:0.891539 valid-loss:0.063353 valid-accuracy:0.611811\n",
      "2023-04-06 22:11:45.182701: I external/ydf/yggdrasil_decision_forests/learner/gradient_boosted_trees/gradient_boosted_trees.cc:1520] \tnum-trees:759 train-loss:0.012274 train-accuracy:0.891836 valid-loss:0.063249 valid-accuracy:0.611887\n",
      "2023-04-06 22:12:15.273064: I external/ydf/yggdrasil_decision_forests/learner/gradient_boosted_trees/gradient_boosted_trees.cc:1520] \tnum-trees:774 train-loss:0.012249 train-accuracy:0.892059 valid-loss:0.063183 valid-accuracy:0.611861\n",
      "2023-04-06 22:12:45.297765: I external/ydf/yggdrasil_decision_forests/learner/gradient_boosted_trees/gradient_boosted_trees.cc:1520] \tnum-trees:789 train-loss:0.012216 train-accuracy:0.892398 valid-loss:0.063029 valid-accuracy:0.612064\n",
      "2023-04-06 22:13:15.360464: I external/ydf/yggdrasil_decision_forests/learner/gradient_boosted_trees/gradient_boosted_trees.cc:1520] \tnum-trees:804 train-loss:0.012193 train-accuracy:0.892561 valid-loss:0.062983 valid-accuracy:0.612114\n",
      "2023-04-06 22:13:45.768171: I external/ydf/yggdrasil_decision_forests/learner/gradient_boosted_trees/gradient_boosted_trees.cc:1520] \tnum-trees:819 train-loss:0.012147 train-accuracy:0.893045 valid-loss:0.062825 valid-accuracy:0.612494\n",
      "2023-04-06 22:14:17.865618: I external/ydf/yggdrasil_decision_forests/learner/gradient_boosted_trees/gradient_boosted_trees.cc:1520] \tnum-trees:835 train-loss:0.012115 train-accuracy:0.893303 valid-loss:0.062701 valid-accuracy:0.612721\n",
      "2023-04-06 22:14:47.915401: I external/ydf/yggdrasil_decision_forests/learner/gradient_boosted_trees/gradient_boosted_trees.cc:1520] \tnum-trees:850 train-loss:0.012083 train-accuracy:0.893637 valid-loss:0.062585 valid-accuracy:0.612999\n",
      "2023-04-06 22:15:17.925460: I external/ydf/yggdrasil_decision_forests/learner/gradient_boosted_trees/gradient_boosted_trees.cc:1520] \tnum-trees:865 train-loss:0.012033 train-accuracy:0.894153 valid-loss:0.062347 valid-accuracy:0.613354\n",
      "2023-04-06 22:15:48.151561: I external/ydf/yggdrasil_decision_forests/learner/gradient_boosted_trees/gradient_boosted_trees.cc:1520] \tnum-trees:880 train-loss:0.012008 train-accuracy:0.894336 valid-loss:0.062263 valid-accuracy:0.613455\n",
      "2023-04-06 22:15:56.186758: I external/ydf/yggdrasil_decision_forests/learner/gradient_boosted_trees/gradient_boosted_trees.cc:1541] Create a snapshot of the model at iteration 883\n",
      "2023-04-06 22:16:18.777179: I external/ydf/yggdrasil_decision_forests/learner/gradient_boosted_trees/gradient_boosted_trees.cc:1520] \tnum-trees:894 train-loss:0.011980 train-accuracy:0.894633 valid-loss:0.062174 valid-accuracy:0.613632\n",
      "2023-04-06 22:16:48.841107: I external/ydf/yggdrasil_decision_forests/learner/gradient_boosted_trees/gradient_boosted_trees.cc:1520] \tnum-trees:909 train-loss:0.011960 train-accuracy:0.894860 valid-loss:0.062116 valid-accuracy:0.613632\n",
      "2023-04-06 22:17:18.893756: I external/ydf/yggdrasil_decision_forests/learner/gradient_boosted_trees/gradient_boosted_trees.cc:1520] \tnum-trees:924 train-loss:0.011930 train-accuracy:0.895164 valid-loss:0.062007 valid-accuracy:0.614036\n",
      "2023-04-06 22:17:50.881145: I external/ydf/yggdrasil_decision_forests/learner/gradient_boosted_trees/gradient_boosted_trees.cc:1520] \tnum-trees:940 train-loss:0.011896 train-accuracy:0.895535 valid-loss:0.061825 valid-accuracy:0.614340\n",
      "2023-04-06 22:18:22.897570: I external/ydf/yggdrasil_decision_forests/learner/gradient_boosted_trees/gradient_boosted_trees.cc:1520] \tnum-trees:956 train-loss:0.011863 train-accuracy:0.895838 valid-loss:0.061630 valid-accuracy:0.614517\n",
      "2023-04-06 22:18:54.797316: I external/ydf/yggdrasil_decision_forests/learner/gradient_boosted_trees/gradient_boosted_trees.cc:1520] \tnum-trees:972 train-loss:0.011840 train-accuracy:0.896027 valid-loss:0.061574 valid-accuracy:0.614618\n",
      "2023-04-06 22:19:26.623873: I external/ydf/yggdrasil_decision_forests/learner/gradient_boosted_trees/gradient_boosted_trees.cc:1520] \tnum-trees:988 train-loss:0.011814 train-accuracy:0.896285 valid-loss:0.061519 valid-accuracy:0.614820\n",
      "2023-04-06 22:19:56.857587: I external/ydf/yggdrasil_decision_forests/learner/gradient_boosted_trees/gradient_boosted_trees.cc:1520] \tnum-trees:1003 train-loss:0.011797 train-accuracy:0.896413 valid-loss:0.061438 valid-accuracy:0.614896\n",
      "2023-04-06 22:20:28.755791: I external/ydf/yggdrasil_decision_forests/learner/gradient_boosted_trees/gradient_boosted_trees.cc:1520] \tnum-trees:1019 train-loss:0.011766 train-accuracy:0.896725 valid-loss:0.061328 valid-accuracy:0.615149\n",
      "2023-04-06 22:20:59.069361: I external/ydf/yggdrasil_decision_forests/learner/gradient_boosted_trees/gradient_boosted_trees.cc:1520] \tnum-trees:1034 train-loss:0.011747 train-accuracy:0.896933 valid-loss:0.061266 valid-accuracy:0.615352\n",
      "2023-04-06 22:21:29.133083: I external/ydf/yggdrasil_decision_forests/learner/gradient_boosted_trees/gradient_boosted_trees.cc:1520] \tnum-trees:1049 train-loss:0.011728 train-accuracy:0.897067 valid-loss:0.061227 valid-accuracy:0.615427\n",
      "2023-04-06 22:21:59.209770: I external/ydf/yggdrasil_decision_forests/learner/gradient_boosted_trees/gradient_boosted_trees.cc:1520] \tnum-trees:1064 train-loss:0.011705 train-accuracy:0.897275 valid-loss:0.061104 valid-accuracy:0.615680\n",
      "2023-04-06 22:22:30.890919: I external/ydf/yggdrasil_decision_forests/learner/gradient_boosted_trees/gradient_boosted_trees.cc:1520] \tnum-trees:1080 train-loss:0.011677 train-accuracy:0.897512 valid-loss:0.060938 valid-accuracy:0.615959\n",
      "2023-04-06 22:23:02.485853: I external/ydf/yggdrasil_decision_forests/learner/gradient_boosted_trees/gradient_boosted_trees.cc:1520] \tnum-trees:1096 train-loss:0.011655 train-accuracy:0.897709 valid-loss:0.060818 valid-accuracy:0.616136\n",
      "2023-04-06 22:23:33.301349: I external/ydf/yggdrasil_decision_forests/learner/gradient_boosted_trees/gradient_boosted_trees.cc:1520] \tnum-trees:1111 train-loss:0.011629 train-accuracy:0.897937 valid-loss:0.060729 valid-accuracy:0.616338\n",
      "2023-04-06 22:24:04.343259: I external/ydf/yggdrasil_decision_forests/learner/gradient_boosted_trees/gradient_boosted_trees.cc:1520] \tnum-trees:1126 train-loss:0.011616 train-accuracy:0.898042 valid-loss:0.060668 valid-accuracy:0.616439\n",
      "2023-04-06 22:24:35.353873: I external/ydf/yggdrasil_decision_forests/learner/gradient_boosted_trees/gradient_boosted_trees.cc:1520] \tnum-trees:1141 train-loss:0.011593 train-accuracy:0.898221 valid-loss:0.060576 valid-accuracy:0.616717\n",
      "2023-04-06 22:25:05.872250: I external/ydf/yggdrasil_decision_forests/learner/gradient_boosted_trees/gradient_boosted_trees.cc:1520] \tnum-trees:1156 train-loss:0.011573 train-accuracy:0.898347 valid-loss:0.060518 valid-accuracy:0.617046\n",
      "2023-04-06 22:25:35.881679: I external/ydf/yggdrasil_decision_forests/learner/gradient_boosted_trees/gradient_boosted_trees.cc:1520] \tnum-trees:1171 train-loss:0.011553 train-accuracy:0.898568 valid-loss:0.060463 valid-accuracy:0.617071\n",
      "2023-04-06 22:26:07.410398: I external/ydf/yggdrasil_decision_forests/learner/gradient_boosted_trees/gradient_boosted_trees.cc:1520] \tnum-trees:1187 train-loss:0.011533 train-accuracy:0.898719 valid-loss:0.060381 valid-accuracy:0.617071\n",
      "2023-04-06 22:26:37.427093: I external/ydf/yggdrasil_decision_forests/learner/gradient_boosted_trees/gradient_boosted_trees.cc:1520] \tnum-trees:1202 train-loss:0.011511 train-accuracy:0.898931 valid-loss:0.060307 valid-accuracy:0.617046\n",
      "2023-04-06 22:27:07.656679: I external/ydf/yggdrasil_decision_forests/learner/gradient_boosted_trees/gradient_boosted_trees.cc:1520] \tnum-trees:1217 train-loss:0.011496 train-accuracy:0.899085 valid-loss:0.060267 valid-accuracy:0.617147\n",
      "2023-04-06 22:27:39.336350: I external/ydf/yggdrasil_decision_forests/learner/gradient_boosted_trees/gradient_boosted_trees.cc:1520] \tnum-trees:1233 train-loss:0.011482 train-accuracy:0.899229 valid-loss:0.060185 valid-accuracy:0.617248\n",
      "2023-04-06 22:28:09.466547: I external/ydf/yggdrasil_decision_forests/learner/gradient_boosted_trees/gradient_boosted_trees.cc:1520] \tnum-trees:1248 train-loss:0.011467 train-accuracy:0.899341 valid-loss:0.060137 valid-accuracy:0.617501\n",
      "2023-04-06 22:28:41.350267: I external/ydf/yggdrasil_decision_forests/learner/gradient_boosted_trees/gradient_boosted_trees.cc:1520] \tnum-trees:1264 train-loss:0.011448 train-accuracy:0.899525 valid-loss:0.060053 valid-accuracy:0.617552\n",
      "2023-04-06 22:29:12.853768: I external/ydf/yggdrasil_decision_forests/learner/gradient_boosted_trees/gradient_boosted_trees.cc:1520] \tnum-trees:1280 train-loss:0.011427 train-accuracy:0.899715 valid-loss:0.060044 valid-accuracy:0.617653\n",
      "2023-04-06 22:29:44.872392: I external/ydf/yggdrasil_decision_forests/learner/gradient_boosted_trees/gradient_boosted_trees.cc:1520] \tnum-trees:1296 train-loss:0.011415 train-accuracy:0.899811 valid-loss:0.060039 valid-accuracy:0.617628\n",
      "2023-04-06 22:30:16.449640: I external/ydf/yggdrasil_decision_forests/learner/gradient_boosted_trees/gradient_boosted_trees.cc:1520] \tnum-trees:1312 train-loss:0.011394 train-accuracy:0.900031 valid-loss:0.059961 valid-accuracy:0.617830\n",
      "2023-04-06 22:30:48.166056: I external/ydf/yggdrasil_decision_forests/learner/gradient_boosted_trees/gradient_boosted_trees.cc:1520] \tnum-trees:1328 train-loss:0.011374 train-accuracy:0.900216 valid-loss:0.059873 valid-accuracy:0.617881\n",
      "2023-04-06 22:31:18.592092: I external/ydf/yggdrasil_decision_forests/learner/gradient_boosted_trees/gradient_boosted_trees.cc:1520] \tnum-trees:1343 train-loss:0.011360 train-accuracy:0.900349 valid-loss:0.059812 valid-accuracy:0.618083\n",
      "2023-04-06 22:31:50.530901: I external/ydf/yggdrasil_decision_forests/learner/gradient_boosted_trees/gradient_boosted_trees.cc:1520] \tnum-trees:1359 train-loss:0.011347 train-accuracy:0.900458 valid-loss:0.059776 valid-accuracy:0.618184\n",
      "2023-04-06 22:32:22.337838: I external/ydf/yggdrasil_decision_forests/learner/gradient_boosted_trees/gradient_boosted_trees.cc:1520] \tnum-trees:1375 train-loss:0.011331 train-accuracy:0.900587 valid-loss:0.059711 valid-accuracy:0.618386\n",
      "2023-04-06 22:32:53.860228: I external/ydf/yggdrasil_decision_forests/learner/gradient_boosted_trees/gradient_boosted_trees.cc:1520] \tnum-trees:1391 train-loss:0.011316 train-accuracy:0.900708 valid-loss:0.059655 valid-accuracy:0.618462\n",
      "2023-04-06 22:33:25.678122: I external/ydf/yggdrasil_decision_forests/learner/gradient_boosted_trees/gradient_boosted_trees.cc:1520] \tnum-trees:1407 train-loss:0.011303 train-accuracy:0.900841 valid-loss:0.059597 valid-accuracy:0.618614\n",
      "2023-04-06 22:33:55.745948: I external/ydf/yggdrasil_decision_forests/learner/gradient_boosted_trees/gradient_boosted_trees.cc:1520] \tnum-trees:1422 train-loss:0.011290 train-accuracy:0.900960 valid-loss:0.059566 valid-accuracy:0.618665\n",
      "2023-04-06 22:34:27.195613: I external/ydf/yggdrasil_decision_forests/learner/gradient_boosted_trees/gradient_boosted_trees.cc:1520] \tnum-trees:1438 train-loss:0.011272 train-accuracy:0.901098 valid-loss:0.059496 valid-accuracy:0.618791\n",
      "2023-04-06 22:34:58.866923: I external/ydf/yggdrasil_decision_forests/learner/gradient_boosted_trees/gradient_boosted_trees.cc:1520] \tnum-trees:1454 train-loss:0.011260 train-accuracy:0.901184 valid-loss:0.059464 valid-accuracy:0.618816\n",
      "2023-04-06 22:35:28.877997: I external/ydf/yggdrasil_decision_forests/learner/gradient_boosted_trees/gradient_boosted_trees.cc:1520] \tnum-trees:1469 train-loss:0.011240 train-accuracy:0.901357 valid-loss:0.059366 valid-accuracy:0.618766\n",
      "2023-04-06 22:35:59.129891: I external/ydf/yggdrasil_decision_forests/learner/gradient_boosted_trees/gradient_boosted_trees.cc:1520] \tnum-trees:1484 train-loss:0.011230 train-accuracy:0.901442 valid-loss:0.059298 valid-accuracy:0.618867\n",
      "2023-04-06 22:36:29.501744: I external/ydf/yggdrasil_decision_forests/learner/gradient_boosted_trees/gradient_boosted_trees.cc:1520] \tnum-trees:1499 train-loss:0.011215 train-accuracy:0.901593 valid-loss:0.059233 valid-accuracy:0.618918\n",
      "2023-04-06 22:36:59.599137: I external/ydf/yggdrasil_decision_forests/learner/gradient_boosted_trees/gradient_boosted_trees.cc:1520] \tnum-trees:1514 train-loss:0.011200 train-accuracy:0.901816 valid-loss:0.059200 valid-accuracy:0.619095\n",
      "2023-04-06 22:37:30.991755: I external/ydf/yggdrasil_decision_forests/learner/gradient_boosted_trees/gradient_boosted_trees.cc:1520] \tnum-trees:1529 train-loss:0.011188 train-accuracy:0.901941 valid-loss:0.059174 valid-accuracy:0.619221\n",
      "2023-04-06 22:38:01.243381: I external/ydf/yggdrasil_decision_forests/learner/gradient_boosted_trees/gradient_boosted_trees.cc:1520] \tnum-trees:1544 train-loss:0.011176 train-accuracy:0.902082 valid-loss:0.059073 valid-accuracy:0.619499\n",
      "2023-04-06 22:38:32.172835: I external/ydf/yggdrasil_decision_forests/learner/gradient_boosted_trees/gradient_boosted_trees.cc:1520] \tnum-trees:1559 train-loss:0.011160 train-accuracy:0.902280 valid-loss:0.059045 valid-accuracy:0.619600\n",
      "2023-04-06 22:39:02.414438: I external/ydf/yggdrasil_decision_forests/learner/gradient_boosted_trees/gradient_boosted_trees.cc:1520] \tnum-trees:1574 train-loss:0.011150 train-accuracy:0.902377 valid-loss:0.059037 valid-accuracy:0.619676\n",
      "2023-04-06 22:39:33.822027: I external/ydf/yggdrasil_decision_forests/learner/gradient_boosted_trees/gradient_boosted_trees.cc:1520] \tnum-trees:1590 train-loss:0.011127 train-accuracy:0.902623 valid-loss:0.058870 valid-accuracy:0.620005\n",
      "2023-04-06 22:40:05.407571: I external/ydf/yggdrasil_decision_forests/learner/gradient_boosted_trees/gradient_boosted_trees.cc:1520] \tnum-trees:1606 train-loss:0.011117 train-accuracy:0.902700 valid-loss:0.058836 valid-accuracy:0.620106\n",
      "2023-04-06 22:40:37.173313: I external/ydf/yggdrasil_decision_forests/learner/gradient_boosted_trees/gradient_boosted_trees.cc:1520] \tnum-trees:1622 train-loss:0.011101 train-accuracy:0.902836 valid-loss:0.058778 valid-accuracy:0.620182\n",
      "2023-04-06 22:41:09.050287: I external/ydf/yggdrasil_decision_forests/learner/gradient_boosted_trees/gradient_boosted_trees.cc:1520] \tnum-trees:1638 train-loss:0.011094 train-accuracy:0.902898 valid-loss:0.058748 valid-accuracy:0.620384\n",
      "2023-04-06 22:41:40.989475: I external/ydf/yggdrasil_decision_forests/learner/gradient_boosted_trees/gradient_boosted_trees.cc:1520] \tnum-trees:1654 train-loss:0.011083 train-accuracy:0.902979 valid-loss:0.058704 valid-accuracy:0.620486\n",
      "2023-04-06 22:42:12.710061: I external/ydf/yggdrasil_decision_forests/learner/gradient_boosted_trees/gradient_boosted_trees.cc:1520] \tnum-trees:1670 train-loss:0.011068 train-accuracy:0.903120 valid-loss:0.058628 valid-accuracy:0.620637\n",
      "2023-04-06 22:42:44.560334: I external/ydf/yggdrasil_decision_forests/learner/gradient_boosted_trees/gradient_boosted_trees.cc:1520] \tnum-trees:1686 train-loss:0.011051 train-accuracy:0.903287 valid-loss:0.058608 valid-accuracy:0.620764\n",
      "2023-04-06 22:43:16.341872: I external/ydf/yggdrasil_decision_forests/learner/gradient_boosted_trees/gradient_boosted_trees.cc:1520] \tnum-trees:1702 train-loss:0.011041 train-accuracy:0.903395 valid-loss:0.058572 valid-accuracy:0.620941\n",
      "2023-04-06 22:43:46.528258: I external/ydf/yggdrasil_decision_forests/learner/gradient_boosted_trees/gradient_boosted_trees.cc:1520] \tnum-trees:1717 train-loss:0.011030 train-accuracy:0.903516 valid-loss:0.058535 valid-accuracy:0.621093\n",
      "2023-04-06 22:44:18.057322: I external/ydf/yggdrasil_decision_forests/learner/gradient_boosted_trees/gradient_boosted_trees.cc:1520] \tnum-trees:1733 train-loss:0.011021 train-accuracy:0.903617 valid-loss:0.058506 valid-accuracy:0.621143\n",
      "2023-04-06 22:44:49.404798: I external/ydf/yggdrasil_decision_forests/learner/gradient_boosted_trees/gradient_boosted_trees.cc:1520] \tnum-trees:1749 train-loss:0.011007 train-accuracy:0.903719 valid-loss:0.058479 valid-accuracy:0.621168\n",
      "2023-04-06 22:45:21.307448: I external/ydf/yggdrasil_decision_forests/learner/gradient_boosted_trees/gradient_boosted_trees.cc:1520] \tnum-trees:1765 train-loss:0.010998 train-accuracy:0.903789 valid-loss:0.058446 valid-accuracy:0.621244\n",
      "2023-04-06 22:45:53.175081: I external/ydf/yggdrasil_decision_forests/learner/gradient_boosted_trees/gradient_boosted_trees.cc:1520] \tnum-trees:1781 train-loss:0.010988 train-accuracy:0.903869 valid-loss:0.058423 valid-accuracy:0.621371\n",
      "2023-04-06 22:45:59.206096: I external/ydf/yggdrasil_decision_forests/learner/gradient_boosted_trees/gradient_boosted_trees.cc:1541] Create a snapshot of the model at iteration 1783\n",
      "2023-04-06 22:46:24.958729: I external/ydf/yggdrasil_decision_forests/learner/gradient_boosted_trees/gradient_boosted_trees.cc:1520] \tnum-trees:1794 train-loss:0.010983 train-accuracy:0.903914 valid-loss:0.058399 valid-accuracy:0.621396\n",
      "2023-04-06 22:46:55.118561: I external/ydf/yggdrasil_decision_forests/learner/gradient_boosted_trees/gradient_boosted_trees.cc:1520] \tnum-trees:1809 train-loss:0.010974 train-accuracy:0.904014 valid-loss:0.058322 valid-accuracy:0.621497\n",
      "2023-04-06 22:47:26.862853: I external/ydf/yggdrasil_decision_forests/learner/gradient_boosted_trees/gradient_boosted_trees.cc:1520] \tnum-trees:1825 train-loss:0.010963 train-accuracy:0.904117 valid-loss:0.058271 valid-accuracy:0.621522\n",
      "2023-04-06 22:47:58.332849: I external/ydf/yggdrasil_decision_forests/learner/gradient_boosted_trees/gradient_boosted_trees.cc:1520] \tnum-trees:1841 train-loss:0.010950 train-accuracy:0.904278 valid-loss:0.058184 valid-accuracy:0.621548\n",
      "2023-04-06 22:48:29.656169: I external/ydf/yggdrasil_decision_forests/learner/gradient_boosted_trees/gradient_boosted_trees.cc:1520] \tnum-trees:1857 train-loss:0.010937 train-accuracy:0.904485 valid-loss:0.058122 valid-accuracy:0.621725\n",
      "2023-04-06 22:49:01.238060: I external/ydf/yggdrasil_decision_forests/learner/gradient_boosted_trees/gradient_boosted_trees.cc:1520] \tnum-trees:1873 train-loss:0.010925 train-accuracy:0.904609 valid-loss:0.058095 valid-accuracy:0.621801\n",
      "2023-04-06 22:49:32.601429: I external/ydf/yggdrasil_decision_forests/learner/gradient_boosted_trees/gradient_boosted_trees.cc:1520] \tnum-trees:1889 train-loss:0.010915 train-accuracy:0.904737 valid-loss:0.058065 valid-accuracy:0.622054\n",
      "2023-04-06 22:50:03.841124: I external/ydf/yggdrasil_decision_forests/learner/gradient_boosted_trees/gradient_boosted_trees.cc:1520] \tnum-trees:1905 train-loss:0.010899 train-accuracy:0.904816 valid-loss:0.058025 valid-accuracy:0.622256\n",
      "2023-04-06 22:50:35.344869: I external/ydf/yggdrasil_decision_forests/learner/gradient_boosted_trees/gradient_boosted_trees.cc:1520] \tnum-trees:1921 train-loss:0.010890 train-accuracy:0.904899 valid-loss:0.058001 valid-accuracy:0.622357\n",
      "2023-04-06 22:51:06.757593: I external/ydf/yggdrasil_decision_forests/learner/gradient_boosted_trees/gradient_boosted_trees.cc:1520] \tnum-trees:1937 train-loss:0.010878 train-accuracy:0.904990 valid-loss:0.057974 valid-accuracy:0.622382\n",
      "2023-04-06 22:51:38.294842: I external/ydf/yggdrasil_decision_forests/learner/gradient_boosted_trees/gradient_boosted_trees.cc:1520] \tnum-trees:1953 train-loss:0.010865 train-accuracy:0.905102 valid-loss:0.057941 valid-accuracy:0.622357\n",
      "2023-04-06 22:52:09.596884: I external/ydf/yggdrasil_decision_forests/learner/gradient_boosted_trees/gradient_boosted_trees.cc:1520] \tnum-trees:1969 train-loss:0.010845 train-accuracy:0.905276 valid-loss:0.057895 valid-accuracy:0.622433\n",
      "2023-04-06 22:52:41.074232: I external/ydf/yggdrasil_decision_forests/learner/gradient_boosted_trees/gradient_boosted_trees.cc:1520] \tnum-trees:1985 train-loss:0.010833 train-accuracy:0.905382 valid-loss:0.057834 valid-accuracy:0.622635\n",
      "2023-04-06 22:53:11.000337: I external/ydf/yggdrasil_decision_forests/learner/gradient_boosted_trees/gradient_boosted_trees.cc:1518] \tnum-trees:2000 train-loss:0.010823 train-accuracy:0.905441 valid-loss:0.057796 valid-accuracy:0.622661\n",
      "2023-04-06 22:53:11.001994: I external/ydf/yggdrasil_decision_forests/learner/gradient_boosted_trees/gradient_boosted_trees.cc:1568] Create final snapshot of the model at iteration 2000\n",
      "2023-04-06 22:53:18.844714: I external/ydf/yggdrasil_decision_forests/learner/gradient_boosted_trees/gradient_boosted_trees.cc:247] Truncates the model to 2000 tree(s) i.e. 2000  iteration(s).\n",
      "2023-04-06 22:53:18.844766: I external/ydf/yggdrasil_decision_forests/learner/gradient_boosted_trees/gradient_boosted_trees.cc:309] Final model num-trees:2000 valid-loss:0.057796 valid-accuracy:0.622661\n",
      "[INFO 2023-04-06T22:53:38.743557+01:00 kernel.cc:1214] Loading model from path /var/folders/80/5mgc74450p1b9jxkl3fd7z780000gn/T/tmp0k2k4sej/model/ with prefix e98683212a154255\n",
      "[INFO 2023-04-06T22:53:56.354377+01:00 decision_forest.cc:661] Model loaded with 2000 root(s), 13197502 node(s), and 18 input feature(s).\n",
      "[INFO 2023-04-06T22:53:56.354531+01:00 abstract_model.cc:1312] Engine \"GradientBoostedTreesGeneric\" built\n",
      "[INFO 2023-04-06T22:53:56.354546+01:00 kernel.cc:1046] Use fast generic engine\n",
      "2023-04-06 22:53:58.388805: I tensorflow/core/grappler/optimizers/custom_graph_optimizer_registry.cc:114] Plugin optimizer for device_type GPU is enabled.\n",
      "2023-04-06 22:53:59.125853: I tensorflow/core/grappler/optimizers/custom_graph_optimizer_registry.cc:114] Plugin optimizer for device_type GPU is enabled.\n",
      "2023-04-06 22:54:28.839188: I tensorflow/core/grappler/optimizers/custom_graph_optimizer_registry.cc:114] Plugin optimizer for device_type GPU is enabled.\n"
     ]
    },
    {
     "name": "stdout",
     "output_type": "stream",
     "text": [
      "40/40 [==============================] - 31s 770ms/step\n"
     ]
    },
    {
     "name": "stderr",
     "output_type": "stream",
     "text": [
      "\u001b[32m[I 2023-04-06 22:54:59,592]\u001b[0m Trial 10 finished with value: 0.9021824826368565 and parameters: {'max_depth': 19, 'l1_regularization': 19.435983089441713, 'l2_regularization': 0.07031210401945387, 'growing_strategy': 'LOCAL', 'loss': 'BINARY_FOCAL_LOSS', 'min_examples': 115, 'num_candidate_attributes_ratio': 0.05135402217651569, 'shrinkage': 0.05786853176289719, 'discretize_numerical_features': False, 'num_discretized_numerical_bins': 1000, 'focal_loss_gamma': 3.6309104746517584}. Best is trial 4 with value: 0.9760002028733349.\u001b[0m\n"
     ]
    },
    {
     "name": "stdout",
     "output_type": "stream",
     "text": [
      "Use /var/folders/80/5mgc74450p1b9jxkl3fd7z780000gn/T/tmp7tylgmvz as temporary training directory\n"
     ]
    },
    {
     "name": "stderr",
     "output_type": "stream",
     "text": [
      "2023-04-06 22:54:59.756358: I tensorflow/core/grappler/optimizers/custom_graph_optimizer_registry.cc:114] Plugin optimizer for device_type GPU is enabled.\n"
     ]
    },
    {
     "name": "stdout",
     "output_type": "stream",
     "text": [
      "Num validation examples: tf.Tensor(39540, shape=(), dtype=int32)\n"
     ]
    },
    {
     "name": "stderr",
     "output_type": "stream",
     "text": [
      "2023-04-06 22:55:02.328703: I tensorflow/core/grappler/optimizers/custom_graph_optimizer_registry.cc:114] Plugin optimizer for device_type GPU is enabled.\n",
      "2023-04-06 22:55:02.799786: W external/ydf/yggdrasil_decision_forests/learner/gradient_boosted_trees/gradient_boosted_trees.cc:1790] \"goss_alpha\" set but \"sampling_method\" not equal to \"GOSS\".\n",
      "2023-04-06 22:55:02.799805: W external/ydf/yggdrasil_decision_forests/learner/gradient_boosted_trees/gradient_boosted_trees.cc:1800] \"goss_beta\" set but \"sampling_method\" not equal to \"GOSS\".\n",
      "2023-04-06 22:55:02.799808: W external/ydf/yggdrasil_decision_forests/learner/gradient_boosted_trees/gradient_boosted_trees.cc:1814] \"selective_gradient_boosting_ratio\" set but \"sampling_method\" not equal to \"SELGB\".\n",
      "2023-04-06 22:55:02.800098: I external/ydf/yggdrasil_decision_forests/learner/gradient_boosted_trees/gradient_boosted_trees.cc:1077] Training gradient boosted tree on 802301 example(s) and 18 feature(s).\n",
      "2023-04-06 22:55:02.800199: I external/ydf/yggdrasil_decision_forests/learner/gradient_boosted_trees/gradient_boosted_trees.cc:1120] 802301 examples used for training and 39540 examples used for validation\n",
      "2023-04-06 22:55:04.152045: I external/ydf/yggdrasil_decision_forests/learner/gradient_boosted_trees/gradient_boosted_trees.cc:1518] \tnum-trees:1 train-loss:0.033433 train-accuracy:0.827721 valid-loss:0.098423 valid-accuracy:0.579514\n",
      "2023-04-06 22:55:05.434608: I external/ydf/yggdrasil_decision_forests/learner/gradient_boosted_trees/gradient_boosted_trees.cc:1520] \tnum-trees:2 train-loss:0.022394 train-accuracy:0.827721 valid-loss:0.072487 valid-accuracy:0.579514\n",
      "2023-04-06 22:55:36.503194: I external/ydf/yggdrasil_decision_forests/learner/gradient_boosted_trees/gradient_boosted_trees.cc:1520] \tnum-trees:27 train-loss:0.008757 train-accuracy:0.956939 valid-loss:0.037457 valid-accuracy:0.776631\n",
      "2023-04-06 22:56:07.676548: I external/ydf/yggdrasil_decision_forests/learner/gradient_boosted_trees/gradient_boosted_trees.cc:1520] \tnum-trees:53 train-loss:0.008300 train-accuracy:0.959125 valid-loss:0.038407 valid-accuracy:0.775746\n",
      "2023-04-06 22:56:33.773512: I external/ydf/yggdrasil_decision_forests/learner/gradient_boosted_trees/gradient_boosted_trees.cc:1568] Create final snapshot of the model at iteration 74\n",
      "2023-04-06 22:56:33.786002: I external/ydf/yggdrasil_decision_forests/learner/gradient_boosted_trees/gradient_boosted_trees.cc:247] Truncates the model to 25 tree(s) i.e. 25  iteration(s).\n",
      "2023-04-06 22:56:33.790108: I external/ydf/yggdrasil_decision_forests/learner/gradient_boosted_trees/gradient_boosted_trees.cc:309] Final model num-trees:25 valid-loss:0.037168 valid-accuracy:0.777390\n",
      "[INFO 2023-04-06T22:56:33.814191+01:00 kernel.cc:1214] Loading model from path /var/folders/80/5mgc74450p1b9jxkl3fd7z780000gn/T/tmp7tylgmvz/model/ with prefix b9a332f934194bd1\n",
      "[INFO 2023-04-06T22:56:33.837944+01:00 decision_forest.cc:661] Model loaded with 25 root(s), 19419 node(s), and 18 input feature(s).\n",
      "[INFO 2023-04-06T22:56:33.837958+01:00 abstract_model.cc:1312] Engine \"GradientBoostedTreesGeneric\" built\n",
      "[INFO 2023-04-06T22:56:33.837971+01:00 kernel.cc:1046] Use fast generic engine\n",
      "2023-04-06 22:56:33.941633: I tensorflow/core/grappler/optimizers/custom_graph_optimizer_registry.cc:114] Plugin optimizer for device_type GPU is enabled.\n",
      "2023-04-06 22:56:33.997295: I tensorflow/core/grappler/optimizers/custom_graph_optimizer_registry.cc:114] Plugin optimizer for device_type GPU is enabled.\n",
      "2023-04-06 22:56:34.192962: I tensorflow/core/grappler/optimizers/custom_graph_optimizer_registry.cc:114] Plugin optimizer for device_type GPU is enabled.\n"
     ]
    },
    {
     "name": "stdout",
     "output_type": "stream",
     "text": [
      "40/40 [==============================] - 0s 5ms/step\n"
     ]
    },
    {
     "name": "stderr",
     "output_type": "stream",
     "text": [
      "\u001b[32m[I 2023-04-06 22:56:34,408]\u001b[0m Trial 11 finished with value: 0.9755032468022613 and parameters: {'max_depth': 16, 'l1_regularization': 9.839906997187663, 'l2_regularization': 12.720505518973921, 'growing_strategy': 'LOCAL', 'loss': 'BINARY_FOCAL_LOSS', 'min_examples': 950, 'num_candidate_attributes_ratio': 0.5910411130594388, 'shrinkage': 0.3892004535597733, 'discretize_numerical_features': False, 'num_discretized_numerical_bins': 710, 'focal_loss_gamma': 2.859251021781139}. Best is trial 4 with value: 0.9760002028733349.\u001b[0m\n"
     ]
    },
    {
     "name": "stdout",
     "output_type": "stream",
     "text": [
      "Use /var/folders/80/5mgc74450p1b9jxkl3fd7z780000gn/T/tmp0tmdh7jh as temporary training directory\n"
     ]
    },
    {
     "name": "stderr",
     "output_type": "stream",
     "text": [
      "2023-04-06 22:56:34.541819: I tensorflow/core/grappler/optimizers/custom_graph_optimizer_registry.cc:114] Plugin optimizer for device_type GPU is enabled.\n"
     ]
    },
    {
     "name": "stdout",
     "output_type": "stream",
     "text": [
      "Num validation examples: tf.Tensor(39540, shape=(), dtype=int32)\n"
     ]
    },
    {
     "name": "stderr",
     "output_type": "stream",
     "text": [
      "2023-04-06 22:56:37.115811: I tensorflow/core/grappler/optimizers/custom_graph_optimizer_registry.cc:114] Plugin optimizer for device_type GPU is enabled.\n",
      "2023-04-06 22:56:37.581196: W external/ydf/yggdrasil_decision_forests/learner/gradient_boosted_trees/gradient_boosted_trees.cc:1790] \"goss_alpha\" set but \"sampling_method\" not equal to \"GOSS\".\n",
      "2023-04-06 22:56:37.581222: W external/ydf/yggdrasil_decision_forests/learner/gradient_boosted_trees/gradient_boosted_trees.cc:1800] \"goss_beta\" set but \"sampling_method\" not equal to \"GOSS\".\n",
      "2023-04-06 22:56:37.581225: W external/ydf/yggdrasil_decision_forests/learner/gradient_boosted_trees/gradient_boosted_trees.cc:1814] \"selective_gradient_boosting_ratio\" set but \"sampling_method\" not equal to \"SELGB\".\n",
      "2023-04-06 22:56:37.581439: I external/ydf/yggdrasil_decision_forests/learner/gradient_boosted_trees/gradient_boosted_trees.cc:1077] Training gradient boosted tree on 802301 example(s) and 18 feature(s).\n",
      "2023-04-06 22:56:37.581527: I external/ydf/yggdrasil_decision_forests/learner/gradient_boosted_trees/gradient_boosted_trees.cc:1120] 802301 examples used for training and 39540 examples used for validation\n",
      "2023-04-06 22:56:38.914455: I external/ydf/yggdrasil_decision_forests/learner/gradient_boosted_trees/gradient_boosted_trees.cc:1518] \tnum-trees:1 train-loss:0.028590 train-accuracy:0.827721 valid-loss:0.074280 valid-accuracy:0.579514\n",
      "2023-04-06 22:56:40.168901: I external/ydf/yggdrasil_decision_forests/learner/gradient_boosted_trees/gradient_boosted_trees.cc:1520] \tnum-trees:2 train-loss:0.019260 train-accuracy:0.827721 valid-loss:0.053465 valid-accuracy:0.579514\n",
      "2023-04-06 22:57:11.317283: I external/ydf/yggdrasil_decision_forests/learner/gradient_boosted_trees/gradient_boosted_trees.cc:1520] \tnum-trees:27 train-loss:0.008239 train-accuracy:0.957026 valid-loss:0.031298 valid-accuracy:0.797269\n",
      "2023-04-06 22:57:42.124544: I external/ydf/yggdrasil_decision_forests/learner/gradient_boosted_trees/gradient_boosted_trees.cc:1520] \tnum-trees:53 train-loss:0.007729 train-accuracy:0.959671 valid-loss:0.032392 valid-accuracy:0.794284\n",
      "2023-04-06 22:58:05.759733: I external/ydf/yggdrasil_decision_forests/learner/gradient_boosted_trees/gradient_boosted_trees.cc:1568] Create final snapshot of the model at iteration 72\n",
      "2023-04-06 22:58:05.771062: I external/ydf/yggdrasil_decision_forests/learner/gradient_boosted_trees/gradient_boosted_trees.cc:247] Truncates the model to 23 tree(s) i.e. 23  iteration(s).\n",
      "2023-04-06 22:58:05.774508: I external/ydf/yggdrasil_decision_forests/learner/gradient_boosted_trees/gradient_boosted_trees.cc:309] Final model num-trees:23 valid-loss:0.031056 valid-accuracy:0.796611\n",
      "[INFO 2023-04-06T22:58:05.79692+01:00 kernel.cc:1214] Loading model from path /var/folders/80/5mgc74450p1b9jxkl3fd7z780000gn/T/tmp0tmdh7jh/model/ with prefix fdaf8855b155412d\n",
      "[INFO 2023-04-06T22:58:05.820098+01:00 decision_forest.cc:661] Model loaded with 23 root(s), 18771 node(s), and 18 input feature(s).\n",
      "[INFO 2023-04-06T22:58:05.820115+01:00 abstract_model.cc:1312] Engine \"GradientBoostedTreesGeneric\" built\n",
      "[INFO 2023-04-06T22:58:05.820128+01:00 kernel.cc:1046] Use fast generic engine\n",
      "2023-04-06 22:58:05.929043: I tensorflow/core/grappler/optimizers/custom_graph_optimizer_registry.cc:114] Plugin optimizer for device_type GPU is enabled.\n",
      "2023-04-06 22:58:05.983291: I tensorflow/core/grappler/optimizers/custom_graph_optimizer_registry.cc:114] Plugin optimizer for device_type GPU is enabled.\n",
      "2023-04-06 22:58:06.176490: I tensorflow/core/grappler/optimizers/custom_graph_optimizer_registry.cc:114] Plugin optimizer for device_type GPU is enabled.\n"
     ]
    },
    {
     "name": "stdout",
     "output_type": "stream",
     "text": [
      "40/40 [==============================] - 0s 5ms/step\n"
     ]
    },
    {
     "name": "stderr",
     "output_type": "stream",
     "text": [
      "\u001b[32m[I 2023-04-06 22:58:06,391]\u001b[0m Trial 12 finished with value: 0.9748461213648998 and parameters: {'max_depth': 16, 'l1_regularization': 8.679490290890763, 'l2_regularization': 5.967977965821355, 'growing_strategy': 'LOCAL', 'loss': 'BINARY_FOCAL_LOSS', 'min_examples': 1000, 'num_candidate_attributes_ratio': 0.5427607203561576, 'shrinkage': 0.4218897375860899, 'discretize_numerical_features': False, 'num_discretized_numerical_bins': 910, 'focal_loss_gamma': 2.948963794206952}. Best is trial 4 with value: 0.9760002028733349.\u001b[0m\n"
     ]
    },
    {
     "name": "stdout",
     "output_type": "stream",
     "text": [
      "Use /var/folders/80/5mgc74450p1b9jxkl3fd7z780000gn/T/tmp7lqnwqv3 as temporary training directory\n"
     ]
    },
    {
     "name": "stderr",
     "output_type": "stream",
     "text": [
      "2023-04-06 22:58:06.526680: I tensorflow/core/grappler/optimizers/custom_graph_optimizer_registry.cc:114] Plugin optimizer for device_type GPU is enabled.\n"
     ]
    },
    {
     "name": "stdout",
     "output_type": "stream",
     "text": [
      "Num validation examples: tf.Tensor(39540, shape=(), dtype=int32)\n"
     ]
    },
    {
     "name": "stderr",
     "output_type": "stream",
     "text": [
      "2023-04-06 22:58:09.113332: I tensorflow/core/grappler/optimizers/custom_graph_optimizer_registry.cc:114] Plugin optimizer for device_type GPU is enabled.\n",
      "2023-04-06 22:58:09.580810: W external/ydf/yggdrasil_decision_forests/learner/gradient_boosted_trees/gradient_boosted_trees.cc:1790] \"goss_alpha\" set but \"sampling_method\" not equal to \"GOSS\".\n",
      "2023-04-06 22:58:09.580823: W external/ydf/yggdrasil_decision_forests/learner/gradient_boosted_trees/gradient_boosted_trees.cc:1800] \"goss_beta\" set but \"sampling_method\" not equal to \"GOSS\".\n",
      "2023-04-06 22:58:09.580826: W external/ydf/yggdrasil_decision_forests/learner/gradient_boosted_trees/gradient_boosted_trees.cc:1814] \"selective_gradient_boosting_ratio\" set but \"sampling_method\" not equal to \"SELGB\".\n",
      "2023-04-06 22:58:09.581048: I external/ydf/yggdrasil_decision_forests/learner/gradient_boosted_trees/gradient_boosted_trees.cc:1077] Training gradient boosted tree on 802301 example(s) and 18 feature(s).\n",
      "2023-04-06 22:58:09.581129: I external/ydf/yggdrasil_decision_forests/learner/gradient_boosted_trees/gradient_boosted_trees.cc:1120] 802301 examples used for training and 39540 examples used for validation\n",
      "2023-04-06 22:58:10.943647: I external/ydf/yggdrasil_decision_forests/learner/gradient_boosted_trees/gradient_boosted_trees.cc:1518] \tnum-trees:1 train-loss:0.033934 train-accuracy:0.827721 valid-loss:0.093925 valid-accuracy:0.579514\n",
      "2023-04-06 22:58:12.275917: I external/ydf/yggdrasil_decision_forests/learner/gradient_boosted_trees/gradient_boosted_trees.cc:1520] \tnum-trees:2 train-loss:0.024079 train-accuracy:0.827721 valid-loss:0.070245 valid-accuracy:0.579514\n",
      "2023-04-06 22:58:43.450946: I external/ydf/yggdrasil_decision_forests/learner/gradient_boosted_trees/gradient_boosted_trees.cc:1520] \tnum-trees:24 train-loss:0.011084 train-accuracy:0.957339 valid-loss:0.044121 valid-accuracy:0.790769\n",
      "2023-04-06 22:59:13.621253: I external/ydf/yggdrasil_decision_forests/learner/gradient_boosted_trees/gradient_boosted_trees.cc:1520] \tnum-trees:45 train-loss:0.010227 train-accuracy:0.960718 valid-loss:0.044689 valid-accuracy:0.789251\n",
      "2023-04-06 22:59:41.015036: I external/ydf/yggdrasil_decision_forests/learner/gradient_boosted_trees/gradient_boosted_trees.cc:1568] Create final snapshot of the model at iteration 63\n",
      "2023-04-06 22:59:41.032787: I external/ydf/yggdrasil_decision_forests/learner/gradient_boosted_trees/gradient_boosted_trees.cc:247] Truncates the model to 14 tree(s) i.e. 14  iteration(s).\n",
      "2023-04-06 22:59:41.041187: I external/ydf/yggdrasil_decision_forests/learner/gradient_boosted_trees/gradient_boosted_trees.cc:309] Final model num-trees:14 valid-loss:0.043468 valid-accuracy:0.785458\n",
      "[INFO 2023-04-06T22:59:41.061204+01:00 kernel.cc:1214] Loading model from path /var/folders/80/5mgc74450p1b9jxkl3fd7z780000gn/T/tmp7lqnwqv3/model/ with prefix 98042d60970b4fa3\n",
      "[INFO 2023-04-06T22:59:41.080966+01:00 decision_forest.cc:661] Model loaded with 14 root(s), 16068 node(s), and 18 input feature(s).\n",
      "[INFO 2023-04-06T22:59:41.080982+01:00 abstract_model.cc:1312] Engine \"GradientBoostedTreesGeneric\" built\n",
      "[INFO 2023-04-06T22:59:41.080993+01:00 kernel.cc:1046] Use fast generic engine\n",
      "2023-04-06 22:59:41.182715: I tensorflow/core/grappler/optimizers/custom_graph_optimizer_registry.cc:114] Plugin optimizer for device_type GPU is enabled.\n"
     ]
    },
    {
     "name": "stdout",
     "output_type": "stream",
     "text": [
      " 1/40 [..............................] - ETA: 1s"
     ]
    },
    {
     "name": "stderr",
     "output_type": "stream",
     "text": [
      "2023-04-06 22:59:41.237616: I tensorflow/core/grappler/optimizers/custom_graph_optimizer_registry.cc:114] Plugin optimizer for device_type GPU is enabled.\n",
      "2023-04-06 22:59:41.396200: I tensorflow/core/grappler/optimizers/custom_graph_optimizer_registry.cc:114] Plugin optimizer for device_type GPU is enabled.\n"
     ]
    },
    {
     "name": "stdout",
     "output_type": "stream",
     "text": [
      "40/40 [==============================] - 0s 4ms/step\n"
     ]
    },
    {
     "name": "stderr",
     "output_type": "stream",
     "text": [
      "\u001b[32m[I 2023-04-06 22:59:41,577]\u001b[0m Trial 13 finished with value: 0.9733232434615064 and parameters: {'max_depth': 20, 'l1_regularization': 9.697265966098788, 'l2_regularization': 11.913910178968186, 'growing_strategy': 'LOCAL', 'loss': 'BINARY_FOCAL_LOSS', 'min_examples': 990, 'num_candidate_attributes_ratio': 0.5750762988455762, 'shrinkage': 0.3998167113653954, 'discretize_numerical_features': False, 'num_discretized_numerical_bins': 730, 'focal_loss_gamma': 2.495137677182648}. Best is trial 4 with value: 0.9760002028733349.\u001b[0m\n"
     ]
    },
    {
     "name": "stdout",
     "output_type": "stream",
     "text": [
      "Use /var/folders/80/5mgc74450p1b9jxkl3fd7z780000gn/T/tmp1byodep8 as temporary training directory\n"
     ]
    },
    {
     "name": "stderr",
     "output_type": "stream",
     "text": [
      "2023-04-06 22:59:41.707733: I tensorflow/core/grappler/optimizers/custom_graph_optimizer_registry.cc:114] Plugin optimizer for device_type GPU is enabled.\n"
     ]
    },
    {
     "name": "stdout",
     "output_type": "stream",
     "text": [
      "Num validation examples: tf.Tensor(39540, shape=(), dtype=int32)\n"
     ]
    },
    {
     "name": "stderr",
     "output_type": "stream",
     "text": [
      "2023-04-06 22:59:44.312488: I tensorflow/core/grappler/optimizers/custom_graph_optimizer_registry.cc:114] Plugin optimizer for device_type GPU is enabled.\n",
      "2023-04-06 22:59:44.785677: W external/ydf/yggdrasil_decision_forests/learner/gradient_boosted_trees/gradient_boosted_trees.cc:1790] \"goss_alpha\" set but \"sampling_method\" not equal to \"GOSS\".\n",
      "2023-04-06 22:59:44.785692: W external/ydf/yggdrasil_decision_forests/learner/gradient_boosted_trees/gradient_boosted_trees.cc:1800] \"goss_beta\" set but \"sampling_method\" not equal to \"GOSS\".\n",
      "2023-04-06 22:59:44.785696: W external/ydf/yggdrasil_decision_forests/learner/gradient_boosted_trees/gradient_boosted_trees.cc:1814] \"selective_gradient_boosting_ratio\" set but \"sampling_method\" not equal to \"SELGB\".\n",
      "2023-04-06 22:59:44.785965: I external/ydf/yggdrasil_decision_forests/learner/gradient_boosted_trees/gradient_boosted_trees.cc:1077] Training gradient boosted tree on 802301 example(s) and 18 feature(s).\n",
      "2023-04-06 22:59:44.786050: I external/ydf/yggdrasil_decision_forests/learner/gradient_boosted_trees/gradient_boosted_trees.cc:1120] 802301 examples used for training and 39540 examples used for validation\n",
      "2023-04-06 22:59:44.993761: I external/ydf/yggdrasil_decision_forests/learner/gradient_boosted_trees/gradient_boosted_trees.cc:1518] \tnum-trees:1 train-loss:0.020969 train-accuracy:0.827721 valid-loss:0.047046 valid-accuracy:0.579514\n",
      "2023-04-06 22:59:45.120689: I external/ydf/yggdrasil_decision_forests/learner/gradient_boosted_trees/gradient_boosted_trees.cc:1520] \tnum-trees:2 train-loss:0.016083 train-accuracy:0.827721 valid-loss:0.034842 valid-accuracy:0.579514\n",
      "2023-04-06 23:00:15.198710: I external/ydf/yggdrasil_decision_forests/learner/gradient_boosted_trees/gradient_boosted_trees.cc:1520] \tnum-trees:236 train-loss:0.008289 train-accuracy:0.929685 valid-loss:0.019113 valid-accuracy:0.756120\n",
      "2023-04-06 23:00:45.321036: I external/ydf/yggdrasil_decision_forests/learner/gradient_boosted_trees/gradient_boosted_trees.cc:1520] \tnum-trees:471 train-loss:0.007600 train-accuracy:0.934157 valid-loss:0.017516 valid-accuracy:0.783005\n",
      "2023-04-06 23:01:15.367221: I external/ydf/yggdrasil_decision_forests/learner/gradient_boosted_trees/gradient_boosted_trees.cc:1520] \tnum-trees:706 train-loss:0.007296 train-accuracy:0.935454 valid-loss:0.016855 valid-accuracy:0.794841\n",
      "2023-04-06 23:01:43.212603: I external/ydf/yggdrasil_decision_forests/learner/gradient_boosted_trees/gradient_boosted_trees.cc:1568] Create final snapshot of the model at iteration 921\n",
      "2023-04-06 23:01:43.214137: I external/ydf/yggdrasil_decision_forests/learner/gradient_boosted_trees/gradient_boosted_trees.cc:247] Truncates the model to 872 tree(s) i.e. 872  iteration(s).\n",
      "2023-04-06 23:01:43.214186: I external/ydf/yggdrasil_decision_forests/learner/gradient_boosted_trees/gradient_boosted_trees.cc:309] Final model num-trees:872 valid-loss:0.016526 valid-accuracy:0.802150\n",
      "[INFO 2023-04-06T23:01:43.227932+01:00 kernel.cc:1214] Loading model from path /var/folders/80/5mgc74450p1b9jxkl3fd7z780000gn/T/tmp1byodep8/model/ with prefix 16a59d12a6144402\n",
      "[INFO 2023-04-06T23:01:43.231333+01:00 abstract_model.cc:1312] Engine \"GradientBoostedTreesQuickScorerExtended\" built\n",
      "[INFO 2023-04-06T23:01:43.231362+01:00 kernel.cc:1046] Use fast generic engine\n",
      "2023-04-06 23:01:43.330661: I tensorflow/core/grappler/optimizers/custom_graph_optimizer_registry.cc:114] Plugin optimizer for device_type GPU is enabled.\n",
      "2023-04-06 23:01:43.383733: I tensorflow/core/grappler/optimizers/custom_graph_optimizer_registry.cc:114] Plugin optimizer for device_type GPU is enabled.\n"
     ]
    },
    {
     "name": "stdout",
     "output_type": "stream",
     "text": [
      "40/40 [==============================] - 0s 5ms/step\n"
     ]
    },
    {
     "name": "stderr",
     "output_type": "stream",
     "text": [
      "2023-04-06 23:01:43.573924: I tensorflow/core/grappler/optimizers/custom_graph_optimizer_registry.cc:114] Plugin optimizer for device_type GPU is enabled.\n",
      "\u001b[32m[I 2023-04-06 23:01:43,784]\u001b[0m Trial 14 finished with value: 0.9520236197486222 and parameters: {'max_depth': 2, 'l1_regularization': 6.354315260182949, 'l2_regularization': 11.009450289276053, 'growing_strategy': 'LOCAL', 'loss': 'BINARY_FOCAL_LOSS', 'min_examples': 550, 'num_candidate_attributes_ratio': 0.6145210980288867, 'shrinkage': 0.5065199651175544, 'discretize_numerical_features': False, 'num_discretized_numerical_bins': 690, 'focal_loss_gamma': 3.7561092222622343}. Best is trial 4 with value: 0.9760002028733349.\u001b[0m\n"
     ]
    },
    {
     "name": "stdout",
     "output_type": "stream",
     "text": [
      "Use /var/folders/80/5mgc74450p1b9jxkl3fd7z780000gn/T/tmpm5dhtccz as temporary training directory\n"
     ]
    },
    {
     "name": "stderr",
     "output_type": "stream",
     "text": [
      "2023-04-06 23:01:43.913367: I tensorflow/core/grappler/optimizers/custom_graph_optimizer_registry.cc:114] Plugin optimizer for device_type GPU is enabled.\n"
     ]
    },
    {
     "name": "stdout",
     "output_type": "stream",
     "text": [
      "Num validation examples: tf.Tensor(39540, shape=(), dtype=int32)\n"
     ]
    },
    {
     "name": "stderr",
     "output_type": "stream",
     "text": [
      "2023-04-06 23:01:46.533918: I tensorflow/core/grappler/optimizers/custom_graph_optimizer_registry.cc:114] Plugin optimizer for device_type GPU is enabled.\n",
      "2023-04-06 23:01:47.013666: W external/ydf/yggdrasil_decision_forests/learner/gradient_boosted_trees/gradient_boosted_trees.cc:1790] \"goss_alpha\" set but \"sampling_method\" not equal to \"GOSS\".\n",
      "2023-04-06 23:01:47.013682: W external/ydf/yggdrasil_decision_forests/learner/gradient_boosted_trees/gradient_boosted_trees.cc:1800] \"goss_beta\" set but \"sampling_method\" not equal to \"GOSS\".\n",
      "2023-04-06 23:01:47.013685: W external/ydf/yggdrasil_decision_forests/learner/gradient_boosted_trees/gradient_boosted_trees.cc:1814] \"selective_gradient_boosting_ratio\" set but \"sampling_method\" not equal to \"SELGB\".\n",
      "2023-04-06 23:01:47.013957: I external/ydf/yggdrasil_decision_forests/learner/gradient_boosted_trees/gradient_boosted_trees.cc:1077] Training gradient boosted tree on 802301 example(s) and 18 feature(s).\n",
      "2023-04-06 23:01:47.014040: I external/ydf/yggdrasil_decision_forests/learner/gradient_boosted_trees/gradient_boosted_trees.cc:1120] 802301 examples used for training and 39540 examples used for validation\n",
      "2023-04-06 23:01:48.589183: I external/ydf/yggdrasil_decision_forests/learner/gradient_boosted_trees/gradient_boosted_trees.cc:1518] \tnum-trees:1 train-loss:0.019536 train-accuracy:0.916055 valid-loss:0.052557 valid-accuracy:0.804654\n",
      "2023-04-06 23:01:49.950318: I external/ydf/yggdrasil_decision_forests/learner/gradient_boosted_trees/gradient_boosted_trees.cc:1520] \tnum-trees:2 train-loss:0.016574 train-accuracy:0.932225 valid-loss:0.053254 valid-accuracy:0.805109\n",
      "2023-04-06 23:02:20.192484: I external/ydf/yggdrasil_decision_forests/learner/gradient_boosted_trees/gradient_boosted_trees.cc:1520] \tnum-trees:24 train-loss:0.012409 train-accuracy:0.954798 valid-loss:0.052769 valid-accuracy:0.799722\n",
      "2023-04-06 23:02:50.886411: I external/ydf/yggdrasil_decision_forests/learner/gradient_boosted_trees/gradient_boosted_trees.cc:1520] \tnum-trees:49 train-loss:0.011750 train-accuracy:0.957105 valid-loss:0.054163 valid-accuracy:0.790744\n",
      "2023-04-06 23:03:15.238351: I external/ydf/yggdrasil_decision_forests/learner/gradient_boosted_trees/gradient_boosted_trees.cc:1568] Create final snapshot of the model at iteration 68\n",
      "2023-04-06 23:03:15.253429: I external/ydf/yggdrasil_decision_forests/learner/gradient_boosted_trees/gradient_boosted_trees.cc:247] Truncates the model to 19 tree(s) i.e. 19  iteration(s).\n",
      "2023-04-06 23:03:15.259176: I external/ydf/yggdrasil_decision_forests/learner/gradient_boosted_trees/gradient_boosted_trees.cc:309] Final model num-trees:19 valid-loss:0.052263 valid-accuracy:0.802403\n",
      "[INFO 2023-04-06T23:03:15.286555+01:00 kernel.cc:1214] Loading model from path /var/folders/80/5mgc74450p1b9jxkl3fd7z780000gn/T/tmpm5dhtccz/model/ with prefix 1ef598a34ad84325\n",
      "[INFO 2023-04-06T23:03:15.311793+01:00 decision_forest.cc:661] Model loaded with 19 root(s), 20639 node(s), and 18 input feature(s).\n",
      "[INFO 2023-04-06T23:03:15.311813+01:00 abstract_model.cc:1312] Engine \"GradientBoostedTreesGeneric\" built\n",
      "[INFO 2023-04-06T23:03:15.311827+01:00 kernel.cc:1046] Use fast generic engine\n",
      "2023-04-06 23:03:15.427449: I tensorflow/core/grappler/optimizers/custom_graph_optimizer_registry.cc:114] Plugin optimizer for device_type GPU is enabled.\n",
      "2023-04-06 23:03:15.487477: I tensorflow/core/grappler/optimizers/custom_graph_optimizer_registry.cc:114] Plugin optimizer for device_type GPU is enabled.\n",
      "2023-04-06 23:03:15.684125: I tensorflow/core/grappler/optimizers/custom_graph_optimizer_registry.cc:114] Plugin optimizer for device_type GPU is enabled.\n"
     ]
    },
    {
     "name": "stdout",
     "output_type": "stream",
     "text": [
      "40/40 [==============================] - 0s 4ms/step\n"
     ]
    },
    {
     "name": "stderr",
     "output_type": "stream",
     "text": [
      "\u001b[32m[I 2023-04-06 23:03:15,880]\u001b[0m Trial 15 finished with value: 0.9719378473070105 and parameters: {'max_depth': 16, 'l1_regularization': 11.51323255463928, 'l2_regularization': 6.653794874343742, 'growing_strategy': 'LOCAL', 'loss': 'BINARY_FOCAL_LOSS', 'min_examples': 545, 'num_candidate_attributes_ratio': 0.4692062031107376, 'shrinkage': 0.8788933555189697, 'discretize_numerical_features': False, 'num_discretized_numerical_bins': 150, 'focal_loss_gamma': 2.413349262484461}. Best is trial 4 with value: 0.9760002028733349.\u001b[0m\n"
     ]
    },
    {
     "name": "stdout",
     "output_type": "stream",
     "text": [
      "Use /var/folders/80/5mgc74450p1b9jxkl3fd7z780000gn/T/tmpfu0pr8te as temporary training directory\n"
     ]
    },
    {
     "name": "stderr",
     "output_type": "stream",
     "text": [
      "2023-04-06 23:03:16.012742: I tensorflow/core/grappler/optimizers/custom_graph_optimizer_registry.cc:114] Plugin optimizer for device_type GPU is enabled.\n"
     ]
    },
    {
     "name": "stdout",
     "output_type": "stream",
     "text": [
      "Num validation examples: tf.Tensor(39540, shape=(), dtype=int32)\n"
     ]
    },
    {
     "name": "stderr",
     "output_type": "stream",
     "text": [
      "2023-04-06 23:03:18.600630: I tensorflow/core/grappler/optimizers/custom_graph_optimizer_registry.cc:114] Plugin optimizer for device_type GPU is enabled.\n",
      "2023-04-06 23:03:19.059260: W external/ydf/yggdrasil_decision_forests/learner/gradient_boosted_trees/gradient_boosted_trees.cc:1790] \"goss_alpha\" set but \"sampling_method\" not equal to \"GOSS\".\n",
      "2023-04-06 23:03:19.059278: W external/ydf/yggdrasil_decision_forests/learner/gradient_boosted_trees/gradient_boosted_trees.cc:1800] \"goss_beta\" set but \"sampling_method\" not equal to \"GOSS\".\n",
      "2023-04-06 23:03:19.059281: W external/ydf/yggdrasil_decision_forests/learner/gradient_boosted_trees/gradient_boosted_trees.cc:1814] \"selective_gradient_boosting_ratio\" set but \"sampling_method\" not equal to \"SELGB\".\n",
      "2023-04-06 23:03:19.059549: I external/ydf/yggdrasil_decision_forests/learner/gradient_boosted_trees/gradient_boosted_trees.cc:1077] Training gradient boosted tree on 802301 example(s) and 18 feature(s).\n",
      "2023-04-06 23:03:19.059622: I external/ydf/yggdrasil_decision_forests/learner/gradient_boosted_trees/gradient_boosted_trees.cc:1120] 802301 examples used for training and 39540 examples used for validation\n",
      "2023-04-06 23:03:20.376928: I external/ydf/yggdrasil_decision_forests/learner/gradient_boosted_trees/gradient_boosted_trees.cc:1518] \tnum-trees:1 train-loss:0.032049 train-accuracy:0.827721 valid-loss:0.081640 valid-accuracy:0.579514\n",
      "2023-04-06 23:03:21.649013: I external/ydf/yggdrasil_decision_forests/learner/gradient_boosted_trees/gradient_boosted_trees.cc:1520] \tnum-trees:2 train-loss:0.019907 train-accuracy:0.827721 valid-loss:0.052517 valid-accuracy:0.579514\n",
      "2023-04-06 23:03:51.693966: I external/ydf/yggdrasil_decision_forests/learner/gradient_boosted_trees/gradient_boosted_trees.cc:1520] \tnum-trees:26 train-loss:0.003554 train-accuracy:0.953844 valid-loss:0.013587 valid-accuracy:0.792463\n",
      "2023-04-06 23:04:21.805245: I external/ydf/yggdrasil_decision_forests/learner/gradient_boosted_trees/gradient_boosted_trees.cc:1520] \tnum-trees:51 train-loss:0.003403 train-accuracy:0.954916 valid-loss:0.012866 valid-accuracy:0.801442\n",
      "2023-04-06 23:04:51.997842: I external/ydf/yggdrasil_decision_forests/learner/gradient_boosted_trees/gradient_boosted_trees.cc:1520] \tnum-trees:76 train-loss:0.003331 train-accuracy:0.955636 valid-loss:0.012786 valid-accuracy:0.799798\n",
      "2023-04-06 23:05:22.986467: I external/ydf/yggdrasil_decision_forests/learner/gradient_boosted_trees/gradient_boosted_trees.cc:1520] \tnum-trees:102 train-loss:0.003299 train-accuracy:0.955884 valid-loss:0.012744 valid-accuracy:0.799798\n",
      "2023-04-06 23:05:53.764088: I external/ydf/yggdrasil_decision_forests/learner/gradient_boosted_trees/gradient_boosted_trees.cc:1520] \tnum-trees:128 train-loss:0.003281 train-accuracy:0.956104 valid-loss:0.012700 valid-accuracy:0.800936\n",
      "2023-04-06 23:06:24.202177: I external/ydf/yggdrasil_decision_forests/learner/gradient_boosted_trees/gradient_boosted_trees.cc:1520] \tnum-trees:154 train-loss:0.003268 train-accuracy:0.956318 valid-loss:0.012711 valid-accuracy:0.800683\n",
      "2023-04-06 23:06:54.668078: I external/ydf/yggdrasil_decision_forests/learner/gradient_boosted_trees/gradient_boosted_trees.cc:1520] \tnum-trees:180 train-loss:0.003260 train-accuracy:0.956322 valid-loss:0.012694 valid-accuracy:0.801214\n",
      "2023-04-06 23:07:24.719815: I external/ydf/yggdrasil_decision_forests/learner/gradient_boosted_trees/gradient_boosted_trees.cc:1520] \tnum-trees:206 train-loss:0.003241 train-accuracy:0.956449 valid-loss:0.012591 valid-accuracy:0.803920\n",
      "2023-04-06 23:07:55.820869: I external/ydf/yggdrasil_decision_forests/learner/gradient_boosted_trees/gradient_boosted_trees.cc:1520] \tnum-trees:233 train-loss:0.003220 train-accuracy:0.956686 valid-loss:0.012659 valid-accuracy:0.801517\n",
      "2023-04-06 23:08:26.911776: I external/ydf/yggdrasil_decision_forests/learner/gradient_boosted_trees/gradient_boosted_trees.cc:1568] Create final snapshot of the model at iteration 259\n",
      "2023-04-06 23:08:26.961502: I external/ydf/yggdrasil_decision_forests/learner/gradient_boosted_trees/gradient_boosted_trees.cc:247] Truncates the model to 210 tree(s) i.e. 210  iteration(s).\n",
      "2023-04-06 23:08:26.965726: I external/ydf/yggdrasil_decision_forests/learner/gradient_boosted_trees/gradient_boosted_trees.cc:309] Final model num-trees:210 valid-loss:0.012580 valid-accuracy:0.804274\n",
      "[INFO 2023-04-06T23:08:27.063298+01:00 kernel.cc:1214] Loading model from path /var/folders/80/5mgc74450p1b9jxkl3fd7z780000gn/T/tmpfu0pr8te/model/ with prefix 2335c096b7514288\n",
      "[INFO 2023-04-06T23:08:27.229782+01:00 decision_forest.cc:661] Model loaded with 210 root(s), 133498 node(s), and 18 input feature(s).\n",
      "[INFO 2023-04-06T23:08:27.22981+01:00 abstract_model.cc:1312] Engine \"GradientBoostedTreesGeneric\" built\n",
      "[INFO 2023-04-06T23:08:27.22982+01:00 kernel.cc:1046] Use fast generic engine\n",
      "2023-04-06 23:08:27.342186: I tensorflow/core/grappler/optimizers/custom_graph_optimizer_registry.cc:114] Plugin optimizer for device_type GPU is enabled.\n",
      "2023-04-06 23:08:27.418691: I tensorflow/core/grappler/optimizers/custom_graph_optimizer_registry.cc:114] Plugin optimizer for device_type GPU is enabled.\n"
     ]
    },
    {
     "name": "stdout",
     "output_type": "stream",
     "text": [
      " 7/40 [====>.........................] - ETA: 0s"
     ]
    },
    {
     "name": "stderr",
     "output_type": "stream",
     "text": [
      "2023-04-06 23:08:28.466648: I tensorflow/core/grappler/optimizers/custom_graph_optimizer_registry.cc:114] Plugin optimizer for device_type GPU is enabled.\n"
     ]
    },
    {
     "name": "stdout",
     "output_type": "stream",
     "text": [
      "40/40 [==============================] - 1s 26ms/step\n"
     ]
    },
    {
     "name": "stderr",
     "output_type": "stream",
     "text": [
      "\u001b[32m[I 2023-04-06 23:08:29,557]\u001b[0m Trial 16 finished with value: 0.9744320559189655 and parameters: {'max_depth': 16, 'l1_regularization': 10.690357274037291, 'l2_regularization': 3.8452697340426107, 'growing_strategy': 'LOCAL', 'loss': 'BINARY_FOCAL_LOSS', 'min_examples': 890, 'num_candidate_attributes_ratio': 0.6760393257315596, 'shrinkage': 0.33098606990339735, 'discretize_numerical_features': False, 'num_discretized_numerical_bins': 800, 'focal_loss_gamma': 4.397396992873542}. Best is trial 4 with value: 0.9760002028733349.\u001b[0m\n"
     ]
    },
    {
     "name": "stdout",
     "output_type": "stream",
     "text": [
      "Use /var/folders/80/5mgc74450p1b9jxkl3fd7z780000gn/T/tmptvc6u1bz as temporary training directory\n"
     ]
    },
    {
     "name": "stderr",
     "output_type": "stream",
     "text": [
      "2023-04-06 23:08:29.685062: I tensorflow/core/grappler/optimizers/custom_graph_optimizer_registry.cc:114] Plugin optimizer for device_type GPU is enabled.\n"
     ]
    },
    {
     "name": "stdout",
     "output_type": "stream",
     "text": [
      "Num validation examples: tf.Tensor(39540, shape=(), dtype=int32)\n"
     ]
    },
    {
     "name": "stderr",
     "output_type": "stream",
     "text": [
      "2023-04-06 23:08:32.277107: I tensorflow/core/grappler/optimizers/custom_graph_optimizer_registry.cc:114] Plugin optimizer for device_type GPU is enabled.\n",
      "2023-04-06 23:08:32.739640: W external/ydf/yggdrasil_decision_forests/learner/gradient_boosted_trees/gradient_boosted_trees.cc:1790] \"goss_alpha\" set but \"sampling_method\" not equal to \"GOSS\".\n",
      "2023-04-06 23:08:32.739654: W external/ydf/yggdrasil_decision_forests/learner/gradient_boosted_trees/gradient_boosted_trees.cc:1800] \"goss_beta\" set but \"sampling_method\" not equal to \"GOSS\".\n",
      "2023-04-06 23:08:32.739657: W external/ydf/yggdrasil_decision_forests/learner/gradient_boosted_trees/gradient_boosted_trees.cc:1814] \"selective_gradient_boosting_ratio\" set but \"sampling_method\" not equal to \"SELGB\".\n",
      "2023-04-06 23:08:32.739931: I external/ydf/yggdrasil_decision_forests/learner/gradient_boosted_trees/gradient_boosted_trees.cc:1077] Training gradient boosted tree on 802301 example(s) and 18 feature(s).\n",
      "2023-04-06 23:08:32.740004: I external/ydf/yggdrasil_decision_forests/learner/gradient_boosted_trees/gradient_boosted_trees.cc:1120] 802301 examples used for training and 39540 examples used for validation\n",
      "2023-04-06 23:08:34.144809: I external/ydf/yggdrasil_decision_forests/learner/gradient_boosted_trees/gradient_boosted_trees.cc:1518] \tnum-trees:1 train-loss:0.086499 train-accuracy:0.827721 valid-loss:0.219834 valid-accuracy:0.579514\n",
      "2023-04-06 23:08:35.502609: I external/ydf/yggdrasil_decision_forests/learner/gradient_boosted_trees/gradient_boosted_trees.cc:1520] \tnum-trees:2 train-loss:0.073083 train-accuracy:0.827721 valid-loss:0.195863 valid-accuracy:0.579514\n",
      "2023-04-06 23:09:06.439271: I external/ydf/yggdrasil_decision_forests/learner/gradient_boosted_trees/gradient_boosted_trees.cc:1520] \tnum-trees:25 train-loss:0.019363 train-accuracy:0.952848 valid-loss:0.083441 valid-accuracy:0.707663\n",
      "2023-04-06 23:09:37.190012: I external/ydf/yggdrasil_decision_forests/learner/gradient_boosted_trees/gradient_boosted_trees.cc:1520] \tnum-trees:49 train-loss:0.015993 train-accuracy:0.960603 valid-loss:0.073117 valid-accuracy:0.749469\n",
      "2023-04-06 23:10:08.130617: I external/ydf/yggdrasil_decision_forests/learner/gradient_boosted_trees/gradient_boosted_trees.cc:1520] \tnum-trees:75 train-loss:0.015203 train-accuracy:0.961738 valid-loss:0.072080 valid-accuracy:0.758675\n",
      "2023-04-06 23:10:38.170227: I external/ydf/yggdrasil_decision_forests/learner/gradient_boosted_trees/gradient_boosted_trees.cc:1520] \tnum-trees:101 train-loss:0.014831 train-accuracy:0.962423 valid-loss:0.071562 valid-accuracy:0.763025\n",
      "2023-04-06 23:11:08.277003: I external/ydf/yggdrasil_decision_forests/learner/gradient_boosted_trees/gradient_boosted_trees.cc:1520] \tnum-trees:128 train-loss:0.014604 train-accuracy:0.962801 valid-loss:0.071768 valid-accuracy:0.765756\n",
      "2023-04-06 23:11:38.067011: I external/ydf/yggdrasil_decision_forests/learner/gradient_boosted_trees/gradient_boosted_trees.cc:1568] Create final snapshot of the model at iteration 154\n",
      "2023-04-06 23:11:38.130897: I external/ydf/yggdrasil_decision_forests/learner/gradient_boosted_trees/gradient_boosted_trees.cc:247] Truncates the model to 105 tree(s) i.e. 105  iteration(s).\n",
      "2023-04-06 23:11:38.138049: I external/ydf/yggdrasil_decision_forests/learner/gradient_boosted_trees/gradient_boosted_trees.cc:309] Final model num-trees:105 valid-loss:0.071542 valid-accuracy:0.763075\n",
      "[INFO 2023-04-06T23:11:38.253009+01:00 kernel.cc:1214] Loading model from path /var/folders/80/5mgc74450p1b9jxkl3fd7z780000gn/T/tmptvc6u1bz/model/ with prefix 63fb8069fe754223\n",
      "[INFO 2023-04-06T23:11:38.457243+01:00 decision_forest.cc:661] Model loaded with 105 root(s), 164721 node(s), and 18 input feature(s).\n",
      "[INFO 2023-04-06T23:11:38.457266+01:00 abstract_model.cc:1312] Engine \"GradientBoostedTreesGeneric\" built\n",
      "[INFO 2023-04-06T23:11:38.457276+01:00 kernel.cc:1046] Use fast generic engine\n",
      "2023-04-06 23:11:38.579141: I tensorflow/core/grappler/optimizers/custom_graph_optimizer_registry.cc:114] Plugin optimizer for device_type GPU is enabled.\n",
      "2023-04-06 23:11:38.641723: I tensorflow/core/grappler/optimizers/custom_graph_optimizer_registry.cc:114] Plugin optimizer for device_type GPU is enabled.\n"
     ]
    },
    {
     "name": "stdout",
     "output_type": "stream",
     "text": [
      " 7/40 [====>.........................] - ETA: 0s"
     ]
    },
    {
     "name": "stderr",
     "output_type": "stream",
     "text": [
      "2023-04-06 23:11:39.313665: I tensorflow/core/grappler/optimizers/custom_graph_optimizer_registry.cc:114] Plugin optimizer for device_type GPU is enabled.\n"
     ]
    },
    {
     "name": "stdout",
     "output_type": "stream",
     "text": [
      "40/40 [==============================] - 1s 17ms/step\n"
     ]
    },
    {
     "name": "stderr",
     "output_type": "stream",
     "text": [
      "\u001b[32m[I 2023-04-06 23:11:40,020]\u001b[0m Trial 17 finished with value: 0.9774698292881967 and parameters: {'max_depth': 14, 'l1_regularization': 6.8538679496833925, 'l2_regularization': 9.17673882046627, 'growing_strategy': 'LOCAL', 'loss': 'BINARY_FOCAL_LOSS', 'min_examples': 175, 'num_candidate_attributes_ratio': 0.4767318178420351, 'shrinkage': 0.11407919389776616, 'discretize_numerical_features': False, 'num_discretized_numerical_bins': 590, 'focal_loss_gamma': 1.9039535169509332}. Best is trial 17 with value: 0.9774698292881967.\u001b[0m\n"
     ]
    },
    {
     "name": "stdout",
     "output_type": "stream",
     "text": [
      "Use /var/folders/80/5mgc74450p1b9jxkl3fd7z780000gn/T/tmpkja__oj4 as temporary training directory\n"
     ]
    },
    {
     "name": "stderr",
     "output_type": "stream",
     "text": [
      "2023-04-06 23:11:40.143797: I tensorflow/core/grappler/optimizers/custom_graph_optimizer_registry.cc:114] Plugin optimizer for device_type GPU is enabled.\n"
     ]
    },
    {
     "name": "stdout",
     "output_type": "stream",
     "text": [
      "Num validation examples: tf.Tensor(39540, shape=(), dtype=int32)\n"
     ]
    },
    {
     "name": "stderr",
     "output_type": "stream",
     "text": [
      "2023-04-06 23:11:42.714418: I tensorflow/core/grappler/optimizers/custom_graph_optimizer_registry.cc:114] Plugin optimizer for device_type GPU is enabled.\n",
      "2023-04-06 23:11:43.173540: W external/ydf/yggdrasil_decision_forests/learner/gradient_boosted_trees/gradient_boosted_trees.cc:1790] \"goss_alpha\" set but \"sampling_method\" not equal to \"GOSS\".\n",
      "2023-04-06 23:11:43.173558: W external/ydf/yggdrasil_decision_forests/learner/gradient_boosted_trees/gradient_boosted_trees.cc:1800] \"goss_beta\" set but \"sampling_method\" not equal to \"GOSS\".\n",
      "2023-04-06 23:11:43.173561: W external/ydf/yggdrasil_decision_forests/learner/gradient_boosted_trees/gradient_boosted_trees.cc:1814] \"selective_gradient_boosting_ratio\" set but \"sampling_method\" not equal to \"SELGB\".\n",
      "2023-04-06 23:11:43.173837: I external/ydf/yggdrasil_decision_forests/learner/gradient_boosted_trees/gradient_boosted_trees.cc:1077] Training gradient boosted tree on 802301 example(s) and 18 feature(s).\n",
      "2023-04-06 23:11:43.173914: I external/ydf/yggdrasil_decision_forests/learner/gradient_boosted_trees/gradient_boosted_trees.cc:1120] 802301 examples used for training and 39540 examples used for validation\n",
      "2023-04-06 23:11:44.104044: I external/ydf/yggdrasil_decision_forests/learner/gradient_boosted_trees/gradient_boosted_trees.cc:1518] \tnum-trees:1 train-loss:0.101594 train-accuracy:0.827721 valid-loss:0.247924 valid-accuracy:0.579514\n",
      "2023-04-06 23:11:44.953811: I external/ydf/yggdrasil_decision_forests/learner/gradient_boosted_trees/gradient_boosted_trees.cc:1520] \tnum-trees:2 train-loss:0.091517 train-accuracy:0.827721 valid-loss:0.232130 valid-accuracy:0.579514\n",
      "2023-04-06 23:12:15.440920: I external/ydf/yggdrasil_decision_forests/learner/gradient_boosted_trees/gradient_boosted_trees.cc:1520] \tnum-trees:38 train-loss:0.025617 train-accuracy:0.948162 valid-loss:0.088189 valid-accuracy:0.713227\n",
      "2023-04-06 23:12:45.889814: I external/ydf/yggdrasil_decision_forests/learner/gradient_boosted_trees/gradient_boosted_trees.cc:1520] \tnum-trees:75 train-loss:0.020701 train-accuracy:0.956297 valid-loss:0.077525 valid-accuracy:0.765099\n",
      "2023-04-06 23:13:16.345471: I external/ydf/yggdrasil_decision_forests/learner/gradient_boosted_trees/gradient_boosted_trees.cc:1520] \tnum-trees:113 train-loss:0.019337 train-accuracy:0.958418 valid-loss:0.076438 valid-accuracy:0.773849\n",
      "2023-04-06 23:13:46.346132: I external/ydf/yggdrasil_decision_forests/learner/gradient_boosted_trees/gradient_boosted_trees.cc:1520] \tnum-trees:152 train-loss:0.018550 train-accuracy:0.959696 valid-loss:0.076117 valid-accuracy:0.777264\n",
      "2023-04-06 23:14:10.613074: I external/ydf/yggdrasil_decision_forests/learner/gradient_boosted_trees/gradient_boosted_trees.cc:1568] Create final snapshot of the model at iteration 183\n",
      "2023-04-06 23:14:10.647287: I external/ydf/yggdrasil_decision_forests/learner/gradient_boosted_trees/gradient_boosted_trees.cc:247] Truncates the model to 134 tree(s) i.e. 134  iteration(s).\n",
      "2023-04-06 23:14:10.650931: I external/ydf/yggdrasil_decision_forests/learner/gradient_boosted_trees/gradient_boosted_trees.cc:309] Final model num-trees:134 valid-loss:0.075812 valid-accuracy:0.776176\n",
      "[INFO 2023-04-06T23:14:10.718215+01:00 kernel.cc:1214] Loading model from path /var/folders/80/5mgc74450p1b9jxkl3fd7z780000gn/T/tmpkja__oj4/model/ with prefix 35a96e874569472a\n",
      "[INFO 2023-04-06T23:14:10.842084+01:00 decision_forest.cc:661] Model loaded with 134 root(s), 97292 node(s), and 18 input feature(s).\n",
      "[INFO 2023-04-06T23:14:10.842106+01:00 abstract_model.cc:1312] Engine \"GradientBoostedTreesGeneric\" built\n",
      "[INFO 2023-04-06T23:14:10.842115+01:00 kernel.cc:1046] Use fast generic engine\n",
      "2023-04-06 23:14:10.964792: I tensorflow/core/grappler/optimizers/custom_graph_optimizer_registry.cc:114] Plugin optimizer for device_type GPU is enabled.\n",
      "2023-04-06 23:14:11.027258: I tensorflow/core/grappler/optimizers/custom_graph_optimizer_registry.cc:114] Plugin optimizer for device_type GPU is enabled.\n"
     ]
    },
    {
     "name": "stdout",
     "output_type": "stream",
     "text": [
      " 9/40 [=====>........................] - ETA: 0s"
     ]
    },
    {
     "name": "stderr",
     "output_type": "stream",
     "text": [
      "2023-04-06 23:14:11.612413: I tensorflow/core/grappler/optimizers/custom_graph_optimizer_registry.cc:114] Plugin optimizer for device_type GPU is enabled.\n"
     ]
    },
    {
     "name": "stdout",
     "output_type": "stream",
     "text": [
      "40/40 [==============================] - 1s 15ms/step\n"
     ]
    },
    {
     "name": "stderr",
     "output_type": "stream",
     "text": [
      "\u001b[32m[I 2023-04-06 23:14:12,234]\u001b[0m Trial 18 finished with value: 0.9772352620034599 and parameters: {'max_depth': 10, 'l1_regularization': 0.028493502823630834, 'l2_regularization': 9.153732659754061, 'growing_strategy': 'LOCAL', 'loss': 'BINARY_FOCAL_LOSS', 'min_examples': 5, 'num_candidate_attributes_ratio': 0.4802193333851591, 'shrinkage': 0.05983504897272224, 'discretize_numerical_features': False, 'num_discretized_numerical_bins': 540, 'focal_loss_gamma': 1.6370467131202566}. Best is trial 17 with value: 0.9774698292881967.\u001b[0m\n"
     ]
    },
    {
     "name": "stdout",
     "output_type": "stream",
     "text": [
      "Use /var/folders/80/5mgc74450p1b9jxkl3fd7z780000gn/T/tmpxxwyveuq as temporary training directory\n"
     ]
    },
    {
     "name": "stderr",
     "output_type": "stream",
     "text": [
      "2023-04-06 23:14:12.358360: I tensorflow/core/grappler/optimizers/custom_graph_optimizer_registry.cc:114] Plugin optimizer for device_type GPU is enabled.\n"
     ]
    },
    {
     "name": "stdout",
     "output_type": "stream",
     "text": [
      "Num validation examples: tf.Tensor(39540, shape=(), dtype=int32)\n"
     ]
    },
    {
     "name": "stderr",
     "output_type": "stream",
     "text": [
      "2023-04-06 23:14:14.941895: I tensorflow/core/grappler/optimizers/custom_graph_optimizer_registry.cc:114] Plugin optimizer for device_type GPU is enabled.\n",
      "2023-04-06 23:14:15.404514: W external/ydf/yggdrasil_decision_forests/learner/gradient_boosted_trees/gradient_boosted_trees.cc:1790] \"goss_alpha\" set but \"sampling_method\" not equal to \"GOSS\".\n",
      "2023-04-06 23:14:15.404531: W external/ydf/yggdrasil_decision_forests/learner/gradient_boosted_trees/gradient_boosted_trees.cc:1800] \"goss_beta\" set but \"sampling_method\" not equal to \"GOSS\".\n",
      "2023-04-06 23:14:15.404534: W external/ydf/yggdrasil_decision_forests/learner/gradient_boosted_trees/gradient_boosted_trees.cc:1814] \"selective_gradient_boosting_ratio\" set but \"sampling_method\" not equal to \"SELGB\".\n",
      "2023-04-06 23:14:15.404769: I external/ydf/yggdrasil_decision_forests/learner/gradient_boosted_trees/gradient_boosted_trees.cc:1077] Training gradient boosted tree on 802301 example(s) and 18 feature(s).\n",
      "2023-04-06 23:14:15.404852: I external/ydf/yggdrasil_decision_forests/learner/gradient_boosted_trees/gradient_boosted_trees.cc:1120] 802301 examples used for training and 39540 examples used for validation\n",
      "2023-04-06 23:14:16.330951: I external/ydf/yggdrasil_decision_forests/learner/gradient_boosted_trees/gradient_boosted_trees.cc:1518] \tnum-trees:1 train-loss:0.107539 train-accuracy:0.827721 valid-loss:0.259483 valid-accuracy:0.579514\n",
      "2023-04-06 23:14:17.181884: I external/ydf/yggdrasil_decision_forests/learner/gradient_boosted_trees/gradient_boosted_trees.cc:1520] \tnum-trees:2 train-loss:0.097693 train-accuracy:0.827721 valid-loss:0.240319 valid-accuracy:0.579514\n",
      "2023-04-06 23:14:47.529012: I external/ydf/yggdrasil_decision_forests/learner/gradient_boosted_trees/gradient_boosted_trees.cc:1520] \tnum-trees:38 train-loss:0.029334 train-accuracy:0.946619 valid-loss:0.100588 valid-accuracy:0.706474\n",
      "2023-04-06 23:15:18.087260: I external/ydf/yggdrasil_decision_forests/learner/gradient_boosted_trees/gradient_boosted_trees.cc:1520] \tnum-trees:75 train-loss:0.023255 train-accuracy:0.955851 valid-loss:0.087106 valid-accuracy:0.763050\n",
      "2023-04-06 23:15:48.377096: I external/ydf/yggdrasil_decision_forests/learner/gradient_boosted_trees/gradient_boosted_trees.cc:1520] \tnum-trees:113 train-loss:0.021572 train-accuracy:0.958391 valid-loss:0.085696 valid-accuracy:0.773647\n",
      "2023-04-06 23:16:18.495460: I external/ydf/yggdrasil_decision_forests/learner/gradient_boosted_trees/gradient_boosted_trees.cc:1520] \tnum-trees:152 train-loss:0.020567 train-accuracy:0.959867 valid-loss:0.084727 valid-accuracy:0.778275\n",
      "2023-04-06 23:16:48.631407: I external/ydf/yggdrasil_decision_forests/learner/gradient_boosted_trees/gradient_boosted_trees.cc:1520] \tnum-trees:191 train-loss:0.019866 train-accuracy:0.961134 valid-loss:0.084898 valid-accuracy:0.780526\n",
      "2023-04-06 23:16:58.573717: I external/ydf/yggdrasil_decision_forests/learner/gradient_boosted_trees/gradient_boosted_trees.cc:1568] Create final snapshot of the model at iteration 203\n",
      "2023-04-06 23:16:58.607947: I external/ydf/yggdrasil_decision_forests/learner/gradient_boosted_trees/gradient_boosted_trees.cc:247] Truncates the model to 154 tree(s) i.e. 154  iteration(s).\n",
      "2023-04-06 23:16:58.611317: I external/ydf/yggdrasil_decision_forests/learner/gradient_boosted_trees/gradient_boosted_trees.cc:309] Final model num-trees:154 valid-loss:0.084690 valid-accuracy:0.778427\n",
      "[INFO 2023-04-06T23:16:58.679106+01:00 kernel.cc:1214] Loading model from path /var/folders/80/5mgc74450p1b9jxkl3fd7z780000gn/T/tmpxxwyveuq/model/ with prefix 77f9a5f67b4a47cd\n",
      "[INFO 2023-04-06T23:16:58.792469+01:00 decision_forest.cc:661] Model loaded with 154 root(s), 91908 node(s), and 18 input feature(s).\n",
      "[INFO 2023-04-06T23:16:58.79249+01:00 abstract_model.cc:1312] Engine \"GradientBoostedTreesGeneric\" built\n",
      "[INFO 2023-04-06T23:16:58.7925+01:00 kernel.cc:1046] Use fast generic engine\n",
      "2023-04-06 23:16:58.903627: I tensorflow/core/grappler/optimizers/custom_graph_optimizer_registry.cc:114] Plugin optimizer for device_type GPU is enabled.\n",
      "2023-04-06 23:16:58.964315: I tensorflow/core/grappler/optimizers/custom_graph_optimizer_registry.cc:114] Plugin optimizer for device_type GPU is enabled.\n"
     ]
    },
    {
     "name": "stdout",
     "output_type": "stream",
     "text": [
      " 8/40 [=====>........................] - ETA: 0s"
     ]
    },
    {
     "name": "stderr",
     "output_type": "stream",
     "text": [
      "2023-04-06 23:16:59.642593: I tensorflow/core/grappler/optimizers/custom_graph_optimizer_registry.cc:114] Plugin optimizer for device_type GPU is enabled.\n"
     ]
    },
    {
     "name": "stdout",
     "output_type": "stream",
     "text": [
      "40/40 [==============================] - 1s 17ms/step\n"
     ]
    },
    {
     "name": "stderr",
     "output_type": "stream",
     "text": [
      "\u001b[32m[I 2023-04-06 23:17:00,353]\u001b[0m Trial 19 finished with value: 0.9777193256502705 and parameters: {'max_depth': 10, 'l1_regularization': 0.2957315307905999, 'l2_regularization': 8.64321021317636, 'growing_strategy': 'LOCAL', 'loss': 'BINARY_FOCAL_LOSS', 'min_examples': 40, 'num_candidate_attributes_ratio': 0.48076112806656063, 'shrinkage': 0.05497485013952182, 'discretize_numerical_features': False, 'num_discretized_numerical_bins': 540, 'focal_loss_gamma': 1.4726136845491808}. Best is trial 19 with value: 0.9777193256502705.\u001b[0m\n"
     ]
    },
    {
     "name": "stdout",
     "output_type": "stream",
     "text": [
      "Use /var/folders/80/5mgc74450p1b9jxkl3fd7z780000gn/T/tmpyni1ct0t as temporary training directory\n"
     ]
    },
    {
     "name": "stderr",
     "output_type": "stream",
     "text": [
      "2023-04-06 23:17:00.480148: I tensorflow/core/grappler/optimizers/custom_graph_optimizer_registry.cc:114] Plugin optimizer for device_type GPU is enabled.\n"
     ]
    },
    {
     "name": "stdout",
     "output_type": "stream",
     "text": [
      "Num validation examples: tf.Tensor(39540, shape=(), dtype=int32)\n"
     ]
    },
    {
     "name": "stderr",
     "output_type": "stream",
     "text": [
      "2023-04-06 23:17:03.049748: I tensorflow/core/grappler/optimizers/custom_graph_optimizer_registry.cc:114] Plugin optimizer for device_type GPU is enabled.\n",
      "2023-04-06 23:17:03.509783: W external/ydf/yggdrasil_decision_forests/learner/gradient_boosted_trees/gradient_boosted_trees.cc:1790] \"goss_alpha\" set but \"sampling_method\" not equal to \"GOSS\".\n",
      "2023-04-06 23:17:03.509796: W external/ydf/yggdrasil_decision_forests/learner/gradient_boosted_trees/gradient_boosted_trees.cc:1800] \"goss_beta\" set but \"sampling_method\" not equal to \"GOSS\".\n",
      "2023-04-06 23:17:03.509799: W external/ydf/yggdrasil_decision_forests/learner/gradient_boosted_trees/gradient_boosted_trees.cc:1814] \"selective_gradient_boosting_ratio\" set but \"sampling_method\" not equal to \"SELGB\".\n",
      "2023-04-06 23:17:03.510029: I external/ydf/yggdrasil_decision_forests/learner/gradient_boosted_trees/gradient_boosted_trees.cc:1077] Training gradient boosted tree on 802301 example(s) and 18 feature(s).\n",
      "2023-04-06 23:17:03.510101: I external/ydf/yggdrasil_decision_forests/learner/gradient_boosted_trees/gradient_boosted_trees.cc:1120] 802301 examples used for training and 39540 examples used for validation\n",
      "2023-04-06 23:17:04.312135: I external/ydf/yggdrasil_decision_forests/learner/gradient_boosted_trees/gradient_boosted_trees.cc:1518] \tnum-trees:1 train-loss:0.170822 train-accuracy:0.827721 valid-loss:0.347760 valid-accuracy:0.579514\n",
      "2023-04-06 23:17:18.815581: I external/ydf/yggdrasil_decision_forests/learner/gradient_boosted_trees/gradient_boosted_trees.cc:1520] \tnum-trees:21 train-loss:0.069305 train-accuracy:0.947136 valid-loss:0.207820 valid-accuracy:0.747269\n",
      "2023-04-06 23:17:49.026253: I external/ydf/yggdrasil_decision_forests/learner/gradient_boosted_trees/gradient_boosted_trees.cc:1520] \tnum-trees:64 train-loss:0.052903 train-accuracy:0.956122 valid-loss:0.195101 valid-accuracy:0.784016\n",
      "2023-04-06 23:18:18.261588: I external/ydf/yggdrasil_decision_forests/learner/gradient_boosted_trees/gradient_boosted_trees.cc:1568] Create final snapshot of the model at iteration 106\n",
      "2023-04-06 23:18:18.270264: I external/ydf/yggdrasil_decision_forests/learner/gradient_boosted_trees/gradient_boosted_trees.cc:247] Truncates the model to 57 tree(s) i.e. 57  iteration(s).\n",
      "2023-04-06 23:18:18.272213: I external/ydf/yggdrasil_decision_forests/learner/gradient_boosted_trees/gradient_boosted_trees.cc:309] Final model num-trees:57 valid-loss:0.190991 valid-accuracy:0.783662\n",
      "[INFO 2023-04-06T23:18:18.292942+01:00 kernel.cc:1214] Loading model from path /var/folders/80/5mgc74450p1b9jxkl3fd7z780000gn/T/tmpyni1ct0t/model/ with prefix 7ed246afdcff499e\n",
      "[INFO 2023-04-06T23:18:18.315866+01:00 decision_forest.cc:661] Model loaded with 57 root(s), 19131 node(s), and 18 input feature(s).\n",
      "[INFO 2023-04-06T23:18:18.315882+01:00 abstract_model.cc:1312] Engine \"GradientBoostedTreesGeneric\" built\n",
      "[INFO 2023-04-06T23:18:18.315902+01:00 kernel.cc:1046] Use fast generic engine\n",
      "2023-04-06 23:18:18.419234: I tensorflow/core/grappler/optimizers/custom_graph_optimizer_registry.cc:114] Plugin optimizer for device_type GPU is enabled.\n",
      "2023-04-06 23:18:18.472247: I tensorflow/core/grappler/optimizers/custom_graph_optimizer_registry.cc:114] Plugin optimizer for device_type GPU is enabled.\n"
     ]
    },
    {
     "name": "stdout",
     "output_type": "stream",
     "text": [
      "28/40 [====================>.........] - ETA: 0s"
     ]
    },
    {
     "name": "stderr",
     "output_type": "stream",
     "text": [
      "2023-04-06 23:18:18.719310: I tensorflow/core/grappler/optimizers/custom_graph_optimizer_registry.cc:114] Plugin optimizer for device_type GPU is enabled.\n"
     ]
    },
    {
     "name": "stdout",
     "output_type": "stream",
     "text": [
      "40/40 [==============================] - 0s 6ms/step\n"
     ]
    },
    {
     "name": "stderr",
     "output_type": "stream",
     "text": [
      "\u001b[32m[I 2023-04-06 23:18:18,987]\u001b[0m Trial 20 finished with value: 0.9755157924720266 and parameters: {'max_depth': 9, 'l1_regularization': 3.85644977429924, 'l2_regularization': 9.993197972452748, 'growing_strategy': 'LOCAL', 'loss': 'BINARY_FOCAL_LOSS', 'min_examples': 185, 'num_candidate_attributes_ratio': 0.48440545478947894, 'shrinkage': 0.11597073529587172, 'discretize_numerical_features': False, 'num_discretized_numerical_bins': 290, 'focal_loss_gamma': 0.18476337846352697}. Best is trial 19 with value: 0.9777193256502705.\u001b[0m\n"
     ]
    },
    {
     "name": "stdout",
     "output_type": "stream",
     "text": [
      "Use /var/folders/80/5mgc74450p1b9jxkl3fd7z780000gn/T/tmp5exwevpj as temporary training directory\n"
     ]
    },
    {
     "name": "stderr",
     "output_type": "stream",
     "text": [
      "2023-04-06 23:18:19.112905: I tensorflow/core/grappler/optimizers/custom_graph_optimizer_registry.cc:114] Plugin optimizer for device_type GPU is enabled.\n"
     ]
    },
    {
     "name": "stdout",
     "output_type": "stream",
     "text": [
      "Num validation examples: tf.Tensor(39540, shape=(), dtype=int32)\n"
     ]
    },
    {
     "name": "stderr",
     "output_type": "stream",
     "text": [
      "2023-04-06 23:18:21.699974: I tensorflow/core/grappler/optimizers/custom_graph_optimizer_registry.cc:114] Plugin optimizer for device_type GPU is enabled.\n",
      "2023-04-06 23:18:22.164141: W external/ydf/yggdrasil_decision_forests/learner/gradient_boosted_trees/gradient_boosted_trees.cc:1790] \"goss_alpha\" set but \"sampling_method\" not equal to \"GOSS\".\n",
      "2023-04-06 23:18:22.164156: W external/ydf/yggdrasil_decision_forests/learner/gradient_boosted_trees/gradient_boosted_trees.cc:1800] \"goss_beta\" set but \"sampling_method\" not equal to \"GOSS\".\n",
      "2023-04-06 23:18:22.164159: W external/ydf/yggdrasil_decision_forests/learner/gradient_boosted_trees/gradient_boosted_trees.cc:1814] \"selective_gradient_boosting_ratio\" set but \"sampling_method\" not equal to \"SELGB\".\n",
      "2023-04-06 23:18:22.164480: I external/ydf/yggdrasil_decision_forests/learner/gradient_boosted_trees/gradient_boosted_trees.cc:1077] Training gradient boosted tree on 802301 example(s) and 18 feature(s).\n",
      "2023-04-06 23:18:22.164563: I external/ydf/yggdrasil_decision_forests/learner/gradient_boosted_trees/gradient_boosted_trees.cc:1120] 802301 examples used for training and 39540 examples used for validation\n",
      "2023-04-06 23:18:23.079380: I external/ydf/yggdrasil_decision_forests/learner/gradient_boosted_trees/gradient_boosted_trees.cc:1518] \tnum-trees:1 train-loss:0.101009 train-accuracy:0.827721 valid-loss:0.247422 valid-accuracy:0.579514\n",
      "2023-04-06 23:18:23.907452: I external/ydf/yggdrasil_decision_forests/learner/gradient_boosted_trees/gradient_boosted_trees.cc:1520] \tnum-trees:2 train-loss:0.091491 train-accuracy:0.827721 valid-loss:0.230473 valid-accuracy:0.579514\n",
      "2023-04-06 23:18:54.058696: I external/ydf/yggdrasil_decision_forests/learner/gradient_boosted_trees/gradient_boosted_trees.cc:1520] \tnum-trees:38 train-loss:0.026099 train-accuracy:0.943880 valid-loss:0.088125 valid-accuracy:0.692109\n",
      "2023-04-06 23:19:24.613789: I external/ydf/yggdrasil_decision_forests/learner/gradient_boosted_trees/gradient_boosted_trees.cc:1520] \tnum-trees:75 train-loss:0.020193 train-accuracy:0.955356 valid-loss:0.073637 valid-accuracy:0.756576\n",
      "2023-04-06 23:19:54.871371: I external/ydf/yggdrasil_decision_forests/learner/gradient_boosted_trees/gradient_boosted_trees.cc:1520] \tnum-trees:113 train-loss:0.018741 train-accuracy:0.957867 valid-loss:0.072228 valid-accuracy:0.766743\n",
      "2023-04-06 23:20:25.478046: I external/ydf/yggdrasil_decision_forests/learner/gradient_boosted_trees/gradient_boosted_trees.cc:1520] \tnum-trees:152 train-loss:0.017725 train-accuracy:0.959640 valid-loss:0.072632 valid-accuracy:0.772180\n",
      "2023-04-06 23:20:40.378413: I external/ydf/yggdrasil_decision_forests/learner/gradient_boosted_trees/gradient_boosted_trees.cc:1568] Create final snapshot of the model at iteration 170\n",
      "2023-04-06 23:20:40.408652: I external/ydf/yggdrasil_decision_forests/learner/gradient_boosted_trees/gradient_boosted_trees.cc:247] Truncates the model to 121 tree(s) i.e. 121  iteration(s).\n",
      "2023-04-06 23:20:40.412539: I external/ydf/yggdrasil_decision_forests/learner/gradient_boosted_trees/gradient_boosted_trees.cc:309] Final model num-trees:121 valid-loss:0.071778 valid-accuracy:0.768639\n",
      "[INFO 2023-04-06T23:20:40.468534+01:00 kernel.cc:1214] Loading model from path /var/folders/80/5mgc74450p1b9jxkl3fd7z780000gn/T/tmp5exwevpj/model/ with prefix 051234ff33ea4477\n",
      "[INFO 2023-04-06T23:20:40.562543+01:00 decision_forest.cc:661] Model loaded with 121 root(s), 76063 node(s), and 18 input feature(s).\n",
      "[INFO 2023-04-06T23:20:40.562569+01:00 abstract_model.cc:1312] Engine \"GradientBoostedTreesGeneric\" built\n",
      "[INFO 2023-04-06T23:20:40.562579+01:00 kernel.cc:1046] Use fast generic engine\n",
      "2023-04-06 23:20:40.695101: I tensorflow/core/grappler/optimizers/custom_graph_optimizer_registry.cc:114] Plugin optimizer for device_type GPU is enabled.\n",
      "2023-04-06 23:20:40.761448: I tensorflow/core/grappler/optimizers/custom_graph_optimizer_registry.cc:114] Plugin optimizer for device_type GPU is enabled.\n"
     ]
    },
    {
     "name": "stdout",
     "output_type": "stream",
     "text": [
      " 9/40 [=====>........................] - ETA: 0s"
     ]
    },
    {
     "name": "stderr",
     "output_type": "stream",
     "text": [
      "2023-04-06 23:20:41.335562: I tensorflow/core/grappler/optimizers/custom_graph_optimizer_registry.cc:114] Plugin optimizer for device_type GPU is enabled.\n"
     ]
    },
    {
     "name": "stdout",
     "output_type": "stream",
     "text": [
      "40/40 [==============================] - 1s 15ms/step\n"
     ]
    },
    {
     "name": "stderr",
     "output_type": "stream",
     "text": [
      "\u001b[32m[I 2023-04-06 23:20:41,946]\u001b[0m Trial 21 finished with value: 0.9762767158748995 and parameters: {'max_depth': 10, 'l1_regularization': 0.4142454114025309, 'l2_regularization': 9.432235030994422, 'growing_strategy': 'LOCAL', 'loss': 'BINARY_FOCAL_LOSS', 'min_examples': 60, 'num_candidate_attributes_ratio': 0.49846448648267866, 'shrinkage': 0.052690532750151384, 'discretize_numerical_features': False, 'num_discretized_numerical_bins': 610, 'focal_loss_gamma': 1.7219825382540743}. Best is trial 19 with value: 0.9777193256502705.\u001b[0m\n"
     ]
    },
    {
     "name": "stdout",
     "output_type": "stream",
     "text": [
      "Use /var/folders/80/5mgc74450p1b9jxkl3fd7z780000gn/T/tmpzo0y_g6w as temporary training directory\n"
     ]
    },
    {
     "name": "stderr",
     "output_type": "stream",
     "text": [
      "2023-04-06 23:20:42.072205: I tensorflow/core/grappler/optimizers/custom_graph_optimizer_registry.cc:114] Plugin optimizer for device_type GPU is enabled.\n"
     ]
    },
    {
     "name": "stdout",
     "output_type": "stream",
     "text": [
      "Num validation examples: tf.Tensor(39540, shape=(), dtype=int32)\n"
     ]
    },
    {
     "name": "stderr",
     "output_type": "stream",
     "text": [
      "2023-04-06 23:20:44.677538: I tensorflow/core/grappler/optimizers/custom_graph_optimizer_registry.cc:114] Plugin optimizer for device_type GPU is enabled.\n",
      "2023-04-06 23:20:45.144518: W external/ydf/yggdrasil_decision_forests/learner/gradient_boosted_trees/gradient_boosted_trees.cc:1790] \"goss_alpha\" set but \"sampling_method\" not equal to \"GOSS\".\n",
      "2023-04-06 23:20:45.144537: W external/ydf/yggdrasil_decision_forests/learner/gradient_boosted_trees/gradient_boosted_trees.cc:1800] \"goss_beta\" set but \"sampling_method\" not equal to \"GOSS\".\n",
      "2023-04-06 23:20:45.144540: W external/ydf/yggdrasil_decision_forests/learner/gradient_boosted_trees/gradient_boosted_trees.cc:1814] \"selective_gradient_boosting_ratio\" set but \"sampling_method\" not equal to \"SELGB\".\n",
      "2023-04-06 23:20:45.144783: I external/ydf/yggdrasil_decision_forests/learner/gradient_boosted_trees/gradient_boosted_trees.cc:1077] Training gradient boosted tree on 802301 example(s) and 18 feature(s).\n",
      "2023-04-06 23:20:45.144851: I external/ydf/yggdrasil_decision_forests/learner/gradient_boosted_trees/gradient_boosted_trees.cc:1120] 802301 examples used for training and 39540 examples used for validation\n",
      "2023-04-06 23:20:46.618029: I external/ydf/yggdrasil_decision_forests/learner/gradient_boosted_trees/gradient_boosted_trees.cc:1518] \tnum-trees:1 train-loss:0.085312 train-accuracy:0.827721 valid-loss:0.229579 valid-accuracy:0.579514\n",
      "2023-04-06 23:20:56.399564: I external/ydf/yggdrasil_decision_forests/learner/gradient_boosted_trees/gradient_boosted_trees.cc:1520] \tnum-trees:8 train-loss:0.035355 train-accuracy:0.885534 valid-loss:0.140399 valid-accuracy:0.595524\n",
      "2023-04-06 23:21:27.352731: I external/ydf/yggdrasil_decision_forests/learner/gradient_boosted_trees/gradient_boosted_trees.cc:1520] \tnum-trees:32 train-loss:0.017558 train-accuracy:0.959498 valid-loss:0.087375 valid-accuracy:0.725847\n",
      "2023-04-06 23:21:57.436757: I external/ydf/yggdrasil_decision_forests/learner/gradient_boosted_trees/gradient_boosted_trees.cc:1520] \tnum-trees:59 train-loss:0.016005 train-accuracy:0.963014 valid-loss:0.083631 valid-accuracy:0.747774\n",
      "2023-04-06 23:22:28.064406: I external/ydf/yggdrasil_decision_forests/learner/gradient_boosted_trees/gradient_boosted_trees.cc:1520] \tnum-trees:88 train-loss:0.015359 train-accuracy:0.964518 valid-loss:0.082795 valid-accuracy:0.752959\n",
      "2023-04-06 23:22:58.836721: I external/ydf/yggdrasil_decision_forests/learner/gradient_boosted_trees/gradient_boosted_trees.cc:1520] \tnum-trees:118 train-loss:0.014976 train-accuracy:0.965324 valid-loss:0.082021 valid-accuracy:0.755539\n",
      "2023-04-06 23:23:29.495521: I external/ydf/yggdrasil_decision_forests/learner/gradient_boosted_trees/gradient_boosted_trees.cc:1520] \tnum-trees:148 train-loss:0.014568 train-accuracy:0.966287 valid-loss:0.081041 valid-accuracy:0.758751\n",
      "2023-04-06 23:23:59.999134: I external/ydf/yggdrasil_decision_forests/learner/gradient_boosted_trees/gradient_boosted_trees.cc:1520] \tnum-trees:178 train-loss:0.014306 train-accuracy:0.966894 valid-loss:0.081485 valid-accuracy:0.760344\n",
      "2023-04-06 23:24:30.236985: I external/ydf/yggdrasil_decision_forests/learner/gradient_boosted_trees/gradient_boosted_trees.cc:1520] \tnum-trees:208 train-loss:0.014062 train-accuracy:0.967490 valid-loss:0.081432 valid-accuracy:0.762873\n",
      "2023-04-06 23:24:40.226130: I external/ydf/yggdrasil_decision_forests/learner/gradient_boosted_trees/gradient_boosted_trees.cc:1568] Create final snapshot of the model at iteration 217\n",
      "2023-04-06 23:24:40.320822: I external/ydf/yggdrasil_decision_forests/learner/gradient_boosted_trees/gradient_boosted_trees.cc:247] Truncates the model to 168 tree(s) i.e. 168  iteration(s).\n",
      "2023-04-06 23:24:40.328045: I external/ydf/yggdrasil_decision_forests/learner/gradient_boosted_trees/gradient_boosted_trees.cc:309] Final model num-trees:168 valid-loss:0.080759 valid-accuracy:0.760192\n",
      "[INFO 2023-04-06T23:24:40.521096+01:00 kernel.cc:1214] Loading model from path /var/folders/80/5mgc74450p1b9jxkl3fd7z780000gn/T/tmpzo0y_g6w/model/ with prefix d4a592508e1e43ef\n",
      "[INFO 2023-04-06T23:24:40.861633+01:00 decision_forest.cc:661] Model loaded with 168 root(s), 275048 node(s), and 18 input feature(s).\n",
      "[INFO 2023-04-06T23:24:40.861659+01:00 abstract_model.cc:1312] Engine \"GradientBoostedTreesGeneric\" built\n",
      "[INFO 2023-04-06T23:24:40.861671+01:00 kernel.cc:1046] Use fast generic engine\n",
      "2023-04-06 23:24:40.994010: I tensorflow/core/grappler/optimizers/custom_graph_optimizer_registry.cc:114] Plugin optimizer for device_type GPU is enabled.\n",
      "2023-04-06 23:24:41.060219: I tensorflow/core/grappler/optimizers/custom_graph_optimizer_registry.cc:114] Plugin optimizer for device_type GPU is enabled.\n"
     ]
    },
    {
     "name": "stdout",
     "output_type": "stream",
     "text": [
      " 7/40 [====>.........................] - ETA: 0s"
     ]
    },
    {
     "name": "stderr",
     "output_type": "stream",
     "text": [
      "2023-04-06 23:24:41.826801: I tensorflow/core/grappler/optimizers/custom_graph_optimizer_registry.cc:114] Plugin optimizer for device_type GPU is enabled.\n"
     ]
    },
    {
     "name": "stdout",
     "output_type": "stream",
     "text": [
      "40/40 [==============================] - 1s 19ms/step\n"
     ]
    },
    {
     "name": "stderr",
     "output_type": "stream",
     "text": [
      "\u001b[32m[I 2023-04-06 23:24:42,635]\u001b[0m Trial 22 finished with value: 0.978522421716239 and parameters: {'max_depth': 13, 'l1_regularization': 0.680178115823684, 'l2_regularization': 7.254282425426554, 'growing_strategy': 'LOCAL', 'loss': 'BINARY_FOCAL_LOSS', 'min_examples': 5, 'num_candidate_attributes_ratio': 0.45772916578622297, 'shrinkage': 0.12817724193441837, 'discretize_numerical_features': False, 'num_discretized_numerical_bins': 510, 'focal_loss_gamma': 1.754236605779876}. Best is trial 22 with value: 0.978522421716239.\u001b[0m\n"
     ]
    },
    {
     "name": "stdout",
     "output_type": "stream",
     "text": [
      "Use /var/folders/80/5mgc74450p1b9jxkl3fd7z780000gn/T/tmpf_a5xtol as temporary training directory\n"
     ]
    },
    {
     "name": "stderr",
     "output_type": "stream",
     "text": [
      "2023-04-06 23:24:42.768328: I tensorflow/core/grappler/optimizers/custom_graph_optimizer_registry.cc:114] Plugin optimizer for device_type GPU is enabled.\n"
     ]
    },
    {
     "name": "stdout",
     "output_type": "stream",
     "text": [
      "Num validation examples: tf.Tensor(39540, shape=(), dtype=int32)\n"
     ]
    },
    {
     "name": "stderr",
     "output_type": "stream",
     "text": [
      "2023-04-06 23:24:45.374917: I tensorflow/core/grappler/optimizers/custom_graph_optimizer_registry.cc:114] Plugin optimizer for device_type GPU is enabled.\n",
      "2023-04-06 23:24:45.832123: W external/ydf/yggdrasil_decision_forests/learner/gradient_boosted_trees/gradient_boosted_trees.cc:1790] \"goss_alpha\" set but \"sampling_method\" not equal to \"GOSS\".\n",
      "2023-04-06 23:24:45.832140: W external/ydf/yggdrasil_decision_forests/learner/gradient_boosted_trees/gradient_boosted_trees.cc:1800] \"goss_beta\" set but \"sampling_method\" not equal to \"GOSS\".\n",
      "2023-04-06 23:24:45.832143: W external/ydf/yggdrasil_decision_forests/learner/gradient_boosted_trees/gradient_boosted_trees.cc:1814] \"selective_gradient_boosting_ratio\" set but \"sampling_method\" not equal to \"SELGB\".\n",
      "2023-04-06 23:24:45.832392: I external/ydf/yggdrasil_decision_forests/learner/gradient_boosted_trees/gradient_boosted_trees.cc:1077] Training gradient boosted tree on 802301 example(s) and 18 feature(s).\n",
      "2023-04-06 23:24:45.832463: I external/ydf/yggdrasil_decision_forests/learner/gradient_boosted_trees/gradient_boosted_trees.cc:1120] 802301 examples used for training and 39540 examples used for validation\n",
      "2023-04-06 23:24:47.263812: I external/ydf/yggdrasil_decision_forests/learner/gradient_boosted_trees/gradient_boosted_trees.cc:1518] \tnum-trees:1 train-loss:0.081109 train-accuracy:0.827721 valid-loss:0.207265 valid-accuracy:0.579514\n",
      "2023-04-06 23:25:00.880406: I external/ydf/yggdrasil_decision_forests/learner/gradient_boosted_trees/gradient_boosted_trees.cc:1520] \tnum-trees:11 train-loss:0.025333 train-accuracy:0.929882 valid-loss:0.094338 valid-accuracy:0.647699\n",
      "2023-04-06 23:25:30.941700: I external/ydf/yggdrasil_decision_forests/learner/gradient_boosted_trees/gradient_boosted_trees.cc:1520] \tnum-trees:34 train-loss:0.015324 train-accuracy:0.961583 valid-loss:0.070475 valid-accuracy:0.760799\n",
      "2023-04-06 23:26:01.673154: I external/ydf/yggdrasil_decision_forests/learner/gradient_boosted_trees/gradient_boosted_trees.cc:1520] \tnum-trees:60 train-loss:0.013745 train-accuracy:0.965052 valid-loss:0.069288 valid-accuracy:0.773495\n",
      "2023-04-06 23:26:32.273266: I external/ydf/yggdrasil_decision_forests/learner/gradient_boosted_trees/gradient_boosted_trees.cc:1520] \tnum-trees:87 train-loss:0.013004 train-accuracy:0.966833 valid-loss:0.068488 valid-accuracy:0.777339\n",
      "2023-04-06 23:27:02.639964: I external/ydf/yggdrasil_decision_forests/learner/gradient_boosted_trees/gradient_boosted_trees.cc:1520] \tnum-trees:115 train-loss:0.012589 train-accuracy:0.967889 valid-loss:0.068717 valid-accuracy:0.779666\n",
      "2023-04-06 23:27:33.585035: I external/ydf/yggdrasil_decision_forests/learner/gradient_boosted_trees/gradient_boosted_trees.cc:1520] \tnum-trees:143 train-loss:0.012174 train-accuracy:0.968896 valid-loss:0.068498 valid-accuracy:0.781993\n",
      "2023-04-06 23:28:04.020465: I external/ydf/yggdrasil_decision_forests/learner/gradient_boosted_trees/gradient_boosted_trees.cc:1520] \tnum-trees:171 train-loss:0.011843 train-accuracy:0.969854 valid-loss:0.068772 valid-accuracy:0.783384\n",
      "2023-04-06 23:28:16.042359: I external/ydf/yggdrasil_decision_forests/learner/gradient_boosted_trees/gradient_boosted_trees.cc:1568] Create final snapshot of the model at iteration 181\n",
      "2023-04-06 23:28:16.095845: I external/ydf/yggdrasil_decision_forests/learner/gradient_boosted_trees/gradient_boosted_trees.cc:247] Truncates the model to 132 tree(s) i.e. 132  iteration(s).\n",
      "2023-04-06 23:28:16.101108: I external/ydf/yggdrasil_decision_forests/learner/gradient_boosted_trees/gradient_boosted_trees.cc:309] Final model num-trees:132 valid-loss:0.068253 valid-accuracy:0.781689\n",
      "[INFO 2023-04-06T23:28:16.205992+01:00 kernel.cc:1214] Loading model from path /var/folders/80/5mgc74450p1b9jxkl3fd7z780000gn/T/tmpf_a5xtol/model/ with prefix 712eaa68bbba4d75\n",
      "[INFO 2023-04-06T23:28:16.389493+01:00 decision_forest.cc:661] Model loaded with 132 root(s), 148084 node(s), and 18 input feature(s).\n",
      "[INFO 2023-04-06T23:28:16.389525+01:00 abstract_model.cc:1312] Engine \"GradientBoostedTreesGeneric\" built\n",
      "[INFO 2023-04-06T23:28:16.389535+01:00 kernel.cc:1046] Use fast generic engine\n",
      "2023-04-06 23:28:16.517468: I tensorflow/core/grappler/optimizers/custom_graph_optimizer_registry.cc:114] Plugin optimizer for device_type GPU is enabled.\n",
      "2023-04-06 23:28:16.582333: I tensorflow/core/grappler/optimizers/custom_graph_optimizer_registry.cc:114] Plugin optimizer for device_type GPU is enabled.\n"
     ]
    },
    {
     "name": "stdout",
     "output_type": "stream",
     "text": [
      " 7/40 [====>.........................] - ETA: 0s"
     ]
    },
    {
     "name": "stderr",
     "output_type": "stream",
     "text": [
      "2023-04-06 23:28:17.320614: I tensorflow/core/grappler/optimizers/custom_graph_optimizer_registry.cc:114] Plugin optimizer for device_type GPU is enabled.\n"
     ]
    },
    {
     "name": "stdout",
     "output_type": "stream",
     "text": [
      "40/40 [==============================] - 1s 19ms/step\n"
     ]
    },
    {
     "name": "stderr",
     "output_type": "stream",
     "text": [
      "\u001b[32m[I 2023-04-06 23:28:18,098]\u001b[0m Trial 23 finished with value: 0.9804973029985538 and parameters: {'max_depth': 14, 'l1_regularization': 2.1903014700516965, 'l2_regularization': 7.642727164030241, 'growing_strategy': 'LOCAL', 'loss': 'BINARY_FOCAL_LOSS', 'min_examples': 190, 'num_candidate_attributes_ratio': 0.42685934028890105, 'shrinkage': 0.13666528438558773, 'discretize_numerical_features': False, 'num_discretized_numerical_bins': 510, 'focal_loss_gamma': 1.8961924336625042}. Best is trial 23 with value: 0.9804973029985538.\u001b[0m\n"
     ]
    },
    {
     "name": "stdout",
     "output_type": "stream",
     "text": [
      "Use /var/folders/80/5mgc74450p1b9jxkl3fd7z780000gn/T/tmppmgjn_ln as temporary training directory\n"
     ]
    },
    {
     "name": "stderr",
     "output_type": "stream",
     "text": [
      "2023-04-06 23:28:18.229787: I tensorflow/core/grappler/optimizers/custom_graph_optimizer_registry.cc:114] Plugin optimizer for device_type GPU is enabled.\n"
     ]
    },
    {
     "name": "stdout",
     "output_type": "stream",
     "text": [
      "Num validation examples: tf.Tensor(39540, shape=(), dtype=int32)\n"
     ]
    },
    {
     "name": "stderr",
     "output_type": "stream",
     "text": [
      "2023-04-06 23:28:20.804503: I tensorflow/core/grappler/optimizers/custom_graph_optimizer_registry.cc:114] Plugin optimizer for device_type GPU is enabled.\n",
      "2023-04-06 23:28:21.264796: W external/ydf/yggdrasil_decision_forests/learner/gradient_boosted_trees/gradient_boosted_trees.cc:1790] \"goss_alpha\" set but \"sampling_method\" not equal to \"GOSS\".\n",
      "2023-04-06 23:28:21.264811: W external/ydf/yggdrasil_decision_forests/learner/gradient_boosted_trees/gradient_boosted_trees.cc:1800] \"goss_beta\" set but \"sampling_method\" not equal to \"GOSS\".\n",
      "2023-04-06 23:28:21.264814: W external/ydf/yggdrasil_decision_forests/learner/gradient_boosted_trees/gradient_boosted_trees.cc:1814] \"selective_gradient_boosting_ratio\" set but \"sampling_method\" not equal to \"SELGB\".\n",
      "2023-04-06 23:28:21.265058: I external/ydf/yggdrasil_decision_forests/learner/gradient_boosted_trees/gradient_boosted_trees.cc:1077] Training gradient boosted tree on 802301 example(s) and 18 feature(s).\n",
      "2023-04-06 23:28:21.265144: I external/ydf/yggdrasil_decision_forests/learner/gradient_boosted_trees/gradient_boosted_trees.cc:1120] 802301 examples used for training and 39540 examples used for validation\n",
      "2023-04-06 23:28:22.567334: I external/ydf/yggdrasil_decision_forests/learner/gradient_boosted_trees/gradient_boosted_trees.cc:1518] \tnum-trees:1 train-loss:0.073772 train-accuracy:0.827721 valid-loss:0.203692 valid-accuracy:0.579514\n",
      "2023-04-06 23:28:34.505003: I external/ydf/yggdrasil_decision_forests/learner/gradient_boosted_trees/gradient_boosted_trees.cc:1520] \tnum-trees:11 train-loss:0.031141 train-accuracy:0.954952 valid-loss:0.129083 valid-accuracy:0.734901\n",
      "2023-04-06 23:29:05.160342: I external/ydf/yggdrasil_decision_forests/learner/gradient_boosted_trees/gradient_boosted_trees.cc:1520] \tnum-trees:39 train-loss:0.023361 train-accuracy:0.964872 valid-loss:0.116964 valid-accuracy:0.775367\n",
      "2023-04-06 23:29:35.805845: I external/ydf/yggdrasil_decision_forests/learner/gradient_boosted_trees/gradient_boosted_trees.cc:1520] \tnum-trees:69 train-loss:0.021225 train-accuracy:0.968312 valid-loss:0.114683 valid-accuracy:0.784067\n",
      "2023-04-06 23:30:06.181888: I external/ydf/yggdrasil_decision_forests/learner/gradient_boosted_trees/gradient_boosted_trees.cc:1520] \tnum-trees:99 train-loss:0.019853 train-accuracy:0.970704 valid-loss:0.114416 valid-accuracy:0.787000\n",
      "2023-04-06 23:30:36.571426: I external/ydf/yggdrasil_decision_forests/learner/gradient_boosted_trees/gradient_boosted_trees.cc:1520] \tnum-trees:130 train-loss:0.019061 train-accuracy:0.972159 valid-loss:0.115674 valid-accuracy:0.788316\n",
      "2023-04-06 23:30:42.474578: I external/ydf/yggdrasil_decision_forests/learner/gradient_boosted_trees/gradient_boosted_trees.cc:1568] Create final snapshot of the model at iteration 135\n",
      "2023-04-06 23:30:42.501268: I external/ydf/yggdrasil_decision_forests/learner/gradient_boosted_trees/gradient_boosted_trees.cc:247] Truncates the model to 86 tree(s) i.e. 86  iteration(s).\n",
      "2023-04-06 23:30:42.504529: I external/ydf/yggdrasil_decision_forests/learner/gradient_boosted_trees/gradient_boosted_trees.cc:309] Final model num-trees:86 valid-loss:0.113626 valid-accuracy:0.786571\n",
      "[INFO 2023-04-06T23:30:42.562267+01:00 kernel.cc:1214] Loading model from path /var/folders/80/5mgc74450p1b9jxkl3fd7z780000gn/T/tmppmgjn_ln/model/ with prefix 354006b44c8a45b2\n",
      "[INFO 2023-04-06T23:30:42.648193+01:00 decision_forest.cc:661] Model loaded with 86 root(s), 68992 node(s), and 18 input feature(s).\n",
      "[INFO 2023-04-06T23:30:42.648216+01:00 abstract_model.cc:1312] Engine \"GradientBoostedTreesGeneric\" built\n",
      "[INFO 2023-04-06T23:30:42.648236+01:00 kernel.cc:1046] Use fast generic engine\n",
      "2023-04-06 23:30:42.760685: I tensorflow/core/grappler/optimizers/custom_graph_optimizer_registry.cc:114] Plugin optimizer for device_type GPU is enabled.\n",
      "2023-04-06 23:30:42.815843: I tensorflow/core/grappler/optimizers/custom_graph_optimizer_registry.cc:114] Plugin optimizer for device_type GPU is enabled.\n"
     ]
    },
    {
     "name": "stdout",
     "output_type": "stream",
     "text": [
      "16/40 [===========>..................] - ETA: 0s"
     ]
    },
    {
     "name": "stderr",
     "output_type": "stream",
     "text": [
      "2023-04-06 23:30:43.248195: I tensorflow/core/grappler/optimizers/custom_graph_optimizer_registry.cc:114] Plugin optimizer for device_type GPU is enabled.\n"
     ]
    },
    {
     "name": "stdout",
     "output_type": "stream",
     "text": [
      "40/40 [==============================] - 0s 11ms/step\n"
     ]
    },
    {
     "name": "stderr",
     "output_type": "stream",
     "text": [
      "\u001b[32m[I 2023-04-06 23:30:43,714]\u001b[0m Trial 24 finished with value: 0.9801396188234417 and parameters: {'max_depth': 13, 'l1_regularization': 2.091387998529152, 'l2_regularization': 7.51341240891683, 'growing_strategy': 'LOCAL', 'loss': 'BINARY_FOCAL_LOSS', 'min_examples': 225, 'num_candidate_attributes_ratio': 0.4071149882074546, 'shrinkage': 0.29328858790428836, 'discretize_numerical_features': False, 'num_discretized_numerical_bins': 430, 'focal_loss_gamma': 1.0533113388036506}. Best is trial 23 with value: 0.9804973029985538.\u001b[0m\n"
     ]
    },
    {
     "name": "stdout",
     "output_type": "stream",
     "text": [
      "Use /var/folders/80/5mgc74450p1b9jxkl3fd7z780000gn/T/tmpxd3d75x0 as temporary training directory\n"
     ]
    },
    {
     "name": "stderr",
     "output_type": "stream",
     "text": [
      "2023-04-06 23:30:43.840759: I tensorflow/core/grappler/optimizers/custom_graph_optimizer_registry.cc:114] Plugin optimizer for device_type GPU is enabled.\n"
     ]
    },
    {
     "name": "stdout",
     "output_type": "stream",
     "text": [
      "Num validation examples: tf.Tensor(39540, shape=(), dtype=int32)\n"
     ]
    },
    {
     "name": "stderr",
     "output_type": "stream",
     "text": [
      "2023-04-06 23:30:46.428902: I tensorflow/core/grappler/optimizers/custom_graph_optimizer_registry.cc:114] Plugin optimizer for device_type GPU is enabled.\n",
      "2023-04-06 23:30:46.891873: W external/ydf/yggdrasil_decision_forests/learner/gradient_boosted_trees/gradient_boosted_trees.cc:1790] \"goss_alpha\" set but \"sampling_method\" not equal to \"GOSS\".\n",
      "2023-04-06 23:30:46.891888: W external/ydf/yggdrasil_decision_forests/learner/gradient_boosted_trees/gradient_boosted_trees.cc:1800] \"goss_beta\" set but \"sampling_method\" not equal to \"GOSS\".\n",
      "2023-04-06 23:30:46.891891: W external/ydf/yggdrasil_decision_forests/learner/gradient_boosted_trees/gradient_boosted_trees.cc:1814] \"selective_gradient_boosting_ratio\" set but \"sampling_method\" not equal to \"SELGB\".\n",
      "2023-04-06 23:30:46.892154: I external/ydf/yggdrasil_decision_forests/learner/gradient_boosted_trees/gradient_boosted_trees.cc:1077] Training gradient boosted tree on 802301 example(s) and 18 feature(s).\n",
      "2023-04-06 23:30:46.892228: I external/ydf/yggdrasil_decision_forests/learner/gradient_boosted_trees/gradient_boosted_trees.cc:1120] 802301 examples used for training and 39540 examples used for validation\n",
      "2023-04-06 23:30:48.270020: I external/ydf/yggdrasil_decision_forests/learner/gradient_boosted_trees/gradient_boosted_trees.cc:1518] \tnum-trees:1 train-loss:0.094800 train-accuracy:0.827721 valid-loss:0.255003 valid-accuracy:0.579514\n",
      "2023-04-06 23:31:07.398880: I external/ydf/yggdrasil_decision_forests/learner/gradient_boosted_trees/gradient_boosted_trees.cc:1520] \tnum-trees:16 train-loss:0.034842 train-accuracy:0.959322 valid-loss:0.148060 valid-accuracy:0.769449\n",
      "2023-04-06 23:31:37.768720: I external/ydf/yggdrasil_decision_forests/learner/gradient_boosted_trees/gradient_boosted_trees.cc:1520] \tnum-trees:42 train-loss:0.028630 train-accuracy:0.966121 valid-loss:0.146551 valid-accuracy:0.784345\n",
      "2023-04-06 23:32:01.171037: I external/ydf/yggdrasil_decision_forests/learner/gradient_boosted_trees/gradient_boosted_trees.cc:1568] Create final snapshot of the model at iteration 62\n",
      "2023-04-06 23:32:01.190013: I external/ydf/yggdrasil_decision_forests/learner/gradient_boosted_trees/gradient_boosted_trees.cc:247] Truncates the model to 13 tree(s) i.e. 13  iteration(s).\n",
      "2023-04-06 23:32:01.198144: I external/ydf/yggdrasil_decision_forests/learner/gradient_boosted_trees/gradient_boosted_trees.cc:309] Final model num-trees:13 valid-loss:0.145107 valid-accuracy:0.766945\n",
      "[INFO 2023-04-06T23:32:01.221574+01:00 kernel.cc:1214] Loading model from path /var/folders/80/5mgc74450p1b9jxkl3fd7z780000gn/T/tmpxd3d75x0/model/ with prefix 5ac252d702874e5f\n",
      "[INFO 2023-04-06T23:32:01.248846+01:00 decision_forest.cc:661] Model loaded with 13 root(s), 22139 node(s), and 18 input feature(s).\n",
      "[INFO 2023-04-06T23:32:01.248871+01:00 abstract_model.cc:1312] Engine \"GradientBoostedTreesGeneric\" built\n",
      "[INFO 2023-04-06T23:32:01.248888+01:00 kernel.cc:1046] Use fast generic engine\n",
      "2023-04-06 23:32:01.357451: I tensorflow/core/grappler/optimizers/custom_graph_optimizer_registry.cc:114] Plugin optimizer for device_type GPU is enabled.\n"
     ]
    },
    {
     "name": "stdout",
     "output_type": "stream",
     "text": [
      " 1/40 [..............................] - ETA: 1s"
     ]
    },
    {
     "name": "stderr",
     "output_type": "stream",
     "text": [
      "2023-04-06 23:32:01.407602: I tensorflow/core/grappler/optimizers/custom_graph_optimizer_registry.cc:114] Plugin optimizer for device_type GPU is enabled.\n",
      "2023-04-06 23:32:01.562925: I tensorflow/core/grappler/optimizers/custom_graph_optimizer_registry.cc:114] Plugin optimizer for device_type GPU is enabled.\n"
     ]
    },
    {
     "name": "stdout",
     "output_type": "stream",
     "text": [
      "40/40 [==============================] - 0s 4ms/step\n"
     ]
    },
    {
     "name": "stderr",
     "output_type": "stream",
     "text": [
      "\u001b[32m[I 2023-04-06 23:32:01,738]\u001b[0m Trial 25 finished with value: 0.9749112730816318 and parameters: {'max_depth': 14, 'l1_regularization': 2.3900519538822333, 'l2_regularization': 7.160444706724764, 'growing_strategy': 'LOCAL', 'loss': 'BINARY_FOCAL_LOSS', 'min_examples': 295, 'num_candidate_attributes_ratio': 0.40768567725447474, 'shrinkage': 0.27357261472488814, 'discretize_numerical_features': False, 'num_discretized_numerical_bins': 370, 'focal_loss_gamma': 0.6953703680032328}. Best is trial 23 with value: 0.9804973029985538.\u001b[0m\n"
     ]
    },
    {
     "name": "stdout",
     "output_type": "stream",
     "text": [
      "Use /var/folders/80/5mgc74450p1b9jxkl3fd7z780000gn/T/tmph0emztn2 as temporary training directory\n"
     ]
    },
    {
     "name": "stderr",
     "output_type": "stream",
     "text": [
      "2023-04-06 23:32:01.889004: I tensorflow/core/grappler/optimizers/custom_graph_optimizer_registry.cc:114] Plugin optimizer for device_type GPU is enabled.\n"
     ]
    },
    {
     "name": "stdout",
     "output_type": "stream",
     "text": [
      "Num validation examples: tf.Tensor(39540, shape=(), dtype=int32)\n"
     ]
    },
    {
     "name": "stderr",
     "output_type": "stream",
     "text": [
      "2023-04-06 23:32:04.472437: I tensorflow/core/grappler/optimizers/custom_graph_optimizer_registry.cc:114] Plugin optimizer for device_type GPU is enabled.\n",
      "2023-04-06 23:32:04.932694: W external/ydf/yggdrasil_decision_forests/learner/gradient_boosted_trees/gradient_boosted_trees.cc:1790] \"goss_alpha\" set but \"sampling_method\" not equal to \"GOSS\".\n",
      "2023-04-06 23:32:04.932712: W external/ydf/yggdrasil_decision_forests/learner/gradient_boosted_trees/gradient_boosted_trees.cc:1800] \"goss_beta\" set but \"sampling_method\" not equal to \"GOSS\".\n",
      "2023-04-06 23:32:04.932715: W external/ydf/yggdrasil_decision_forests/learner/gradient_boosted_trees/gradient_boosted_trees.cc:1814] \"selective_gradient_boosting_ratio\" set but \"sampling_method\" not equal to \"SELGB\".\n",
      "2023-04-06 23:32:04.932957: I external/ydf/yggdrasil_decision_forests/learner/gradient_boosted_trees/gradient_boosted_trees.cc:1077] Training gradient boosted tree on 802301 example(s) and 18 feature(s).\n",
      "2023-04-06 23:32:04.933029: I external/ydf/yggdrasil_decision_forests/learner/gradient_boosted_trees/gradient_boosted_trees.cc:1120] 802301 examples used for training and 39540 examples used for validation\n",
      "2023-04-06 23:32:06.197096: I external/ydf/yggdrasil_decision_forests/learner/gradient_boosted_trees/gradient_boosted_trees.cc:1518] \tnum-trees:1 train-loss:0.052268 train-accuracy:0.827721 valid-loss:0.142094 valid-accuracy:0.579514\n",
      "2023-04-06 23:32:08.735886: I external/ydf/yggdrasil_decision_forests/learner/gradient_boosted_trees/gradient_boosted_trees.cc:1520] \tnum-trees:3 train-loss:0.031363 train-accuracy:0.827721 valid-loss:0.099782 valid-accuracy:0.579514\n",
      "2023-04-06 23:32:39.621998: I external/ydf/yggdrasil_decision_forests/learner/gradient_boosted_trees/gradient_boosted_trees.cc:1520] \tnum-trees:30 train-loss:0.013218 train-accuracy:0.960683 valid-loss:0.063272 valid-accuracy:0.770764\n",
      "2023-04-06 23:33:10.009720: I external/ydf/yggdrasil_decision_forests/learner/gradient_boosted_trees/gradient_boosted_trees.cc:1520] \tnum-trees:58 train-loss:0.011397 train-accuracy:0.965734 valid-loss:0.062193 valid-accuracy:0.778022\n",
      "2023-04-06 23:33:40.385731: I external/ydf/yggdrasil_decision_forests/learner/gradient_boosted_trees/gradient_boosted_trees.cc:1520] \tnum-trees:87 train-loss:0.010474 train-accuracy:0.968595 valid-loss:0.062868 valid-accuracy:0.780020\n",
      "2023-04-06 23:34:08.453761: I external/ydf/yggdrasil_decision_forests/learner/gradient_boosted_trees/gradient_boosted_trees.cc:1568] Create final snapshot of the model at iteration 114\n",
      "2023-04-06 23:34:08.482505: I external/ydf/yggdrasil_decision_forests/learner/gradient_boosted_trees/gradient_boosted_trees.cc:247] Truncates the model to 65 tree(s) i.e. 65  iteration(s).\n",
      "2023-04-06 23:34:08.487473: I external/ydf/yggdrasil_decision_forests/learner/gradient_boosted_trees/gradient_boosted_trees.cc:309] Final model num-trees:65 valid-loss:0.061703 valid-accuracy:0.780956\n",
      "[INFO 2023-04-06T23:34:08.538876+01:00 kernel.cc:1214] Loading model from path /var/folders/80/5mgc74450p1b9jxkl3fd7z780000gn/T/tmph0emztn2/model/ with prefix 9090b5f1478140b7\n",
      "[INFO 2023-04-06T23:34:08.621858+01:00 decision_forest.cc:661] Model loaded with 65 root(s), 68625 node(s), and 18 input feature(s).\n",
      "[INFO 2023-04-06T23:34:08.621877+01:00 abstract_model.cc:1312] Engine \"GradientBoostedTreesGeneric\" built\n",
      "[INFO 2023-04-06T23:34:08.621887+01:00 kernel.cc:1046] Use fast generic engine\n",
      "2023-04-06 23:34:08.741452: I tensorflow/core/grappler/optimizers/custom_graph_optimizer_registry.cc:114] Plugin optimizer for device_type GPU is enabled.\n",
      "2023-04-06 23:34:08.795833: I tensorflow/core/grappler/optimizers/custom_graph_optimizer_registry.cc:114] Plugin optimizer for device_type GPU is enabled.\n"
     ]
    },
    {
     "name": "stdout",
     "output_type": "stream",
     "text": [
      "13/40 [========>.....................] - ETA: 0s"
     ]
    },
    {
     "name": "stderr",
     "output_type": "stream",
     "text": [
      "2023-04-06 23:34:09.194996: I tensorflow/core/grappler/optimizers/custom_graph_optimizer_registry.cc:114] Plugin optimizer for device_type GPU is enabled.\n"
     ]
    },
    {
     "name": "stdout",
     "output_type": "stream",
     "text": [
      "40/40 [==============================] - 0s 10ms/step\n"
     ]
    },
    {
     "name": "stderr",
     "output_type": "stream",
     "text": [
      "\u001b[32m[I 2023-04-06 23:34:09,626]\u001b[0m Trial 26 finished with value: 0.9788631743967662 and parameters: {'max_depth': 13, 'l1_regularization': 1.9842538813277053, 'l2_regularization': 4.407848253008522, 'growing_strategy': 'LOCAL', 'loss': 'BINARY_FOCAL_LOSS', 'min_examples': 230, 'num_candidate_attributes_ratio': 0.23770602617081166, 'shrinkage': 0.28059083284248143, 'discretize_numerical_features': False, 'num_discretized_numerical_bins': 290, 'focal_loss_gamma': 2.1297036389520017}. Best is trial 23 with value: 0.9804973029985538.\u001b[0m\n"
     ]
    },
    {
     "name": "stdout",
     "output_type": "stream",
     "text": [
      "Use /var/folders/80/5mgc74450p1b9jxkl3fd7z780000gn/T/tmpncsi3gge as temporary training directory\n"
     ]
    },
    {
     "name": "stderr",
     "output_type": "stream",
     "text": [
      "2023-04-06 23:34:09.755321: I tensorflow/core/grappler/optimizers/custom_graph_optimizer_registry.cc:114] Plugin optimizer for device_type GPU is enabled.\n"
     ]
    },
    {
     "name": "stdout",
     "output_type": "stream",
     "text": [
      "Num validation examples: tf.Tensor(39540, shape=(), dtype=int32)\n"
     ]
    },
    {
     "name": "stderr",
     "output_type": "stream",
     "text": [
      "2023-04-06 23:34:12.337092: I tensorflow/core/grappler/optimizers/custom_graph_optimizer_registry.cc:114] Plugin optimizer for device_type GPU is enabled.\n",
      "2023-04-06 23:34:12.793798: W external/ydf/yggdrasil_decision_forests/learner/gradient_boosted_trees/gradient_boosted_trees.cc:1790] \"goss_alpha\" set but \"sampling_method\" not equal to \"GOSS\".\n",
      "2023-04-06 23:34:12.793811: W external/ydf/yggdrasil_decision_forests/learner/gradient_boosted_trees/gradient_boosted_trees.cc:1800] \"goss_beta\" set but \"sampling_method\" not equal to \"GOSS\".\n",
      "2023-04-06 23:34:12.793814: W external/ydf/yggdrasil_decision_forests/learner/gradient_boosted_trees/gradient_boosted_trees.cc:1814] \"selective_gradient_boosting_ratio\" set but \"sampling_method\" not equal to \"SELGB\".\n",
      "2023-04-06 23:34:12.794072: I external/ydf/yggdrasil_decision_forests/learner/gradient_boosted_trees/gradient_boosted_trees.cc:1077] Training gradient boosted tree on 802301 example(s) and 18 feature(s).\n",
      "2023-04-06 23:34:12.794146: I external/ydf/yggdrasil_decision_forests/learner/gradient_boosted_trees/gradient_boosted_trees.cc:1120] 802301 examples used for training and 39540 examples used for validation\n",
      "2023-04-06 23:34:14.358885: I external/ydf/yggdrasil_decision_forests/learner/gradient_boosted_trees/gradient_boosted_trees.cc:1518] \tnum-trees:1 train-loss:0.054488 train-accuracy:0.827721 valid-loss:0.151753 valid-accuracy:0.579514\n",
      "2023-04-06 23:34:15.930891: I external/ydf/yggdrasil_decision_forests/learner/gradient_boosted_trees/gradient_boosted_trees.cc:1520] \tnum-trees:2 train-loss:0.040996 train-accuracy:0.827721 valid-loss:0.126974 valid-accuracy:0.579514\n",
      "2023-04-06 23:34:46.649498: I external/ydf/yggdrasil_decision_forests/learner/gradient_boosted_trees/gradient_boosted_trees.cc:1520] \tnum-trees:22 train-loss:0.016281 train-accuracy:0.955601 valid-loss:0.070931 valid-accuracy:0.756550\n",
      "2023-04-06 23:35:18.060289: I external/ydf/yggdrasil_decision_forests/learner/gradient_boosted_trees/gradient_boosted_trees.cc:1520] \tnum-trees:43 train-loss:0.013908 train-accuracy:0.961154 valid-loss:0.069416 valid-accuracy:0.769600\n",
      "2023-04-06 23:35:49.055571: I external/ydf/yggdrasil_decision_forests/learner/gradient_boosted_trees/gradient_boosted_trees.cc:1520] \tnum-trees:64 train-loss:0.012787 train-accuracy:0.963937 valid-loss:0.068963 valid-accuracy:0.775063\n",
      "2023-04-06 23:36:19.287836: I external/ydf/yggdrasil_decision_forests/learner/gradient_boosted_trees/gradient_boosted_trees.cc:1520] \tnum-trees:84 train-loss:0.012036 train-accuracy:0.966056 valid-loss:0.068982 valid-accuracy:0.777213\n",
      "2023-04-06 23:36:50.628300: I external/ydf/yggdrasil_decision_forests/learner/gradient_boosted_trees/gradient_boosted_trees.cc:1520] \tnum-trees:105 train-loss:0.011470 train-accuracy:0.967705 valid-loss:0.069871 valid-accuracy:0.778958\n",
      "2023-04-06 23:36:59.681298: I external/ydf/yggdrasil_decision_forests/learner/gradient_boosted_trees/gradient_boosted_trees.cc:1568] Create final snapshot of the model at iteration 110\n",
      "2023-04-06 23:36:59.740135: I external/ydf/yggdrasil_decision_forests/learner/gradient_boosted_trees/gradient_boosted_trees.cc:247] Truncates the model to 61 tree(s) i.e. 61  iteration(s).\n",
      "2023-04-06 23:36:59.754940: I external/ydf/yggdrasil_decision_forests/learner/gradient_boosted_trees/gradient_boosted_trees.cc:309] Final model num-trees:61 valid-loss:0.068288 valid-accuracy:0.775518\n",
      "[INFO 2023-04-06T23:36:59.837448+01:00 kernel.cc:1214] Loading model from path /var/folders/80/5mgc74450p1b9jxkl3fd7z780000gn/T/tmpncsi3gge/model/ with prefix baa324ae3d4a4fcd\n",
      "[INFO 2023-04-06T23:36:59.970542+01:00 decision_forest.cc:661] Model loaded with 61 root(s), 108625 node(s), and 18 input feature(s).\n",
      "[INFO 2023-04-06T23:36:59.970569+01:00 abstract_model.cc:1312] Engine \"GradientBoostedTreesGeneric\" built\n",
      "[INFO 2023-04-06T23:36:59.970578+01:00 kernel.cc:1046] Use fast generic engine\n",
      "2023-04-06 23:37:00.094936: I tensorflow/core/grappler/optimizers/custom_graph_optimizer_registry.cc:114] Plugin optimizer for device_type GPU is enabled.\n",
      "2023-04-06 23:37:00.151719: I tensorflow/core/grappler/optimizers/custom_graph_optimizer_registry.cc:114] Plugin optimizer for device_type GPU is enabled.\n"
     ]
    },
    {
     "name": "stdout",
     "output_type": "stream",
     "text": [
      "11/40 [=======>......................] - ETA: 0s"
     ]
    },
    {
     "name": "stderr",
     "output_type": "stream",
     "text": [
      "2023-04-06 23:37:00.626846: I tensorflow/core/grappler/optimizers/custom_graph_optimizer_registry.cc:114] Plugin optimizer for device_type GPU is enabled.\n"
     ]
    },
    {
     "name": "stdout",
     "output_type": "stream",
     "text": [
      "40/40 [==============================] - 1s 12ms/step\n"
     ]
    },
    {
     "name": "stderr",
     "output_type": "stream",
     "text": [
      "\u001b[32m[I 2023-04-06 23:37:01,136]\u001b[0m Trial 27 finished with value: 0.975382355635711 and parameters: {'max_depth': 18, 'l1_regularization': 4.627503305026027, 'l2_regularization': 4.396643943283998, 'growing_strategy': 'LOCAL', 'loss': 'BINARY_FOCAL_LOSS', 'min_examples': 430, 'num_candidate_attributes_ratio': 0.20404352572841236, 'shrinkage': 0.28282788496375116, 'discretize_numerical_features': False, 'num_discretized_numerical_bins': 260, 'focal_loss_gamma': 2.0422832841041902}. Best is trial 23 with value: 0.9804973029985538.\u001b[0m\n"
     ]
    },
    {
     "name": "stdout",
     "output_type": "stream",
     "text": [
      "Use /var/folders/80/5mgc74450p1b9jxkl3fd7z780000gn/T/tmpfrijajvq as temporary training directory\n"
     ]
    },
    {
     "name": "stderr",
     "output_type": "stream",
     "text": [
      "2023-04-06 23:37:01.266581: I tensorflow/core/grappler/optimizers/custom_graph_optimizer_registry.cc:114] Plugin optimizer for device_type GPU is enabled.\n"
     ]
    },
    {
     "name": "stdout",
     "output_type": "stream",
     "text": [
      "Num validation examples: tf.Tensor(39540, shape=(), dtype=int32)\n"
     ]
    },
    {
     "name": "stderr",
     "output_type": "stream",
     "text": [
      "2023-04-06 23:37:03.845155: I tensorflow/core/grappler/optimizers/custom_graph_optimizer_registry.cc:114] Plugin optimizer for device_type GPU is enabled.\n",
      "2023-04-06 23:37:04.303577: W external/ydf/yggdrasil_decision_forests/learner/gradient_boosted_trees/gradient_boosted_trees.cc:1790] \"goss_alpha\" set but \"sampling_method\" not equal to \"GOSS\".\n",
      "2023-04-06 23:37:04.303597: W external/ydf/yggdrasil_decision_forests/learner/gradient_boosted_trees/gradient_boosted_trees.cc:1800] \"goss_beta\" set but \"sampling_method\" not equal to \"GOSS\".\n",
      "2023-04-06 23:37:04.303600: W external/ydf/yggdrasil_decision_forests/learner/gradient_boosted_trees/gradient_boosted_trees.cc:1814] \"selective_gradient_boosting_ratio\" set but \"sampling_method\" not equal to \"SELGB\".\n",
      "2023-04-06 23:37:04.303870: I external/ydf/yggdrasil_decision_forests/learner/gradient_boosted_trees/gradient_boosted_trees.cc:1077] Training gradient boosted tree on 802301 example(s) and 18 feature(s).\n",
      "2023-04-06 23:37:04.303952: I external/ydf/yggdrasil_decision_forests/learner/gradient_boosted_trees/gradient_boosted_trees.cc:1120] 802301 examples used for training and 39540 examples used for validation\n",
      "2023-04-06 23:37:05.588060: I external/ydf/yggdrasil_decision_forests/learner/gradient_boosted_trees/gradient_boosted_trees.cc:1518] \tnum-trees:1 train-loss:0.094551 train-accuracy:0.827721 valid-loss:0.243495 valid-accuracy:0.579514\n",
      "2023-04-06 23:37:20.906060: I external/ydf/yggdrasil_decision_forests/learner/gradient_boosted_trees/gradient_boosted_trees.cc:1520] \tnum-trees:14 train-loss:0.037610 train-accuracy:0.956054 valid-loss:0.153395 valid-accuracy:0.766009\n",
      "2023-04-06 23:37:51.082114: I external/ydf/yggdrasil_decision_forests/learner/gradient_boosted_trees/gradient_boosted_trees.cc:1520] \tnum-trees:42 train-loss:0.030254 train-accuracy:0.963804 valid-loss:0.149761 valid-accuracy:0.783207\n",
      "2023-04-06 23:38:21.250394: I external/ydf/yggdrasil_decision_forests/learner/gradient_boosted_trees/gradient_boosted_trees.cc:1520] \tnum-trees:71 train-loss:0.027057 train-accuracy:0.967730 valid-loss:0.148208 valid-accuracy:0.788518\n",
      "2023-04-06 23:38:51.714128: I external/ydf/yggdrasil_decision_forests/learner/gradient_boosted_trees/gradient_boosted_trees.cc:1520] \tnum-trees:101 train-loss:0.025205 train-accuracy:0.970310 valid-loss:0.148366 valid-accuracy:0.791275\n",
      "2023-04-06 23:39:02.853048: I external/ydf/yggdrasil_decision_forests/learner/gradient_boosted_trees/gradient_boosted_trees.cc:1568] Create final snapshot of the model at iteration 111\n",
      "2023-04-06 23:39:02.877248: I external/ydf/yggdrasil_decision_forests/learner/gradient_boosted_trees/gradient_boosted_trees.cc:247] Truncates the model to 62 tree(s) i.e. 62  iteration(s).\n",
      "2023-04-06 23:39:02.881794: I external/ydf/yggdrasil_decision_forests/learner/gradient_boosted_trees/gradient_boosted_trees.cc:309] Final model num-trees:62 valid-loss:0.146935 valid-accuracy:0.788796\n",
      "[INFO 2023-04-06T23:39:02.925681+01:00 kernel.cc:1214] Loading model from path /var/folders/80/5mgc74450p1b9jxkl3fd7z780000gn/T/tmpfrijajvq/model/ with prefix f23d81788b384f1c\n",
      "[INFO 2023-04-06T23:39:02.994211+01:00 decision_forest.cc:661] Model loaded with 62 root(s), 55682 node(s), and 18 input feature(s).\n",
      "[INFO 2023-04-06T23:39:02.99423+01:00 abstract_model.cc:1312] Engine \"GradientBoostedTreesGeneric\" built\n",
      "[INFO 2023-04-06T23:39:02.994252+01:00 kernel.cc:1046] Use fast generic engine\n",
      "2023-04-06 23:39:03.125262: I tensorflow/core/grappler/optimizers/custom_graph_optimizer_registry.cc:114] Plugin optimizer for device_type GPU is enabled.\n",
      "2023-04-06 23:39:03.184364: I tensorflow/core/grappler/optimizers/custom_graph_optimizer_registry.cc:114] Plugin optimizer for device_type GPU is enabled.\n"
     ]
    },
    {
     "name": "stdout",
     "output_type": "stream",
     "text": [
      "19/40 [=============>................] - ETA: 0s"
     ]
    },
    {
     "name": "stderr",
     "output_type": "stream",
     "text": [
      "2023-04-06 23:39:03.555244: I tensorflow/core/grappler/optimizers/custom_graph_optimizer_registry.cc:114] Plugin optimizer for device_type GPU is enabled.\n"
     ]
    },
    {
     "name": "stdout",
     "output_type": "stream",
     "text": [
      "40/40 [==============================] - 0s 9ms/step\n"
     ]
    },
    {
     "name": "stderr",
     "output_type": "stream",
     "text": [
      "\u001b[32m[I 2023-04-06 23:39:03,960]\u001b[0m Trial 28 finished with value: 0.9792645444352533 and parameters: {'max_depth': 13, 'l1_regularization': 2.2256748117908924, 'l2_regularization': 4.1347244776422425, 'growing_strategy': 'LOCAL', 'loss': 'BINARY_FOCAL_LOSS', 'min_examples': 295, 'num_candidate_attributes_ratio': 0.28649131965825536, 'shrinkage': 0.2596384956304767, 'discretize_numerical_features': False, 'num_discretized_numerical_bins': 130, 'focal_loss_gamma': 0.7058522990097972}. Best is trial 23 with value: 0.9804973029985538.\u001b[0m\n"
     ]
    },
    {
     "name": "stdout",
     "output_type": "stream",
     "text": [
      "Use /var/folders/80/5mgc74450p1b9jxkl3fd7z780000gn/T/tmpysnv_9as as temporary training directory\n"
     ]
    },
    {
     "name": "stderr",
     "output_type": "stream",
     "text": [
      "2023-04-06 23:39:04.089871: I tensorflow/core/grappler/optimizers/custom_graph_optimizer_registry.cc:114] Plugin optimizer for device_type GPU is enabled.\n"
     ]
    },
    {
     "name": "stdout",
     "output_type": "stream",
     "text": [
      "Num validation examples: tf.Tensor(39540, shape=(), dtype=int32)\n"
     ]
    },
    {
     "name": "stderr",
     "output_type": "stream",
     "text": [
      "2023-04-06 23:39:06.681915: I tensorflow/core/grappler/optimizers/custom_graph_optimizer_registry.cc:114] Plugin optimizer for device_type GPU is enabled.\n",
      "2023-04-06 23:39:07.145807: W external/ydf/yggdrasil_decision_forests/learner/gradient_boosted_trees/gradient_boosted_trees.cc:1790] \"goss_alpha\" set but \"sampling_method\" not equal to \"GOSS\".\n",
      "2023-04-06 23:39:07.145826: W external/ydf/yggdrasil_decision_forests/learner/gradient_boosted_trees/gradient_boosted_trees.cc:1800] \"goss_beta\" set but \"sampling_method\" not equal to \"GOSS\".\n",
      "2023-04-06 23:39:07.145829: W external/ydf/yggdrasil_decision_forests/learner/gradient_boosted_trees/gradient_boosted_trees.cc:1814] \"selective_gradient_boosting_ratio\" set but \"sampling_method\" not equal to \"SELGB\".\n",
      "2023-04-06 23:39:07.146071: I external/ydf/yggdrasil_decision_forests/learner/gradient_boosted_trees/gradient_boosted_trees.cc:1077] Training gradient boosted tree on 802301 example(s) and 18 feature(s).\n",
      "2023-04-06 23:39:07.146149: I external/ydf/yggdrasil_decision_forests/learner/gradient_boosted_trees/gradient_boosted_trees.cc:1120] 802301 examples used for training and 39540 examples used for validation\n",
      "2023-04-06 23:39:08.056139: I external/ydf/yggdrasil_decision_forests/learner/gradient_boosted_trees/gradient_boosted_trees.cc:1518] \tnum-trees:1 train-loss:0.677494 train-accuracy:0.827721 valid-loss:1.352108 valid-accuracy:0.579514\n",
      "2023-04-06 23:39:21.741290: I external/ydf/yggdrasil_decision_forests/learner/gradient_boosted_trees/gradient_boosted_trees.cc:1520] \tnum-trees:18 train-loss:0.248907 train-accuracy:0.955942 valid-loss:0.912966 valid-accuracy:0.781866\n",
      "2023-04-06 23:39:52.340930: I external/ydf/yggdrasil_decision_forests/learner/gradient_boosted_trees/gradient_boosted_trees.cc:1520] \tnum-trees:60 train-loss:0.188520 train-accuracy:0.965312 valid-loss:0.888097 valid-accuracy:0.803237\n",
      "2023-04-06 23:40:22.746742: I external/ydf/yggdrasil_decision_forests/learner/gradient_boosted_trees/gradient_boosted_trees.cc:1520] \tnum-trees:103 train-loss:0.167764 train-accuracy:0.969686 valid-loss:0.896980 valid-accuracy:0.805893\n",
      "2023-04-06 23:40:28.284084: I external/ydf/yggdrasil_decision_forests/learner/gradient_boosted_trees/gradient_boosted_trees.cc:1568] Create final snapshot of the model at iteration 110\n",
      "2023-04-06 23:40:28.303901: I external/ydf/yggdrasil_decision_forests/learner/gradient_boosted_trees/gradient_boosted_trees.cc:247] Truncates the model to 61 tree(s) i.e. 61  iteration(s).\n",
      "2023-04-06 23:40:28.308145: I external/ydf/yggdrasil_decision_forests/learner/gradient_boosted_trees/gradient_boosted_trees.cc:309] Final model num-trees:61 valid-loss:0.886066 valid-accuracy:0.803768\n",
      "[INFO 2023-04-06T23:40:29.497185+01:00 kernel.cc:1214] Loading model from path /var/folders/80/5mgc74450p1b9jxkl3fd7z780000gn/T/tmpysnv_9as/model/ with prefix 72dd748a0dee4a88\n",
      "[INFO 2023-04-06T23:40:29.550817+01:00 decision_forest.cc:661] Model loaded with 61 root(s), 43597 node(s), and 18 input feature(s).\n",
      "[INFO 2023-04-06T23:40:29.550834+01:00 abstract_model.cc:1312] Engine \"GradientBoostedTreesGeneric\" built\n",
      "[INFO 2023-04-06T23:40:29.550859+01:00 kernel.cc:1046] Use fast generic engine\n",
      "2023-04-06 23:40:29.684562: I tensorflow/core/grappler/optimizers/custom_graph_optimizer_registry.cc:114] Plugin optimizer for device_type GPU is enabled.\n",
      "2023-04-06 23:40:29.740593: I tensorflow/core/grappler/optimizers/custom_graph_optimizer_registry.cc:114] Plugin optimizer for device_type GPU is enabled.\n"
     ]
    },
    {
     "name": "stdout",
     "output_type": "stream",
     "text": [
      "21/40 [==============>...............] - ETA: 0s"
     ]
    },
    {
     "name": "stderr",
     "output_type": "stream",
     "text": [
      "2023-04-06 23:40:30.084616: I tensorflow/core/grappler/optimizers/custom_graph_optimizer_registry.cc:114] Plugin optimizer for device_type GPU is enabled.\n"
     ]
    },
    {
     "name": "stdout",
     "output_type": "stream",
     "text": [
      "40/40 [==============================] - 0s 8ms/step\n"
     ]
    },
    {
     "name": "stderr",
     "output_type": "stream",
     "text": [
      "\u001b[32m[I 2023-04-06 23:40:30,448]\u001b[0m Trial 29 finished with value: 0.9798398886353258 and parameters: {'max_depth': 12, 'l1_regularization': 2.7058655154815296, 'l2_regularization': 7.619541428150826, 'growing_strategy': 'LOCAL', 'loss': 'BINOMIAL_LOG_LIKELIHOOD', 'min_examples': 340, 'num_candidate_attributes_ratio': 0.3231947272190444, 'shrinkage': 0.24503208218063965, 'discretize_numerical_features': False, 'num_discretized_numerical_bins': 150}. Best is trial 23 with value: 0.9804973029985538.\u001b[0m\n"
     ]
    },
    {
     "name": "stdout",
     "output_type": "stream",
     "text": [
      "Use /var/folders/80/5mgc74450p1b9jxkl3fd7z780000gn/T/tmpe1g4kyxd as temporary training directory\n"
     ]
    },
    {
     "name": "stderr",
     "output_type": "stream",
     "text": [
      "2023-04-06 23:40:30.572689: I tensorflow/core/grappler/optimizers/custom_graph_optimizer_registry.cc:114] Plugin optimizer for device_type GPU is enabled.\n"
     ]
    },
    {
     "name": "stdout",
     "output_type": "stream",
     "text": [
      "Num validation examples: tf.Tensor(39540, shape=(), dtype=int32)\n"
     ]
    },
    {
     "name": "stderr",
     "output_type": "stream",
     "text": [
      "2023-04-06 23:40:33.195885: I tensorflow/core/grappler/optimizers/custom_graph_optimizer_registry.cc:114] Plugin optimizer for device_type GPU is enabled.\n",
      "2023-04-06 23:40:33.658445: W external/ydf/yggdrasil_decision_forests/learner/gradient_boosted_trees/gradient_boosted_trees.cc:1790] \"goss_alpha\" set but \"sampling_method\" not equal to \"GOSS\".\n",
      "2023-04-06 23:40:33.658464: W external/ydf/yggdrasil_decision_forests/learner/gradient_boosted_trees/gradient_boosted_trees.cc:1800] \"goss_beta\" set but \"sampling_method\" not equal to \"GOSS\".\n",
      "2023-04-06 23:40:33.658467: W external/ydf/yggdrasil_decision_forests/learner/gradient_boosted_trees/gradient_boosted_trees.cc:1814] \"selective_gradient_boosting_ratio\" set but \"sampling_method\" not equal to \"SELGB\".\n",
      "2023-04-06 23:40:33.658703: I external/ydf/yggdrasil_decision_forests/learner/gradient_boosted_trees/gradient_boosted_trees.cc:1077] Training gradient boosted tree on 802301 example(s) and 18 feature(s).\n",
      "2023-04-06 23:40:33.658772: I external/ydf/yggdrasil_decision_forests/learner/gradient_boosted_trees/gradient_boosted_trees.cc:1120] 802301 examples used for training and 39540 examples used for validation\n",
      "2023-04-06 23:40:34.282730: I external/ydf/yggdrasil_decision_forests/learner/gradient_boosted_trees/gradient_boosted_trees.cc:1518] \tnum-trees:1 train-loss:0.636593 train-accuracy:0.890859 valid-loss:1.306005 valid-accuracy:0.671700\n",
      "2023-04-06 23:40:53.046207: I external/ydf/yggdrasil_decision_forests/learner/gradient_boosted_trees/gradient_boosted_trees.cc:1520] \tnum-trees:37 train-loss:0.228285 train-accuracy:0.957331 valid-loss:0.968394 valid-accuracy:0.786039\n",
      "2023-04-06 23:41:23.544287: I external/ydf/yggdrasil_decision_forests/learner/gradient_boosted_trees/gradient_boosted_trees.cc:1520] \tnum-trees:98 train-loss:0.195559 train-accuracy:0.963504 valid-loss:0.948869 valid-accuracy:0.793348\n",
      "2023-04-06 23:41:25.077807: I external/ydf/yggdrasil_decision_forests/learner/gradient_boosted_trees/gradient_boosted_trees.cc:1568] Create final snapshot of the model at iteration 100\n",
      "2023-04-06 23:41:25.084879: I external/ydf/yggdrasil_decision_forests/learner/gradient_boosted_trees/gradient_boosted_trees.cc:247] Truncates the model to 51 tree(s) i.e. 51  iteration(s).\n",
      "2023-04-06 23:41:25.086592: I external/ydf/yggdrasil_decision_forests/learner/gradient_boosted_trees/gradient_boosted_trees.cc:309] Final model num-trees:51 valid-loss:0.937783 valid-accuracy:0.793778\n",
      "[INFO 2023-04-06T23:41:25.104635+01:00 kernel.cc:1214] Loading model from path /var/folders/80/5mgc74450p1b9jxkl3fd7z780000gn/T/tmpe1g4kyxd/model/ with prefix e0ea83b539fe4109\n",
      "[INFO 2023-04-06T23:41:25.120538+01:00 decision_forest.cc:661] Model loaded with 51 root(s), 12991 node(s), and 18 input feature(s).\n",
      "[INFO 2023-04-06T23:41:25.120558+01:00 abstract_model.cc:1312] Engine \"GradientBoostedTreesGeneric\" built\n",
      "[INFO 2023-04-06T23:41:25.120571+01:00 kernel.cc:1046] Use fast generic engine\n",
      "2023-04-06 23:41:25.216532: I tensorflow/core/grappler/optimizers/custom_graph_optimizer_registry.cc:114] Plugin optimizer for device_type GPU is enabled.\n",
      "2023-04-06 23:41:25.267973: I tensorflow/core/grappler/optimizers/custom_graph_optimizer_registry.cc:114] Plugin optimizer for device_type GPU is enabled.\n"
     ]
    },
    {
     "name": "stdout",
     "output_type": "stream",
     "text": [
      "30/40 [=====================>........] - ETA: 0s"
     ]
    },
    {
     "name": "stderr",
     "output_type": "stream",
     "text": [
      "2023-04-06 23:41:25.491755: I tensorflow/core/grappler/optimizers/custom_graph_optimizer_registry.cc:114] Plugin optimizer for device_type GPU is enabled.\n"
     ]
    },
    {
     "name": "stdout",
     "output_type": "stream",
     "text": [
      "40/40 [==============================] - 0s 5ms/step\n"
     ]
    },
    {
     "name": "stderr",
     "output_type": "stream",
     "text": [
      "\u001b[32m[I 2023-04-06 23:41:25,739]\u001b[0m Trial 30 finished with value: 0.9778725572619955 and parameters: {'max_depth': 9, 'l1_regularization': 1.6764643052622694, 'l2_regularization': 10.68250849835893, 'growing_strategy': 'LOCAL', 'loss': 'BINOMIAL_LOG_LIKELIHOOD', 'min_examples': 350, 'num_candidate_attributes_ratio': 0.32028236935094745, 'shrinkage': 0.3257399799357473, 'discretize_numerical_features': False, 'num_discretized_numerical_bins': 200}. Best is trial 23 with value: 0.9804973029985538.\u001b[0m\n"
     ]
    },
    {
     "name": "stdout",
     "output_type": "stream",
     "text": [
      "Use /var/folders/80/5mgc74450p1b9jxkl3fd7z780000gn/T/tmpjjhi81o_ as temporary training directory\n"
     ]
    },
    {
     "name": "stderr",
     "output_type": "stream",
     "text": [
      "2023-04-06 23:41:25.864177: I tensorflow/core/grappler/optimizers/custom_graph_optimizer_registry.cc:114] Plugin optimizer for device_type GPU is enabled.\n"
     ]
    },
    {
     "name": "stdout",
     "output_type": "stream",
     "text": [
      "Num validation examples: tf.Tensor(39540, shape=(), dtype=int32)\n"
     ]
    },
    {
     "name": "stderr",
     "output_type": "stream",
     "text": [
      "2023-04-06 23:41:28.476899: I tensorflow/core/grappler/optimizers/custom_graph_optimizer_registry.cc:114] Plugin optimizer for device_type GPU is enabled.\n",
      "2023-04-06 23:41:28.941538: W external/ydf/yggdrasil_decision_forests/learner/gradient_boosted_trees/gradient_boosted_trees.cc:1790] \"goss_alpha\" set but \"sampling_method\" not equal to \"GOSS\".\n",
      "2023-04-06 23:41:28.941555: W external/ydf/yggdrasil_decision_forests/learner/gradient_boosted_trees/gradient_boosted_trees.cc:1800] \"goss_beta\" set but \"sampling_method\" not equal to \"GOSS\".\n",
      "2023-04-06 23:41:28.941558: W external/ydf/yggdrasil_decision_forests/learner/gradient_boosted_trees/gradient_boosted_trees.cc:1814] \"selective_gradient_boosting_ratio\" set but \"sampling_method\" not equal to \"SELGB\".\n",
      "2023-04-06 23:41:28.941772: I external/ydf/yggdrasil_decision_forests/learner/gradient_boosted_trees/gradient_boosted_trees.cc:1077] Training gradient boosted tree on 802301 example(s) and 18 feature(s).\n",
      "2023-04-06 23:41:28.941846: I external/ydf/yggdrasil_decision_forests/learner/gradient_boosted_trees/gradient_boosted_trees.cc:1120] 802301 examples used for training and 39540 examples used for validation\n",
      "2023-04-06 23:41:29.876008: I external/ydf/yggdrasil_decision_forests/learner/gradient_boosted_trees/gradient_boosted_trees.cc:1518] \tnum-trees:1 train-loss:0.673550 train-accuracy:0.827721 valid-loss:1.422789 valid-accuracy:0.579514\n",
      "2023-04-06 23:41:54.168920: I external/ydf/yggdrasil_decision_forests/learner/gradient_boosted_trees/gradient_boosted_trees.cc:1520] \tnum-trees:31 train-loss:0.214526 train-accuracy:0.961686 valid-loss:0.952052 valid-accuracy:0.774355\n",
      "2023-04-06 23:42:24.322787: I external/ydf/yggdrasil_decision_forests/learner/gradient_boosted_trees/gradient_boosted_trees.cc:1520] \tnum-trees:73 train-loss:0.181336 train-accuracy:0.967293 valid-loss:0.946534 valid-accuracy:0.785559\n",
      "2023-04-06 23:42:54.906412: I external/ydf/yggdrasil_decision_forests/learner/gradient_boosted_trees/gradient_boosted_trees.cc:1520] \tnum-trees:117 train-loss:0.165479 train-accuracy:0.970664 valid-loss:0.939891 valid-accuracy:0.789555\n",
      "2023-04-06 23:43:18.007678: I external/ydf/yggdrasil_decision_forests/learner/gradient_boosted_trees/gradient_boosted_trees.cc:1568] Create final snapshot of the model at iteration 150\n",
      "2023-04-06 23:43:18.037131: I external/ydf/yggdrasil_decision_forests/learner/gradient_boosted_trees/gradient_boosted_trees.cc:247] Truncates the model to 101 tree(s) i.e. 101  iteration(s).\n",
      "2023-04-06 23:43:18.041013: I external/ydf/yggdrasil_decision_forests/learner/gradient_boosted_trees/gradient_boosted_trees.cc:309] Final model num-trees:101 valid-loss:0.932703 valid-accuracy:0.788897\n",
      "[INFO 2023-04-06T23:43:18.100943+01:00 kernel.cc:1214] Loading model from path /var/folders/80/5mgc74450p1b9jxkl3fd7z780000gn/T/tmpjjhi81o_/model/ with prefix 301425f2d0b5401c\n",
      "[INFO 2023-04-06T23:43:18.203117+01:00 decision_forest.cc:661] Model loaded with 101 root(s), 76741 node(s), and 18 input feature(s).\n",
      "[INFO 2023-04-06T23:43:18.20316+01:00 abstract_model.cc:1312] Engine \"GradientBoostedTreesGeneric\" built\n",
      "[INFO 2023-04-06T23:43:18.20318+01:00 kernel.cc:1046] Use fast generic engine\n",
      "2023-04-06 23:43:18.322817: I tensorflow/core/grappler/optimizers/custom_graph_optimizer_registry.cc:114] Plugin optimizer for device_type GPU is enabled.\n",
      "2023-04-06 23:43:18.381968: I tensorflow/core/grappler/optimizers/custom_graph_optimizer_registry.cc:114] Plugin optimizer for device_type GPU is enabled.\n"
     ]
    },
    {
     "name": "stdout",
     "output_type": "stream",
     "text": [
      "11/40 [=======>......................] - ETA: 0s"
     ]
    },
    {
     "name": "stderr",
     "output_type": "stream",
     "text": [
      "2023-04-06 23:43:18.880163: I tensorflow/core/grappler/optimizers/custom_graph_optimizer_registry.cc:114] Plugin optimizer for device_type GPU is enabled.\n"
     ]
    },
    {
     "name": "stdout",
     "output_type": "stream",
     "text": [
      "40/40 [==============================] - 1s 13ms/step\n"
     ]
    },
    {
     "name": "stderr",
     "output_type": "stream",
     "text": [
      "\u001b[32m[I 2023-04-06 23:43:19,417]\u001b[0m Trial 31 finished with value: 0.9806090826508012 and parameters: {'max_depth': 12, 'l1_regularization': 3.031551122937227, 'l2_regularization': 7.853528960428037, 'growing_strategy': 'LOCAL', 'loss': 'BINOMIAL_LOG_LIKELIHOOD', 'min_examples': 135, 'num_candidate_attributes_ratio': 0.320031025580206, 'shrinkage': 0.23819895781891146, 'discretize_numerical_features': False, 'num_discretized_numerical_bins': 130}. Best is trial 31 with value: 0.9806090826508012.\u001b[0m\n"
     ]
    },
    {
     "name": "stdout",
     "output_type": "stream",
     "text": [
      "Use /var/folders/80/5mgc74450p1b9jxkl3fd7z780000gn/T/tmpzza4d02b as temporary training directory\n"
     ]
    },
    {
     "name": "stderr",
     "output_type": "stream",
     "text": [
      "2023-04-06 23:43:19.542482: I tensorflow/core/grappler/optimizers/custom_graph_optimizer_registry.cc:114] Plugin optimizer for device_type GPU is enabled.\n"
     ]
    },
    {
     "name": "stdout",
     "output_type": "stream",
     "text": [
      "Num validation examples: tf.Tensor(39540, shape=(), dtype=int32)\n"
     ]
    },
    {
     "name": "stderr",
     "output_type": "stream",
     "text": [
      "2023-04-06 23:43:22.149916: I tensorflow/core/grappler/optimizers/custom_graph_optimizer_registry.cc:114] Plugin optimizer for device_type GPU is enabled.\n",
      "2023-04-06 23:43:22.610827: W external/ydf/yggdrasil_decision_forests/learner/gradient_boosted_trees/gradient_boosted_trees.cc:1790] \"goss_alpha\" set but \"sampling_method\" not equal to \"GOSS\".\n",
      "2023-04-06 23:43:22.610841: W external/ydf/yggdrasil_decision_forests/learner/gradient_boosted_trees/gradient_boosted_trees.cc:1800] \"goss_beta\" set but \"sampling_method\" not equal to \"GOSS\".\n",
      "2023-04-06 23:43:22.610844: W external/ydf/yggdrasil_decision_forests/learner/gradient_boosted_trees/gradient_boosted_trees.cc:1814] \"selective_gradient_boosting_ratio\" set but \"sampling_method\" not equal to \"SELGB\".\n",
      "2023-04-06 23:43:22.611063: I external/ydf/yggdrasil_decision_forests/learner/gradient_boosted_trees/gradient_boosted_trees.cc:1077] Training gradient boosted tree on 802301 example(s) and 18 feature(s).\n",
      "2023-04-06 23:43:22.611140: I external/ydf/yggdrasil_decision_forests/learner/gradient_boosted_trees/gradient_boosted_trees.cc:1120] 802301 examples used for training and 39540 examples used for validation\n",
      "2023-04-06 23:43:23.517951: I external/ydf/yggdrasil_decision_forests/learner/gradient_boosted_trees/gradient_boosted_trees.cc:1518] \tnum-trees:1 train-loss:0.694898 train-accuracy:0.827721 valid-loss:1.471830 valid-accuracy:0.579514\n",
      "2023-04-06 23:43:25.249302: I external/ydf/yggdrasil_decision_forests/learner/gradient_boosted_trees/gradient_boosted_trees.cc:1520] \tnum-trees:3 train-loss:0.512246 train-accuracy:0.918971 valid-loss:1.276561 valid-accuracy:0.640718\n",
      "2023-04-06 23:43:55.690790: I external/ydf/yggdrasil_decision_forests/learner/gradient_boosted_trees/gradient_boosted_trees.cc:1520] \tnum-trees:41 train-loss:0.201873 train-accuracy:0.963660 valid-loss:0.932668 valid-accuracy:0.771700\n",
      "2023-04-06 23:44:25.973834: I external/ydf/yggdrasil_decision_forests/learner/gradient_boosted_trees/gradient_boosted_trees.cc:1520] \tnum-trees:84 train-loss:0.178180 train-accuracy:0.968057 valid-loss:0.891198 valid-accuracy:0.787253\n",
      "2023-04-06 23:44:56.082556: I external/ydf/yggdrasil_decision_forests/learner/gradient_boosted_trees/gradient_boosted_trees.cc:1520] \tnum-trees:128 train-loss:0.166284 train-accuracy:0.970561 valid-loss:0.893528 valid-accuracy:0.789909\n",
      "2023-04-06 23:45:00.196506: I external/ydf/yggdrasil_decision_forests/learner/gradient_boosted_trees/gradient_boosted_trees.cc:1568] Create final snapshot of the model at iteration 133\n",
      "2023-04-06 23:45:00.226434: I external/ydf/yggdrasil_decision_forests/learner/gradient_boosted_trees/gradient_boosted_trees.cc:247] Truncates the model to 84 tree(s) i.e. 84  iteration(s).\n",
      "2023-04-06 23:45:00.230890: I external/ydf/yggdrasil_decision_forests/learner/gradient_boosted_trees/gradient_boosted_trees.cc:309] Final model num-trees:84 valid-loss:0.891198 valid-accuracy:0.787253\n",
      "[INFO 2023-04-06T23:45:00.290499+01:00 kernel.cc:1214] Loading model from path /var/folders/80/5mgc74450p1b9jxkl3fd7z780000gn/T/tmpzza4d02b/model/ with prefix a1d10b9e7f80424d\n",
      "[INFO 2023-04-06T23:45:00.39729+01:00 decision_forest.cc:661] Model loaded with 84 root(s), 74682 node(s), and 18 input feature(s).\n",
      "[INFO 2023-04-06T23:45:00.397311+01:00 abstract_model.cc:1312] Engine \"GradientBoostedTreesGeneric\" built\n",
      "[INFO 2023-04-06T23:45:00.397322+01:00 kernel.cc:1046] Use fast generic engine\n",
      "2023-04-06 23:45:00.551874: I tensorflow/core/grappler/optimizers/custom_graph_optimizer_registry.cc:114] Plugin optimizer for device_type GPU is enabled.\n",
      "2023-04-06 23:45:00.614732: I tensorflow/core/grappler/optimizers/custom_graph_optimizer_registry.cc:114] Plugin optimizer for device_type GPU is enabled.\n"
     ]
    },
    {
     "name": "stdout",
     "output_type": "stream",
     "text": [
      "16/40 [===========>..................] - ETA: 0s"
     ]
    },
    {
     "name": "stderr",
     "output_type": "stream",
     "text": [
      "2023-04-06 23:45:01.041080: I tensorflow/core/grappler/optimizers/custom_graph_optimizer_registry.cc:114] Plugin optimizer for device_type GPU is enabled.\n"
     ]
    },
    {
     "name": "stdout",
     "output_type": "stream",
     "text": [
      "40/40 [==============================] - 0s 11ms/step\n"
     ]
    },
    {
     "name": "stderr",
     "output_type": "stream",
     "text": [
      "\u001b[32m[I 2023-04-06 23:45:01,501]\u001b[0m Trial 32 finished with value: 0.9801633571419733 and parameters: {'max_depth': 12, 'l1_regularization': 3.7295254087877234, 'l2_regularization': 7.629887735765905, 'growing_strategy': 'LOCAL', 'loss': 'BINOMIAL_LOG_LIKELIHOOD', 'min_examples': 110, 'num_candidate_attributes_ratio': 0.3781597704759359, 'shrinkage': 0.2141636426024775, 'discretize_numerical_features': False, 'num_discretized_numerical_bins': 210}. Best is trial 31 with value: 0.9806090826508012.\u001b[0m\n"
     ]
    },
    {
     "name": "stdout",
     "output_type": "stream",
     "text": [
      "Use /var/folders/80/5mgc74450p1b9jxkl3fd7z780000gn/T/tmpm_m1b8_2 as temporary training directory\n"
     ]
    },
    {
     "name": "stderr",
     "output_type": "stream",
     "text": [
      "2023-04-06 23:45:01.631034: I tensorflow/core/grappler/optimizers/custom_graph_optimizer_registry.cc:114] Plugin optimizer for device_type GPU is enabled.\n"
     ]
    },
    {
     "name": "stdout",
     "output_type": "stream",
     "text": [
      "Num validation examples: tf.Tensor(39540, shape=(), dtype=int32)\n"
     ]
    },
    {
     "name": "stderr",
     "output_type": "stream",
     "text": [
      "2023-04-06 23:45:04.259964: I tensorflow/core/grappler/optimizers/custom_graph_optimizer_registry.cc:114] Plugin optimizer for device_type GPU is enabled.\n",
      "2023-04-06 23:45:04.731842: W external/ydf/yggdrasil_decision_forests/learner/gradient_boosted_trees/gradient_boosted_trees.cc:1790] \"goss_alpha\" set but \"sampling_method\" not equal to \"GOSS\".\n",
      "2023-04-06 23:45:04.731858: W external/ydf/yggdrasil_decision_forests/learner/gradient_boosted_trees/gradient_boosted_trees.cc:1800] \"goss_beta\" set but \"sampling_method\" not equal to \"GOSS\".\n",
      "2023-04-06 23:45:04.731861: W external/ydf/yggdrasil_decision_forests/learner/gradient_boosted_trees/gradient_boosted_trees.cc:1814] \"selective_gradient_boosting_ratio\" set but \"sampling_method\" not equal to \"SELGB\".\n",
      "2023-04-06 23:45:04.732126: I external/ydf/yggdrasil_decision_forests/learner/gradient_boosted_trees/gradient_boosted_trees.cc:1077] Training gradient boosted tree on 802301 example(s) and 18 feature(s).\n",
      "2023-04-06 23:45:04.732239: I external/ydf/yggdrasil_decision_forests/learner/gradient_boosted_trees/gradient_boosted_trees.cc:1120] 802301 examples used for training and 39540 examples used for validation\n",
      "2023-04-06 23:45:06.016179: I external/ydf/yggdrasil_decision_forests/learner/gradient_boosted_trees/gradient_boosted_trees.cc:1518] \tnum-trees:1 train-loss:0.719135 train-accuracy:0.827721 valid-loss:1.472355 valid-accuracy:0.579514\n",
      "2023-04-06 23:45:26.613592: I external/ydf/yggdrasil_decision_forests/learner/gradient_boosted_trees/gradient_boosted_trees.cc:1520] \tnum-trees:18 train-loss:0.246147 train-accuracy:0.960183 valid-loss:0.932989 valid-accuracy:0.753010\n",
      "2023-04-06 23:45:57.596980: I external/ydf/yggdrasil_decision_forests/learner/gradient_boosted_trees/gradient_boosted_trees.cc:1520] \tnum-trees:47 train-loss:0.189466 train-accuracy:0.966898 valid-loss:0.921879 valid-accuracy:0.777921\n",
      "2023-04-06 23:46:28.501170: I external/ydf/yggdrasil_decision_forests/learner/gradient_boosted_trees/gradient_boosted_trees.cc:1520] \tnum-trees:79 train-loss:0.169230 train-accuracy:0.970546 valid-loss:0.899142 valid-accuracy:0.785407\n",
      "2023-04-06 23:46:58.533413: I external/ydf/yggdrasil_decision_forests/learner/gradient_boosted_trees/gradient_boosted_trees.cc:1520] \tnum-trees:111 train-loss:0.158505 train-accuracy:0.972705 valid-loss:0.898554 valid-accuracy:0.789226\n",
      "2023-04-06 23:47:29.377713: I external/ydf/yggdrasil_decision_forests/learner/gradient_boosted_trees/gradient_boosted_trees.cc:1520] \tnum-trees:144 train-loss:0.149397 train-accuracy:0.974761 valid-loss:0.897451 valid-accuracy:0.791755\n",
      "2023-04-06 23:47:52.315235: I external/ydf/yggdrasil_decision_forests/learner/gradient_boosted_trees/gradient_boosted_trees.cc:1568] Create final snapshot of the model at iteration 169\n",
      "2023-04-06 23:47:52.392758: I external/ydf/yggdrasil_decision_forests/learner/gradient_boosted_trees/gradient_boosted_trees.cc:247] Truncates the model to 120 tree(s) i.e. 120  iteration(s).\n",
      "2023-04-06 23:47:52.401033: I external/ydf/yggdrasil_decision_forests/learner/gradient_boosted_trees/gradient_boosted_trees.cc:309] Final model num-trees:120 valid-loss:0.893018 valid-accuracy:0.791275\n",
      "[INFO 2023-04-06T23:47:52.554792+01:00 kernel.cc:1214] Loading model from path /var/folders/80/5mgc74450p1b9jxkl3fd7z780000gn/T/tmpm_m1b8_2/model/ with prefix 107a24acc02549b5\n",
      "[INFO 2023-04-06T23:47:52.817944+01:00 decision_forest.cc:661] Model loaded with 120 root(s), 204266 node(s), and 18 input feature(s).\n",
      "[INFO 2023-04-06T23:47:52.817968+01:00 abstract_model.cc:1312] Engine \"GradientBoostedTreesGeneric\" built\n",
      "[INFO 2023-04-06T23:47:52.817984+01:00 kernel.cc:1046] Use fast generic engine\n",
      "2023-04-06 23:47:52.947253: I tensorflow/core/grappler/optimizers/custom_graph_optimizer_registry.cc:114] Plugin optimizer for device_type GPU is enabled.\n",
      "2023-04-06 23:47:53.016728: I tensorflow/core/grappler/optimizers/custom_graph_optimizer_registry.cc:114] Plugin optimizer for device_type GPU is enabled.\n"
     ]
    },
    {
     "name": "stdout",
     "output_type": "stream",
     "text": [
      "10/40 [======>.......................] - ETA: 0s"
     ]
    },
    {
     "name": "stderr",
     "output_type": "stream",
     "text": [
      "2023-04-06 23:47:53.750075: I tensorflow/core/grappler/optimizers/custom_graph_optimizer_registry.cc:114] Plugin optimizer for device_type GPU is enabled.\n"
     ]
    },
    {
     "name": "stdout",
     "output_type": "stream",
     "text": [
      "40/40 [==============================] - 1s 19ms/step\n"
     ]
    },
    {
     "name": "stderr",
     "output_type": "stream",
     "text": [
      "\u001b[32m[I 2023-04-06 23:47:54,532]\u001b[0m Trial 33 finished with value: 0.980759725362098 and parameters: {'max_depth': 15, 'l1_regularization': 5.184095025292951, 'l2_regularization': 7.663106563726198, 'growing_strategy': 'LOCAL', 'loss': 'BINOMIAL_LOG_LIKELIHOOD', 'min_examples': 140, 'num_candidate_attributes_ratio': 0.35044979970162676, 'shrinkage': 0.18432148127830897, 'discretize_numerical_features': False, 'num_discretized_numerical_bins': 370}. Best is trial 33 with value: 0.980759725362098.\u001b[0m\n"
     ]
    },
    {
     "name": "stdout",
     "output_type": "stream",
     "text": [
      "Use /var/folders/80/5mgc74450p1b9jxkl3fd7z780000gn/T/tmpgrz44t5h as temporary training directory\n"
     ]
    },
    {
     "name": "stderr",
     "output_type": "stream",
     "text": [
      "2023-04-06 23:47:54.661823: I tensorflow/core/grappler/optimizers/custom_graph_optimizer_registry.cc:114] Plugin optimizer for device_type GPU is enabled.\n"
     ]
    },
    {
     "name": "stdout",
     "output_type": "stream",
     "text": [
      "Num validation examples: tf.Tensor(39540, shape=(), dtype=int32)\n"
     ]
    },
    {
     "name": "stderr",
     "output_type": "stream",
     "text": [
      "2023-04-06 23:47:57.314640: I tensorflow/core/grappler/optimizers/custom_graph_optimizer_registry.cc:114] Plugin optimizer for device_type GPU is enabled.\n",
      "2023-04-06 23:47:57.778173: W external/ydf/yggdrasil_decision_forests/learner/gradient_boosted_trees/gradient_boosted_trees.cc:1790] \"goss_alpha\" set but \"sampling_method\" not equal to \"GOSS\".\n",
      "2023-04-06 23:47:57.778188: W external/ydf/yggdrasil_decision_forests/learner/gradient_boosted_trees/gradient_boosted_trees.cc:1800] \"goss_beta\" set but \"sampling_method\" not equal to \"GOSS\".\n",
      "2023-04-06 23:47:57.778191: W external/ydf/yggdrasil_decision_forests/learner/gradient_boosted_trees/gradient_boosted_trees.cc:1814] \"selective_gradient_boosting_ratio\" set but \"sampling_method\" not equal to \"SELGB\".\n",
      "2023-04-06 23:47:57.778460: I external/ydf/yggdrasil_decision_forests/learner/gradient_boosted_trees/gradient_boosted_trees.cc:1077] Training gradient boosted tree on 802301 example(s) and 18 feature(s).\n",
      "2023-04-06 23:47:57.778532: I external/ydf/yggdrasil_decision_forests/learner/gradient_boosted_trees/gradient_boosted_trees.cc:1120] 802301 examples used for training and 39540 examples used for validation\n",
      "2023-04-06 23:47:59.081341: I external/ydf/yggdrasil_decision_forests/learner/gradient_boosted_trees/gradient_boosted_trees.cc:1518] \tnum-trees:1 train-loss:0.748340 train-accuracy:0.827721 valid-loss:1.528787 valid-accuracy:0.579514\n",
      "2023-04-06 23:48:00.403417: I external/ydf/yggdrasil_decision_forests/learner/gradient_boosted_trees/gradient_boosted_trees.cc:1520] \tnum-trees:2 train-loss:0.645337 train-accuracy:0.827721 valid-loss:1.426670 valid-accuracy:0.579514\n",
      "2023-04-06 23:48:31.120217: I external/ydf/yggdrasil_decision_forests/learner/gradient_boosted_trees/gradient_boosted_trees.cc:1520] \tnum-trees:27 train-loss:0.221651 train-accuracy:0.962895 valid-loss:0.940101 valid-accuracy:0.761204\n",
      "2023-04-06 23:49:01.287679: I external/ydf/yggdrasil_decision_forests/learner/gradient_boosted_trees/gradient_boosted_trees.cc:1520] \tnum-trees:55 train-loss:0.183335 train-accuracy:0.968250 valid-loss:0.955590 valid-accuracy:0.777592\n",
      "2023-04-06 23:49:23.998857: I external/ydf/yggdrasil_decision_forests/learner/gradient_boosted_trees/gradient_boosted_trees.cc:1568] Create final snapshot of the model at iteration 77\n",
      "2023-04-06 23:49:24.059261: I external/ydf/yggdrasil_decision_forests/learner/gradient_boosted_trees/gradient_boosted_trees.cc:247] Truncates the model to 28 tree(s) i.e. 28  iteration(s).\n",
      "2023-04-06 23:49:24.078216: I external/ydf/yggdrasil_decision_forests/learner/gradient_boosted_trees/gradient_boosted_trees.cc:309] Final model num-trees:28 valid-loss:0.935692 valid-accuracy:0.763961\n",
      "[INFO 2023-04-06T23:49:24.156387+01:00 kernel.cc:1214] Loading model from path /var/folders/80/5mgc74450p1b9jxkl3fd7z780000gn/T/tmpgrz44t5h/model/ with prefix c074d80a73244cce\n",
      "[INFO 2023-04-06T23:49:24.282312+01:00 decision_forest.cc:661] Model loaded with 28 root(s), 102044 node(s), and 18 input feature(s).\n",
      "[INFO 2023-04-06T23:49:24.282344+01:00 abstract_model.cc:1312] Engine \"GradientBoostedTreesGeneric\" built\n",
      "[INFO 2023-04-06T23:49:24.282354+01:00 kernel.cc:1046] Use fast generic engine\n",
      "2023-04-06 23:49:24.423995: I tensorflow/core/grappler/optimizers/custom_graph_optimizer_registry.cc:114] Plugin optimizer for device_type GPU is enabled.\n",
      "2023-04-06 23:49:24.477034: I tensorflow/core/grappler/optimizers/custom_graph_optimizer_registry.cc:114] Plugin optimizer for device_type GPU is enabled.\n"
     ]
    },
    {
     "name": "stdout",
     "output_type": "stream",
     "text": [
      "27/40 [===================>..........] - ETA: 0s"
     ]
    },
    {
     "name": "stderr",
     "output_type": "stream",
     "text": [
      "2023-04-06 23:49:24.740860: I tensorflow/core/grappler/optimizers/custom_graph_optimizer_registry.cc:114] Plugin optimizer for device_type GPU is enabled.\n"
     ]
    },
    {
     "name": "stdout",
     "output_type": "stream",
     "text": [
      "40/40 [==============================] - 0s 6ms/step\n"
     ]
    },
    {
     "name": "stderr",
     "output_type": "stream",
     "text": [
      "\u001b[32m[I 2023-04-06 23:49:25,030]\u001b[0m Trial 34 finished with value: 0.9752017124979645 and parameters: {'max_depth': 15, 'l1_regularization': 3.722345943628283, 'l2_regularization': 10.272262753578463, 'growing_strategy': 'LOCAL', 'loss': 'BINOMIAL_LOG_LIKELIHOOD', 'min_examples': 100, 'num_candidate_attributes_ratio': 0.36367277525456476, 'shrinkage': 0.16616065284776083, 'discretize_numerical_features': False, 'num_discretized_numerical_bins': 230}. Best is trial 33 with value: 0.980759725362098.\u001b[0m\n"
     ]
    },
    {
     "name": "stdout",
     "output_type": "stream",
     "text": [
      "Use /var/folders/80/5mgc74450p1b9jxkl3fd7z780000gn/T/tmp9kk9n5gf as temporary training directory\n"
     ]
    },
    {
     "name": "stderr",
     "output_type": "stream",
     "text": [
      "2023-04-06 23:49:25.165003: I tensorflow/core/grappler/optimizers/custom_graph_optimizer_registry.cc:114] Plugin optimizer for device_type GPU is enabled.\n"
     ]
    },
    {
     "name": "stdout",
     "output_type": "stream",
     "text": [
      "Num validation examples: tf.Tensor(39540, shape=(), dtype=int32)\n"
     ]
    },
    {
     "name": "stderr",
     "output_type": "stream",
     "text": [
      "2023-04-06 23:49:27.771608: I tensorflow/core/grappler/optimizers/custom_graph_optimizer_registry.cc:114] Plugin optimizer for device_type GPU is enabled.\n",
      "2023-04-06 23:49:28.248597: W external/ydf/yggdrasil_decision_forests/learner/gradient_boosted_trees/gradient_boosted_trees.cc:1790] \"goss_alpha\" set but \"sampling_method\" not equal to \"GOSS\".\n",
      "2023-04-06 23:49:28.248612: W external/ydf/yggdrasil_decision_forests/learner/gradient_boosted_trees/gradient_boosted_trees.cc:1800] \"goss_beta\" set but \"sampling_method\" not equal to \"GOSS\".\n",
      "2023-04-06 23:49:28.248615: W external/ydf/yggdrasil_decision_forests/learner/gradient_boosted_trees/gradient_boosted_trees.cc:1814] \"selective_gradient_boosting_ratio\" set but \"sampling_method\" not equal to \"SELGB\".\n",
      "2023-04-06 23:49:28.248868: I external/ydf/yggdrasil_decision_forests/learner/gradient_boosted_trees/gradient_boosted_trees.cc:1077] Training gradient boosted tree on 802301 example(s) and 18 feature(s).\n",
      "2023-04-06 23:49:28.248953: I external/ydf/yggdrasil_decision_forests/learner/gradient_boosted_trees/gradient_boosted_trees.cc:1120] 802301 examples used for training and 39540 examples used for validation\n",
      "2023-04-06 23:49:29.045760: I external/ydf/yggdrasil_decision_forests/learner/gradient_boosted_trees/gradient_boosted_trees.cc:1518] \tnum-trees:1 train-loss:0.695154 train-accuracy:0.827721 valid-loss:1.462783 valid-accuracy:0.579514\n",
      "2023-04-06 23:49:31.948266: I external/ydf/yggdrasil_decision_forests/learner/gradient_boosted_trees/gradient_boosted_trees.cc:1520] \tnum-trees:5 train-loss:0.419178 train-accuracy:0.937841 valid-loss:1.147527 valid-accuracy:0.679894\n",
      "2023-04-06 23:50:02.523841: I external/ydf/yggdrasil_decision_forests/learner/gradient_boosted_trees/gradient_boosted_trees.cc:1520] \tnum-trees:50 train-loss:0.209116 train-accuracy:0.962013 valid-loss:0.891806 valid-accuracy:0.788341\n",
      "2023-04-06 23:50:32.993715: I external/ydf/yggdrasil_decision_forests/learner/gradient_boosted_trees/gradient_boosted_trees.cc:1520] \tnum-trees:99 train-loss:0.187670 train-accuracy:0.965600 valid-loss:0.858726 valid-accuracy:0.800784\n",
      "2023-04-06 23:51:03.567065: I external/ydf/yggdrasil_decision_forests/learner/gradient_boosted_trees/gradient_boosted_trees.cc:1520] \tnum-trees:151 train-loss:0.181567 train-accuracy:0.966878 valid-loss:0.872823 valid-accuracy:0.801416\n",
      "2023-04-06 23:51:09.930561: I external/ydf/yggdrasil_decision_forests/learner/gradient_boosted_trees/gradient_boosted_trees.cc:1568] Create final snapshot of the model at iteration 161\n",
      "2023-04-06 23:51:09.949606: I external/ydf/yggdrasil_decision_forests/learner/gradient_boosted_trees/gradient_boosted_trees.cc:247] Truncates the model to 112 tree(s) i.e. 112  iteration(s).\n",
      "2023-04-06 23:51:09.951011: I external/ydf/yggdrasil_decision_forests/learner/gradient_boosted_trees/gradient_boosted_trees.cc:309] Final model num-trees:112 valid-loss:0.857962 valid-accuracy:0.801467\n",
      "[INFO 2023-04-06T23:51:09.995046+01:00 kernel.cc:1214] Loading model from path /var/folders/80/5mgc74450p1b9jxkl3fd7z780000gn/T/tmp9kk9n5gf/model/ with prefix 00707edcc93d4a4c\n",
      "[INFO 2023-04-06T23:51:10.064982+01:00 decision_forest.cc:661] Model loaded with 112 root(s), 55318 node(s), and 18 input feature(s).\n",
      "[INFO 2023-04-06T23:51:10.065004+01:00 abstract_model.cc:1312] Engine \"GradientBoostedTreesGeneric\" built\n",
      "[INFO 2023-04-06T23:51:10.065017+01:00 kernel.cc:1046] Use fast generic engine\n",
      "2023-04-06 23:51:10.203544: I tensorflow/core/grappler/optimizers/custom_graph_optimizer_registry.cc:114] Plugin optimizer for device_type GPU is enabled.\n",
      "2023-04-06 23:51:10.260917: I tensorflow/core/grappler/optimizers/custom_graph_optimizer_registry.cc:114] Plugin optimizer for device_type GPU is enabled.\n"
     ]
    },
    {
     "name": "stdout",
     "output_type": "stream",
     "text": [
      "16/40 [===========>..................] - ETA: 0s"
     ]
    },
    {
     "name": "stderr",
     "output_type": "stream",
     "text": [
      "2023-04-06 23:51:10.693691: I tensorflow/core/grappler/optimizers/custom_graph_optimizer_registry.cc:114] Plugin optimizer for device_type GPU is enabled.\n"
     ]
    },
    {
     "name": "stdout",
     "output_type": "stream",
     "text": [
      "40/40 [==============================] - 0s 11ms/step\n"
     ]
    },
    {
     "name": "stderr",
     "output_type": "stream",
     "text": [
      "\u001b[32m[I 2023-04-06 23:51:11,158]\u001b[0m Trial 35 finished with value: 0.9800026470069236 and parameters: {'max_depth': 11, 'l1_regularization': 5.271884395488082, 'l2_regularization': 8.34837076626155, 'growing_strategy': 'LOCAL', 'loss': 'BINOMIAL_LOG_LIKELIHOOD', 'min_examples': 115, 'num_candidate_attributes_ratio': 0.4236976638654132, 'shrinkage': 0.2118916952306562, 'discretize_numerical_features': False, 'num_discretized_numerical_bins': 360}. Best is trial 33 with value: 0.980759725362098.\u001b[0m\n"
     ]
    },
    {
     "name": "stdout",
     "output_type": "stream",
     "text": [
      "Use /var/folders/80/5mgc74450p1b9jxkl3fd7z780000gn/T/tmptnli260i as temporary training directory\n"
     ]
    },
    {
     "name": "stderr",
     "output_type": "stream",
     "text": [
      "2023-04-06 23:51:11.286669: I tensorflow/core/grappler/optimizers/custom_graph_optimizer_registry.cc:114] Plugin optimizer for device_type GPU is enabled.\n"
     ]
    },
    {
     "name": "stdout",
     "output_type": "stream",
     "text": [
      "Num validation examples: tf.Tensor(39540, shape=(), dtype=int32)\n"
     ]
    },
    {
     "name": "stderr",
     "output_type": "stream",
     "text": [
      "2023-04-06 23:51:13.900147: I tensorflow/core/grappler/optimizers/custom_graph_optimizer_registry.cc:114] Plugin optimizer for device_type GPU is enabled.\n",
      "2023-04-06 23:51:14.675992: W external/ydf/yggdrasil_decision_forests/learner/gradient_boosted_trees/gradient_boosted_trees.cc:1790] \"goss_alpha\" set but \"sampling_method\" not equal to \"GOSS\".\n",
      "2023-04-06 23:51:14.676008: W external/ydf/yggdrasil_decision_forests/learner/gradient_boosted_trees/gradient_boosted_trees.cc:1800] \"goss_beta\" set but \"sampling_method\" not equal to \"GOSS\".\n",
      "2023-04-06 23:51:14.676016: W external/ydf/yggdrasil_decision_forests/learner/gradient_boosted_trees/gradient_boosted_trees.cc:1814] \"selective_gradient_boosting_ratio\" set but \"sampling_method\" not equal to \"SELGB\".\n",
      "2023-04-06 23:51:14.676250: I external/ydf/yggdrasil_decision_forests/learner/gradient_boosted_trees/gradient_boosted_trees.cc:1077] Training gradient boosted tree on 802301 example(s) and 18 feature(s).\n",
      "2023-04-06 23:51:14.676381: I external/ydf/yggdrasil_decision_forests/learner/gradient_boosted_trees/gradient_boosted_trees.cc:1120] 802301 examples used for training and 39540 examples used for validation\n",
      "2023-04-06 23:51:14.803375: I external/ydf/yggdrasil_decision_forests/learner/gradient_boosted_trees/gradient_boosted_trees.cc:1518] \tnum-trees:1 train-loss:0.768271 train-accuracy:0.827721 valid-loss:1.485387 valid-accuracy:0.579514\n",
      "2023-04-06 23:51:22.556436: I external/ydf/yggdrasil_decision_forests/learner/gradient_boosted_trees/gradient_boosted_trees.cc:1568] Create final snapshot of the model at iteration 62\n",
      "2023-04-06 23:51:22.558279: I external/ydf/yggdrasil_decision_forests/learner/gradient_boosted_trees/gradient_boosted_trees.cc:247] Truncates the model to 13 tree(s) i.e. 13  iteration(s).\n",
      "2023-04-06 23:51:22.558908: I external/ydf/yggdrasil_decision_forests/learner/gradient_boosted_trees/gradient_boosted_trees.cc:309] Final model num-trees:13 valid-loss:1.165666 valid-accuracy:0.682145\n",
      "[INFO 2023-04-06T23:51:22.573208+01:00 kernel.cc:1214] Loading model from path /var/folders/80/5mgc74450p1b9jxkl3fd7z780000gn/T/tmptnli260i/model/ with prefix 966b1fa95a55465b\n",
      "[INFO 2023-04-06T23:51:22.574403+01:00 abstract_model.cc:1312] Engine \"GradientBoostedTreesQuickScorerExtended\" built\n",
      "[INFO 2023-04-06T23:51:22.574418+01:00 kernel.cc:1046] Use fast generic engine\n",
      "2023-04-06 23:51:22.676008: I tensorflow/core/grappler/optimizers/custom_graph_optimizer_registry.cc:114] Plugin optimizer for device_type GPU is enabled.\n",
      "2023-04-06 23:51:22.725602: I tensorflow/core/grappler/optimizers/custom_graph_optimizer_registry.cc:114] Plugin optimizer for device_type GPU is enabled.\n"
     ]
    },
    {
     "name": "stdout",
     "output_type": "stream",
     "text": [
      "40/40 [==============================] - 0s 3ms/step\n"
     ]
    },
    {
     "name": "stderr",
     "output_type": "stream",
     "text": [
      "2023-04-06 23:51:22.880249: I tensorflow/core/grappler/optimizers/custom_graph_optimizer_registry.cc:114] Plugin optimizer for device_type GPU is enabled.\n",
      "\u001b[32m[I 2023-04-06 23:51:23,034]\u001b[0m Trial 36 finished with value: 0.9426364607629121 and parameters: {'max_depth': 15, 'l1_regularization': 3.4436012055059626, 'l2_regularization': 6.558457638882768, 'growing_strategy': 'BEST_FIRST_GLOBAL', 'loss': 'BINOMIAL_LOG_LIKELIHOOD', 'min_examples': 160, 'num_candidate_attributes_ratio': 0.3521106879732629, 'shrinkage': 0.16976084908682162, 'discretize_numerical_features': True}. Best is trial 33 with value: 0.980759725362098.\u001b[0m\n"
     ]
    },
    {
     "name": "stdout",
     "output_type": "stream",
     "text": [
      "Use /var/folders/80/5mgc74450p1b9jxkl3fd7z780000gn/T/tmpg3wtamzu as temporary training directory\n"
     ]
    },
    {
     "name": "stderr",
     "output_type": "stream",
     "text": [
      "2023-04-06 23:51:23.160606: I tensorflow/core/grappler/optimizers/custom_graph_optimizer_registry.cc:114] Plugin optimizer for device_type GPU is enabled.\n"
     ]
    },
    {
     "name": "stdout",
     "output_type": "stream",
     "text": [
      "Num validation examples: tf.Tensor(39540, shape=(), dtype=int32)\n"
     ]
    },
    {
     "name": "stderr",
     "output_type": "stream",
     "text": [
      "2023-04-06 23:51:25.756730: I tensorflow/core/grappler/optimizers/custom_graph_optimizer_registry.cc:114] Plugin optimizer for device_type GPU is enabled.\n",
      "2023-04-06 23:51:26.227605: W external/ydf/yggdrasil_decision_forests/learner/gradient_boosted_trees/gradient_boosted_trees.cc:1790] \"goss_alpha\" set but \"sampling_method\" not equal to \"GOSS\".\n",
      "2023-04-06 23:51:26.227623: W external/ydf/yggdrasil_decision_forests/learner/gradient_boosted_trees/gradient_boosted_trees.cc:1800] \"goss_beta\" set but \"sampling_method\" not equal to \"GOSS\".\n",
      "2023-04-06 23:51:26.227626: W external/ydf/yggdrasil_decision_forests/learner/gradient_boosted_trees/gradient_boosted_trees.cc:1814] \"selective_gradient_boosting_ratio\" set but \"sampling_method\" not equal to \"SELGB\".\n",
      "2023-04-06 23:51:26.227888: I external/ydf/yggdrasil_decision_forests/learner/gradient_boosted_trees/gradient_boosted_trees.cc:1077] Training gradient boosted tree on 802301 example(s) and 18 feature(s).\n",
      "2023-04-06 23:51:26.227983: I external/ydf/yggdrasil_decision_forests/learner/gradient_boosted_trees/gradient_boosted_trees.cc:1120] 802301 examples used for training and 39540 examples used for validation\n",
      "2023-04-06 23:51:26.572683: I external/ydf/yggdrasil_decision_forests/learner/gradient_boosted_trees/gradient_boosted_trees.cc:1518] \tnum-trees:1 train-loss:0.809315 train-accuracy:0.827721 valid-loss:1.524448 valid-accuracy:0.579514\n",
      "2023-04-06 23:51:33.651696: I external/ydf/yggdrasil_decision_forests/learner/gradient_boosted_trees/gradient_boosted_trees.cc:1520] \tnum-trees:29 train-loss:0.390616 train-accuracy:0.931136 valid-loss:0.982719 valid-accuracy:0.746459\n",
      "2023-04-06 23:52:03.853435: I external/ydf/yggdrasil_decision_forests/learner/gradient_boosted_trees/gradient_boosted_trees.cc:1520] \tnum-trees:147 train-loss:0.264714 train-accuracy:0.950249 valid-loss:0.805402 valid-accuracy:0.815984\n",
      "2023-04-06 23:52:23.669373: I external/ydf/yggdrasil_decision_forests/learner/gradient_boosted_trees/gradient_boosted_trees.cc:1568] Create final snapshot of the model at iteration 224\n",
      "2023-04-06 23:52:23.671996: I external/ydf/yggdrasil_decision_forests/learner/gradient_boosted_trees/gradient_boosted_trees.cc:247] Truncates the model to 175 tree(s) i.e. 175  iteration(s).\n",
      "2023-04-06 23:52:23.672295: I external/ydf/yggdrasil_decision_forests/learner/gradient_boosted_trees/gradient_boosted_trees.cc:309] Final model num-trees:175 valid-loss:0.800818 valid-accuracy:0.816920\n",
      "[INFO 2023-04-06T23:52:23.687292+01:00 kernel.cc:1214] Loading model from path /var/folders/80/5mgc74450p1b9jxkl3fd7z780000gn/T/tmpg3wtamzu/model/ with prefix 65dd3b02500d4029\n",
      "[INFO 2023-04-06T23:52:23.694013+01:00 abstract_model.cc:1312] Engine \"GradientBoostedTreesQuickScorerExtended\" built\n",
      "[INFO 2023-04-06T23:52:23.694043+01:00 kernel.cc:1046] Use fast generic engine\n",
      "2023-04-06 23:52:23.835954: I tensorflow/core/grappler/optimizers/custom_graph_optimizer_registry.cc:114] Plugin optimizer for device_type GPU is enabled.\n",
      "2023-04-06 23:52:23.903955: I tensorflow/core/grappler/optimizers/custom_graph_optimizer_registry.cc:114] Plugin optimizer for device_type GPU is enabled.\n"
     ]
    },
    {
     "name": "stdout",
     "output_type": "stream",
     "text": [
      "40/40 [==============================] - 0s 3ms/step\n"
     ]
    },
    {
     "name": "stderr",
     "output_type": "stream",
     "text": [
      "2023-04-06 23:52:24.148873: I tensorflow/core/grappler/optimizers/custom_graph_optimizer_registry.cc:114] Plugin optimizer for device_type GPU is enabled.\n",
      "\u001b[32m[I 2023-04-06 23:52:24,309]\u001b[0m Trial 37 finished with value: 0.9718042548471715 and parameters: {'max_depth': 5, 'l1_regularization': 5.77754154612809, 'l2_regularization': 8.377210352936283, 'growing_strategy': 'LOCAL', 'loss': 'BINOMIAL_LOG_LIKELIHOOD', 'min_examples': 465, 'num_candidate_attributes_ratio': 0.3931527407994946, 'shrinkage': 0.1406708190429045, 'discretize_numerical_features': False, 'num_discretized_numerical_bins': 340}. Best is trial 33 with value: 0.980759725362098.\u001b[0m\n"
     ]
    },
    {
     "name": "stdout",
     "output_type": "stream",
     "text": [
      "Use /var/folders/80/5mgc74450p1b9jxkl3fd7z780000gn/T/tmpavtme41a as temporary training directory\n"
     ]
    },
    {
     "name": "stderr",
     "output_type": "stream",
     "text": [
      "2023-04-06 23:52:24.453129: I tensorflow/core/grappler/optimizers/custom_graph_optimizer_registry.cc:114] Plugin optimizer for device_type GPU is enabled.\n"
     ]
    },
    {
     "name": "stdout",
     "output_type": "stream",
     "text": [
      "Num validation examples: tf.Tensor(39540, shape=(), dtype=int32)\n"
     ]
    },
    {
     "name": "stderr",
     "output_type": "stream",
     "text": [
      "2023-04-06 23:52:27.078122: I tensorflow/core/grappler/optimizers/custom_graph_optimizer_registry.cc:114] Plugin optimizer for device_type GPU is enabled.\n",
      "2023-04-06 23:52:27.859349: W external/ydf/yggdrasil_decision_forests/learner/gradient_boosted_trees/gradient_boosted_trees.cc:1790] \"goss_alpha\" set but \"sampling_method\" not equal to \"GOSS\".\n",
      "2023-04-06 23:52:27.859366: W external/ydf/yggdrasil_decision_forests/learner/gradient_boosted_trees/gradient_boosted_trees.cc:1800] \"goss_beta\" set but \"sampling_method\" not equal to \"GOSS\".\n",
      "2023-04-06 23:52:27.859370: W external/ydf/yggdrasil_decision_forests/learner/gradient_boosted_trees/gradient_boosted_trees.cc:1814] \"selective_gradient_boosting_ratio\" set but \"sampling_method\" not equal to \"SELGB\".\n",
      "2023-04-06 23:52:27.859625: I external/ydf/yggdrasil_decision_forests/learner/gradient_boosted_trees/gradient_boosted_trees.cc:1077] Training gradient boosted tree on 802301 example(s) and 18 feature(s).\n",
      "2023-04-06 23:52:27.859730: I external/ydf/yggdrasil_decision_forests/learner/gradient_boosted_trees/gradient_boosted_trees.cc:1120] 802301 examples used for training and 39540 examples used for validation\n",
      "2023-04-06 23:52:27.985350: I external/ydf/yggdrasil_decision_forests/learner/gradient_boosted_trees/gradient_boosted_trees.cc:1518] \tnum-trees:1 train-loss:0.718135 train-accuracy:0.827721 valid-loss:1.443315 valid-accuracy:0.579514\n",
      "2023-04-06 23:52:33.958493: I external/ydf/yggdrasil_decision_forests/learner/gradient_boosted_trees/gradient_boosted_trees.cc:1520] \tnum-trees:47 train-loss:0.263731 train-accuracy:0.951271 valid-loss:1.221172 valid-accuracy:0.705058\n",
      "2023-04-06 23:52:36.074020: I external/ydf/yggdrasil_decision_forests/learner/gradient_boosted_trees/gradient_boosted_trees.cc:1568] Create final snapshot of the model at iteration 63\n",
      "2023-04-06 23:52:36.076682: I external/ydf/yggdrasil_decision_forests/learner/gradient_boosted_trees/gradient_boosted_trees.cc:247] Truncates the model to 14 tree(s) i.e. 14  iteration(s).\n",
      "2023-04-06 23:52:36.077286: I external/ydf/yggdrasil_decision_forests/learner/gradient_boosted_trees/gradient_boosted_trees.cc:309] Final model num-trees:14 valid-loss:1.165813 valid-accuracy:0.701290\n",
      "[INFO 2023-04-06T23:52:36.090957+01:00 kernel.cc:1214] Loading model from path /var/folders/80/5mgc74450p1b9jxkl3fd7z780000gn/T/tmpavtme41a/model/ with prefix aa6a3a9f1ec64e3d\n",
      "[INFO 2023-04-06T23:52:36.092288+01:00 abstract_model.cc:1312] Engine \"GradientBoostedTreesQuickScorerExtended\" built\n",
      "[INFO 2023-04-06T23:52:36.092307+01:00 kernel.cc:1046] Use fast generic engine\n",
      "2023-04-06 23:52:36.194435: I tensorflow/core/grappler/optimizers/custom_graph_optimizer_registry.cc:114] Plugin optimizer for device_type GPU is enabled.\n",
      "2023-04-06 23:52:36.250154: I tensorflow/core/grappler/optimizers/custom_graph_optimizer_registry.cc:114] Plugin optimizer for device_type GPU is enabled.\n"
     ]
    },
    {
     "name": "stdout",
     "output_type": "stream",
     "text": [
      "40/40 [==============================] - 0s 3ms/step\n"
     ]
    },
    {
     "name": "stderr",
     "output_type": "stream",
     "text": [
      "2023-04-06 23:52:36.409353: I tensorflow/core/grappler/optimizers/custom_graph_optimizer_registry.cc:114] Plugin optimizer for device_type GPU is enabled.\n",
      "\u001b[32m[I 2023-04-06 23:52:36,564]\u001b[0m Trial 38 finished with value: 0.9535047892268408 and parameters: {'max_depth': 8, 'l1_regularization': 4.180577570025698, 'l2_regularization': 5.463109436747878, 'growing_strategy': 'BEST_FIRST_GLOBAL', 'loss': 'BINOMIAL_LOG_LIKELIHOOD', 'min_examples': 230, 'num_candidate_attributes_ratio': 0.3490242949750705, 'shrinkage': 0.22527072537689047, 'discretize_numerical_features': True}. Best is trial 33 with value: 0.980759725362098.\u001b[0m\n"
     ]
    },
    {
     "name": "stdout",
     "output_type": "stream",
     "text": [
      "Use /var/folders/80/5mgc74450p1b9jxkl3fd7z780000gn/T/tmple8uhzhb as temporary training directory\n"
     ]
    },
    {
     "name": "stderr",
     "output_type": "stream",
     "text": [
      "2023-04-06 23:52:36.707214: I tensorflow/core/grappler/optimizers/custom_graph_optimizer_registry.cc:114] Plugin optimizer for device_type GPU is enabled.\n"
     ]
    },
    {
     "name": "stdout",
     "output_type": "stream",
     "text": [
      "Num validation examples: tf.Tensor(39540, shape=(), dtype=int32)\n"
     ]
    },
    {
     "name": "stderr",
     "output_type": "stream",
     "text": [
      "2023-04-06 23:52:39.308555: I tensorflow/core/grappler/optimizers/custom_graph_optimizer_registry.cc:114] Plugin optimizer for device_type GPU is enabled.\n",
      "2023-04-06 23:52:39.779151: W external/ydf/yggdrasil_decision_forests/learner/gradient_boosted_trees/gradient_boosted_trees.cc:1790] \"goss_alpha\" set but \"sampling_method\" not equal to \"GOSS\".\n",
      "2023-04-06 23:52:39.779168: W external/ydf/yggdrasil_decision_forests/learner/gradient_boosted_trees/gradient_boosted_trees.cc:1800] \"goss_beta\" set but \"sampling_method\" not equal to \"GOSS\".\n",
      "2023-04-06 23:52:39.779172: W external/ydf/yggdrasil_decision_forests/learner/gradient_boosted_trees/gradient_boosted_trees.cc:1814] \"selective_gradient_boosting_ratio\" set but \"sampling_method\" not equal to \"SELGB\".\n",
      "2023-04-06 23:52:39.779428: I external/ydf/yggdrasil_decision_forests/learner/gradient_boosted_trees/gradient_boosted_trees.cc:1077] Training gradient boosted tree on 802301 example(s) and 18 feature(s).\n",
      "2023-04-06 23:52:39.779507: I external/ydf/yggdrasil_decision_forests/learner/gradient_boosted_trees/gradient_boosted_trees.cc:1120] 802301 examples used for training and 39540 examples used for validation\n",
      "2023-04-06 23:52:41.615672: I external/ydf/yggdrasil_decision_forests/learner/gradient_boosted_trees/gradient_boosted_trees.cc:1518] \tnum-trees:1 train-loss:0.721575 train-accuracy:0.827721 valid-loss:1.499716 valid-accuracy:0.579514\n",
      "2023-04-06 23:53:04.826932: I external/ydf/yggdrasil_decision_forests/learner/gradient_boosted_trees/gradient_boosted_trees.cc:1520] \tnum-trees:14 train-loss:0.272105 train-accuracy:0.959869 valid-loss:1.048537 valid-accuracy:0.727213\n",
      "2023-04-06 23:53:34.855719: I external/ydf/yggdrasil_decision_forests/learner/gradient_boosted_trees/gradient_boosted_trees.cc:1520] \tnum-trees:33 train-loss:0.198036 train-accuracy:0.967654 valid-loss:1.014162 valid-accuracy:0.760647\n",
      "2023-04-06 23:54:05.193976: I external/ydf/yggdrasil_decision_forests/learner/gradient_boosted_trees/gradient_boosted_trees.cc:1520] \tnum-trees:55 train-loss:0.168483 train-accuracy:0.972116 valid-loss:0.989884 valid-accuracy:0.773976\n",
      "2023-04-06 23:54:35.772756: I external/ydf/yggdrasil_decision_forests/learner/gradient_boosted_trees/gradient_boosted_trees.cc:1520] \tnum-trees:79 train-loss:0.151558 train-accuracy:0.975242 valid-loss:0.972912 valid-accuracy:0.779666\n",
      "2023-04-06 23:55:06.661101: I external/ydf/yggdrasil_decision_forests/learner/gradient_boosted_trees/gradient_boosted_trees.cc:1520] \tnum-trees:104 train-loss:0.141277 train-accuracy:0.977506 valid-loss:0.976634 valid-accuracy:0.781892\n",
      "2023-04-06 23:55:36.890716: I external/ydf/yggdrasil_decision_forests/learner/gradient_boosted_trees/gradient_boosted_trees.cc:1520] \tnum-trees:129 train-loss:0.133263 train-accuracy:0.979246 valid-loss:0.974768 valid-accuracy:0.783713\n",
      "2023-04-06 23:56:07.404747: I external/ydf/yggdrasil_decision_forests/learner/gradient_boosted_trees/gradient_boosted_trees.cc:1520] \tnum-trees:154 train-loss:0.126194 train-accuracy:0.980840 valid-loss:0.971586 valid-accuracy:0.786267\n",
      "2023-04-06 23:56:38.202383: I external/ydf/yggdrasil_decision_forests/learner/gradient_boosted_trees/gradient_boosted_trees.cc:1520] \tnum-trees:181 train-loss:0.121481 train-accuracy:0.981723 valid-loss:0.974073 valid-accuracy:0.787810\n",
      "2023-04-06 23:57:08.517507: I external/ydf/yggdrasil_decision_forests/learner/gradient_boosted_trees/gradient_boosted_trees.cc:1520] \tnum-trees:208 train-loss:0.117343 train-accuracy:0.982639 valid-loss:0.975188 valid-accuracy:0.788543\n",
      "2023-04-06 23:57:11.883286: I external/ydf/yggdrasil_decision_forests/learner/gradient_boosted_trees/gradient_boosted_trees.cc:1568] Create final snapshot of the model at iteration 210\n",
      "2023-04-06 23:57:12.094421: I external/ydf/yggdrasil_decision_forests/learner/gradient_boosted_trees/gradient_boosted_trees.cc:247] Truncates the model to 161 tree(s) i.e. 161  iteration(s).\n",
      "2023-04-06 23:57:12.110852: I external/ydf/yggdrasil_decision_forests/learner/gradient_boosted_trees/gradient_boosted_trees.cc:309] Final model num-trees:161 valid-loss:0.969317 valid-accuracy:0.786722\n",
      "[INFO 2023-04-06T23:57:12.500665+01:00 kernel.cc:1214] Loading model from path /var/folders/80/5mgc74450p1b9jxkl3fd7z780000gn/T/tmple8uhzhb/model/ with prefix 499bb10122b448a1\n",
      "[INFO 2023-04-06T23:57:13.181416+01:00 decision_forest.cc:661] Model loaded with 161 root(s), 537055 node(s), and 18 input feature(s).\n",
      "[INFO 2023-04-06T23:57:13.181443+01:00 abstract_model.cc:1312] Engine \"GradientBoostedTreesGeneric\" built\n",
      "[INFO 2023-04-06T23:57:13.181455+01:00 kernel.cc:1046] Use fast generic engine\n",
      "2023-04-06 23:57:13.389912: I tensorflow/core/grappler/optimizers/custom_graph_optimizer_registry.cc:114] Plugin optimizer for device_type GPU is enabled.\n",
      "2023-04-06 23:57:13.470042: I tensorflow/core/grappler/optimizers/custom_graph_optimizer_registry.cc:114] Plugin optimizer for device_type GPU is enabled.\n"
     ]
    },
    {
     "name": "stdout",
     "output_type": "stream",
     "text": [
      " 5/40 [==>...........................] - ETA: 0s"
     ]
    },
    {
     "name": "stderr",
     "output_type": "stream",
     "text": [
      "2023-04-06 23:57:14.620925: I tensorflow/core/grappler/optimizers/custom_graph_optimizer_registry.cc:114] Plugin optimizer for device_type GPU is enabled.\n"
     ]
    },
    {
     "name": "stdout",
     "output_type": "stream",
     "text": [
      "40/40 [==============================] - 1s 29ms/step\n"
     ]
    },
    {
     "name": "stderr",
     "output_type": "stream",
     "text": [
      "\u001b[32m[I 2023-04-06 23:57:15,815]\u001b[0m Trial 39 finished with value: 0.9803160706325259 and parameters: {'max_depth': 17, 'l1_regularization': 3.3267758905023266, 'l2_regularization': 7.950424416731624, 'growing_strategy': 'LOCAL', 'loss': 'BINOMIAL_LOG_LIKELIHOOD', 'min_examples': 75, 'num_candidate_attributes_ratio': 0.24442322453035584, 'shrinkage': 0.20503132157136916, 'discretize_numerical_features': False, 'num_discretized_numerical_bins': 110}. Best is trial 33 with value: 0.980759725362098.\u001b[0m\n"
     ]
    },
    {
     "name": "stdout",
     "output_type": "stream",
     "text": [
      "Use /var/folders/80/5mgc74450p1b9jxkl3fd7z780000gn/T/tmp2m28616x as temporary training directory\n"
     ]
    },
    {
     "name": "stderr",
     "output_type": "stream",
     "text": [
      "2023-04-06 23:57:15.954650: I tensorflow/core/grappler/optimizers/custom_graph_optimizer_registry.cc:114] Plugin optimizer for device_type GPU is enabled.\n"
     ]
    },
    {
     "name": "stdout",
     "output_type": "stream",
     "text": [
      "Num validation examples: tf.Tensor(39540, shape=(), dtype=int32)\n"
     ]
    },
    {
     "name": "stderr",
     "output_type": "stream",
     "text": [
      "2023-04-06 23:57:18.558320: I tensorflow/core/grappler/optimizers/custom_graph_optimizer_registry.cc:114] Plugin optimizer for device_type GPU is enabled.\n",
      "2023-04-06 23:57:19.326512: W external/ydf/yggdrasil_decision_forests/learner/gradient_boosted_trees/gradient_boosted_trees.cc:1790] \"goss_alpha\" set but \"sampling_method\" not equal to \"GOSS\".\n",
      "2023-04-06 23:57:19.326534: W external/ydf/yggdrasil_decision_forests/learner/gradient_boosted_trees/gradient_boosted_trees.cc:1800] \"goss_beta\" set but \"sampling_method\" not equal to \"GOSS\".\n",
      "2023-04-06 23:57:19.326537: W external/ydf/yggdrasil_decision_forests/learner/gradient_boosted_trees/gradient_boosted_trees.cc:1814] \"selective_gradient_boosting_ratio\" set but \"sampling_method\" not equal to \"SELGB\".\n",
      "2023-04-06 23:57:19.326790: I external/ydf/yggdrasil_decision_forests/learner/gradient_boosted_trees/gradient_boosted_trees.cc:1077] Training gradient boosted tree on 802301 example(s) and 18 feature(s).\n",
      "2023-04-06 23:57:19.326889: I external/ydf/yggdrasil_decision_forests/learner/gradient_boosted_trees/gradient_boosted_trees.cc:1120] 802301 examples used for training and 39540 examples used for validation\n",
      "2023-04-06 23:57:19.455813: I external/ydf/yggdrasil_decision_forests/learner/gradient_boosted_trees/gradient_boosted_trees.cc:1518] \tnum-trees:1 train-loss:0.829901 train-accuracy:0.827721 valid-loss:1.556840 valid-accuracy:0.579514\n",
      "2023-04-06 23:57:31.394842: I external/ydf/yggdrasil_decision_forests/learner/gradient_boosted_trees/gradient_boosted_trees.cc:1568] Create final snapshot of the model at iteration 93\n",
      "2023-04-06 23:57:31.397394: I external/ydf/yggdrasil_decision_forests/learner/gradient_boosted_trees/gradient_boosted_trees.cc:247] Truncates the model to 44 tree(s) i.e. 44  iteration(s).\n",
      "2023-04-06 23:57:31.398018: I external/ydf/yggdrasil_decision_forests/learner/gradient_boosted_trees/gradient_boosted_trees.cc:309] Final model num-trees:44 valid-loss:1.157618 valid-accuracy:0.696358\n",
      "[INFO 2023-04-06T23:57:31.411699+01:00 kernel.cc:1214] Loading model from path /var/folders/80/5mgc74450p1b9jxkl3fd7z780000gn/T/tmp2m28616x/model/ with prefix 3234e31c19d043cb\n",
      "[INFO 2023-04-06T23:57:31.415205+01:00 abstract_model.cc:1312] Engine \"GradientBoostedTreesQuickScorerExtended\" built\n",
      "[INFO 2023-04-06T23:57:31.415228+01:00 kernel.cc:1046] Use fast generic engine\n",
      "2023-04-06 23:57:31.521090: I tensorflow/core/grappler/optimizers/custom_graph_optimizer_registry.cc:114] Plugin optimizer for device_type GPU is enabled.\n",
      "2023-04-06 23:57:31.577302: I tensorflow/core/grappler/optimizers/custom_graph_optimizer_registry.cc:114] Plugin optimizer for device_type GPU is enabled.\n"
     ]
    },
    {
     "name": "stdout",
     "output_type": "stream",
     "text": [
      "40/40 [==============================] - 0s 3ms/step\n"
     ]
    },
    {
     "name": "stderr",
     "output_type": "stream",
     "text": [
      "2023-04-06 23:57:31.730221: I tensorflow/core/grappler/optimizers/custom_graph_optimizer_registry.cc:114] Plugin optimizer for device_type GPU is enabled.\n",
      "\u001b[32m[I 2023-04-06 23:57:31,887]\u001b[0m Trial 40 finished with value: 0.948706382035741 and parameters: {'max_depth': 18, 'l1_regularization': 4.975667954914491, 'l2_regularization': 11.454134436054085, 'growing_strategy': 'BEST_FIRST_GLOBAL', 'loss': 'BINOMIAL_LOG_LIKELIHOOD', 'min_examples': 55, 'num_candidate_attributes_ratio': 0.24466581227465234, 'shrinkage': 0.09476825879246145, 'discretize_numerical_features': True}. Best is trial 33 with value: 0.980759725362098.\u001b[0m\n"
     ]
    },
    {
     "name": "stdout",
     "output_type": "stream",
     "text": [
      "Use /var/folders/80/5mgc74450p1b9jxkl3fd7z780000gn/T/tmpokhh_mo2 as temporary training directory\n"
     ]
    },
    {
     "name": "stderr",
     "output_type": "stream",
     "text": [
      "2023-04-06 23:57:32.019864: I tensorflow/core/grappler/optimizers/custom_graph_optimizer_registry.cc:114] Plugin optimizer for device_type GPU is enabled.\n"
     ]
    },
    {
     "name": "stdout",
     "output_type": "stream",
     "text": [
      "Num validation examples: tf.Tensor(39540, shape=(), dtype=int32)\n"
     ]
    },
    {
     "name": "stderr",
     "output_type": "stream",
     "text": [
      "2023-04-06 23:57:34.598663: I tensorflow/core/grappler/optimizers/custom_graph_optimizer_registry.cc:114] Plugin optimizer for device_type GPU is enabled.\n",
      "2023-04-06 23:57:35.080418: W external/ydf/yggdrasil_decision_forests/learner/gradient_boosted_trees/gradient_boosted_trees.cc:1790] \"goss_alpha\" set but \"sampling_method\" not equal to \"GOSS\".\n",
      "2023-04-06 23:57:35.080435: W external/ydf/yggdrasil_decision_forests/learner/gradient_boosted_trees/gradient_boosted_trees.cc:1800] \"goss_beta\" set but \"sampling_method\" not equal to \"GOSS\".\n",
      "2023-04-06 23:57:35.080438: W external/ydf/yggdrasil_decision_forests/learner/gradient_boosted_trees/gradient_boosted_trees.cc:1814] \"selective_gradient_boosting_ratio\" set but \"sampling_method\" not equal to \"SELGB\".\n",
      "2023-04-06 23:57:35.080685: I external/ydf/yggdrasil_decision_forests/learner/gradient_boosted_trees/gradient_boosted_trees.cc:1077] Training gradient boosted tree on 802301 example(s) and 18 feature(s).\n",
      "2023-04-06 23:57:35.080785: I external/ydf/yggdrasil_decision_forests/learner/gradient_boosted_trees/gradient_boosted_trees.cc:1120] 802301 examples used for training and 39540 examples used for validation\n",
      "2023-04-06 23:57:36.699102: I external/ydf/yggdrasil_decision_forests/learner/gradient_boosted_trees/gradient_boosted_trees.cc:1518] \tnum-trees:1 train-loss:0.728468 train-accuracy:0.827721 valid-loss:1.501974 valid-accuracy:0.579514\n",
      "2023-04-06 23:57:39.882875: I external/ydf/yggdrasil_decision_forests/learner/gradient_boosted_trees/gradient_boosted_trees.cc:1520] \tnum-trees:3 train-loss:0.539005 train-accuracy:0.900534 valid-loss:1.272910 valid-accuracy:0.606120\n",
      "2023-04-06 23:58:10.916747: I external/ydf/yggdrasil_decision_forests/learner/gradient_boosted_trees/gradient_boosted_trees.cc:1520] \tnum-trees:23 train-loss:0.218108 train-accuracy:0.964294 valid-loss:0.918443 valid-accuracy:0.768766\n",
      "2023-04-06 23:58:41.678135: I external/ydf/yggdrasil_decision_forests/learner/gradient_boosted_trees/gradient_boosted_trees.cc:1520] \tnum-trees:45 train-loss:0.174427 train-accuracy:0.970408 valid-loss:0.928172 valid-accuracy:0.781765\n",
      "2023-04-06 23:59:12.041421: I external/ydf/yggdrasil_decision_forests/learner/gradient_boosted_trees/gradient_boosted_trees.cc:1520] \tnum-trees:68 train-loss:0.150737 train-accuracy:0.975057 valid-loss:0.939241 valid-accuracy:0.786520\n",
      "2023-04-06 23:59:30.749501: I external/ydf/yggdrasil_decision_forests/learner/gradient_boosted_trees/gradient_boosted_trees.cc:1568] Create final snapshot of the model at iteration 82\n",
      "2023-04-06 23:59:30.841647: I external/ydf/yggdrasil_decision_forests/learner/gradient_boosted_trees/gradient_boosted_trees.cc:247] Truncates the model to 33 tree(s) i.e. 33  iteration(s).\n",
      "2023-04-06 23:59:30.871047: I external/ydf/yggdrasil_decision_forests/learner/gradient_boosted_trees/gradient_boosted_trees.cc:309] Final model num-trees:33 valid-loss:0.916221 valid-accuracy:0.778048\n",
      "[INFO 2023-04-06T23:59:30.988124+01:00 kernel.cc:1214] Loading model from path /var/folders/80/5mgc74450p1b9jxkl3fd7z780000gn/T/tmpokhh_mo2/model/ with prefix 01532d98b8134a0c\n",
      "[INFO 2023-04-06T23:59:31.177476+01:00 decision_forest.cc:661] Model loaded with 33 root(s), 150615 node(s), and 18 input feature(s).\n",
      "[INFO 2023-04-06T23:59:31.177502+01:00 abstract_model.cc:1312] Engine \"GradientBoostedTreesGeneric\" built\n",
      "[INFO 2023-04-06T23:59:31.177518+01:00 kernel.cc:1046] Use fast generic engine\n",
      "2023-04-06 23:59:31.344412: I tensorflow/core/grappler/optimizers/custom_graph_optimizer_registry.cc:114] Plugin optimizer for device_type GPU is enabled.\n",
      "2023-04-06 23:59:31.409243: I tensorflow/core/grappler/optimizers/custom_graph_optimizer_registry.cc:114] Plugin optimizer for device_type GPU is enabled.\n"
     ]
    },
    {
     "name": "stdout",
     "output_type": "stream",
     "text": [
      "22/40 [===============>..............] - ETA: 0s"
     ]
    },
    {
     "name": "stderr",
     "output_type": "stream",
     "text": [
      "2023-04-06 23:59:31.731283: I tensorflow/core/grappler/optimizers/custom_graph_optimizer_registry.cc:114] Plugin optimizer for device_type GPU is enabled.\n"
     ]
    },
    {
     "name": "stdout",
     "output_type": "stream",
     "text": [
      "40/40 [==============================] - 0s 8ms/step\n"
     ]
    },
    {
     "name": "stderr",
     "output_type": "stream",
     "text": [
      "\u001b[32m[I 2023-04-06 23:59:32,082]\u001b[0m Trial 41 finished with value: 0.9774494268905576 and parameters: {'max_depth': 17, 'l1_regularization': 2.980271370064787, 'l2_regularization': 8.102035383717181, 'growing_strategy': 'LOCAL', 'loss': 'BINOMIAL_LOG_LIKELIHOOD', 'min_examples': 125, 'num_candidate_attributes_ratio': 0.31443661921992255, 'shrinkage': 0.19220900551309417, 'discretize_numerical_features': False, 'num_discretized_numerical_bins': 100}. Best is trial 33 with value: 0.980759725362098.\u001b[0m\n"
     ]
    },
    {
     "name": "stdout",
     "output_type": "stream",
     "text": [
      "Use /var/folders/80/5mgc74450p1b9jxkl3fd7z780000gn/T/tmph5hvingo as temporary training directory\n"
     ]
    },
    {
     "name": "stderr",
     "output_type": "stream",
     "text": [
      "2023-04-06 23:59:32.225948: I tensorflow/core/grappler/optimizers/custom_graph_optimizer_registry.cc:114] Plugin optimizer for device_type GPU is enabled.\n"
     ]
    },
    {
     "name": "stdout",
     "output_type": "stream",
     "text": [
      "Num validation examples: tf.Tensor(39540, shape=(), dtype=int32)\n"
     ]
    },
    {
     "name": "stderr",
     "output_type": "stream",
     "text": [
      "2023-04-06 23:59:34.828970: I tensorflow/core/grappler/optimizers/custom_graph_optimizer_registry.cc:114] Plugin optimizer for device_type GPU is enabled.\n",
      "2023-04-06 23:59:35.304066: W external/ydf/yggdrasil_decision_forests/learner/gradient_boosted_trees/gradient_boosted_trees.cc:1790] \"goss_alpha\" set but \"sampling_method\" not equal to \"GOSS\".\n",
      "2023-04-06 23:59:35.304081: W external/ydf/yggdrasil_decision_forests/learner/gradient_boosted_trees/gradient_boosted_trees.cc:1800] \"goss_beta\" set but \"sampling_method\" not equal to \"GOSS\".\n",
      "2023-04-06 23:59:35.304084: W external/ydf/yggdrasil_decision_forests/learner/gradient_boosted_trees/gradient_boosted_trees.cc:1814] \"selective_gradient_boosting_ratio\" set but \"sampling_method\" not equal to \"SELGB\".\n",
      "2023-04-06 23:59:35.304336: I external/ydf/yggdrasil_decision_forests/learner/gradient_boosted_trees/gradient_boosted_trees.cc:1077] Training gradient boosted tree on 802301 example(s) and 18 feature(s).\n",
      "2023-04-06 23:59:35.304428: I external/ydf/yggdrasil_decision_forests/learner/gradient_boosted_trees/gradient_boosted_trees.cc:1120] 802301 examples used for training and 39540 examples used for validation\n",
      "2023-04-06 23:59:36.789223: I external/ydf/yggdrasil_decision_forests/learner/gradient_boosted_trees/gradient_boosted_trees.cc:1518] \tnum-trees:1 train-loss:0.761620 train-accuracy:0.827721 valid-loss:1.527123 valid-accuracy:0.579514\n",
      "2023-04-06 23:59:42.246666: I external/ydf/yggdrasil_decision_forests/learner/gradient_boosted_trees/gradient_boosted_trees.cc:1520] \tnum-trees:5 train-loss:0.486006 train-accuracy:0.917257 valid-loss:1.223666 valid-accuracy:0.629489\n",
      "2023-04-07 00:00:13.038088: I external/ydf/yggdrasil_decision_forests/learner/gradient_boosted_trees/gradient_boosted_trees.cc:1520] \tnum-trees:28 train-loss:0.222063 train-accuracy:0.963294 valid-loss:0.945125 valid-accuracy:0.770384\n",
      "2023-04-07 00:00:43.570401: I external/ydf/yggdrasil_decision_forests/learner/gradient_boosted_trees/gradient_boosted_trees.cc:1520] \tnum-trees:54 train-loss:0.180773 train-accuracy:0.969166 valid-loss:0.938571 valid-accuracy:0.782903\n",
      "2023-04-07 00:01:13.835888: I external/ydf/yggdrasil_decision_forests/learner/gradient_boosted_trees/gradient_boosted_trees.cc:1520] \tnum-trees:83 train-loss:0.161663 train-accuracy:0.972747 valid-loss:0.932657 valid-accuracy:0.788948\n",
      "2023-04-07 00:01:44.000251: I external/ydf/yggdrasil_decision_forests/learner/gradient_boosted_trees/gradient_boosted_trees.cc:1520] \tnum-trees:113 train-loss:0.149707 train-accuracy:0.975160 valid-loss:0.928448 valid-accuracy:0.791806\n",
      "2023-04-07 00:02:14.768186: I external/ydf/yggdrasil_decision_forests/learner/gradient_boosted_trees/gradient_boosted_trees.cc:1520] \tnum-trees:144 train-loss:0.139799 train-accuracy:0.977258 valid-loss:0.923291 valid-accuracy:0.794512\n",
      "2023-04-07 00:02:45.217454: I external/ydf/yggdrasil_decision_forests/learner/gradient_boosted_trees/gradient_boosted_trees.cc:1520] \tnum-trees:175 train-loss:0.131523 train-accuracy:0.979064 valid-loss:0.918134 valid-accuracy:0.797294\n",
      "2023-04-07 00:03:15.386920: I external/ydf/yggdrasil_decision_forests/learner/gradient_boosted_trees/gradient_boosted_trees.cc:1520] \tnum-trees:207 train-loss:0.125711 train-accuracy:0.980389 valid-loss:0.922371 valid-accuracy:0.798179\n",
      "2023-04-07 00:03:31.973610: I external/ydf/yggdrasil_decision_forests/learner/gradient_boosted_trees/gradient_boosted_trees.cc:1568] Create final snapshot of the model at iteration 224\n",
      "2023-04-07 00:03:32.112304: I external/ydf/yggdrasil_decision_forests/learner/gradient_boosted_trees/gradient_boosted_trees.cc:247] Truncates the model to 175 tree(s) i.e. 175  iteration(s).\n",
      "2023-04-07 00:03:32.121991: I external/ydf/yggdrasil_decision_forests/learner/gradient_boosted_trees/gradient_boosted_trees.cc:309] Final model num-trees:175 valid-loss:0.918134 valid-accuracy:0.797294\n",
      "[INFO 2023-04-07T00:03:32.395739+01:00 kernel.cc:1214] Loading model from path /var/folders/80/5mgc74450p1b9jxkl3fd7z780000gn/T/tmph5hvingo/model/ with prefix 898b312f2bb24b1c\n",
      "[INFO 2023-04-07T00:03:32.86588+01:00 decision_forest.cc:661] Model loaded with 175 root(s), 371567 node(s), and 18 input feature(s).\n",
      "[INFO 2023-04-07T00:03:32.865907+01:00 abstract_model.cc:1312] Engine \"GradientBoostedTreesGeneric\" built\n",
      "[INFO 2023-04-07T00:03:32.865919+01:00 kernel.cc:1046] Use fast generic engine\n",
      "2023-04-07 00:03:33.065805: I tensorflow/core/grappler/optimizers/custom_graph_optimizer_registry.cc:114] Plugin optimizer for device_type GPU is enabled.\n",
      "2023-04-07 00:03:33.153444: I tensorflow/core/grappler/optimizers/custom_graph_optimizer_registry.cc:114] Plugin optimizer for device_type GPU is enabled.\n"
     ]
    },
    {
     "name": "stdout",
     "output_type": "stream",
     "text": [
      " 5/40 [==>...........................] - ETA: 1s"
     ]
    },
    {
     "name": "stderr",
     "output_type": "stream",
     "text": [
      "2023-04-07 00:03:34.316728: I tensorflow/core/grappler/optimizers/custom_graph_optimizer_registry.cc:114] Plugin optimizer for device_type GPU is enabled.\n"
     ]
    },
    {
     "name": "stdout",
     "output_type": "stream",
     "text": [
      "40/40 [==============================] - 1s 29ms/step\n"
     ]
    },
    {
     "name": "stderr",
     "output_type": "stream",
     "text": [
      "\u001b[32m[I 2023-04-07 00:03:35,529]\u001b[0m Trial 42 finished with value: 0.9806557987097175 and parameters: {'max_depth': 15, 'l1_regularization': 1.1863214391604078, 'l2_regularization': 9.604651553145734, 'growing_strategy': 'LOCAL', 'loss': 'BINOMIAL_LOG_LIKELIHOOD', 'min_examples': 80, 'num_candidate_attributes_ratio': 0.27670730178533093, 'shrinkage': 0.15669446818657679, 'discretize_numerical_features': False, 'num_discretized_numerical_bins': 190}. Best is trial 33 with value: 0.980759725362098.\u001b[0m\n"
     ]
    },
    {
     "name": "stdout",
     "output_type": "stream",
     "text": [
      "Use /var/folders/80/5mgc74450p1b9jxkl3fd7z780000gn/T/tmp0epl6fx9 as temporary training directory\n"
     ]
    },
    {
     "name": "stderr",
     "output_type": "stream",
     "text": [
      "2023-04-07 00:03:35.687655: I tensorflow/core/grappler/optimizers/custom_graph_optimizer_registry.cc:114] Plugin optimizer for device_type GPU is enabled.\n"
     ]
    },
    {
     "name": "stdout",
     "output_type": "stream",
     "text": [
      "Num validation examples: tf.Tensor(39540, shape=(), dtype=int32)\n"
     ]
    },
    {
     "name": "stderr",
     "output_type": "stream",
     "text": [
      "2023-04-07 00:03:38.295292: I tensorflow/core/grappler/optimizers/custom_graph_optimizer_registry.cc:114] Plugin optimizer for device_type GPU is enabled.\n",
      "2023-04-07 00:03:38.768968: W external/ydf/yggdrasil_decision_forests/learner/gradient_boosted_trees/gradient_boosted_trees.cc:1790] \"goss_alpha\" set but \"sampling_method\" not equal to \"GOSS\".\n",
      "2023-04-07 00:03:38.768984: W external/ydf/yggdrasil_decision_forests/learner/gradient_boosted_trees/gradient_boosted_trees.cc:1800] \"goss_beta\" set but \"sampling_method\" not equal to \"GOSS\".\n",
      "2023-04-07 00:03:38.768987: W external/ydf/yggdrasil_decision_forests/learner/gradient_boosted_trees/gradient_boosted_trees.cc:1814] \"selective_gradient_boosting_ratio\" set but \"sampling_method\" not equal to \"SELGB\".\n",
      "2023-04-07 00:03:38.769251: I external/ydf/yggdrasil_decision_forests/learner/gradient_boosted_trees/gradient_boosted_trees.cc:1077] Training gradient boosted tree on 802301 example(s) and 18 feature(s).\n",
      "2023-04-07 00:03:38.769340: I external/ydf/yggdrasil_decision_forests/learner/gradient_boosted_trees/gradient_boosted_trees.cc:1120] 802301 examples used for training and 39540 examples used for validation\n",
      "2023-04-07 00:03:40.077278: I external/ydf/yggdrasil_decision_forests/learner/gradient_boosted_trees/gradient_boosted_trees.cc:1518] \tnum-trees:1 train-loss:0.762183 train-accuracy:0.827721 valid-loss:1.505319 valid-accuracy:0.579514\n",
      "2023-04-07 00:03:46.362658: I external/ydf/yggdrasil_decision_forests/learner/gradient_boosted_trees/gradient_boosted_trees.cc:1520] \tnum-trees:6 train-loss:0.455809 train-accuracy:0.932690 valid-loss:1.206183 valid-accuracy:0.646080\n",
      "2023-04-07 00:04:16.657410: I external/ydf/yggdrasil_decision_forests/learner/gradient_boosted_trees/gradient_boosted_trees.cc:1520] \tnum-trees:31 train-loss:0.214643 train-accuracy:0.963060 valid-loss:0.913668 valid-accuracy:0.777466\n",
      "2023-04-07 00:04:47.215821: I external/ydf/yggdrasil_decision_forests/learner/gradient_boosted_trees/gradient_boosted_trees.cc:1520] \tnum-trees:59 train-loss:0.176676 train-accuracy:0.968952 valid-loss:0.894067 valid-accuracy:0.789530\n",
      "2023-04-07 00:05:17.576671: I external/ydf/yggdrasil_decision_forests/learner/gradient_boosted_trees/gradient_boosted_trees.cc:1520] \tnum-trees:90 train-loss:0.160936 train-accuracy:0.971998 valid-loss:0.888508 valid-accuracy:0.795119\n",
      "2023-04-07 00:05:47.978449: I external/ydf/yggdrasil_decision_forests/learner/gradient_boosted_trees/gradient_boosted_trees.cc:1520] \tnum-trees:121 train-loss:0.148535 train-accuracy:0.974597 valid-loss:0.887957 valid-accuracy:0.796889\n",
      "2023-04-07 00:06:18.263850: I external/ydf/yggdrasil_decision_forests/learner/gradient_boosted_trees/gradient_boosted_trees.cc:1520] \tnum-trees:153 train-loss:0.138730 train-accuracy:0.976810 valid-loss:0.890046 valid-accuracy:0.798761\n",
      "2023-04-07 00:06:21.821233: I external/ydf/yggdrasil_decision_forests/learner/gradient_boosted_trees/gradient_boosted_trees.cc:1568] Create final snapshot of the model at iteration 156\n",
      "2023-04-07 00:06:21.898056: I external/ydf/yggdrasil_decision_forests/learner/gradient_boosted_trees/gradient_boosted_trees.cc:247] Truncates the model to 107 tree(s) i.e. 107  iteration(s).\n",
      "2023-04-07 00:06:21.907441: I external/ydf/yggdrasil_decision_forests/learner/gradient_boosted_trees/gradient_boosted_trees.cc:309] Final model num-trees:107 valid-loss:0.883153 valid-accuracy:0.796383\n",
      "[INFO 2023-04-07T00:06:22.059779+01:00 kernel.cc:1214] Loading model from path /var/folders/80/5mgc74450p1b9jxkl3fd7z780000gn/T/tmp0epl6fx9/model/ with prefix f4f3d204915b4980\n",
      "[INFO 2023-04-07T00:06:22.307797+01:00 decision_forest.cc:661] Model loaded with 107 root(s), 196347 node(s), and 18 input feature(s).\n",
      "[INFO 2023-04-07T00:06:22.307823+01:00 abstract_model.cc:1312] Engine \"GradientBoostedTreesGeneric\" built\n",
      "[INFO 2023-04-07T00:06:22.307839+01:00 kernel.cc:1046] Use fast generic engine\n",
      "2023-04-07 00:06:22.471550: I tensorflow/core/grappler/optimizers/custom_graph_optimizer_registry.cc:114] Plugin optimizer for device_type GPU is enabled.\n",
      "2023-04-07 00:06:22.541499: I tensorflow/core/grappler/optimizers/custom_graph_optimizer_registry.cc:114] Plugin optimizer for device_type GPU is enabled.\n"
     ]
    },
    {
     "name": "stdout",
     "output_type": "stream",
     "text": [
      "10/40 [======>.......................] - ETA: 0s"
     ]
    },
    {
     "name": "stderr",
     "output_type": "stream",
     "text": [
      "2023-04-07 00:06:23.274213: I tensorflow/core/grappler/optimizers/custom_graph_optimizer_registry.cc:114] Plugin optimizer for device_type GPU is enabled.\n"
     ]
    },
    {
     "name": "stdout",
     "output_type": "stream",
     "text": [
      "40/40 [==============================] - 1s 19ms/step\n"
     ]
    },
    {
     "name": "stderr",
     "output_type": "stream",
     "text": [
      "\u001b[32m[I 2023-04-07 00:06:24,054]\u001b[0m Trial 43 finished with value: 0.980368619812799 and parameters: {'max_depth': 15, 'l1_regularization': 1.0596904543160457, 'l2_regularization': 10.052846532877458, 'growing_strategy': 'LOCAL', 'loss': 'BINOMIAL_LOG_LIKELIHOOD', 'min_examples': 160, 'num_candidate_attributes_ratio': 0.28285373652362394, 'shrinkage': 0.15218985848385355, 'discretize_numerical_features': False, 'num_discretized_numerical_bins': 180}. Best is trial 33 with value: 0.980759725362098.\u001b[0m\n"
     ]
    },
    {
     "name": "stdout",
     "output_type": "stream",
     "text": [
      "Use /var/folders/80/5mgc74450p1b9jxkl3fd7z780000gn/T/tmpd64ylzt6 as temporary training directory\n"
     ]
    },
    {
     "name": "stderr",
     "output_type": "stream",
     "text": [
      "2023-04-07 00:06:24.207482: I tensorflow/core/grappler/optimizers/custom_graph_optimizer_registry.cc:114] Plugin optimizer for device_type GPU is enabled.\n"
     ]
    },
    {
     "name": "stdout",
     "output_type": "stream",
     "text": [
      "Num validation examples: tf.Tensor(39540, shape=(), dtype=int32)\n"
     ]
    },
    {
     "name": "stderr",
     "output_type": "stream",
     "text": [
      "2023-04-07 00:06:26.837561: I tensorflow/core/grappler/optimizers/custom_graph_optimizer_registry.cc:114] Plugin optimizer for device_type GPU is enabled.\n",
      "2023-04-07 00:06:27.321396: W external/ydf/yggdrasil_decision_forests/learner/gradient_boosted_trees/gradient_boosted_trees.cc:1790] \"goss_alpha\" set but \"sampling_method\" not equal to \"GOSS\".\n",
      "2023-04-07 00:06:27.321410: W external/ydf/yggdrasil_decision_forests/learner/gradient_boosted_trees/gradient_boosted_trees.cc:1800] \"goss_beta\" set but \"sampling_method\" not equal to \"GOSS\".\n",
      "2023-04-07 00:06:27.321414: W external/ydf/yggdrasil_decision_forests/learner/gradient_boosted_trees/gradient_boosted_trees.cc:1814] \"selective_gradient_boosting_ratio\" set but \"sampling_method\" not equal to \"SELGB\".\n",
      "2023-04-07 00:06:27.321694: I external/ydf/yggdrasil_decision_forests/learner/gradient_boosted_trees/gradient_boosted_trees.cc:1077] Training gradient boosted tree on 802301 example(s) and 18 feature(s).\n",
      "2023-04-07 00:06:27.321778: I external/ydf/yggdrasil_decision_forests/learner/gradient_boosted_trees/gradient_boosted_trees.cc:1120] 802301 examples used for training and 39540 examples used for validation\n",
      "2023-04-07 00:06:28.702139: I external/ydf/yggdrasil_decision_forests/learner/gradient_boosted_trees/gradient_boosted_trees.cc:1518] \tnum-trees:1 train-loss:0.778107 train-accuracy:0.827721 valid-loss:1.543438 valid-accuracy:0.579514\n",
      "2023-04-07 00:06:48.756203: I external/ydf/yggdrasil_decision_forests/learner/gradient_boosted_trees/gradient_boosted_trees.cc:1520] \tnum-trees:17 train-loss:0.282876 train-accuracy:0.956286 valid-loss:0.953499 valid-accuracy:0.745473\n",
      "2023-04-07 00:07:19.637579: I external/ydf/yggdrasil_decision_forests/learner/gradient_boosted_trees/gradient_boosted_trees.cc:1520] \tnum-trees:44 train-loss:0.201816 train-accuracy:0.964884 valid-loss:0.908753 valid-accuracy:0.780501\n",
      "2023-04-07 00:07:50.464398: I external/ydf/yggdrasil_decision_forests/learner/gradient_boosted_trees/gradient_boosted_trees.cc:1520] \tnum-trees:73 train-loss:0.174536 train-accuracy:0.969434 valid-loss:0.915554 valid-accuracy:0.787051\n",
      "2023-04-07 00:08:21.179118: I external/ydf/yggdrasil_decision_forests/learner/gradient_boosted_trees/gradient_boosted_trees.cc:1520] \tnum-trees:104 train-loss:0.160227 train-accuracy:0.972325 valid-loss:0.911903 valid-accuracy:0.790794\n",
      "2023-04-07 00:08:29.233621: I external/ydf/yggdrasil_decision_forests/learner/gradient_boosted_trees/gradient_boosted_trees.cc:1568] Create final snapshot of the model at iteration 111\n",
      "2023-04-07 00:08:29.302312: I external/ydf/yggdrasil_decision_forests/learner/gradient_boosted_trees/gradient_boosted_trees.cc:247] Truncates the model to 62 tree(s) i.e. 62  iteration(s).\n",
      "2023-04-07 00:08:29.314921: I external/ydf/yggdrasil_decision_forests/learner/gradient_boosted_trees/gradient_boosted_trees.cc:309] Final model num-trees:62 valid-loss:0.898580 valid-accuracy:0.785432\n",
      "[INFO 2023-04-07T00:08:29.430823+01:00 kernel.cc:1214] Loading model from path /var/folders/80/5mgc74450p1b9jxkl3fd7z780000gn/T/tmpd64ylzt6/model/ with prefix 5507079d873a4d62\n",
      "[INFO 2023-04-07T00:08:29.618667+01:00 decision_forest.cc:661] Model loaded with 62 root(s), 149548 node(s), and 18 input feature(s).\n",
      "[INFO 2023-04-07T00:08:29.618692+01:00 abstract_model.cc:1312] Engine \"GradientBoostedTreesGeneric\" built\n",
      "[INFO 2023-04-07T00:08:29.618703+01:00 kernel.cc:1046] Use fast generic engine\n",
      "2023-04-07 00:08:29.777029: I tensorflow/core/grappler/optimizers/custom_graph_optimizer_registry.cc:114] Plugin optimizer for device_type GPU is enabled.\n",
      "2023-04-07 00:08:29.838782: I tensorflow/core/grappler/optimizers/custom_graph_optimizer_registry.cc:114] Plugin optimizer for device_type GPU is enabled.\n"
     ]
    },
    {
     "name": "stdout",
     "output_type": "stream",
     "text": [
      "11/40 [=======>......................] - ETA: 0s"
     ]
    },
    {
     "name": "stderr",
     "output_type": "stream",
     "text": [
      "2023-04-07 00:08:30.322816: I tensorflow/core/grappler/optimizers/custom_graph_optimizer_registry.cc:114] Plugin optimizer for device_type GPU is enabled.\n"
     ]
    },
    {
     "name": "stdout",
     "output_type": "stream",
     "text": [
      "40/40 [==============================] - 1s 13ms/step\n"
     ]
    },
    {
     "name": "stderr",
     "output_type": "stream",
     "text": [
      "\u001b[32m[I 2023-04-07 00:08:30,855]\u001b[0m Trial 44 finished with value: 0.9789414637496214 and parameters: {'max_depth': 15, 'l1_regularization': 1.5011673191067842, 'l2_regularization': 12.598032777078975, 'growing_strategy': 'LOCAL', 'loss': 'BINOMIAL_LOG_LIKELIHOOD', 'min_examples': 165, 'num_candidate_attributes_ratio': 0.27944466698952, 'shrinkage': 0.14830548314520328, 'discretize_numerical_features': False, 'num_discretized_numerical_bins': 170}. Best is trial 33 with value: 0.980759725362098.\u001b[0m\n"
     ]
    },
    {
     "name": "stdout",
     "output_type": "stream",
     "text": [
      "Use /var/folders/80/5mgc74450p1b9jxkl3fd7z780000gn/T/tmpe26p90_k as temporary training directory\n"
     ]
    },
    {
     "name": "stderr",
     "output_type": "stream",
     "text": [
      "2023-04-07 00:08:30.995466: I tensorflow/core/grappler/optimizers/custom_graph_optimizer_registry.cc:114] Plugin optimizer for device_type GPU is enabled.\n"
     ]
    },
    {
     "name": "stdout",
     "output_type": "stream",
     "text": [
      "Num validation examples: tf.Tensor(39540, shape=(), dtype=int32)\n"
     ]
    },
    {
     "name": "stderr",
     "output_type": "stream",
     "text": [
      "2023-04-07 00:08:33.576288: I tensorflow/core/grappler/optimizers/custom_graph_optimizer_registry.cc:114] Plugin optimizer for device_type GPU is enabled.\n",
      "2023-04-07 00:08:34.049918: W external/ydf/yggdrasil_decision_forests/learner/gradient_boosted_trees/gradient_boosted_trees.cc:1790] \"goss_alpha\" set but \"sampling_method\" not equal to \"GOSS\".\n",
      "2023-04-07 00:08:34.049932: W external/ydf/yggdrasil_decision_forests/learner/gradient_boosted_trees/gradient_boosted_trees.cc:1800] \"goss_beta\" set but \"sampling_method\" not equal to \"GOSS\".\n",
      "2023-04-07 00:08:34.049943: W external/ydf/yggdrasil_decision_forests/learner/gradient_boosted_trees/gradient_boosted_trees.cc:1814] \"selective_gradient_boosting_ratio\" set but \"sampling_method\" not equal to \"SELGB\".\n",
      "2023-04-07 00:08:34.050162: I external/ydf/yggdrasil_decision_forests/learner/gradient_boosted_trees/gradient_boosted_trees.cc:1077] Training gradient boosted tree on 802301 example(s) and 18 feature(s).\n",
      "2023-04-07 00:08:34.050234: I external/ydf/yggdrasil_decision_forests/learner/gradient_boosted_trees/gradient_boosted_trees.cc:1120] 802301 examples used for training and 39540 examples used for validation\n",
      "2023-04-07 00:08:35.230058: I external/ydf/yggdrasil_decision_forests/learner/gradient_boosted_trees/gradient_boosted_trees.cc:1518] \tnum-trees:1 train-loss:0.827608 train-accuracy:0.827721 valid-loss:1.582252 valid-accuracy:0.579514\n",
      "2023-04-07 00:08:51.549470: I external/ydf/yggdrasil_decision_forests/learner/gradient_boosted_trees/gradient_boosted_trees.cc:1520] \tnum-trees:16 train-loss:0.428123 train-accuracy:0.933808 valid-loss:1.185764 valid-accuracy:0.673217\n",
      "2023-04-07 00:09:22.216701: I external/ydf/yggdrasil_decision_forests/learner/gradient_boosted_trees/gradient_boosted_trees.cc:1520] \tnum-trees:45 train-loss:0.288381 train-accuracy:0.951832 valid-loss:1.056021 valid-accuracy:0.732246\n",
      "2023-04-07 00:09:52.839664: I external/ydf/yggdrasil_decision_forests/learner/gradient_boosted_trees/gradient_boosted_trees.cc:1520] \tnum-trees:76 train-loss:0.244345 train-accuracy:0.957748 valid-loss:1.019665 valid-accuracy:0.757208\n",
      "2023-04-07 00:10:23.281698: I external/ydf/yggdrasil_decision_forests/learner/gradient_boosted_trees/gradient_boosted_trees.cc:1520] \tnum-trees:109 train-loss:0.220221 train-accuracy:0.961286 valid-loss:1.003573 valid-accuracy:0.768412\n",
      "2023-04-07 00:10:53.291672: I external/ydf/yggdrasil_decision_forests/learner/gradient_boosted_trees/gradient_boosted_trees.cc:1520] \tnum-trees:142 train-loss:0.201660 train-accuracy:0.964492 valid-loss:0.975396 valid-accuracy:0.778225\n",
      "2023-04-07 00:11:23.457314: I external/ydf/yggdrasil_decision_forests/learner/gradient_boosted_trees/gradient_boosted_trees.cc:1520] \tnum-trees:177 train-loss:0.189745 train-accuracy:0.966574 valid-loss:0.969068 valid-accuracy:0.782221\n",
      "2023-04-07 00:11:54.010168: I external/ydf/yggdrasil_decision_forests/learner/gradient_boosted_trees/gradient_boosted_trees.cc:1520] \tnum-trees:211 train-loss:0.177883 train-accuracy:0.968951 valid-loss:0.960146 valid-accuracy:0.786166\n",
      "2023-04-07 00:12:24.415473: I external/ydf/yggdrasil_decision_forests/learner/gradient_boosted_trees/gradient_boosted_trees.cc:1520] \tnum-trees:244 train-loss:0.170106 train-accuracy:0.970421 valid-loss:0.962886 valid-accuracy:0.788518\n",
      "2023-04-07 00:12:38.315525: I external/ydf/yggdrasil_decision_forests/learner/gradient_boosted_trees/gradient_boosted_trees.cc:1568] Create final snapshot of the model at iteration 259\n",
      "2023-04-07 00:12:38.416922: I external/ydf/yggdrasil_decision_forests/learner/gradient_boosted_trees/gradient_boosted_trees.cc:247] Truncates the model to 210 tree(s) i.e. 210  iteration(s).\n",
      "2023-04-07 00:12:38.425132: I external/ydf/yggdrasil_decision_forests/learner/gradient_boosted_trees/gradient_boosted_trees.cc:309] Final model num-trees:210 valid-loss:0.956400 valid-accuracy:0.785812\n",
      "[INFO 2023-04-07T00:12:38.632844+01:00 kernel.cc:1214] Loading model from path /var/folders/80/5mgc74450p1b9jxkl3fd7z780000gn/T/tmpe26p90_k/model/ with prefix 73080279236040be\n",
      "[INFO 2023-04-07T00:12:38.970449+01:00 decision_forest.cc:661] Model loaded with 210 root(s), 270352 node(s), and 18 input feature(s).\n",
      "[INFO 2023-04-07T00:12:38.970472+01:00 abstract_model.cc:1312] Engine \"GradientBoostedTreesGeneric\" built\n",
      "[INFO 2023-04-07T00:12:38.970482+01:00 kernel.cc:1046] Use fast generic engine\n",
      "2023-04-07 00:12:39.131290: I tensorflow/core/grappler/optimizers/custom_graph_optimizer_registry.cc:114] Plugin optimizer for device_type GPU is enabled.\n",
      "2023-04-07 00:12:39.246821: I tensorflow/core/grappler/optimizers/custom_graph_optimizer_registry.cc:114] Plugin optimizer for device_type GPU is enabled.\n"
     ]
    },
    {
     "name": "stdout",
     "output_type": "stream",
     "text": [
      " 5/40 [==>...........................] - ETA: 1s"
     ]
    },
    {
     "name": "stderr",
     "output_type": "stream",
     "text": [
      "2023-04-07 00:12:40.661074: I tensorflow/core/grappler/optimizers/custom_graph_optimizer_registry.cc:114] Plugin optimizer for device_type GPU is enabled.\n"
     ]
    },
    {
     "name": "stdout",
     "output_type": "stream",
     "text": [
      "40/40 [==============================] - 1s 36ms/step\n"
     ]
    },
    {
     "name": "stderr",
     "output_type": "stream",
     "text": [
      "\u001b[32m[I 2023-04-07 00:12:42,142]\u001b[0m Trial 45 finished with value: 0.9779695382036104 and parameters: {'max_depth': 14, 'l1_regularization': 1.263753750724364, 'l2_regularization': 10.03078029531084, 'growing_strategy': 'LOCAL', 'loss': 'BINOMIAL_LOG_LIKELIHOOD', 'min_examples': 255, 'num_candidate_attributes_ratio': 0.16360216569171201, 'shrinkage': 0.0901986239486385, 'discretize_numerical_features': False, 'num_discretized_numerical_bins': 460}. Best is trial 33 with value: 0.980759725362098.\u001b[0m\n"
     ]
    },
    {
     "name": "stdout",
     "output_type": "stream",
     "text": [
      "Use /var/folders/80/5mgc74450p1b9jxkl3fd7z780000gn/T/tmpj63xl2e7 as temporary training directory\n"
     ]
    },
    {
     "name": "stderr",
     "output_type": "stream",
     "text": [
      "2023-04-07 00:12:42.334211: I tensorflow/core/grappler/optimizers/custom_graph_optimizer_registry.cc:114] Plugin optimizer for device_type GPU is enabled.\n"
     ]
    },
    {
     "name": "stdout",
     "output_type": "stream",
     "text": [
      "Num validation examples: tf.Tensor(39540, shape=(), dtype=int32)\n"
     ]
    },
    {
     "name": "stderr",
     "output_type": "stream",
     "text": [
      "2023-04-07 00:12:44.970992: I tensorflow/core/grappler/optimizers/custom_graph_optimizer_registry.cc:114] Plugin optimizer for device_type GPU is enabled.\n",
      "2023-04-07 00:12:45.747139: W external/ydf/yggdrasil_decision_forests/learner/gradient_boosted_trees/gradient_boosted_trees.cc:1790] \"goss_alpha\" set but \"sampling_method\" not equal to \"GOSS\".\n",
      "2023-04-07 00:12:45.747156: W external/ydf/yggdrasil_decision_forests/learner/gradient_boosted_trees/gradient_boosted_trees.cc:1800] \"goss_beta\" set but \"sampling_method\" not equal to \"GOSS\".\n",
      "2023-04-07 00:12:45.747159: W external/ydf/yggdrasil_decision_forests/learner/gradient_boosted_trees/gradient_boosted_trees.cc:1814] \"selective_gradient_boosting_ratio\" set but \"sampling_method\" not equal to \"SELGB\".\n",
      "2023-04-07 00:12:45.747488: I external/ydf/yggdrasil_decision_forests/learner/gradient_boosted_trees/gradient_boosted_trees.cc:1077] Training gradient boosted tree on 802301 example(s) and 18 feature(s).\n",
      "2023-04-07 00:12:45.747584: I external/ydf/yggdrasil_decision_forests/learner/gradient_boosted_trees/gradient_boosted_trees.cc:1120] 802301 examples used for training and 39540 examples used for validation\n",
      "2023-04-07 00:12:46.439621: I external/ydf/yggdrasil_decision_forests/learner/gradient_boosted_trees/gradient_boosted_trees.cc:1518] \tnum-trees:1 train-loss:0.759723 train-accuracy:0.827721 valid-loss:1.538761 valid-accuracy:0.579514\n",
      "2023-04-07 00:12:54.531092: I external/ydf/yggdrasil_decision_forests/learner/gradient_boosted_trees/gradient_boosted_trees.cc:1520] \tnum-trees:13 train-loss:0.301344 train-accuracy:0.954882 valid-loss:1.138996 valid-accuracy:0.692868\n",
      "2023-04-07 00:13:22.856952: I external/ydf/yggdrasil_decision_forests/learner/gradient_boosted_trees/gradient_boosted_trees.cc:1568] Create final snapshot of the model at iteration 65\n",
      "2023-04-07 00:13:22.899817: I external/ydf/yggdrasil_decision_forests/learner/gradient_boosted_trees/gradient_boosted_trees.cc:247] Truncates the model to 16 tree(s) i.e. 16  iteration(s).\n",
      "2023-04-07 00:13:22.917042: I external/ydf/yggdrasil_decision_forests/learner/gradient_boosted_trees/gradient_boosted_trees.cc:309] Final model num-trees:16 valid-loss:1.124251 valid-accuracy:0.696181\n",
      "[INFO 2023-04-07T00:13:22.958519+01:00 kernel.cc:1214] Loading model from path /var/folders/80/5mgc74450p1b9jxkl3fd7z780000gn/T/tmpj63xl2e7/model/ with prefix dd6035f3695e40b0\n",
      "[INFO 2023-04-07T00:13:23.015075+01:00 decision_forest.cc:661] Model loaded with 16 root(s), 46766 node(s), and 18 input feature(s).\n",
      "[INFO 2023-04-07T00:13:23.015094+01:00 abstract_model.cc:1312] Engine \"GradientBoostedTreesGeneric\" built\n",
      "[INFO 2023-04-07T00:13:23.015109+01:00 kernel.cc:1046] Use fast generic engine\n",
      "2023-04-07 00:13:23.136694: I tensorflow/core/grappler/optimizers/custom_graph_optimizer_registry.cc:114] Plugin optimizer for device_type GPU is enabled.\n",
      "2023-04-07 00:13:23.192251: I tensorflow/core/grappler/optimizers/custom_graph_optimizer_registry.cc:114] Plugin optimizer for device_type GPU is enabled.\n"
     ]
    },
    {
     "name": "stdout",
     "output_type": "stream",
     "text": [
      "40/40 [==============================] - 0s 4ms/step\n"
     ]
    },
    {
     "name": "stderr",
     "output_type": "stream",
     "text": [
      "2023-04-07 00:13:23.374203: I tensorflow/core/grappler/optimizers/custom_graph_optimizer_registry.cc:114] Plugin optimizer for device_type GPU is enabled.\n",
      "\u001b[32m[I 2023-04-07 00:13:23,578]\u001b[0m Trial 46 finished with value: 0.9733144486250119 and parameters: {'max_depth': 15, 'l1_regularization': 1.1492727349922838, 'l2_regularization': 11.243824229649666, 'growing_strategy': 'LOCAL', 'loss': 'BINOMIAL_LOG_LIKELIHOOD', 'min_examples': 185, 'num_candidate_attributes_ratio': 0.4420131914921569, 'shrinkage': 0.15229244733048905, 'discretize_numerical_features': True}. Best is trial 33 with value: 0.980759725362098.\u001b[0m\n"
     ]
    },
    {
     "name": "stdout",
     "output_type": "stream",
     "text": [
      "Use /var/folders/80/5mgc74450p1b9jxkl3fd7z780000gn/T/tmpr9__76hs as temporary training directory\n"
     ]
    },
    {
     "name": "stderr",
     "output_type": "stream",
     "text": [
      "2023-04-07 00:13:23.715300: I tensorflow/core/grappler/optimizers/custom_graph_optimizer_registry.cc:114] Plugin optimizer for device_type GPU is enabled.\n"
     ]
    },
    {
     "name": "stdout",
     "output_type": "stream",
     "text": [
      "Num validation examples: tf.Tensor(39540, shape=(), dtype=int32)\n"
     ]
    },
    {
     "name": "stderr",
     "output_type": "stream",
     "text": [
      "2023-04-07 00:13:26.316206: I tensorflow/core/grappler/optimizers/custom_graph_optimizer_registry.cc:114] Plugin optimizer for device_type GPU is enabled.\n",
      "2023-04-07 00:13:26.785235: W external/ydf/yggdrasil_decision_forests/learner/gradient_boosted_trees/gradient_boosted_trees.cc:1790] \"goss_alpha\" set but \"sampling_method\" not equal to \"GOSS\".\n",
      "2023-04-07 00:13:26.785252: W external/ydf/yggdrasil_decision_forests/learner/gradient_boosted_trees/gradient_boosted_trees.cc:1800] \"goss_beta\" set but \"sampling_method\" not equal to \"GOSS\".\n",
      "2023-04-07 00:13:26.785255: W external/ydf/yggdrasil_decision_forests/learner/gradient_boosted_trees/gradient_boosted_trees.cc:1814] \"selective_gradient_boosting_ratio\" set but \"sampling_method\" not equal to \"SELGB\".\n",
      "2023-04-07 00:13:26.785480: I external/ydf/yggdrasil_decision_forests/learner/gradient_boosted_trees/gradient_boosted_trees.cc:1077] Training gradient boosted tree on 802301 example(s) and 18 feature(s).\n",
      "2023-04-07 00:13:26.785560: I external/ydf/yggdrasil_decision_forests/learner/gradient_boosted_trees/gradient_boosted_trees.cc:1120] 802301 examples used for training and 39540 examples used for validation\n",
      "2023-04-07 00:13:27.204902: I external/ydf/yggdrasil_decision_forests/learner/gradient_boosted_trees/gradient_boosted_trees.cc:1518] \tnum-trees:1 train-loss:0.765964 train-accuracy:0.827721 valid-loss:1.468534 valid-accuracy:0.579514\n",
      "2023-04-07 00:13:27.500229: I external/ydf/yggdrasil_decision_forests/learner/gradient_boosted_trees/gradient_boosted_trees.cc:1520] \tnum-trees:2 train-loss:0.680325 train-accuracy:0.827721 valid-loss:1.401009 valid-accuracy:0.579514\n",
      "2023-04-07 00:13:57.516837: I external/ydf/yggdrasil_decision_forests/learner/gradient_boosted_trees/gradient_boosted_trees.cc:1520] \tnum-trees:92 train-loss:0.245810 train-accuracy:0.954485 valid-loss:0.901176 valid-accuracy:0.792792\n",
      "2023-04-07 00:14:00.121714: I external/ydf/yggdrasil_decision_forests/learner/gradient_boosted_trees/gradient_boosted_trees.cc:1568] Create final snapshot of the model at iteration 99\n",
      "2023-04-07 00:14:00.124116: I external/ydf/yggdrasil_decision_forests/learner/gradient_boosted_trees/gradient_boosted_trees.cc:247] Truncates the model to 50 tree(s) i.e. 50  iteration(s).\n",
      "2023-04-07 00:14:00.124700: I external/ydf/yggdrasil_decision_forests/learner/gradient_boosted_trees/gradient_boosted_trees.cc:309] Final model num-trees:50 valid-loss:0.886497 valid-accuracy:0.786065\n",
      "[INFO 2023-04-07T00:14:00.15085+01:00 kernel.cc:1214] Loading model from path /var/folders/80/5mgc74450p1b9jxkl3fd7z780000gn/T/tmpr9__76hs/model/ with prefix 097a8c29a7724750\n",
      "[INFO 2023-04-07T00:14:00.154925+01:00 abstract_model.cc:1312] Engine \"GradientBoostedTreesQuickScorerExtended\" built\n",
      "[INFO 2023-04-07T00:14:00.154939+01:00 kernel.cc:1046] Use fast generic engine\n",
      "2023-04-07 00:14:00.289975: I tensorflow/core/grappler/optimizers/custom_graph_optimizer_registry.cc:114] Plugin optimizer for device_type GPU is enabled.\n"
     ]
    },
    {
     "name": "stdout",
     "output_type": "stream",
     "text": [
      " 1/40 [..............................] - ETA: 1s"
     ]
    },
    {
     "name": "stderr",
     "output_type": "stream",
     "text": [
      "2023-04-07 00:14:00.349988: I tensorflow/core/grappler/optimizers/custom_graph_optimizer_registry.cc:114] Plugin optimizer for device_type GPU is enabled.\n",
      "2023-04-07 00:14:00.502434: I tensorflow/core/grappler/optimizers/custom_graph_optimizer_registry.cc:114] Plugin optimizer for device_type GPU is enabled.\n"
     ]
    },
    {
     "name": "stdout",
     "output_type": "stream",
     "text": [
      "40/40 [==============================] - 0s 3ms/step\n"
     ]
    },
    {
     "name": "stderr",
     "output_type": "stream",
     "text": [
      "\u001b[32m[I 2023-04-07 00:14:00,660]\u001b[0m Trial 47 finished with value: 0.9696479269835263 and parameters: {'max_depth': 17, 'l1_regularization': 2.8692441551539813, 'l2_regularization': 13.051072208142985, 'growing_strategy': 'BEST_FIRST_GLOBAL', 'loss': 'BINOMIAL_LOG_LIKELIHOOD', 'min_examples': 145, 'num_candidate_attributes_ratio': 0.3418888953300116, 'shrinkage': 0.1733970141147486, 'discretize_numerical_features': False, 'num_discretized_numerical_bins': 310}. Best is trial 33 with value: 0.980759725362098.\u001b[0m\n"
     ]
    },
    {
     "name": "stdout",
     "output_type": "stream",
     "text": [
      "Use /var/folders/80/5mgc74450p1b9jxkl3fd7z780000gn/T/tmpv5femia9 as temporary training directory\n"
     ]
    },
    {
     "name": "stderr",
     "output_type": "stream",
     "text": [
      "2023-04-07 00:14:00.799179: I tensorflow/core/grappler/optimizers/custom_graph_optimizer_registry.cc:114] Plugin optimizer for device_type GPU is enabled.\n"
     ]
    },
    {
     "name": "stdout",
     "output_type": "stream",
     "text": [
      "Num validation examples: tf.Tensor(39540, shape=(), dtype=int32)\n"
     ]
    },
    {
     "name": "stderr",
     "output_type": "stream",
     "text": [
      "2023-04-07 00:14:03.416636: I tensorflow/core/grappler/optimizers/custom_graph_optimizer_registry.cc:114] Plugin optimizer for device_type GPU is enabled.\n",
      "2023-04-07 00:14:03.890699: W external/ydf/yggdrasil_decision_forests/learner/gradient_boosted_trees/gradient_boosted_trees.cc:1790] \"goss_alpha\" set but \"sampling_method\" not equal to \"GOSS\".\n",
      "2023-04-07 00:14:03.890711: W external/ydf/yggdrasil_decision_forests/learner/gradient_boosted_trees/gradient_boosted_trees.cc:1800] \"goss_beta\" set but \"sampling_method\" not equal to \"GOSS\".\n",
      "2023-04-07 00:14:03.890714: W external/ydf/yggdrasil_decision_forests/learner/gradient_boosted_trees/gradient_boosted_trees.cc:1814] \"selective_gradient_boosting_ratio\" set but \"sampling_method\" not equal to \"SELGB\".\n",
      "2023-04-07 00:14:03.891028: I external/ydf/yggdrasil_decision_forests/learner/gradient_boosted_trees/gradient_boosted_trees.cc:1077] Training gradient boosted tree on 802301 example(s) and 18 feature(s).\n",
      "2023-04-07 00:14:03.891106: I external/ydf/yggdrasil_decision_forests/learner/gradient_boosted_trees/gradient_boosted_trees.cc:1120] 802301 examples used for training and 39540 examples used for validation\n",
      "2023-04-07 00:14:04.685244: I external/ydf/yggdrasil_decision_forests/learner/gradient_boosted_trees/gradient_boosted_trees.cc:1518] \tnum-trees:1 train-loss:0.785262 train-accuracy:0.827721 valid-loss:1.524244 valid-accuracy:0.579514\n",
      "2023-04-07 00:14:27.585630: I external/ydf/yggdrasil_decision_forests/learner/gradient_boosted_trees/gradient_boosted_trees.cc:1520] \tnum-trees:33 train-loss:0.266305 train-accuracy:0.953669 valid-loss:0.959030 valid-accuracy:0.767805\n",
      "2023-04-07 00:14:57.595601: I external/ydf/yggdrasil_decision_forests/learner/gradient_boosted_trees/gradient_boosted_trees.cc:1520] \tnum-trees:78 train-loss:0.217599 train-accuracy:0.960350 valid-loss:0.912893 valid-accuracy:0.788923\n",
      "2023-04-07 00:15:27.598494: I external/ydf/yggdrasil_decision_forests/learner/gradient_boosted_trees/gradient_boosted_trees.cc:1520] \tnum-trees:125 train-loss:0.198177 train-accuracy:0.963506 valid-loss:0.903481 valid-accuracy:0.794714\n",
      "2023-04-07 00:15:57.685894: I external/ydf/yggdrasil_decision_forests/learner/gradient_boosted_trees/gradient_boosted_trees.cc:1520] \tnum-trees:172 train-loss:0.184245 train-accuracy:0.966210 valid-loss:0.898878 valid-accuracy:0.797572\n",
      "2023-04-07 00:16:20.653581: I external/ydf/yggdrasil_decision_forests/learner/gradient_boosted_trees/gradient_boosted_trees.cc:1568] Create final snapshot of the model at iteration 207\n",
      "2023-04-07 00:16:20.681338: I external/ydf/yggdrasil_decision_forests/learner/gradient_boosted_trees/gradient_boosted_trees.cc:247] Truncates the model to 158 tree(s) i.e. 158  iteration(s).\n",
      "2023-04-07 00:16:20.684674: I external/ydf/yggdrasil_decision_forests/learner/gradient_boosted_trees/gradient_boosted_trees.cc:309] Final model num-trees:158 valid-loss:0.891515 valid-accuracy:0.797344\n",
      "[INFO 2023-04-07T00:16:20.741556+01:00 kernel.cc:1214] Loading model from path /var/folders/80/5mgc74450p1b9jxkl3fd7z780000gn/T/tmpv5femia9/model/ with prefix 86cf985b31ba4dc6\n",
      "[INFO 2023-04-07T00:16:20.831694+01:00 decision_forest.cc:661] Model loaded with 158 root(s), 73296 node(s), and 18 input feature(s).\n",
      "[INFO 2023-04-07T00:16:20.831716+01:00 abstract_model.cc:1312] Engine \"GradientBoostedTreesGeneric\" built\n",
      "[INFO 2023-04-07T00:16:20.831726+01:00 kernel.cc:1046] Use fast generic engine\n",
      "2023-04-07 00:16:20.964387: I tensorflow/core/grappler/optimizers/custom_graph_optimizer_registry.cc:114] Plugin optimizer for device_type GPU is enabled.\n",
      "2023-04-07 00:16:21.037814: I tensorflow/core/grappler/optimizers/custom_graph_optimizer_registry.cc:114] Plugin optimizer for device_type GPU is enabled.\n"
     ]
    },
    {
     "name": "stdout",
     "output_type": "stream",
     "text": [
      " 7/40 [====>.........................] - ETA: 0s"
     ]
    },
    {
     "name": "stderr",
     "output_type": "stream",
     "text": [
      "2023-04-07 00:16:21.821375: I tensorflow/core/grappler/optimizers/custom_graph_optimizer_registry.cc:114] Plugin optimizer for device_type GPU is enabled.\n"
     ]
    },
    {
     "name": "stdout",
     "output_type": "stream",
     "text": [
      "40/40 [==============================] - 1s 20ms/step\n"
     ]
    },
    {
     "name": "stderr",
     "output_type": "stream",
     "text": [
      "\u001b[32m[I 2023-04-07 00:16:22,653]\u001b[0m Trial 48 finished with value: 0.9803335478833574 and parameters: {'max_depth': 11, 'l1_regularization': 0.9176962310791847, 'l2_regularization': 9.531831484646746, 'growing_strategy': 'LOCAL', 'loss': 'BINOMIAL_LOG_LIKELIHOOD', 'min_examples': 375, 'num_candidate_attributes_ratio': 0.2930549833777063, 'shrinkage': 0.11911599546423164, 'discretize_numerical_features': False, 'num_discretized_numerical_bins': 240}. Best is trial 33 with value: 0.980759725362098.\u001b[0m\n"
     ]
    },
    {
     "name": "stdout",
     "output_type": "stream",
     "text": [
      "Use /var/folders/80/5mgc74450p1b9jxkl3fd7z780000gn/T/tmpma4w2wt1 as temporary training directory\n"
     ]
    },
    {
     "name": "stderr",
     "output_type": "stream",
     "text": [
      "2023-04-07 00:16:22.800513: I tensorflow/core/grappler/optimizers/custom_graph_optimizer_registry.cc:114] Plugin optimizer for device_type GPU is enabled.\n"
     ]
    },
    {
     "name": "stdout",
     "output_type": "stream",
     "text": [
      "Num validation examples: tf.Tensor(39540, shape=(), dtype=int32)\n"
     ]
    },
    {
     "name": "stderr",
     "output_type": "stream",
     "text": [
      "2023-04-07 00:16:25.413751: I tensorflow/core/grappler/optimizers/custom_graph_optimizer_registry.cc:114] Plugin optimizer for device_type GPU is enabled.\n",
      "2023-04-07 00:16:25.882229: W external/ydf/yggdrasil_decision_forests/learner/gradient_boosted_trees/gradient_boosted_trees.cc:1790] \"goss_alpha\" set but \"sampling_method\" not equal to \"GOSS\".\n",
      "2023-04-07 00:16:25.882242: W external/ydf/yggdrasil_decision_forests/learner/gradient_boosted_trees/gradient_boosted_trees.cc:1800] \"goss_beta\" set but \"sampling_method\" not equal to \"GOSS\".\n",
      "2023-04-07 00:16:25.882245: W external/ydf/yggdrasil_decision_forests/learner/gradient_boosted_trees/gradient_boosted_trees.cc:1814] \"selective_gradient_boosting_ratio\" set but \"sampling_method\" not equal to \"SELGB\".\n",
      "2023-04-07 00:16:25.882484: I external/ydf/yggdrasil_decision_forests/learner/gradient_boosted_trees/gradient_boosted_trees.cc:1077] Training gradient boosted tree on 802301 example(s) and 18 feature(s).\n",
      "2023-04-07 00:16:25.882556: I external/ydf/yggdrasil_decision_forests/learner/gradient_boosted_trees/gradient_boosted_trees.cc:1120] 802301 examples used for training and 39540 examples used for validation\n",
      "2023-04-07 00:16:26.814085: I external/ydf/yggdrasil_decision_forests/learner/gradient_boosted_trees/gradient_boosted_trees.cc:1518] \tnum-trees:1 train-loss:0.720058 train-accuracy:0.827721 valid-loss:1.445490 valid-accuracy:0.579514\n",
      "2023-04-07 00:16:28.494177: I external/ydf/yggdrasil_decision_forests/learner/gradient_boosted_trees/gradient_boosted_trees.cc:1520] \tnum-trees:3 train-loss:0.542803 train-accuracy:0.904693 valid-loss:1.202918 valid-accuracy:0.641199\n",
      "2023-04-07 00:16:58.674706: I external/ydf/yggdrasil_decision_forests/learner/gradient_boosted_trees/gradient_boosted_trees.cc:1520] \tnum-trees:41 train-loss:0.208059 train-accuracy:0.962407 valid-loss:0.872040 valid-accuracy:0.793930\n",
      "2023-04-07 00:17:29.180524: I external/ydf/yggdrasil_decision_forests/learner/gradient_boosted_trees/gradient_boosted_trees.cc:1520] \tnum-trees:84 train-loss:0.185684 train-accuracy:0.966306 valid-loss:0.863095 valid-accuracy:0.800860\n",
      "2023-04-07 00:17:59.549667: I external/ydf/yggdrasil_decision_forests/learner/gradient_boosted_trees/gradient_boosted_trees.cc:1520] \tnum-trees:128 train-loss:0.172753 train-accuracy:0.968853 valid-loss:0.862884 valid-accuracy:0.803617\n",
      "2023-04-07 00:18:00.247721: I external/ydf/yggdrasil_decision_forests/learner/gradient_boosted_trees/gradient_boosted_trees.cc:1568] Create final snapshot of the model at iteration 128\n",
      "2023-04-07 00:18:00.273546: I external/ydf/yggdrasil_decision_forests/learner/gradient_boosted_trees/gradient_boosted_trees.cc:247] Truncates the model to 79 tree(s) i.e. 79  iteration(s).\n",
      "2023-04-07 00:18:00.277399: I external/ydf/yggdrasil_decision_forests/learner/gradient_boosted_trees/gradient_boosted_trees.cc:309] Final model num-trees:79 valid-loss:0.855021 valid-accuracy:0.801113\n",
      "[INFO 2023-04-07T00:18:00.331052+01:00 kernel.cc:1214] Loading model from path /var/folders/80/5mgc74450p1b9jxkl3fd7z780000gn/T/tmpma4w2wt1/model/ with prefix 23f5581552c24228\n",
      "[INFO 2023-04-07T00:18:00.40763+01:00 decision_forest.cc:661] Model loaded with 79 root(s), 61239 node(s), and 18 input feature(s).\n",
      "[INFO 2023-04-07T00:18:00.407652+01:00 abstract_model.cc:1312] Engine \"GradientBoostedTreesGeneric\" built\n",
      "[INFO 2023-04-07T00:18:00.407662+01:00 kernel.cc:1046] Use fast generic engine\n",
      "2023-04-07 00:18:00.534855: I tensorflow/core/grappler/optimizers/custom_graph_optimizer_registry.cc:114] Plugin optimizer for device_type GPU is enabled.\n",
      "2023-04-07 00:18:00.596883: I tensorflow/core/grappler/optimizers/custom_graph_optimizer_registry.cc:114] Plugin optimizer for device_type GPU is enabled.\n"
     ]
    },
    {
     "name": "stdout",
     "output_type": "stream",
     "text": [
      "17/40 [===========>..................] - ETA: 0s"
     ]
    },
    {
     "name": "stderr",
     "output_type": "stream",
     "text": [
      "2023-04-07 00:18:01.007507: I tensorflow/core/grappler/optimizers/custom_graph_optimizer_registry.cc:114] Plugin optimizer for device_type GPU is enabled.\n"
     ]
    },
    {
     "name": "stdout",
     "output_type": "stream",
     "text": [
      "40/40 [==============================] - 0s 10ms/step\n"
     ]
    },
    {
     "name": "stderr",
     "output_type": "stream",
     "text": [
      "\u001b[32m[I 2023-04-07 00:18:01,458]\u001b[0m Trial 49 finished with value: 0.9798081831878731 and parameters: {'max_depth': 12, 'l1_regularization': 4.449407127147379, 'l2_regularization': 10.79238599752927, 'growing_strategy': 'LOCAL', 'loss': 'BINOMIAL_LOG_LIKELIHOOD', 'min_examples': 200, 'num_candidate_attributes_ratio': 0.4298737984475488, 'shrinkage': 0.18483121800616467, 'discretize_numerical_features': False, 'num_discretized_numerical_bins': 390}. Best is trial 33 with value: 0.980759725362098.\u001b[0m\n"
     ]
    }
   ],
   "source": [
    "import optuna\n",
    "\n",
    "\n",
    "def objective(trial: optuna.Trial) -> float:\n",
    "    params = {\n",
    "        \"max_depth\": trial.suggest_int(\"max_depth\", 2, 20),\n",
    "        \"l1_regularization\": trial.suggest_float(\"l1_regularization\", 0.01, 20),\n",
    "        \"l2_regularization\": trial.suggest_float(\"l2_regularization\", 0.01, 20),\n",
    "        \"growing_strategy\": trial.suggest_categorical(\n",
    "            \"growing_strategy\", [\"LOCAL\", \"BEST_FIRST_GLOBAL\"]\n",
    "        ),\n",
    "        \"loss\": trial.suggest_categorical(\n",
    "            \"loss\", [\"BINOMIAL_LOG_LIKELIHOOD\", \"BINARY_FOCAL_LOSS\"]\n",
    "        ),\n",
    "        \"min_examples\": trial.suggest_int(\"min_examples\", 5, 1000, step=5),\n",
    "        \"num_candidate_attributes_ratio\": trial.suggest_float(\n",
    "            \"num_candidate_attributes_ratio\", 0.05, 0.95\n",
    "        ),\n",
    "        \"shrinkage\": trial.suggest_float(\"shrinkage\", 0.05, 0.9),\n",
    "        \"discretize_numerical_features\": trial.suggest_categorical(\n",
    "            \"discretize_numerical_features\", [True, False]\n",
    "        ),\n",
    "    }\n",
    "\n",
    "    # If we discretise numerical features, we also need to set number of bins.\n",
    "    if params[\"discretize_numerical_features\"] == False:\n",
    "        params[\"num_discretized_numerical_bins\"] = trial.suggest_int(\n",
    "            \"num_discretized_numerical_bins\", 100, 1000, step=10\n",
    "        )\n",
    "    \n",
    "    # If focal loss, we can tune two parameters\n",
    "    if params[\"loss\"] == \"BINARY_FOCAL_LOSS\":\n",
    "        params[\"focal_loss_gamma\"] = trial.suggest_float(\"focal_loss_gamma\", 0, 5)\n",
    "\n",
    "    model = tfdf.keras.GradientBoostedTreesModel(\n",
    "        **params, \n",
    "        num_trees=2000, \n",
    "        early_stopping_num_trees_look_ahead=50, \n",
    "        features=feature_usages,\n",
    "        exclude_non_specified_features=True,\n",
    "    )\n",
    "    model.fit(train_dataset, validation_data=val_dataset, verbose=0)\n",
    "    preds = model.predict(val_dataset).ravel()\n",
    "    ap = average_precision_score(val_data[TARGET], preds)\n",
    "\n",
    "    return ap\n",
    "\n",
    "\n",
    "study2 = optuna.create_study(direction=\"maximize\")\n",
    "study2.optimize(objective, n_trials=50)"
   ]
  },
  {
   "cell_type": "code",
   "execution_count": 168,
   "metadata": {},
   "outputs": [
    {
     "data": {
      "text/plain": [
       "{'max_depth': 15,\n",
       " 'l1_regularization': 5.184095025292951,\n",
       " 'l2_regularization': 7.663106563726198,\n",
       " 'growing_strategy': 'LOCAL',\n",
       " 'loss': 'BINOMIAL_LOG_LIKELIHOOD',\n",
       " 'min_examples': 140,\n",
       " 'num_candidate_attributes_ratio': 0.35044979970162676,\n",
       " 'shrinkage': 0.18432148127830897,\n",
       " 'discretize_numerical_features': False,\n",
       " 'num_discretized_numerical_bins': 370}"
      ]
     },
     "execution_count": 168,
     "metadata": {},
     "output_type": "execute_result"
    }
   ],
   "source": [
    "study2.best_params"
   ]
  },
  {
   "cell_type": "code",
   "execution_count": 261,
   "metadata": {},
   "outputs": [
    {
     "name": "stdout",
     "output_type": "stream",
     "text": [
      "Use /var/folders/80/5mgc74450p1b9jxkl3fd7z780000gn/T/tmprp29ulrf as temporary training directory\n"
     ]
    },
    {
     "name": "stderr",
     "output_type": "stream",
     "text": [
      "2023-04-07 10:16:59.657873: I tensorflow/core/grappler/optimizers/custom_graph_optimizer_registry.cc:114] Plugin optimizer for device_type GPU is enabled.\n"
     ]
    },
    {
     "name": "stdout",
     "output_type": "stream",
     "text": [
      "Num validation examples: tf.Tensor(39540, shape=(), dtype=int32)\n"
     ]
    },
    {
     "name": "stderr",
     "output_type": "stream",
     "text": [
      "2023-04-07 10:17:02.452399: I tensorflow/core/grappler/optimizers/custom_graph_optimizer_registry.cc:114] Plugin optimizer for device_type GPU is enabled.\n",
      "2023-04-07 10:17:02.931707: W external/ydf/yggdrasil_decision_forests/learner/gradient_boosted_trees/gradient_boosted_trees.cc:1790] \"goss_alpha\" set but \"sampling_method\" not equal to \"GOSS\".\n",
      "2023-04-07 10:17:02.931718: W external/ydf/yggdrasil_decision_forests/learner/gradient_boosted_trees/gradient_boosted_trees.cc:1800] \"goss_beta\" set but \"sampling_method\" not equal to \"GOSS\".\n",
      "2023-04-07 10:17:02.931722: W external/ydf/yggdrasil_decision_forests/learner/gradient_boosted_trees/gradient_boosted_trees.cc:1814] \"selective_gradient_boosting_ratio\" set but \"sampling_method\" not equal to \"SELGB\".\n",
      "2023-04-07 10:17:02.932028: I external/ydf/yggdrasil_decision_forests/learner/gradient_boosted_trees/gradient_boosted_trees.cc:1077] Training gradient boosted tree on 802301 example(s) and 18 feature(s).\n",
      "2023-04-07 10:17:02.932125: I external/ydf/yggdrasil_decision_forests/learner/gradient_boosted_trees/gradient_boosted_trees.cc:1120] 802301 examples used for training and 39540 examples used for validation\n",
      "2023-04-07 10:17:04.406370: I external/ydf/yggdrasil_decision_forests/learner/gradient_boosted_trees/gradient_boosted_trees.cc:1518] \tnum-trees:1 train-loss:0.719135 train-accuracy:0.827721 valid-loss:1.472355 valid-accuracy:0.579514\n",
      "2023-04-07 10:17:05.573487: I external/ydf/yggdrasil_decision_forests/learner/gradient_boosted_trees/gradient_boosted_trees.cc:1520] \tnum-trees:2 train-loss:0.612372 train-accuracy:0.828047 valid-loss:1.350824 valid-accuracy:0.579540\n",
      "2023-04-07 10:17:35.833267: I external/ydf/yggdrasil_decision_forests/learner/gradient_boosted_trees/gradient_boosted_trees.cc:1520] \tnum-trees:27 train-loss:0.216251 train-accuracy:0.963244 valid-loss:0.914354 valid-accuracy:0.767400\n",
      "2023-04-07 10:18:06.647311: I external/ydf/yggdrasil_decision_forests/learner/gradient_boosted_trees/gradient_boosted_trees.cc:1520] \tnum-trees:57 train-loss:0.182787 train-accuracy:0.967884 valid-loss:0.923749 valid-accuracy:0.780197\n",
      "2023-04-07 10:18:37.303663: I external/ydf/yggdrasil_decision_forests/learner/gradient_boosted_trees/gradient_boosted_trees.cc:1520] \tnum-trees:88 train-loss:0.165128 train-accuracy:0.971332 valid-loss:0.895669 valid-accuracy:0.787532\n",
      "2023-04-07 10:19:07.530537: I external/ydf/yggdrasil_decision_forests/learner/gradient_boosted_trees/gradient_boosted_trees.cc:1520] \tnum-trees:120 train-loss:0.155146 train-accuracy:0.973421 valid-loss:0.893018 valid-accuracy:0.791275\n",
      "2023-04-07 10:19:38.105226: I external/ydf/yggdrasil_decision_forests/learner/gradient_boosted_trees/gradient_boosted_trees.cc:1520] \tnum-trees:153 train-loss:0.147800 train-accuracy:0.975149 valid-loss:0.895317 valid-accuracy:0.792387\n",
      "2023-04-07 10:19:53.088611: I external/ydf/yggdrasil_decision_forests/learner/gradient_boosted_trees/gradient_boosted_trees.cc:1568] Create final snapshot of the model at iteration 169\n",
      "2023-04-07 10:19:53.172665: I external/ydf/yggdrasil_decision_forests/learner/gradient_boosted_trees/gradient_boosted_trees.cc:247] Truncates the model to 120 tree(s) i.e. 120  iteration(s).\n",
      "2023-04-07 10:19:53.181237: I external/ydf/yggdrasil_decision_forests/learner/gradient_boosted_trees/gradient_boosted_trees.cc:309] Final model num-trees:120 valid-loss:0.893018 valid-accuracy:0.791275\n",
      "[INFO 2023-04-07T10:19:53.35393+01:00 kernel.cc:1214] Loading model from path /var/folders/80/5mgc74450p1b9jxkl3fd7z780000gn/T/tmprp29ulrf/model/ with prefix a37ec4e27d124191\n",
      "[INFO 2023-04-07T10:19:53.618466+01:00 decision_forest.cc:661] Model loaded with 120 root(s), 204266 node(s), and 18 input feature(s).\n",
      "[INFO 2023-04-07T10:19:53.618492+01:00 abstract_model.cc:1312] Engine \"GradientBoostedTreesGeneric\" built\n",
      "[INFO 2023-04-07T10:19:53.618503+01:00 kernel.cc:1046] Use fast generic engine\n",
      "2023-04-07 10:19:53.788881: I tensorflow/core/grappler/optimizers/custom_graph_optimizer_registry.cc:114] Plugin optimizer for device_type GPU is enabled.\n",
      "2023-04-07 10:19:53.875822: I tensorflow/core/grappler/optimizers/custom_graph_optimizer_registry.cc:114] Plugin optimizer for device_type GPU is enabled.\n"
     ]
    },
    {
     "data": {
      "text/plain": [
       "<keras.callbacks.History at 0x76f9cacb0>"
      ]
     },
     "execution_count": 261,
     "metadata": {},
     "output_type": "execute_result"
    }
   ],
   "source": [
    "manual_tuned = tfdf.keras.GradientBoostedTreesModel(\n",
    "    **study2.best_params,\n",
    "    num_trees=2000,\n",
    "    early_stopping_num_trees_look_ahead=50,\n",
    "    features=feature_usages,\n",
    "    exclude_non_specified_features=True,\n",
    ")\n",
    "manual_tuned.fit(train_dataset, validation_data=val_dataset, verbose=0)"
   ]
  },
  {
   "cell_type": "code",
   "execution_count": 245,
   "metadata": {},
   "outputs": [
    {
     "name": "stdout",
     "output_type": "stream",
     "text": [
      " 7/58 [==>...........................] - ETA: 1s"
     ]
    },
    {
     "name": "stderr",
     "output_type": "stream",
     "text": [
      "2023-04-07 10:08:03.314651: I tensorflow/core/grappler/optimizers/custom_graph_optimizer_registry.cc:114] Plugin optimizer for device_type GPU is enabled.\n"
     ]
    },
    {
     "name": "stdout",
     "output_type": "stream",
     "text": [
      "58/58 [==============================] - 1s 18ms/step\n",
      "\n",
      "GBT with Custom Tuned Parameters\n",
      "PR AUC: 0.8666\n",
      "ROC AUC: 0.9631\n"
     ]
    }
   ],
   "source": [
    "tuned_manual_gbt_preds = manual_tuned.predict(test_dataset)\n",
    "\n",
    "print(\"\\nGBT with Custom Tuned Parameters\")\n",
    "custom_rf_pr, custom_rf_roc = evaluate_model(\n",
    "    test_data[TARGET].values, tuned_manual_gbt_preds.ravel()\n",
    ")"
   ]
  },
  {
   "attachments": {},
   "cell_type": "markdown",
   "metadata": {},
   "source": [
    "# Model Inspection"
   ]
  },
  {
   "cell_type": "code",
   "execution_count": 263,
   "metadata": {},
   "outputs": [
    {
     "name": "stdout",
     "output_type": "stream",
     "text": [
      "WARNING:tensorflow:5 out of the last 11 calls to <function InferenceCoreModel.yggdrasil_model_path_tensor at 0x6cb822b00> triggered tf.function retracing. Tracing is expensive and the excessive number of tracings could be due to (1) creating @tf.function repeatedly in a loop, (2) passing tensors with different shapes, (3) passing Python objects instead of tensors. For (1), please define your @tf.function outside of the loop. For (2), @tf.function has reduce_retracing=True option that can avoid unnecessary retracing. For (3), please refer to https://www.tensorflow.org/guide/function#controlling_retracing and https://www.tensorflow.org/api_docs/python/tf/function for  more details.\n"
     ]
    },
    {
     "name": "stderr",
     "output_type": "stream",
     "text": [
      "2023-04-07 10:21:15.215148: I tensorflow/core/grappler/optimizers/custom_graph_optimizer_registry.cc:114] Plugin optimizer for device_type GPU is enabled.\n",
      "WARNING:tensorflow:5 out of the last 11 calls to <function InferenceCoreModel.yggdrasil_model_path_tensor at 0x6cb822b00> triggered tf.function retracing. Tracing is expensive and the excessive number of tracings could be due to (1) creating @tf.function repeatedly in a loop, (2) passing tensors with different shapes, (3) passing Python objects instead of tensors. For (1), please define your @tf.function outside of the loop. For (2), @tf.function has reduce_retracing=True option that can avoid unnecessary retracing. For (3), please refer to https://www.tensorflow.org/guide/function#controlling_retracing and https://www.tensorflow.org/api_docs/python/tf/function for  more details.\n"
     ]
    }
   ],
   "source": [
    "inspector = manual_tuned.make_inspector()"
   ]
  },
  {
   "cell_type": "code",
   "execution_count": 264,
   "metadata": {},
   "outputs": [
    {
     "name": "stdout",
     "output_type": "stream",
     "text": [
      "Model type: GRADIENT_BOOSTED_TREES\n",
      "Number of trees: 120\n",
      "Objective: Classification(label=__LABEL, class=None, num_classes=2)\n",
      "Input features: [\"Bank\" (4; #0), \"BankState\" (4; #1), \"City\" (4; #2), \"CreateJob\" (1; #3), \"FranchiseCode\" (4; #4), \"GrAppv\" (1; #5), \"NoEmp\" (1; #6), \"RetainedJob\" (1; #7), \"RevLineCr\" (4; #8), \"SBA_Appv\" (1; #9), \"State\" (4; #10), \"Term\" (1; #11), \"UrbanRural\" (4; #12), \"is_new\" (1; #14), \"latitude\" (1; #15), \"longitude\" (1; #16), \"naics_first_two\" (4; #17), \"same_state\" (1; #18)]\n"
     ]
    }
   ],
   "source": [
    "print(\"Model type:\", inspector.model_type())\n",
    "print(\"Number of trees:\", inspector.num_trees())\n",
    "print(\"Objective:\", inspector.objective())\n",
    "print(\"Input features:\", inspector.features())"
   ]
  },
  {
   "cell_type": "code",
   "execution_count": 306,
   "metadata": {},
   "outputs": [],
   "source": [
    "manual_tuned.summary()"
   ]
  },
  {
   "attachments": {},
   "cell_type": "markdown",
   "metadata": {},
   "source": [
    "## Training logs"
   ]
  },
  {
   "cell_type": "code",
   "execution_count": 251,
   "metadata": {},
   "outputs": [
    {
     "data": {
      "image/png": "[encoded data removed]",
      "text/plain": [
       "<Figure size 640x480 with 1 Axes>"
      ]
     },
     "metadata": {
      "image/png": {
       "height": 437,
       "width": 571
      }
     },
     "output_type": "display_data"
    }
   ],
   "source": [
    "\n",
    "plot_tfdf_logs(inspector)"
   ]
  },
  {
   "attachments": {},
   "cell_type": "markdown",
   "metadata": {},
   "source": [
    "## Importances"
   ]
  },
  {
   "cell_type": "code",
   "execution_count": 252,
   "metadata": {},
   "outputs": [
    {
     "name": "stdout",
     "output_type": "stream",
     "text": [
      "Available variable importances:\n",
      "\t NUM_NODES\n",
      "\t INV_MEAN_MIN_DEPTH\n",
      "\t SUM_SCORE\n",
      "\t NUM_AS_ROOT\n"
     ]
    }
   ],
   "source": [
    "print(f\"Available variable importances:\")\n",
    "for importance in inspector.variable_importances().keys():\n",
    "  print(\"\\t\", importance)"
   ]
  },
  {
   "cell_type": "code",
   "execution_count": 254,
   "metadata": {},
   "outputs": [
    {
     "data": {
      "image/png": "[encoded data removed]",
      "text/plain": [
       "<Figure size 640x480 with 1 Axes>"
      ]
     },
     "metadata": {
      "image/png": {
       "height": 454,
       "width": 628
      }
     },
     "output_type": "display_data"
    }
   ],
   "source": [
    "plot_tfdf_importances(inspector, 'INV_MEAN_MIN_DEPTH')"
   ]
  },
  {
   "attachments": {},
   "cell_type": "markdown",
   "metadata": {},
   "source": [
    "## Plot Indvidual Trees"
   ]
  },
  {
   "cell_type": "code",
   "execution_count": 255,
   "metadata": {},
   "outputs": [
    {
     "name": "stdout",
     "output_type": "stream",
     "text": [
      "(Term >= 59.5; miss=True, score=0.04190726578235626)\n",
      "    ├─(pos)─ (naics_first_two in ['44', '72', '45', '56', '48', '71', '53', '51', '52', '61', '49']; miss=False, score=0.00032477438799105585)\n",
      "    │        ├─(pos)─ (FranchiseCode in ['<OOD>', '0']; miss=False, score=0.0025796983391046524)\n",
      "    │        │        ├─(pos)─ (BankState in ['CA', 'TX', 'FL', 'TN', 'WV']; miss=True, score=0.014457544311881065)\n",
      "    │        │        │    ...\n",
      "    │        │        └─(neg)─ (same_state >= 0.5; miss=True, score=0.00047992734471336007)\n",
      "    │        │             ...\n",
      "    │        └─(neg)─ (Term >= 82.5; miss=True, score=0.002290292177349329)\n",
      "    │                 ├─(pos)─ (Bank in ['<OOD>', 'SUPERIOR FINANCIAL GROUP, LLC']; miss=False, score=0.0005160542204976082)\n",
      "    │                 │    ...\n",
      "    │                 └─(neg)─ (BankState in ['<OOD>', 'CA', 'NC', 'VA']; miss=True, score=0.014865127392113209)\n",
      "    │                      ...\n",
      "    └─(neg)─ (UrbanRural in ['1', '2']; miss=True, score=0.026922911405563354)\n",
      "             ├─(pos)─ (Term >= 48.5; miss=True, score=0.0086778299883008)\n",
      "             │        ├─(pos)─ (BankState in ['CA', 'NC', 'IL', 'OH', 'SD', 'NY', 'VA', 'FL', 'AL', 'OR', 'SC', 'OK', 'NV', 'DC', 'ID', 'AZ', 'WV', 'AK']; miss=True, score=0.008852616883814335)\n",
      "             │        │    ...\n",
      "             │        └─(neg)─ (BankState in ['<OOD>', 'NC', 'IL', 'OH', 'SD', 'NY', 'VA', 'DE', 'FL', 'AL', 'OR', 'SC', 'ID']; miss=False, score=0.030466711148619652)\n",
      "             │             ...\n",
      "             └─(neg)─ (Bank in ['BBCN BANK', 'READYCAP LENDING, LLC', 'GE CAP. SMALL BUS. FINAN CORP', 'BANCO POPULAR NORTH AMERICA']; miss=False, score=0.01665339060127735)\n",
      "                      ├─(pos)─ (SBA_Appv >= 1480000.0; miss=True, score=0.02687675505876541)\n",
      "                      │    ...\n",
      "                      └─(neg)─ (FranchiseCode in ['0', 'Other']; miss=False, score=0.021193457767367363)\n",
      "                           ...\n",
      "\n"
     ]
    }
   ],
   "source": [
    "first_tree = inspector.extract_tree(tree_idx=0)\n",
    "print(first_tree.pretty())"
   ]
  },
  {
   "cell_type": "code",
   "execution_count": 273,
   "metadata": {},
   "outputs": [],
   "source": [
    "with open(\"plot.html\", \"w\") as f: \n",
    "    f.write(tfdf.model_plotter.plot_model(manual_tuned, tree_idx=0, max_depth=4))"
   ]
  },
  {
   "cell_type": "code",
   "execution_count": 305,
   "metadata": {},
   "outputs": [],
   "source": [
    "# Save the model\n",
    "manual_tuned.save(\"../models/loan_default_model/1/\")"
   ]
  }
 ],
 "metadata": {
  "kernelspec": {
   "display_name": "dev",
   "language": "python",
   "name": "python3"
  },
  "language_info": {
   "codemirror_mode": {
    "name": "ipython",
    "version": 3
   },
   "file_extension": ".py",
   "mimetype": "text/x-python",
   "name": "python",
   "nbconvert_exporter": "python",
   "pygments_lexer": "ipython3",
   "version": "3.10.9"
  },
  "orig_nbformat": 4,
  "vscode": {
   "interpreter": {
    "hash": "d9ccbf62b8198660491f25f0fd2067e470e18047940d8d348cc0131df1cb1c78"
   }
  }
 },
 "nbformat": 4,
 "nbformat_minor": 2
}
