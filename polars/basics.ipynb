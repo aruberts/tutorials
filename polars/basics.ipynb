{
 "cells": [
  {
   "cell_type": "code",
   "execution_count": 379,
   "metadata": {},
   "outputs": [],
   "source": [
    "import pandas as pd\n",
    "import polars as pl\n",
    "import polars.selectors as cs\n",
    "\n",
    "import seaborn as sns\n",
    "import matplotlib.pyplot as plt"
   ]
  },
  {
   "cell_type": "code",
   "execution_count": 36,
   "metadata": {},
   "outputs": [
    {
     "data": {
      "text/plain": [
       "polars.config.Config"
      ]
     },
     "execution_count": 36,
     "metadata": {},
     "output_type": "execute_result"
    }
   ],
   "source": [
    "pl.Config.set_tbl_width_chars(200)\n"
   ]
  },
  {
   "cell_type": "code",
   "execution_count": 37,
   "metadata": {},
   "outputs": [],
   "source": [
    "path  = './youtube/GBvideos.csv'"
   ]
  },
  {
   "attachments": {},
   "cell_type": "markdown",
   "metadata": {},
   "source": [
    "# Data Read In"
   ]
  },
  {
   "cell_type": "code",
   "execution_count": 38,
   "metadata": {},
   "outputs": [
    {
     "name": "stdout",
     "output_type": "stream",
     "text": [
      "CPU times: user 95.9 ms, sys: 114 ms, total: 210 ms\n",
      "Wall time: 162 ms\n"
     ]
    }
   ],
   "source": [
    "%%time\n",
    "df_pl = pl.read_csv(path)"
   ]
  },
  {
   "cell_type": "code",
   "execution_count": 39,
   "metadata": {},
   "outputs": [
    {
     "name": "stdout",
     "output_type": "stream",
     "text": [
      "CPU times: user 239 ms, sys: 37.1 ms, total: 276 ms\n",
      "Wall time: 279 ms\n"
     ]
    }
   ],
   "source": [
    "%%time\n",
    "df_pd = pd.read_csv(path)"
   ]
  },
  {
   "attachments": {},
   "cell_type": "markdown",
   "metadata": {},
   "source": [
    "## Common Exploratory Methods"
   ]
  },
  {
   "cell_type": "code",
   "execution_count": 40,
   "metadata": {},
   "outputs": [
    {
     "name": "stdout",
     "output_type": "stream",
     "text": [
      "(38916, 16)\n"
     ]
    },
    {
     "data": {
      "text/html": [
       "<div>\n",
       "<style scoped>\n",
       "    .dataframe tbody tr th:only-of-type {\n",
       "        vertical-align: middle;\n",
       "    }\n",
       "\n",
       "    .dataframe tbody tr th {\n",
       "        vertical-align: top;\n",
       "    }\n",
       "\n",
       "    .dataframe thead th {\n",
       "        text-align: right;\n",
       "    }\n",
       "</style>\n",
       "<table border=\"1\" class=\"dataframe\">\n",
       "  <thead>\n",
       "    <tr style=\"text-align: right;\">\n",
       "      <th></th>\n",
       "      <th>video_id</th>\n",
       "      <th>trending_date</th>\n",
       "      <th>title</th>\n",
       "      <th>channel_title</th>\n",
       "      <th>category_id</th>\n",
       "      <th>publish_time</th>\n",
       "      <th>tags</th>\n",
       "      <th>views</th>\n",
       "      <th>likes</th>\n",
       "      <th>dislikes</th>\n",
       "      <th>comment_count</th>\n",
       "      <th>thumbnail_link</th>\n",
       "      <th>comments_disabled</th>\n",
       "      <th>ratings_disabled</th>\n",
       "      <th>video_error_or_removed</th>\n",
       "      <th>description</th>\n",
       "    </tr>\n",
       "  </thead>\n",
       "  <tbody>\n",
       "    <tr>\n",
       "      <th>0</th>\n",
       "      <td>Jw1Y-zhQURU</td>\n",
       "      <td>17.14.11</td>\n",
       "      <td>John Lewis Christmas Ad 2017 - #MozTheMonster</td>\n",
       "      <td>John Lewis</td>\n",
       "      <td>26</td>\n",
       "      <td>2017-11-10T07:38:29.000Z</td>\n",
       "      <td>christmas|\"john lewis christmas\"|\"john lewis\"|...</td>\n",
       "      <td>7224515</td>\n",
       "      <td>55681</td>\n",
       "      <td>10247</td>\n",
       "      <td>9479</td>\n",
       "      <td>https://i.ytimg.com/vi/Jw1Y-zhQURU/default.jpg</td>\n",
       "      <td>False</td>\n",
       "      <td>False</td>\n",
       "      <td>False</td>\n",
       "      <td>Click here to continue the story and make your...</td>\n",
       "    </tr>\n",
       "    <tr>\n",
       "      <th>1</th>\n",
       "      <td>3s1rvMFUweQ</td>\n",
       "      <td>17.14.11</td>\n",
       "      <td>Taylor Swift: …Ready for It? (Live) - SNL</td>\n",
       "      <td>Saturday Night Live</td>\n",
       "      <td>24</td>\n",
       "      <td>2017-11-12T06:24:44.000Z</td>\n",
       "      <td>SNL|\"Saturday Night Live\"|\"SNL Season 43\"|\"Epi...</td>\n",
       "      <td>1053632</td>\n",
       "      <td>25561</td>\n",
       "      <td>2294</td>\n",
       "      <td>2757</td>\n",
       "      <td>https://i.ytimg.com/vi/3s1rvMFUweQ/default.jpg</td>\n",
       "      <td>False</td>\n",
       "      <td>False</td>\n",
       "      <td>False</td>\n",
       "      <td>Musical guest Taylor Swift performs …Ready for...</td>\n",
       "    </tr>\n",
       "  </tbody>\n",
       "</table>\n",
       "</div>"
      ],
      "text/plain": [
       "      video_id trending_date                                          title  \\\n",
       "0  Jw1Y-zhQURU      17.14.11  John Lewis Christmas Ad 2017 - #MozTheMonster   \n",
       "1  3s1rvMFUweQ      17.14.11      Taylor Swift: …Ready for It? (Live) - SNL   \n",
       "\n",
       "         channel_title  category_id              publish_time  \\\n",
       "0           John Lewis           26  2017-11-10T07:38:29.000Z   \n",
       "1  Saturday Night Live           24  2017-11-12T06:24:44.000Z   \n",
       "\n",
       "                                                tags    views  likes  \\\n",
       "0  christmas|\"john lewis christmas\"|\"john lewis\"|...  7224515  55681   \n",
       "1  SNL|\"Saturday Night Live\"|\"SNL Season 43\"|\"Epi...  1053632  25561   \n",
       "\n",
       "   dislikes  comment_count                                  thumbnail_link  \\\n",
       "0     10247           9479  https://i.ytimg.com/vi/Jw1Y-zhQURU/default.jpg   \n",
       "1      2294           2757  https://i.ytimg.com/vi/3s1rvMFUweQ/default.jpg   \n",
       "\n",
       "   comments_disabled  ratings_disabled  video_error_or_removed  \\\n",
       "0              False             False                   False   \n",
       "1              False             False                   False   \n",
       "\n",
       "                                         description  \n",
       "0  Click here to continue the story and make your...  \n",
       "1  Musical guest Taylor Swift performs …Ready for...  "
      ]
     },
     "metadata": {},
     "output_type": "display_data"
    },
    {
     "data": {
      "text/html": [
       "<div>\n",
       "<style scoped>\n",
       "    .dataframe tbody tr th:only-of-type {\n",
       "        vertical-align: middle;\n",
       "    }\n",
       "\n",
       "    .dataframe tbody tr th {\n",
       "        vertical-align: top;\n",
       "    }\n",
       "\n",
       "    .dataframe thead th {\n",
       "        text-align: right;\n",
       "    }\n",
       "</style>\n",
       "<table border=\"1\" class=\"dataframe\">\n",
       "  <thead>\n",
       "    <tr style=\"text-align: right;\">\n",
       "      <th></th>\n",
       "      <th>video_id</th>\n",
       "      <th>trending_date</th>\n",
       "      <th>title</th>\n",
       "      <th>channel_title</th>\n",
       "      <th>category_id</th>\n",
       "      <th>publish_time</th>\n",
       "      <th>tags</th>\n",
       "      <th>views</th>\n",
       "      <th>likes</th>\n",
       "      <th>dislikes</th>\n",
       "      <th>comment_count</th>\n",
       "      <th>thumbnail_link</th>\n",
       "      <th>comments_disabled</th>\n",
       "      <th>ratings_disabled</th>\n",
       "      <th>video_error_or_removed</th>\n",
       "      <th>description</th>\n",
       "    </tr>\n",
       "  </thead>\n",
       "  <tbody>\n",
       "    <tr>\n",
       "      <th>38914</th>\n",
       "      <td>-DRsfNObKIQ</td>\n",
       "      <td>18.14.06</td>\n",
       "      <td>Eleni Foureira - Fuego - Cyprus - LIVE - First...</td>\n",
       "      <td>Eurovision Song Contest</td>\n",
       "      <td>24</td>\n",
       "      <td>2018-05-08T20:32:32.000Z</td>\n",
       "      <td>Eurovision Song Contest|\"2018\"|\"Lisbon\"|\"Cypru...</td>\n",
       "      <td>14317515</td>\n",
       "      <td>151870</td>\n",
       "      <td>45875</td>\n",
       "      <td>26766</td>\n",
       "      <td>https://i.ytimg.com/vi/-DRsfNObKIQ/default.jpg</td>\n",
       "      <td>False</td>\n",
       "      <td>False</td>\n",
       "      <td>False</td>\n",
       "      <td>Eleni Foureira represented Cyprus at the first...</td>\n",
       "    </tr>\n",
       "    <tr>\n",
       "      <th>38915</th>\n",
       "      <td>4YFo4bdMO8Q</td>\n",
       "      <td>18.14.06</td>\n",
       "      <td>KYLE - Ikuyo feat.  2 Chainz &amp; Sophia Black [A...</td>\n",
       "      <td>SuperDuperKyle</td>\n",
       "      <td>10</td>\n",
       "      <td>2018-05-11T04:06:35.000Z</td>\n",
       "      <td>Kyle|\"SuperDuperKyle\"|\"Ikuyo\"|\"2 Chainz\"|\"Soph...</td>\n",
       "      <td>607552</td>\n",
       "      <td>18271</td>\n",
       "      <td>274</td>\n",
       "      <td>1423</td>\n",
       "      <td>https://i.ytimg.com/vi/4YFo4bdMO8Q/default.jpg</td>\n",
       "      <td>False</td>\n",
       "      <td>False</td>\n",
       "      <td>False</td>\n",
       "      <td>Debut album 'Light of Mine' out now: http://ky...</td>\n",
       "    </tr>\n",
       "  </tbody>\n",
       "</table>\n",
       "</div>"
      ],
      "text/plain": [
       "          video_id trending_date  \\\n",
       "38914  -DRsfNObKIQ      18.14.06   \n",
       "38915  4YFo4bdMO8Q      18.14.06   \n",
       "\n",
       "                                                   title  \\\n",
       "38914  Eleni Foureira - Fuego - Cyprus - LIVE - First...   \n",
       "38915  KYLE - Ikuyo feat.  2 Chainz & Sophia Black [A...   \n",
       "\n",
       "                 channel_title  category_id              publish_time  \\\n",
       "38914  Eurovision Song Contest           24  2018-05-08T20:32:32.000Z   \n",
       "38915           SuperDuperKyle           10  2018-05-11T04:06:35.000Z   \n",
       "\n",
       "                                                    tags     views   likes  \\\n",
       "38914  Eurovision Song Contest|\"2018\"|\"Lisbon\"|\"Cypru...  14317515  151870   \n",
       "38915  Kyle|\"SuperDuperKyle\"|\"Ikuyo\"|\"2 Chainz\"|\"Soph...    607552   18271   \n",
       "\n",
       "       dislikes  comment_count  \\\n",
       "38914     45875          26766   \n",
       "38915       274           1423   \n",
       "\n",
       "                                       thumbnail_link  comments_disabled  \\\n",
       "38914  https://i.ytimg.com/vi/-DRsfNObKIQ/default.jpg              False   \n",
       "38915  https://i.ytimg.com/vi/4YFo4bdMO8Q/default.jpg              False   \n",
       "\n",
       "       ratings_disabled  video_error_or_removed  \\\n",
       "38914             False                   False   \n",
       "38915             False                   False   \n",
       "\n",
       "                                             description  \n",
       "38914  Eleni Foureira represented Cyprus at the first...  \n",
       "38915  Debut album 'Light of Mine' out now: http://ky...  "
      ]
     },
     "metadata": {},
     "output_type": "display_data"
    },
    {
     "data": {
      "text/html": [
       "<div>\n",
       "<style scoped>\n",
       "    .dataframe tbody tr th:only-of-type {\n",
       "        vertical-align: middle;\n",
       "    }\n",
       "\n",
       "    .dataframe tbody tr th {\n",
       "        vertical-align: top;\n",
       "    }\n",
       "\n",
       "    .dataframe thead th {\n",
       "        text-align: right;\n",
       "    }\n",
       "</style>\n",
       "<table border=\"1\" class=\"dataframe\">\n",
       "  <thead>\n",
       "    <tr style=\"text-align: right;\">\n",
       "      <th></th>\n",
       "      <th>video_id</th>\n",
       "      <th>trending_date</th>\n",
       "      <th>title</th>\n",
       "      <th>channel_title</th>\n",
       "      <th>category_id</th>\n",
       "      <th>publish_time</th>\n",
       "      <th>tags</th>\n",
       "      <th>views</th>\n",
       "      <th>likes</th>\n",
       "      <th>dislikes</th>\n",
       "      <th>comment_count</th>\n",
       "      <th>thumbnail_link</th>\n",
       "      <th>comments_disabled</th>\n",
       "      <th>ratings_disabled</th>\n",
       "      <th>video_error_or_removed</th>\n",
       "      <th>description</th>\n",
       "    </tr>\n",
       "  </thead>\n",
       "  <tbody>\n",
       "    <tr>\n",
       "      <th>3447</th>\n",
       "      <td>UVaeRX9LybU</td>\n",
       "      <td>17.01.12</td>\n",
       "      <td>PREGNANCY ANNOUNCEMENT After Two Miscarriages ...</td>\n",
       "      <td>Ellie and Jared</td>\n",
       "      <td>22</td>\n",
       "      <td>2017-11-27T17:42:18.000Z</td>\n",
       "      <td>ellie and jared|\"ellie mecham\"|\"jared mecham\"|...</td>\n",
       "      <td>1005203</td>\n",
       "      <td>56278</td>\n",
       "      <td>1879</td>\n",
       "      <td>14032</td>\n",
       "      <td>https://i.ytimg.com/vi/UVaeRX9LybU/default.jpg</td>\n",
       "      <td>False</td>\n",
       "      <td>False</td>\n",
       "      <td>False</td>\n",
       "      <td>It's finally time to let you know. Ellie is PR...</td>\n",
       "    </tr>\n",
       "    <tr>\n",
       "      <th>16138</th>\n",
       "      <td>wqS9QwOIH3s</td>\n",
       "      <td>18.04.02</td>\n",
       "      <td>Natural Defined Instagram Makeup | Jessica Cle...</td>\n",
       "      <td>Jessica Clements</td>\n",
       "      <td>26</td>\n",
       "      <td>2018-01-24T22:00:05.000Z</td>\n",
       "      <td>Natural Defined Instagram Makeup|\"jessica clem...</td>\n",
       "      <td>241161</td>\n",
       "      <td>12196</td>\n",
       "      <td>120</td>\n",
       "      <td>471</td>\n",
       "      <td>https://i.ytimg.com/vi/wqS9QwOIH3s/default.jpg</td>\n",
       "      <td>False</td>\n",
       "      <td>False</td>\n",
       "      <td>False</td>\n",
       "      <td>Natural Defined Instagram Makeup | Jessica Cle...</td>\n",
       "    </tr>\n",
       "  </tbody>\n",
       "</table>\n",
       "</div>"
      ],
      "text/plain": [
       "          video_id trending_date  \\\n",
       "3447   UVaeRX9LybU      17.01.12   \n",
       "16138  wqS9QwOIH3s      18.04.02   \n",
       "\n",
       "                                                   title     channel_title  \\\n",
       "3447   PREGNANCY ANNOUNCEMENT After Two Miscarriages ...   Ellie and Jared   \n",
       "16138  Natural Defined Instagram Makeup | Jessica Cle...  Jessica Clements   \n",
       "\n",
       "       category_id              publish_time  \\\n",
       "3447            22  2017-11-27T17:42:18.000Z   \n",
       "16138           26  2018-01-24T22:00:05.000Z   \n",
       "\n",
       "                                                    tags    views  likes  \\\n",
       "3447   ellie and jared|\"ellie mecham\"|\"jared mecham\"|...  1005203  56278   \n",
       "16138  Natural Defined Instagram Makeup|\"jessica clem...   241161  12196   \n",
       "\n",
       "       dislikes  comment_count  \\\n",
       "3447       1879          14032   \n",
       "16138       120            471   \n",
       "\n",
       "                                       thumbnail_link  comments_disabled  \\\n",
       "3447   https://i.ytimg.com/vi/UVaeRX9LybU/default.jpg              False   \n",
       "16138  https://i.ytimg.com/vi/wqS9QwOIH3s/default.jpg              False   \n",
       "\n",
       "       ratings_disabled  video_error_or_removed  \\\n",
       "3447              False                   False   \n",
       "16138             False                   False   \n",
       "\n",
       "                                             description  \n",
       "3447   It's finally time to let you know. Ellie is PR...  \n",
       "16138  Natural Defined Instagram Makeup | Jessica Cle...  "
      ]
     },
     "metadata": {},
     "output_type": "display_data"
    }
   ],
   "source": [
    "print(df_pd.shape)\n",
    "display(df_pd.head(2))\n",
    "display(df_pd.tail(2))\n",
    "display(df_pd.sample(2))"
   ]
  },
  {
   "cell_type": "code",
   "execution_count": 41,
   "metadata": {},
   "outputs": [
    {
     "name": "stdout",
     "output_type": "stream",
     "text": [
      "(38916, 16)\n",
      "shape: (2, 16)\n",
      "┌─────────────┬───────────────┬───────────────────────────────────┬─────────────────────┬───┬───────────────────┬──────────────────┬────────────────────────┬───────────────────────────────────┐\n",
      "│ video_id    ┆ trending_date ┆ title                             ┆ channel_title       ┆ … ┆ comments_disabled ┆ ratings_disabled ┆ video_error_or_removed ┆ description                       │\n",
      "│ ---         ┆ ---           ┆ ---                               ┆ ---                 ┆   ┆ ---               ┆ ---              ┆ ---                    ┆ ---                               │\n",
      "│ str         ┆ str           ┆ str                               ┆ str                 ┆   ┆ bool              ┆ bool             ┆ bool                   ┆ str                               │\n",
      "╞═════════════╪═══════════════╪═══════════════════════════════════╪═════════════════════╪═══╪═══════════════════╪══════════════════╪════════════════════════╪═══════════════════════════════════╡\n",
      "│ Jw1Y-zhQURU ┆ 17.14.11      ┆ John Lewis Christmas Ad 2017 - #… ┆ John Lewis          ┆ … ┆ false             ┆ false            ┆ false                  ┆ Click here to continue the story… │\n",
      "│ 3s1rvMFUweQ ┆ 17.14.11      ┆ Taylor Swift: …Ready for It? (Li… ┆ Saturday Night Live ┆ … ┆ false             ┆ false            ┆ false                  ┆ Musical guest Taylor Swift perfo… │\n",
      "└─────────────┴───────────────┴───────────────────────────────────┴─────────────────────┴───┴───────────────────┴──────────────────┴────────────────────────┴───────────────────────────────────┘\n",
      "shape: (2, 16)\n",
      "┌─────────────┬───────────────┬───────────────────────────────────┬─────────────────────────┬───┬───────────────────┬──────────────────┬────────────────────────┬───────────────────────────────────┐\n",
      "│ video_id    ┆ trending_date ┆ title                             ┆ channel_title           ┆ … ┆ comments_disabled ┆ ratings_disabled ┆ video_error_or_removed ┆ description                       │\n",
      "│ ---         ┆ ---           ┆ ---                               ┆ ---                     ┆   ┆ ---               ┆ ---              ┆ ---                    ┆ ---                               │\n",
      "│ str         ┆ str           ┆ str                               ┆ str                     ┆   ┆ bool              ┆ bool             ┆ bool                   ┆ str                               │\n",
      "╞═════════════╪═══════════════╪═══════════════════════════════════╪═════════════════════════╪═══╪═══════════════════╪══════════════════╪════════════════════════╪═══════════════════════════════════╡\n",
      "│ -DRsfNObKIQ ┆ 18.14.06      ┆ Eleni Foureira - Fuego - Cyprus … ┆ Eurovision Song Contest ┆ … ┆ false             ┆ false            ┆ false                  ┆ Eleni Foureira represented Cypru… │\n",
      "│ 4YFo4bdMO8Q ┆ 18.14.06      ┆ KYLE - Ikuyo feat.  2 Chainz & S… ┆ SuperDuperKyle          ┆ … ┆ false             ┆ false            ┆ false                  ┆ Debut album 'Light of Mine' out … │\n",
      "└─────────────┴───────────────┴───────────────────────────────────┴─────────────────────────┴───┴───────────────────┴──────────────────┴────────────────────────┴───────────────────────────────────┘\n",
      "shape: (2, 16)\n",
      "┌─────────────┬───────────────┬───────────────────────────────────┬────────────────────┬───┬───────────────────┬──────────────────┬────────────────────────┬────────────────────────────────────┐\n",
      "│ video_id    ┆ trending_date ┆ title                             ┆ channel_title      ┆ … ┆ comments_disabled ┆ ratings_disabled ┆ video_error_or_removed ┆ description                        │\n",
      "│ ---         ┆ ---           ┆ ---                               ┆ ---                ┆   ┆ ---               ┆ ---              ┆ ---                    ┆ ---                                │\n",
      "│ str         ┆ str           ┆ str                               ┆ str                ┆   ┆ bool              ┆ bool             ┆ bool                   ┆ str                                │\n",
      "╞═════════════╪═══════════════╪═══════════════════════════════════╪════════════════════╪═══╪═══════════════════╪══════════════════╪════════════════════════╪════════════════════════════════════╡\n",
      "│ ceyU5UBumLU ┆ 18.13.02      ┆ YouTube, Let’s Talk About Brothe… ┆ Jake Paul          ┆ … ┆ false             ┆ false            ┆ false                  ┆ The time has come.\\n😃 SUBSCRIBE … │\n",
      "│ VONVWm2X4JI ┆ 18.15.01      ┆ Franz Ferdinand - Feel The Love … ┆ franzferdinandVEVO ┆ … ┆ false             ┆ false            ┆ false                  ┆ Franz Ferdinand - 'Feel The Love…  │\n",
      "└─────────────┴───────────────┴───────────────────────────────────┴────────────────────┴───┴───────────────────┴──────────────────┴────────────────────────┴────────────────────────────────────┘\n"
     ]
    }
   ],
   "source": [
    "print(df_pl.shape)\n",
    "print(df_pl.head(2))\n",
    "print(df_pl.tail(2))\n",
    "print(df_pl.sample(2))"
   ]
  },
  {
   "attachments": {},
   "cell_type": "markdown",
   "metadata": {},
   "source": [
    "### Column Selection"
   ]
  },
  {
   "attachments": {},
   "cell_type": "markdown",
   "metadata": {},
   "source": [
    "#### Data Types"
   ]
  },
  {
   "cell_type": "code",
   "execution_count": 84,
   "metadata": {},
   "outputs": [
    {
     "name": "stdout",
     "output_type": "stream",
     "text": [
      "84.2 µs ± 10.6 µs per loop (mean ± std. dev. of 7 runs, 10,000 loops each)\n"
     ]
    }
   ],
   "source": [
    "%%timeit\n",
    "numeric_data_pl = df_pl.select(cs.numeric())\n",
    "categorical_data_pl = df_pl.select(cs.string())"
   ]
  },
  {
   "cell_type": "code",
   "execution_count": 85,
   "metadata": {},
   "outputs": [
    {
     "name": "stdout",
     "output_type": "stream",
     "text": [
      "617 µs ± 33.6 µs per loop (mean ± std. dev. of 7 runs, 1,000 loops each)\n"
     ]
    }
   ],
   "source": [
    "%%timeit\n",
    "numeric_data_pd = df_pd.select_dtypes(include=\"number\")\n",
    "categorical_data_pd = df_pd.select_dtypes(exclude=\"number\")"
   ]
  },
  {
   "cell_type": "code",
   "execution_count": 72,
   "metadata": {},
   "outputs": [
    {
     "name": "stdout",
     "output_type": "stream",
     "text": [
      "shape: (5, 5)\n",
      "┌─────────────┬──────────┬────────┬──────────┬───────────────┐\n",
      "│ category_id ┆ views    ┆ likes  ┆ dislikes ┆ comment_count │\n",
      "│ ---         ┆ ---      ┆ ---    ┆ ---      ┆ ---           │\n",
      "│ i64         ┆ i64      ┆ i64    ┆ i64      ┆ i64           │\n",
      "╞═════════════╪══════════╪════════╪══════════╪═══════════════╡\n",
      "│ 26          ┆ 7224515  ┆ 55681  ┆ 10247    ┆ 9479          │\n",
      "│ 24          ┆ 1053632  ┆ 25561  ┆ 2294     ┆ 2757          │\n",
      "│ 10          ┆ 17158579 ┆ 787420 ┆ 43420    ┆ 125882        │\n",
      "│ 17          ┆ 27833    ┆ 193    ┆ 12       ┆ 37            │\n",
      "│ 25          ┆ 9815     ┆ 30     ┆ 2        ┆ 30            │\n",
      "└─────────────┴──────────┴────────┴──────────┴───────────────┘\n"
     ]
    }
   ],
   "source": [
    "print(numeric_data_pl.head())"
   ]
  },
  {
   "cell_type": "code",
   "execution_count": 73,
   "metadata": {},
   "outputs": [
    {
     "name": "stdout",
     "output_type": "stream",
     "text": [
      "shape: (5, 8)\n",
      "┌─────────────┬───────────────┬─────────────────────────────┬───────────────────────┬──────────────────────────┬─────────────────────────────┬────────────────────────────┬────────────────────────────┐\n",
      "│ video_id    ┆ trending_date ┆ title                       ┆ channel_title         ┆ publish_time             ┆ tags                        ┆ thumbnail_link             ┆ description                │\n",
      "│ ---         ┆ ---           ┆ ---                         ┆ ---                   ┆ ---                      ┆ ---                         ┆ ---                        ┆ ---                        │\n",
      "│ str         ┆ str           ┆ str                         ┆ str                   ┆ str                      ┆ str                         ┆ str                        ┆ str                        │\n",
      "╞═════════════╪═══════════════╪═════════════════════════════╪═══════════════════════╪══════════════════════════╪═════════════════════════════╪════════════════════════════╪════════════════════════════╡\n",
      "│ Jw1Y-zhQURU ┆ 17.14.11      ┆ John Lewis Christmas Ad     ┆ John Lewis            ┆ 2017-11-10T07:38:29.000Z ┆ christmas|john lewis        ┆ https://i.ytimg.com/vi/Jw1 ┆ Click here to continue the │\n",
      "│             ┆               ┆ 2017 - #…                   ┆                       ┆                          ┆ christmas|j…                ┆ Y-zhQU…                    ┆ story…                     │\n",
      "│ 3s1rvMFUweQ ┆ 17.14.11      ┆ Taylor Swift: …Ready for    ┆ Saturday Night Live   ┆ 2017-11-12T06:24:44.000Z ┆ SNL|Saturday Night Live|SNL ┆ https://i.ytimg.com/vi/3s1 ┆ Musical guest Taylor Swift │\n",
      "│             ┆               ┆ It? (Li…                    ┆                       ┆                          ┆ Seas…                       ┆ rvMFUw…                    ┆ perfo…                     │\n",
      "│ n1WpP7iowLc ┆ 17.14.11      ┆ Eminem - Walk On Water      ┆ EminemVEVO            ┆ 2017-11-10T17:00:03.000Z ┆ Eminem|Walk|On|Water|Afterm ┆ https://i.ytimg.com/vi/n1W ┆ Eminem's new track Walk on │\n",
      "│             ┆               ┆ (Audio) f…                  ┆                       ┆                          ┆ ath/S…                      ┆ pP7iow…                    ┆ Water…                     │\n",
      "│ PUTEiSjKwJU ┆ 17.14.11      ┆ Goals from Salford City vs  ┆ Salford City Football ┆ 2017-11-13T02:30:38.000Z ┆ Salford City FC|Salford     ┆ https://i.ytimg.com/vi/PUT ┆ Salford drew 4-4 against   │\n",
      "│             ┆               ┆ Class…                      ┆ Club                  ┆                          ┆ City|Sal…                   ┆ EiSjKw…                    ┆ the Cla…                   │\n",
      "│ rHwDegptbI4 ┆ 17.14.11      ┆ Dashcam captures truck's    ┆ Cute Girl Videos      ┆ 2017-11-13T01:45:13.000Z ┆ [none]                      ┆ https://i.ytimg.com/vi/rHw ┆ Dashcam captures truck's   │\n",
      "│             ┆               ┆ near mi…                    ┆                       ┆                          ┆                             ┆ Degptb…                    ┆ near mi…                   │\n",
      "└─────────────┴───────────────┴─────────────────────────────┴───────────────────────┴──────────────────────────┴─────────────────────────────┴────────────────────────────┴────────────────────────────┘\n"
     ]
    }
   ],
   "source": [
    "print(categorical_data_pl.head())"
   ]
  },
  {
   "attachments": {},
   "cell_type": "markdown",
   "metadata": {},
   "source": [
    "#### Column names"
   ]
  },
  {
   "cell_type": "code",
   "execution_count": 448,
   "metadata": {},
   "outputs": [],
   "source": [
    "subset_pl = df_pl.select(\n",
    "    pl.col(\"likes\"), \n",
    "    pl.col(\"views\"),\n",
    "    pl.col(\"comment_count\")\n",
    ")\n",
    "susbet_pd = df_pd[[\"likes\", \"views\", \"comment_count\"]]"
   ]
  },
  {
   "attachments": {},
   "cell_type": "markdown",
   "metadata": {},
   "source": [
    "## Data Quality Checks"
   ]
  },
  {
   "cell_type": "code",
   "execution_count": 91,
   "metadata": {},
   "outputs": [
    {
     "name": "stdout",
     "output_type": "stream",
     "text": [
      "Missing rows:\n",
      "description    612\n",
      "dtype: int64\n",
      "\n",
      "Static Columns:\n",
      "Series([], dtype: bool)\n",
      "CPU times: user 56 ms, sys: 2.9 ms, total: 58.9 ms\n",
      "Wall time: 57.7 ms\n"
     ]
    }
   ],
   "source": [
    "%%time\n",
    "missing = df_pd.isna().sum()\n",
    "missing = missing[missing > 0]\n",
    "static = df_pd.nunique() == 1\n",
    "static = static[static]\n",
    "\n",
    "print(\"Missing rows:\")\n",
    "print(missing)\n",
    "print(\"\\nStatic Columns:\")\n",
    "print(static)"
   ]
  },
  {
   "cell_type": "code",
   "execution_count": 92,
   "metadata": {},
   "outputs": [
    {
     "name": "stdout",
     "output_type": "stream",
     "text": [
      "Missing columns:\n",
      "shape: (0, 2)\n",
      "┌──────────┬─────────┐\n",
      "│ variable ┆ missing │\n",
      "│ ---      ┆ ---     │\n",
      "│ str      ┆ u32     │\n",
      "╞══════════╪═════════╡\n",
      "└──────────┴─────────┘\n",
      "\n",
      "Static columns:\n",
      "shape: (0, 2)\n",
      "┌──────────┬────────┐\n",
      "│ variable ┆ unique │\n",
      "│ ---      ┆ ---    │\n",
      "│ str      ┆ u32    │\n",
      "╞══════════╪════════╡\n",
      "└──────────┴────────┘\n",
      "CPU times: user 20 ms, sys: 7.28 ms, total: 27.2 ms\n",
      "Wall time: 7.86 ms\n"
     ]
    }
   ],
   "source": [
    "%%time\n",
    "missing = (\n",
    "    df_pl.select(pl.all().is_null().sum())\n",
    "    .melt(value_name=\"missing\")\n",
    "    .filter(pl.col(\"missing\") > 0)\n",
    ")\n",
    "static = (\n",
    "    df_pl.select(pl.all().n_unique())\n",
    "    .melt(value_name=\"unique\")\n",
    "    .filter(pl.col(\"unique\") == 1)\n",
    ")\n",
    "print(\"Missing columns:\")\n",
    "print(missing)\n",
    "\n",
    "print(\"\\nStatic columns:\")\n",
    "print(static)"
   ]
  },
  {
   "attachments": {},
   "cell_type": "markdown",
   "metadata": {},
   "source": [
    "## Cleaning"
   ]
  },
  {
   "attachments": {},
   "cell_type": "markdown",
   "metadata": {},
   "source": [
    "### Date Conversion"
   ]
  },
  {
   "cell_type": "code",
   "execution_count": 94,
   "metadata": {},
   "outputs": [
    {
     "name": "stdout",
     "output_type": "stream",
     "text": [
      "CPU times: user 11.1 ms, sys: 13.4 ms, total: 24.5 ms\n",
      "Wall time: 30 ms\n"
     ]
    }
   ],
   "source": [
    "%%time\n",
    "df_pd['publish_time'] = pd.to_datetime(df_pd['publish_time'])\n",
    "df_pd['trending_date'] = pd.to_datetime(\n",
    "    df_pd['trending_date'], format='%y.%d.%m'\n",
    ")"
   ]
  },
  {
   "cell_type": "code",
   "execution_count": 95,
   "metadata": {},
   "outputs": [
    {
     "name": "stdout",
     "output_type": "stream",
     "text": [
      "CPU times: user 15.9 ms, sys: 5.55 ms, total: 21.5 ms\n",
      "Wall time: 23.8 ms\n"
     ]
    }
   ],
   "source": [
    "%%time\n",
    "df_pl = df_pl.with_columns(\n",
    "    pl.col('trending_date').str.to_date(format='%y.%d.%m'),\n",
    "    pl.col('publish_time').str.to_datetime()\n",
    ")"
   ]
  },
  {
   "attachments": {},
   "cell_type": "markdown",
   "metadata": {},
   "source": [
    "### Category ID lookup"
   ]
  },
  {
   "cell_type": "code",
   "execution_count": 96,
   "metadata": {},
   "outputs": [],
   "source": [
    "import json\n",
    "\n",
    "with open('./youtube/US_category_id.json', 'r') as f:\n",
    "    categories = json.load(f)\n",
    "    \n",
    "id_to_category = {}\n",
    "for c in categories['items']:\n",
    "    id_to_category[int(c['id'])] = c['snippet']['title']"
   ]
  },
  {
   "cell_type": "code",
   "execution_count": 97,
   "metadata": {},
   "outputs": [
    {
     "name": "stdout",
     "output_type": "stream",
     "text": [
      "CPU times: user 3.16 ms, sys: 3.37 ms, total: 6.53 ms\n",
      "Wall time: 4.87 ms\n"
     ]
    }
   ],
   "source": [
    "%%time\n",
    "df_pd['category_id'] = df_pd['category_id'].map(id_to_category)"
   ]
  },
  {
   "cell_type": "code",
   "execution_count": 98,
   "metadata": {},
   "outputs": [
    {
     "name": "stdout",
     "output_type": "stream",
     "text": [
      "CPU times: user 3.57 ms, sys: 11.2 ms, total: 14.8 ms\n",
      "Wall time: 11.2 ms\n"
     ]
    }
   ],
   "source": [
    "%%time\n",
    "df_pl = df_pl.with_columns(pl.col(\"category_id\").map_dict(id_to_category))"
   ]
  },
  {
   "attachments": {},
   "cell_type": "markdown",
   "metadata": {},
   "source": [
    "## Univariate Analysis"
   ]
  },
  {
   "cell_type": "code",
   "execution_count": 386,
   "metadata": {},
   "outputs": [
    {
     "data": {
      "image/png": "[encoded data removed]",
      "text/plain": [
       "<Figure size 640x480 with 1 Axes>"
      ]
     },
     "metadata": {},
     "output_type": "display_data"
    }
   ],
   "source": [
    "category_counts = df_pl[\"category_id\"].value_counts(sort=True)\n",
    "\n",
    "# Barplot\n",
    "sns.barplot(\n",
    "    y=category_counts[\"category_id\"].to_numpy(),\n",
    "    x=category_counts[\"counts\"].to_numpy(),\n",
    "    color=\"#306e81\",\n",
    ")\n",
    "plt.title(\"Category Counts in Trending Data\")\n",
    "plt.xlabel(\"Counts\")\n",
    "plt.show()"
   ]
  },
  {
   "cell_type": "code",
   "execution_count": 398,
   "metadata": {},
   "outputs": [
    {
     "name": "stdout",
     "output_type": "stream",
     "text": [
      "shape: (9, 2)\n",
      "┌────────────┬──────────────┐\n",
      "│ describe   ┆ views        │\n",
      "│ ---        ┆ ---          │\n",
      "│ str        ┆ f64          │\n",
      "╞════════════╪══════════════╡\n",
      "│ count      ┆ 38916.0      │\n",
      "│ null_count ┆ 0.0          │\n",
      "│ mean       ┆ 5.9119e6     │\n",
      "│ std        ┆ 1.9001e7     │\n",
      "│ min        ┆ 851.0        │\n",
      "│ max        ┆ 4.24538912e8 │\n",
      "│ median     ┆ 981889.0     │\n",
      "│ 25%        ┆ 251532.0     │\n",
      "│ 75%        ┆ 3.683945e6   │\n",
      "└────────────┴──────────────┘\n"
     ]
    }
   ],
   "source": [
    "views_stats = df_pl.select(pl.col(\"views\")).describe()\n",
    "print(views_stats)"
   ]
  },
  {
   "cell_type": "code",
   "execution_count": 407,
   "metadata": {},
   "outputs": [
    {
     "data": {
      "image/png": "[encoded data removed]",
      "text/plain": [
       "<Figure size 640x480 with 1 Axes>"
      ]
     },
     "metadata": {},
     "output_type": "display_data"
    }
   ],
   "source": [
    "sns.histplot(df_pl['views'].log())\n",
    "plt.title(\"Log Views Distribution in Trending\")\n",
    "plt.show()"
   ]
  },
  {
   "attachments": {},
   "cell_type": "markdown",
   "metadata": {},
   "source": [
    "### Multivariate Analysis"
   ]
  },
  {
   "cell_type": "code",
   "execution_count": 427,
   "metadata": {},
   "outputs": [
    {
     "name": "stdout",
     "output_type": "stream",
     "text": [
      "shape: (16, 2)\n",
      "┌──────────────────┬──────────────┐\n",
      "│ category_id      ┆ median_views │\n",
      "│ ---              ┆ ---          │\n",
      "│ str              ┆ f64          │\n",
      "╞══════════════════╪══════════════╡\n",
      "│ Music            ┆ 2.980744e6   │\n",
      "│ Shows            ┆ 1498767.5    │\n",
      "│ Comedy           ┆ 1278302.5    │\n",
      "│ Film & Animation ┆ 1.144917e6   │\n",
      "│ …                ┆ …            │\n",
      "│ Gaming           ┆ 309154.5     │\n",
      "│ Howto & Style    ┆ 263412.0     │\n",
      "│ News & Politics  ┆ 229753.0     │\n",
      "│ Travel & Events  ┆ 218176.0     │\n",
      "└──────────────────┴──────────────┘\n"
     ]
    }
   ],
   "source": [
    "views_by_category = df_pl.groupby(pl.col(\"category_id\")).agg(pl.col(\"views\").median().alias(\"median_views\")).sort(\"median_views\", descending=True)\n",
    "print(views_by_category)"
   ]
  },
  {
   "cell_type": "code",
   "execution_count": 429,
   "metadata": {},
   "outputs": [
    {
     "data": {
      "image/png": "[encoded data removed]",
      "text/plain": [
       "<Figure size 640x480 with 1 Axes>"
      ]
     },
     "metadata": {},
     "output_type": "display_data"
    }
   ],
   "source": [
    "sns.boxplot(x=df_pl['category_id'].to_numpy(), y=df_pl['views'].log().to_numpy(), color=\"#306e81\")\n",
    "plt.title(\"Views per Category\")\n",
    "plt.xticks(rotation=75)\n",
    "plt.show()"
   ]
  },
  {
   "cell_type": "code",
   "execution_count": 389,
   "metadata": {},
   "outputs": [
    {
     "ename": "DuplicateError",
     "evalue": "column with name 'views' has more than one occurrences",
     "output_type": "error",
     "traceback": [
      "\u001b[0;31m---------------------------------------------------------------------------\u001b[0m",
      "\u001b[0;31mDuplicateError\u001b[0m                            Traceback (most recent call last)",
      "Cell \u001b[0;32mIn[389], line 1\u001b[0m\n\u001b[0;32m----> 1\u001b[0m df_pl\u001b[39m.\u001b[39;49mselect(pl\u001b[39m.\u001b[39;49mcol(\u001b[39m\"\u001b[39;49m\u001b[39mviews\u001b[39;49m\u001b[39m\"\u001b[39;49m)\u001b[39m.\u001b[39;49mmean(), pl\u001b[39m.\u001b[39;49mcol(\u001b[39m\"\u001b[39;49m\u001b[39mviews\u001b[39;49m\u001b[39m\"\u001b[39;49m)\u001b[39m.\u001b[39;49mmedian(), pl\u001b[39m.\u001b[39;49mcol(\u001b[39m\"\u001b[39;49m\u001b[39mviews\u001b[39;49m\u001b[39m\"\u001b[39;49m)\u001b[39m.\u001b[39;49mquantile(\u001b[39m0.25\u001b[39;49m), pl\u001b[39m.\u001b[39;49mcol(\u001b[39m\"\u001b[39;49m\u001b[39mviews\u001b[39;49m\u001b[39m\"\u001b[39;49m)\u001b[39m.\u001b[39;49mquantile(\u001b[39m0.75\u001b[39;49m), pl\u001b[39m.\u001b[39;49mcol(\u001b[39m\"\u001b[39;49m\u001b[39mviews\u001b[39;49m\u001b[39m\"\u001b[39;49m)\u001b[39m.\u001b[39;49mmax())\n",
      "File \u001b[0;32m~/miniconda/envs/dev/lib/python3.10/site-packages/polars/dataframe/frame.py:6953\u001b[0m, in \u001b[0;36mselect\u001b[0;34m(self, exprs, *more_exprs, **named_exprs)\u001b[0m\n\u001b[1;32m   6947\u001b[0m \u001b[39mdef\u001b[39;00m \u001b[39mlazy\u001b[39m(\u001b[39mself\u001b[39m) \u001b[39m-\u001b[39m\u001b[39m>\u001b[39m LazyFrame:\n\u001b[1;32m   6948\u001b[0m \u001b[39m    \u001b[39m\u001b[39m\"\"\"\u001b[39;00m\n\u001b[1;32m   6949\u001b[0m \u001b[39m    Start a lazy query from this point. This returns a `LazyFrame` object.\u001b[39;00m\n\u001b[1;32m   6950\u001b[0m \n\u001b[1;32m   6951\u001b[0m \u001b[39m    Operations on a `LazyFrame` are not executed until this is requested by either\u001b[39;00m\n\u001b[1;32m   6952\u001b[0m \u001b[39m    calling:\u001b[39;00m\n\u001b[0;32m-> 6953\u001b[0m \n\u001b[1;32m   6954\u001b[0m \u001b[39m    * :meth:`.fetch() <polars.LazyFrame.fetch>`\u001b[39;00m\n\u001b[1;32m   6955\u001b[0m \u001b[39m        (run on a small number of rows)\u001b[39;00m\n\u001b[1;32m   6956\u001b[0m \u001b[39m    * :meth:`.collect() <polars.LazyFrame.collect>`\u001b[39;00m\n\u001b[1;32m   6957\u001b[0m \u001b[39m        (run on all data)\u001b[39;00m\n\u001b[1;32m   6958\u001b[0m \u001b[39m    * :meth:`.describe_plan() <polars.LazyFrame.describe_plan>`\u001b[39;00m\n\u001b[1;32m   6959\u001b[0m \u001b[39m        (print unoptimized query plan)\u001b[39;00m\n\u001b[1;32m   6960\u001b[0m \u001b[39m    * :meth:`.describe_optimized_plan() <polars.LazyFrame.describe_optimized_plan>`\u001b[39;00m\n\u001b[1;32m   6961\u001b[0m \u001b[39m        (print optimized query plan)\u001b[39;00m\n\u001b[1;32m   6962\u001b[0m \u001b[39m    * :meth:`.show_graph() <polars.LazyFrame.show_graph>`\u001b[39;00m\n\u001b[1;32m   6963\u001b[0m \u001b[39m        (show (un)optimized query plan as graphviz graph)\u001b[39;00m\n\u001b[1;32m   6964\u001b[0m \n\u001b[1;32m   6965\u001b[0m \u001b[39m    Lazy operations are advised because they allow for query optimization and more\u001b[39;00m\n\u001b[1;32m   6966\u001b[0m \u001b[39m    parallelization.\u001b[39;00m\n\u001b[1;32m   6967\u001b[0m \n\u001b[1;32m   6968\u001b[0m \u001b[39m    Returns\u001b[39;00m\n\u001b[1;32m   6969\u001b[0m \u001b[39m    -------\u001b[39;00m\n\u001b[1;32m   6970\u001b[0m \u001b[39m    LazyFrame\u001b[39;00m\n\u001b[1;32m   6971\u001b[0m \n\u001b[1;32m   6972\u001b[0m \u001b[39m    Examples\u001b[39;00m\n\u001b[1;32m   6973\u001b[0m \u001b[39m    --------\u001b[39;00m\n\u001b[1;32m   6974\u001b[0m \u001b[39m    >>> df = pl.DataFrame(\u001b[39;00m\n\u001b[1;32m   6975\u001b[0m \u001b[39m    ...     {\u001b[39;00m\n\u001b[1;32m   6976\u001b[0m \u001b[39m    ...         \"a\": [None, 2, 3, 4],\u001b[39;00m\n\u001b[1;32m   6977\u001b[0m \u001b[39m    ...         \"b\": [0.5, None, 2.5, 13],\u001b[39;00m\n\u001b[1;32m   6978\u001b[0m \u001b[39m    ...         \"c\": [True, True, False, None],\u001b[39;00m\n\u001b[1;32m   6979\u001b[0m \u001b[39m    ...     }\u001b[39;00m\n\u001b[1;32m   6980\u001b[0m \u001b[39m    ... )\u001b[39;00m\n\u001b[1;32m   6981\u001b[0m \u001b[39m    >>> df.lazy()  # doctest: +ELLIPSIS\u001b[39;00m\n\u001b[1;32m   6982\u001b[0m \u001b[39m    <LazyFrame [3 cols, {\"a\": Int64 … \"c\": Boolean}] at ...>\u001b[39;00m\n\u001b[1;32m   6983\u001b[0m \n\u001b[1;32m   6984\u001b[0m \u001b[39m    \"\"\"\u001b[39;00m\n\u001b[1;32m   6985\u001b[0m     \u001b[39mreturn\u001b[39;00m wrap_ldf(\u001b[39mself\u001b[39m\u001b[39m.\u001b[39m_df\u001b[39m.\u001b[39mlazy())\n",
      "File \u001b[0;32m~/miniconda/envs/dev/lib/python3.10/site-packages/polars/lazyframe/frame.py:1602\u001b[0m, in \u001b[0;36mcollect\u001b[0;34m(self, type_coercion, predicate_pushdown, projection_pushdown, simplify_expression, no_optimization, slice_pushdown, common_subplan_elimination, streaming)\u001b[0m\n\u001b[1;32m   1592\u001b[0m     projection_pushdown \u001b[39m=\u001b[39m \u001b[39mFalse\u001b[39;00m\n\u001b[1;32m   1593\u001b[0m     slice_pushdown \u001b[39m=\u001b[39m \u001b[39mFalse\u001b[39;00m\n\u001b[1;32m   1595\u001b[0m lf \u001b[39m=\u001b[39m \u001b[39mself\u001b[39m\u001b[39m.\u001b[39m_ldf\u001b[39m.\u001b[39moptimization_toggle(\n\u001b[1;32m   1596\u001b[0m     type_coercion,\n\u001b[1;32m   1597\u001b[0m     predicate_pushdown,\n\u001b[1;32m   1598\u001b[0m     projection_pushdown,\n\u001b[1;32m   1599\u001b[0m     simplify_expression,\n\u001b[1;32m   1600\u001b[0m     slice_pushdown,\n\u001b[1;32m   1601\u001b[0m     cse\u001b[39m=\u001b[39m\u001b[39mFalse\u001b[39;00m,\n\u001b[0;32m-> 1602\u001b[0m     streaming\u001b[39m=\u001b[39m\u001b[39mTrue\u001b[39;00m,\n\u001b[1;32m   1603\u001b[0m )\n\u001b[1;32m   1604\u001b[0m \u001b[39mreturn\u001b[39;00m lf\u001b[39m.\u001b[39msink_parquet(\n\u001b[1;32m   1605\u001b[0m     path\u001b[39m=\u001b[39mpath,\n\u001b[1;32m   1606\u001b[0m     compression\u001b[39m=\u001b[39mcompression,\n\u001b[0;32m   (...)\u001b[0m\n\u001b[1;32m   1611\u001b[0m     maintain_order\u001b[39m=\u001b[39mmaintain_order,\n\u001b[1;32m   1612\u001b[0m )\n",
      "\u001b[0;31mDuplicateError\u001b[0m: column with name 'views' has more than one occurrences"
     ]
    }
   ],
   "source": [
    "df_pl.select(\n",
    "    pl.col(\"views\").mean().alias(\"\"),\n",
    "    pl.col(\"views\").median(),\n",
    "    pl.col(\"views\").quantile(0.25),\n",
    "    pl.col(\"views\").quantile(0.75),\n",
    "    pl.col(\"views\").max(),\n",
    ")"
   ]
  },
  {
   "attachments": {},
   "cell_type": "markdown",
   "metadata": {},
   "source": [
    "## Analysis"
   ]
  },
  {
   "cell_type": "code",
   "execution_count": 183,
   "metadata": {},
   "outputs": [
    {
     "name": "stdout",
     "output_type": "stream",
     "text": [
      "shape: (5, 2)\n",
      "┌───────────────────────────────────┬────────┐\n",
      "│ channel_title                     ┆ counts │\n",
      "│ ---                               ┆ ---    │\n",
      "│ str                               ┆ u32    │\n",
      "╞═══════════════════════════════════╪════════╡\n",
      "│ The Tonight Show Starring Jimmy … ┆ 208    │\n",
      "│ TheEllenShow                      ┆ 207    │\n",
      "│ Jimmy Kimmel Live                 ┆ 207    │\n",
      "│ Saturday Night Live               ┆ 206    │\n",
      "│ WWE                               ┆ 205    │\n",
      "└───────────────────────────────────┴────────┘\n"
     ]
    }
   ],
   "source": [
    "# Who's the most frequent channels?\n",
    "print(df_pl['channel_title'].value_counts(sort=True).head(5))"
   ]
  },
  {
   "cell_type": "code",
   "execution_count": 227,
   "metadata": {},
   "outputs": [
    {
     "name": "stdout",
     "output_type": "stream",
     "text": [
      "shape: (5, 2)\n",
      "┌───────────────────────────────────┬────────────────┐\n",
      "│ channel_title                     ┆ trending_count │\n",
      "│ ---                               ┆ ---            │\n",
      "│ str                               ┆ u32            │\n",
      "╞═══════════════════════════════════╪════════════════╡\n",
      "│ The Tonight Show Starring Jimmy … ┆ 208            │\n",
      "│ Jimmy Kimmel Live                 ┆ 207            │\n",
      "│ TheEllenShow                      ┆ 207            │\n",
      "│ Saturday Night Live               ┆ 206            │\n",
      "│ WWE                               ┆ 205            │\n",
      "└───────────────────────────────────┴────────────────┘\n"
     ]
    }
   ],
   "source": [
    "channel_popularity = (\n",
    "    df_pl.groupby(pl.col(\"channel_title\"))\n",
    "    .agg(pl.count().alias(\"trending_count\"))\n",
    "    .sort(pl.col(\"trending_count\"), descending=True)\n",
    ")\n",
    "\n",
    "print(channel_popularity.head())"
   ]
  },
  {
   "cell_type": "code",
   "execution_count": 218,
   "metadata": {},
   "outputs": [
    {
     "name": "stdout",
     "output_type": "stream",
     "text": [
      "The Tonight Show Starring Jimmy Fallon    208\n",
      "Jimmy Kimmel Live                         207\n",
      "TheEllenShow                              207\n",
      "Saturday Night Live                       206\n",
      "WWE                                       205\n",
      "Name: channel_title, dtype: int64\n"
     ]
    }
   ],
   "source": [
    "# Who's the most frequent channels?\n",
    "print(df_pd['channel_title'].value_counts(sort=True).head(5))"
   ]
  },
  {
   "cell_type": "code",
   "execution_count": 294,
   "metadata": {},
   "outputs": [
    {
     "data": {
      "text/html": [
       "<div><style>\n",
       ".dataframe > thead > tr > th,\n",
       ".dataframe > tbody > tr > td {\n",
       "  text-align: right;\n",
       "}\n",
       "</style>\n",
       "<small>shape: (5, 16)</small><table border=\"1\" class=\"dataframe\"><thead><tr><th>video_id</th><th>trending_date</th><th>title</th><th>channel_title</th><th>category_id</th><th>publish_time</th><th>tags</th><th>views</th><th>likes</th><th>dislikes</th><th>comment_count</th><th>thumbnail_link</th><th>comments_disabled</th><th>ratings_disabled</th><th>video_error_or_removed</th><th>description</th></tr><tr><td>str</td><td>date</td><td>str</td><td>str</td><td>str</td><td>datetime[μs, +00:00]</td><td>str</td><td>i64</td><td>i64</td><td>i64</td><td>i64</td><td>str</td><td>bool</td><td>bool</td><td>bool</td><td>str</td></tr></thead><tbody><tr><td>&quot;Jw1Y-zhQURU&quot;</td><td>2017-11-14</td><td>&quot;John Lewis Chr…</td><td>&quot;John Lewis&quot;</td><td>&quot;Howto &amp; Style&quot;</td><td>2017-11-10 07:38:29 +00:00</td><td>&quot;christmas|john…</td><td>7224515</td><td>55681</td><td>10247</td><td>9479</td><td>&quot;https://i.ytim…</td><td>false</td><td>false</td><td>false</td><td>&quot;Click here to …</td></tr><tr><td>&quot;3s1rvMFUweQ&quot;</td><td>2017-11-14</td><td>&quot;Taylor Swift: …</td><td>&quot;Saturday Night…</td><td>&quot;Entertainment&quot;</td><td>2017-11-12 06:24:44 +00:00</td><td>&quot;SNL|Saturday N…</td><td>1053632</td><td>25561</td><td>2294</td><td>2757</td><td>&quot;https://i.ytim…</td><td>false</td><td>false</td><td>false</td><td>&quot;Musical guest …</td></tr><tr><td>&quot;n1WpP7iowLc&quot;</td><td>2017-11-14</td><td>&quot;Eminem - Walk …</td><td>&quot;EminemVEVO&quot;</td><td>&quot;Music&quot;</td><td>2017-11-10 17:00:03 +00:00</td><td>&quot;Eminem|Walk|On…</td><td>17158579</td><td>787420</td><td>43420</td><td>125882</td><td>&quot;https://i.ytim…</td><td>false</td><td>false</td><td>false</td><td>&quot;Eminem&#x27;s new t…</td></tr><tr><td>&quot;PUTEiSjKwJU&quot;</td><td>2017-11-14</td><td>&quot;Goals from Sal…</td><td>&quot;Salford City F…</td><td>&quot;Sports&quot;</td><td>2017-11-13 02:30:38 +00:00</td><td>&quot;Salford City F…</td><td>27833</td><td>193</td><td>12</td><td>37</td><td>&quot;https://i.ytim…</td><td>false</td><td>false</td><td>false</td><td>&quot;Salford drew 4…</td></tr><tr><td>&quot;rHwDegptbI4&quot;</td><td>2017-11-14</td><td>&quot;Dashcam captur…</td><td>&quot;Cute Girl Vide…</td><td>&quot;News &amp; Politic…</td><td>2017-11-13 01:45:13 +00:00</td><td>&quot;[none]&quot;</td><td>9815</td><td>30</td><td>2</td><td>30</td><td>&quot;https://i.ytim…</td><td>false</td><td>false</td><td>false</td><td>&quot;Dashcam captur…</td></tr></tbody></table></div>"
      ],
      "text/plain": [
       "shape: (5, 16)\n",
       "┌─────────────┬───────────────┬───────────────────────────────────┬────────────────────────────┬───┬───────────────────┬──────────────────┬────────────────────────┬───────────────────────────────────┐\n",
       "│ video_id    ┆ trending_date ┆ title                             ┆ channel_title              ┆ … ┆ comments_disabled ┆ ratings_disabled ┆ video_error_or_removed ┆ description                       │\n",
       "│ ---         ┆ ---           ┆ ---                               ┆ ---                        ┆   ┆ ---               ┆ ---              ┆ ---                    ┆ ---                               │\n",
       "│ str         ┆ date          ┆ str                               ┆ str                        ┆   ┆ bool              ┆ bool             ┆ bool                   ┆ str                               │\n",
       "╞═════════════╪═══════════════╪═══════════════════════════════════╪════════════════════════════╪═══╪═══════════════════╪══════════════════╪════════════════════════╪═══════════════════════════════════╡\n",
       "│ Jw1Y-zhQURU ┆ 2017-11-14    ┆ John Lewis Christmas Ad 2017 - #… ┆ John Lewis                 ┆ … ┆ false             ┆ false            ┆ false                  ┆ Click here to continue the story… │\n",
       "│ 3s1rvMFUweQ ┆ 2017-11-14    ┆ Taylor Swift: …Ready for It? (Li… ┆ Saturday Night Live        ┆ … ┆ false             ┆ false            ┆ false                  ┆ Musical guest Taylor Swift perfo… │\n",
       "│ n1WpP7iowLc ┆ 2017-11-14    ┆ Eminem - Walk On Water (Audio) f… ┆ EminemVEVO                 ┆ … ┆ false             ┆ false            ┆ false                  ┆ Eminem's new track Walk on Water… │\n",
       "│ PUTEiSjKwJU ┆ 2017-11-14    ┆ Goals from Salford City vs Class… ┆ Salford City Football Club ┆ … ┆ false             ┆ false            ┆ false                  ┆ Salford drew 4-4 against the Cla… │\n",
       "│ rHwDegptbI4 ┆ 2017-11-14    ┆ Dashcam captures truck's near mi… ┆ Cute Girl Videos           ┆ … ┆ false             ┆ false            ┆ false                  ┆ Dashcam captures truck's near mi… │\n",
       "└─────────────┴───────────────┴───────────────────────────────────┴────────────────────────────┴───┴───────────────────┴──────────────────┴────────────────────────┴───────────────────────────────────┘"
      ]
     },
     "execution_count": 294,
     "metadata": {},
     "output_type": "execute_result"
    }
   ],
   "source": [
    "df_pl.head()"
   ]
  },
  {
   "cell_type": "code",
   "execution_count": 292,
   "metadata": {},
   "outputs": [
    {
     "data": {
      "text/html": [
       "<div><style>\n",
       ".dataframe > thead > tr > th,\n",
       ".dataframe > tbody > tr > td {\n",
       "  text-align: right;\n",
       "}\n",
       "</style>\n",
       "<small>shape: (5, 9)</small><table border=\"1\" class=\"dataframe\"><thead><tr><th>channel_title</th><th>trending_count</th><th>number_of_trending_videos</th><th>total_views</th><th>total_likes</th><th>total_comments</th><th>average_views</th><th>average_likes</th><th>average_comments</th></tr><tr><td>str</td><td>u32</td><td>u32</td><td>i64</td><td>i64</td><td>i64</td><td>f64</td><td>f64</td><td>f64</td></tr></thead><tbody><tr><td>&quot;NickiMinajAtVE…</td><td>57</td><td>2</td><td>1622519478</td><td>38515975</td><td>4086059</td><td>2.8465254e7</td><td>675718.859649</td><td>71685.245614</td></tr><tr><td>&quot;gattu&quot;</td><td>20</td><td>1</td><td>11275506</td><td>56502</td><td>13104</td><td>563775.3</td><td>2825.1</td><td>655.2</td></tr><tr><td>&quot;The Real Dayti…</td><td>28</td><td>3</td><td>4802499</td><td>141923</td><td>20815</td><td>171517.821429</td><td>5068.678571</td><td>743.392857</td></tr><tr><td>&quot;YandelVEVO&quot;</td><td>35</td><td>1</td><td>1495491717</td><td>10826766</td><td>325369</td><td>4.2728e7</td><td>309336.171429</td><td>9296.257143</td></tr><tr><td>&quot;durbeyfield&quot;</td><td>13</td><td>1</td><td>5537322</td><td>264067</td><td>61121</td><td>425947.846154</td><td>20312.846154</td><td>4701.615385</td></tr></tbody></table></div>"
      ],
      "text/plain": [
       "shape: (5, 9)\n",
       "┌──────────────────┬────────────────┬───────────────────────────┬─────────────┬───┬────────────────┬───────────────┬───────────────┬──────────────────┐\n",
       "│ channel_title    ┆ trending_count ┆ number_of_trending_videos ┆ total_views ┆ … ┆ total_comments ┆ average_views ┆ average_likes ┆ average_comments │\n",
       "│ ---              ┆ ---            ┆ ---                       ┆ ---         ┆   ┆ ---            ┆ ---           ┆ ---           ┆ ---              │\n",
       "│ str              ┆ u32            ┆ u32                       ┆ i64         ┆   ┆ i64            ┆ f64           ┆ f64           ┆ f64              │\n",
       "╞══════════════════╪════════════════╪═══════════════════════════╪═════════════╪═══╪════════════════╪═══════════════╪═══════════════╪══════════════════╡\n",
       "│ NickiMinajAtVEVO ┆ 57             ┆ 2                         ┆ 1622519478  ┆ … ┆ 4086059        ┆ 2.8465254e7   ┆ 675718.859649 ┆ 71685.245614     │\n",
       "│ gattu            ┆ 20             ┆ 1                         ┆ 11275506    ┆ … ┆ 13104          ┆ 563775.3      ┆ 2825.1        ┆ 655.2            │\n",
       "│ The Real Daytime ┆ 28             ┆ 3                         ┆ 4802499     ┆ … ┆ 20815          ┆ 171517.821429 ┆ 5068.678571   ┆ 743.392857       │\n",
       "│ YandelVEVO       ┆ 35             ┆ 1                         ┆ 1495491717  ┆ … ┆ 325369         ┆ 4.2728e7      ┆ 309336.171429 ┆ 9296.257143      │\n",
       "│ durbeyfield      ┆ 13             ┆ 1                         ┆ 5537322     ┆ … ┆ 61121          ┆ 425947.846154 ┆ 20312.846154  ┆ 4701.615385      │\n",
       "└──────────────────┴────────────────┴───────────────────────────┴─────────────┴───┴────────────────┴───────────────┴───────────────┴──────────────────┘"
      ]
     },
     "execution_count": 292,
     "metadata": {},
     "output_type": "execute_result"
    }
   ],
   "source": [
    "channel_stats_pl = df_pl.groupby(\"channel_title\").agg([\n",
    "    pl.count().alias(\"trending_count\"),\n",
    "    pl.col(\"title\").n_unique().alias(\"number_of_trending_videos\"),\n",
    "    pl.col(\"views\").sum().alias(\"total_views\"),\n",
    "    pl.col(\"likes\").sum().alias(\"total_likes\"),\n",
    "    pl.col(\"comment_count\").sum().alias(\"total_comments\"),\n",
    "    pl.col(\"views\").mean().alias(\"average_views\"),\n",
    "    pl.col(\"likes\").mean().alias(\"average_likes\"),\n",
    "    pl.col(\"comment_count\").mean().alias(\"average_comments\"),\n",
    "])\n",
    "channel_stats_pl.sample(5)"
   ]
  },
  {
   "cell_type": "code",
   "execution_count": 326,
   "metadata": {},
   "outputs": [],
   "source": [
    "def make_aggregates(df: pl.DataFrame, groupby: str, agg_features: list[str]) -> pl.DataFrame:\n",
    "    # Aggregates that measure popularity using video counts\n",
    "    popularity_aggs = [\n",
    "        pl.count().alias(\"trending_count\"),\n",
    "        pl.col(\"title\").n_unique().alias(\"number_of_trending_videos\"),\n",
    "    ]\n",
    "    # Aggregates that measure popularity using metrics of the videos\n",
    "    metrics_agg = []\n",
    "    for agg in agg_features:\n",
    "        if agg not in df.columns:\n",
    "            print(f\"{agg} not in the dataframe. Skipping...\")\n",
    "        else:\n",
    "            metrics_agg.append(pl.col(agg).sum().alias(f\"total_{agg}\"))\n",
    "            metrics_agg.append(pl.col(agg).mean().alias(f\"average_{agg}\"))\n",
    "\n",
    "    stats = df.groupby(groupby).agg(popularity_aggs + metrics_agg)\n",
    "    stats = stats.sort(\"trending_count\", descending=True)\n",
    "    return stats"
   ]
  },
  {
   "cell_type": "code",
   "execution_count": 335,
   "metadata": {},
   "outputs": [
    {
     "name": "stdout",
     "output_type": "stream",
     "text": [
      "Top Channels\n",
      "shape: (5, 9)\n",
      "┌───────────────────────────────────┬────────────────┬───────────────────────────┬─────────────┬───┬─────────────┬───────────────┬─────────────────────┬───────────────────────┐\n",
      "│ channel_title                     ┆ trending_count ┆ number_of_trending_videos ┆ total_views ┆ … ┆ total_likes ┆ average_likes ┆ total_comment_count ┆ average_comment_count │\n",
      "│ ---                               ┆ ---            ┆ ---                       ┆ ---         ┆   ┆ ---         ┆ ---           ┆ ---                 ┆ ---                   │\n",
      "│ str                               ┆ u32            ┆ u32                       ┆ i64         ┆   ┆ i64         ┆ f64           ┆ i64                 ┆ f64                   │\n",
      "╞═══════════════════════════════════╪════════════════╪═══════════════════════════╪═════════════╪═══╪═════════════╪═══════════════╪═════════════════════╪═══════════════════════╡\n",
      "│ The Tonight Show Starring Jimmy … ┆ 208            ┆ 51                        ┆ 447390019   ┆ … ┆ 10186101    ┆ 48971.639423  ┆ 776719              ┆ 3734.225962           │\n",
      "│ TheEllenShow                      ┆ 207            ┆ 47                        ┆ 351577266   ┆ … ┆ 10017427    ┆ 48393.36715   ┆ 443970              ┆ 2144.782609           │\n",
      "│ Jimmy Kimmel Live                 ┆ 207            ┆ 44                        ┆ 398235069   ┆ … ┆ 8505643     ┆ 41090.062802  ┆ 727400              ┆ 3514.009662           │\n",
      "│ Saturday Night Live               ┆ 206            ┆ 38                        ┆ 594799179   ┆ … ┆ 6894625     ┆ 33469.053398  ┆ 755874              ┆ 3669.291262           │\n",
      "│ WWE                               ┆ 205            ┆ 30                        ┆ 587090246   ┆ … ┆ 6232999     ┆ 30404.873171  ┆ 1051169             ┆ 5127.653659           │\n",
      "└───────────────────────────────────┴────────────────┴───────────────────────────┴─────────────┴───┴─────────────┴───────────────┴─────────────────────┴───────────────────────┘\n",
      "\n",
      "Top Categories\n",
      "shape: (5, 9)\n",
      "┌──────────────────┬────────────────┬───────────────────────────┬──────────────┬───┬─────────────┬───────────────┬─────────────────────┬───────────────────────┐\n",
      "│ category_id      ┆ trending_count ┆ number_of_trending_videos ┆ total_views  ┆ … ┆ total_likes ┆ average_likes ┆ total_comment_count ┆ average_comment_count │\n",
      "│ ---              ┆ ---            ┆ ---                       ┆ ---          ┆   ┆ ---         ┆ ---           ┆ ---                 ┆ ---                   │\n",
      "│ str              ┆ u32            ┆ u32                       ┆ i64          ┆   ┆ i64         ┆ f64           ┆ i64                 ┆ f64                   │\n",
      "╞══════════════════╪════════════════╪═══════════════════════════╪══════════════╪═══╪═════════════╪═══════════════╪═════════════════════╪═══════════════════════╡\n",
      "│ Music            ┆ 13754          ┆ 910                       ┆ 171160864769 ┆ … ┆ 3742993052  ┆ 272138.508943 ┆ 293013140           ┆ 21303.849062          │\n",
      "│ Entertainment    ┆ 9124           ┆ 884                       ┆ 29786283041  ┆ … ┆ 744266231   ┆ 81572.362012  ┆ 116897440           ┆ 12812.08242           │\n",
      "│ People & Blogs   ┆ 2926           ┆ 293                       ┆ 5754287829   ┆ … ┆ 135396249   ┆ 46273.495899  ┆ 18713149            ┆ 6395.471292           │\n",
      "│ Film & Animation ┆ 2577           ┆ 201                       ┆ 8362707626   ┆ … ┆ 147418633   ┆ 57205.523089  ┆ 15590011            ┆ 6049.674428           │\n",
      "│ Howto & Style    ┆ 1928           ┆ 200                       ┆ 1190155227   ┆ … ┆ 51360345    ┆ 26639.183091  ┆ 7356296             ┆ 3815.506224           │\n",
      "└──────────────────┴────────────────┴───────────────────────────┴──────────────┴───┴─────────────┴───────────────┴─────────────────────┴───────────────────────┘\n"
     ]
    }
   ],
   "source": [
    "channel_aggs = make_aggregates(\n",
    "    df=df_pl, groupby=\"channel_title\", agg_features=[\"views\", \"likes\", \"comment_count\"]\n",
    ")\n",
    "category_aggs = make_aggregates(\n",
    "    df=df_pl, groupby=\"category_id\", agg_features=[\"views\", \"likes\", \"comment_count\"]\n",
    ")\n",
    "\n",
    "print(\"Top Channels\")\n",
    "print(channel_aggs.head())\n",
    "\n",
    "print(\"\\nTop Categories\")\n",
    "print(category_aggs.head())"
   ]
  },
  {
   "cell_type": "code",
   "execution_count": 374,
   "metadata": {},
   "outputs": [
    {
     "data": {
      "image/png": "[encoded data removed]",
      "text/plain": [
       "<Figure size 640x480 with 1 Axes>"
      ]
     },
     "metadata": {},
     "output_type": "display_data"
    }
   ],
   "source": [
    "\n",
    "\n",
    "# Calcualte ratio\n",
    "comments_views_ratio = category_aggs.select(\n",
    "    pl.col(\"category_id\"),\n",
    "    comments_views_ratio=pl.col(\"total_comment_count\") / pl.col(\"total_views\")\n",
    ").sort(\"comments_views_ratio\", descending=True)\n",
    "\n",
    "# Barplot\n",
    "sns.barplot(\n",
    "    y=comments_views_ratio[\"category_id\"].to_numpy(),\n",
    "    x=comments_views_ratio[\"comments_views_ratio\"].to_numpy(),\n",
    "    color=\"#306e81\",\n",
    ")\n",
    "plt.title(\"Comments to Views Ratio by Categroy\")\n",
    "plt.xlabel(\"Comments to Views Ratio\")\n",
    "plt.show()"
   ]
  },
  {
   "cell_type": "code",
   "execution_count": 433,
   "metadata": {},
   "outputs": [],
   "source": [
    "channel_aggs.write_parquet(\"./data/channel_aggs.parquet\")\n",
    "category_aggs.write_parquet(\"./data/category_aggs.parquet\")"
   ]
  },
  {
   "cell_type": "code",
   "execution_count": 368,
   "metadata": {},
   "outputs": [
    {
     "data": {
      "text/html": [
       "<div><style>\n",
       ".dataframe > thead > tr > th,\n",
       ".dataframe > tbody > tr > td {\n",
       "  text-align: right;\n",
       "}\n",
       "</style>\n",
       "<small>shape: (16, 2)</small><table border=\"1\" class=\"dataframe\"><thead><tr><th>category_id</th><th>trending_count</th></tr><tr><td>str</td><td>u32</td></tr></thead><tbody><tr><td>&quot;Music&quot;</td><td>13754</td></tr><tr><td>&quot;Entertainment&quot;</td><td>9124</td></tr><tr><td>&quot;People &amp; Blogs…</td><td>2926</td></tr><tr><td>&quot;Film &amp; Animati…</td><td>2577</td></tr><tr><td>&quot;Howto &amp; Style&quot;</td><td>1928</td></tr><tr><td>&quot;Sports&quot;</td><td>1907</td></tr><tr><td>&quot;Comedy&quot;</td><td>1828</td></tr><tr><td>&quot;Gaming&quot;</td><td>1788</td></tr><tr><td>&quot;News &amp; Politic…</td><td>1225</td></tr><tr><td>&quot;Pets &amp; Animals…</td><td>534</td></tr><tr><td>&quot;Science &amp; Tech…</td><td>518</td></tr><tr><td>&quot;Education&quot;</td><td>457</td></tr><tr><td>&quot;Autos &amp; Vehicl…</td><td>144</td></tr><tr><td>&quot;Travel &amp; Event…</td><td>96</td></tr><tr><td>&quot;Nonprofits &amp; A…</td><td>90</td></tr><tr><td>&quot;Shows&quot;</td><td>20</td></tr></tbody></table></div>"
      ],
      "text/plain": [
       "shape: (16, 2)\n",
       "┌───────────────────────┬────────────────┐\n",
       "│ category_id           ┆ trending_count │\n",
       "│ ---                   ┆ ---            │\n",
       "│ str                   ┆ u32            │\n",
       "╞═══════════════════════╪════════════════╡\n",
       "│ Music                 ┆ 13754          │\n",
       "│ Entertainment         ┆ 9124           │\n",
       "│ People & Blogs        ┆ 2926           │\n",
       "│ Film & Animation      ┆ 2577           │\n",
       "│ …                     ┆ …              │\n",
       "│ Autos & Vehicles      ┆ 144            │\n",
       "│ Travel & Events       ┆ 96             │\n",
       "│ Nonprofits & Activism ┆ 90             │\n",
       "│ Shows                 ┆ 20             │\n",
       "└───────────────────────┴────────────────┘"
      ]
     },
     "execution_count": 368,
     "metadata": {},
     "output_type": "execute_result"
    }
   ],
   "source": [
    "category_aggs.select([pl.col('category_id'),pl.col('trending_count')])"
   ]
  },
  {
   "cell_type": "code",
   "execution_count": 364,
   "metadata": {},
   "outputs": [
    {
     "data": {
      "text/html": [
       "<div><style>\n",
       ".dataframe > thead > tr > th,\n",
       ".dataframe > tbody > tr > td {\n",
       "  text-align: right;\n",
       "}\n",
       "</style>\n",
       "<small>shape: (16, 9)</small><table border=\"1\" class=\"dataframe\"><thead><tr><th>category_id</th><th>trending_count</th><th>number_of_trending_videos</th><th>total_views</th><th>average_views</th><th>total_likes</th><th>average_likes</th><th>total_comment_count</th><th>average_comment_count</th></tr><tr><td>str</td><td>u32</td><td>u32</td><td>i64</td><td>f64</td><td>i64</td><td>f64</td><td>i64</td><td>f64</td></tr></thead><tbody><tr><td>&quot;Music&quot;</td><td>13754</td><td>910</td><td>171160864769</td><td>1.2444e7</td><td>3742993052</td><td>272138.508943</td><td>293013140</td><td>21303.849062</td></tr><tr><td>&quot;Entertainment&quot;</td><td>9124</td><td>884</td><td>29786283041</td><td>3.2646e6</td><td>744266231</td><td>81572.362012</td><td>116897440</td><td>12812.08242</td></tr><tr><td>&quot;People &amp; Blogs…</td><td>2926</td><td>293</td><td>5754287829</td><td>1.9666e6</td><td>135396249</td><td>46273.495899</td><td>18713149</td><td>6395.471292</td></tr><tr><td>&quot;Film &amp; Animati…</td><td>2577</td><td>201</td><td>8362707626</td><td>3.2451e6</td><td>147418633</td><td>57205.523089</td><td>15590011</td><td>6049.674428</td></tr><tr><td>&quot;Howto &amp; Style&quot;</td><td>1928</td><td>200</td><td>1190155227</td><td>617300.428942</td><td>51360345</td><td>26639.183091</td><td>7356296</td><td>3815.506224</td></tr><tr><td>&quot;Sports&quot;</td><td>1907</td><td>222</td><td>3341736194</td><td>1.7524e6</td><td>74888487</td><td>39270.313057</td><td>10056226</td><td>5273.322496</td></tr><tr><td>&quot;Comedy&quot;</td><td>1828</td><td>211</td><td>3962062143</td><td>2.1674e6</td><td>143372176</td><td>78431.16849</td><td>16718816</td><td>9145.960613</td></tr><tr><td>&quot;Gaming&quot;</td><td>1788</td><td>175</td><td>1746619532</td><td>976856.561521</td><td>70125588</td><td>39220.127517</td><td>6166994</td><td>3449.10179</td></tr><tr><td>&quot;News &amp; Politic…</td><td>1225</td><td>128</td><td>1409131375</td><td>1.1503e6</td><td>30651565</td><td>25021.685714</td><td>9386604</td><td>7662.533878</td></tr><tr><td>&quot;Pets &amp; Animals…</td><td>534</td><td>42</td><td>541320573</td><td>1.0137e6</td><td>15288374</td><td>28629.913858</td><td>1404698</td><td>2630.520599</td></tr><tr><td>&quot;Science &amp; Tech…</td><td>518</td><td>43</td><td>1641388256</td><td>3.1687e6</td><td>31873124</td><td>61531.127413</td><td>4029065</td><td>7778.117761</td></tr><tr><td>&quot;Education&quot;</td><td>457</td><td>38</td><td>444290557</td><td>972189.402626</td><td>17567394</td><td>38440.68709</td><td>1636903</td><td>3581.844639</td></tr><tr><td>&quot;Autos &amp; Vehicl…</td><td>144</td><td>14</td><td>214184514</td><td>1.4874e6</td><td>3543625</td><td>24608.506944</td><td>505085</td><td>3507.534722</td></tr><tr><td>&quot;Travel &amp; Event…</td><td>96</td><td>10</td><td>132784993</td><td>1.3832e6</td><td>928747</td><td>9674.447917</td><td>118177</td><td>1231.010417</td></tr><tr><td>&quot;Nonprofits &amp; A…</td><td>90</td><td>6</td><td>352798262</td><td>3.9200e6</td><td>24452616</td><td>271695.733333</td><td>7672790</td><td>85253.222222</td></tr><tr><td>&quot;Shows&quot;</td><td>20</td><td>1</td><td>28583283</td><td>1.4292e6</td><td>836738</td><td>41836.9</td><td>80957</td><td>4047.85</td></tr></tbody></table></div>"
      ],
      "text/plain": [
       "shape: (16, 9)\n",
       "┌───────────────────────┬────────────────┬───────────────────────────┬──────────────┬───┬─────────────┬───────────────┬─────────────────────┬───────────────────────┐\n",
       "│ category_id           ┆ trending_count ┆ number_of_trending_videos ┆ total_views  ┆ … ┆ total_likes ┆ average_likes ┆ total_comment_count ┆ average_comment_count │\n",
       "│ ---                   ┆ ---            ┆ ---                       ┆ ---          ┆   ┆ ---         ┆ ---           ┆ ---                 ┆ ---                   │\n",
       "│ str                   ┆ u32            ┆ u32                       ┆ i64          ┆   ┆ i64         ┆ f64           ┆ i64                 ┆ f64                   │\n",
       "╞═══════════════════════╪════════════════╪═══════════════════════════╪══════════════╪═══╪═════════════╪═══════════════╪═════════════════════╪═══════════════════════╡\n",
       "│ Music                 ┆ 13754          ┆ 910                       ┆ 171160864769 ┆ … ┆ 3742993052  ┆ 272138.508943 ┆ 293013140           ┆ 21303.849062          │\n",
       "│ Entertainment         ┆ 9124           ┆ 884                       ┆ 29786283041  ┆ … ┆ 744266231   ┆ 81572.362012  ┆ 116897440           ┆ 12812.08242           │\n",
       "│ People & Blogs        ┆ 2926           ┆ 293                       ┆ 5754287829   ┆ … ┆ 135396249   ┆ 46273.495899  ┆ 18713149            ┆ 6395.471292           │\n",
       "│ Film & Animation      ┆ 2577           ┆ 201                       ┆ 8362707626   ┆ … ┆ 147418633   ┆ 57205.523089  ┆ 15590011            ┆ 6049.674428           │\n",
       "│ …                     ┆ …              ┆ …                         ┆ …            ┆ … ┆ …           ┆ …             ┆ …                   ┆ …                     │\n",
       "│ Autos & Vehicles      ┆ 144            ┆ 14                        ┆ 214184514    ┆ … ┆ 3543625     ┆ 24608.506944  ┆ 505085              ┆ 3507.534722           │\n",
       "│ Travel & Events       ┆ 96             ┆ 10                        ┆ 132784993    ┆ … ┆ 928747      ┆ 9674.447917   ┆ 118177              ┆ 1231.010417           │\n",
       "│ Nonprofits & Activism ┆ 90             ┆ 6                         ┆ 352798262    ┆ … ┆ 24452616    ┆ 271695.733333 ┆ 7672790             ┆ 85253.222222          │\n",
       "│ Shows                 ┆ 20             ┆ 1                         ┆ 28583283     ┆ … ┆ 836738      ┆ 41836.9       ┆ 80957               ┆ 4047.85               │\n",
       "└───────────────────────┴────────────────┴───────────────────────────┴──────────────┴───┴─────────────┴───────────────┴─────────────────────┴───────────────────────┘"
      ]
     },
     "execution_count": 364,
     "metadata": {},
     "output_type": "execute_result"
    }
   ],
   "source": [
    "category_aggs[['category_id','trending_count']]"
   ]
  },
  {
   "cell_type": "code",
   "execution_count": 290,
   "metadata": {},
   "outputs": [
    {
     "name": "stdout",
     "output_type": "stream",
     "text": [
      "10.4 ms ± 146 µs per loop (mean ± std. dev. of 7 runs, 100 loops each)\n"
     ]
    }
   ],
   "source": [
    "%%timeit\n",
    "channel_stats_pd = df_pd.groupby(\"channel_title\").agg(\n",
    "    trending_count=pd.NamedAgg(column=\"title\", aggfunc=\"count\"),\n",
    "    number_of_trending_videos=pd.NamedAgg(column=\"title\", aggfunc=\"nunique\"),\n",
    "    total_views=pd.NamedAgg(column=\"views\", aggfunc=\"sum\"),\n",
    "    average_views=pd.NamedAgg(column=\"views\", aggfunc=\"mean\"),\n",
    "    total_likes=pd.NamedAgg(column=\"likes\", aggfunc=\"sum\"),\n",
    "    average_likes=pd.NamedAgg(column=\"likes\", aggfunc=\"mean\"),\n",
    "    total_comments=pd.NamedAgg(column=\"comment_count\", aggfunc=\"sum\"),\n",
    "    average_comments=pd.NamedAgg(column=\"comment_count\", aggfunc=\"mean\"),\n",
    ")\n",
    "channel_stats_pd.sample(5)"
   ]
  },
  {
   "cell_type": "code",
   "execution_count": 291,
   "metadata": {},
   "outputs": [
    {
     "data": {
      "text/html": [
       "<div><style>\n",
       ".dataframe > thead > tr > th,\n",
       ".dataframe > tbody > tr > td {\n",
       "  text-align: right;\n",
       "}\n",
       "</style>\n",
       "<small>shape: (5, 9)</small><table border=\"1\" class=\"dataframe\"><thead><tr><th>channel_title</th><th>trending_count</th><th>number_of_trending_videos</th><th>total_views</th><th>total_likes</th><th>total_comments</th><th>average_views</th><th>average_likes</th><th>average_comments</th></tr><tr><td>str</td><td>u32</td><td>u32</td><td>i64</td><td>i64</td><td>i64</td><td>f64</td><td>f64</td><td>f64</td></tr></thead><tbody><tr><td>&quot;HANSON&quot;</td><td>10</td><td>1</td><td>950543</td><td>22947</td><td>2470</td><td>95054.3</td><td>2294.7</td><td>247.0</td></tr><tr><td>&quot;WINNER&quot;</td><td>44</td><td>2</td><td>513504917</td><td>17737178</td><td>1656714</td><td>1.1671e7</td><td>403117.681818</td><td>37652.590909</td></tr><tr><td>&quot;Bhad Bhabie&quot;</td><td>117</td><td>9</td><td>1554568224</td><td>39675117</td><td>4244735</td><td>1.3287e7</td><td>339103.564103</td><td>36279.786325</td></tr><tr><td>&quot;durbeyfield&quot;</td><td>13</td><td>1</td><td>5537322</td><td>264067</td><td>61121</td><td>425947.846154</td><td>20312.846154</td><td>4701.615385</td></tr><tr><td>&quot;Cole Bennett&quot;</td><td>80</td><td>5</td><td>807800164</td><td>20237954</td><td>1657934</td><td>1.0098e7</td><td>252974.425</td><td>20724.175</td></tr></tbody></table></div>"
      ],
      "text/plain": [
       "shape: (5, 9)\n",
       "┌───────────────┬────────────────┬───────────────────────────┬─────────────┬───┬────────────────┬───────────────┬───────────────┬──────────────────┐\n",
       "│ channel_title ┆ trending_count ┆ number_of_trending_videos ┆ total_views ┆ … ┆ total_comments ┆ average_views ┆ average_likes ┆ average_comments │\n",
       "│ ---           ┆ ---            ┆ ---                       ┆ ---         ┆   ┆ ---            ┆ ---           ┆ ---           ┆ ---              │\n",
       "│ str           ┆ u32            ┆ u32                       ┆ i64         ┆   ┆ i64            ┆ f64           ┆ f64           ┆ f64              │\n",
       "╞═══════════════╪════════════════╪═══════════════════════════╪═════════════╪═══╪════════════════╪═══════════════╪═══════════════╪══════════════════╡\n",
       "│ HANSON        ┆ 10             ┆ 1                         ┆ 950543      ┆ … ┆ 2470           ┆ 95054.3       ┆ 2294.7        ┆ 247.0            │\n",
       "│ WINNER        ┆ 44             ┆ 2                         ┆ 513504917   ┆ … ┆ 1656714        ┆ 1.1671e7      ┆ 403117.681818 ┆ 37652.590909     │\n",
       "│ Bhad Bhabie   ┆ 117            ┆ 9                         ┆ 1554568224  ┆ … ┆ 4244735        ┆ 1.3287e7      ┆ 339103.564103 ┆ 36279.786325     │\n",
       "│ durbeyfield   ┆ 13             ┆ 1                         ┆ 5537322     ┆ … ┆ 61121          ┆ 425947.846154 ┆ 20312.846154  ┆ 4701.615385      │\n",
       "│ Cole Bennett  ┆ 80             ┆ 5                         ┆ 807800164   ┆ … ┆ 1657934        ┆ 1.0098e7      ┆ 252974.425    ┆ 20724.175        │\n",
       "└───────────────┴────────────────┴───────────────────────────┴─────────────┴───┴────────────────┴───────────────┴───────────────┴──────────────────┘"
      ]
     },
     "execution_count": 291,
     "metadata": {},
     "output_type": "execute_result"
    }
   ],
   "source": [
    "channel_stats_pl.head()"
   ]
  },
  {
   "cell_type": "code",
   "execution_count": null,
   "metadata": {},
   "outputs": [],
   "source": []
  },
  {
   "cell_type": "code",
   "execution_count": null,
   "metadata": {},
   "outputs": [],
   "source": []
  },
  {
   "cell_type": "code",
   "execution_count": 130,
   "metadata": {},
   "outputs": [
    {
     "data": {
      "text/html": [
       "<div><style>\n",
       ".dataframe > thead > tr > th,\n",
       ".dataframe > tbody > tr > td {\n",
       "  text-align: right;\n",
       "}\n",
       "</style>\n",
       "<small>shape: (1_625, 3)</small><table border=\"1\" class=\"dataframe\"><thead><tr><th>channel_title</th><th>count</th><th>trending_date</th></tr><tr><td>str</td><td>u32</td><td>u32</td></tr></thead><tbody><tr><td>&quot;FXitinPost&quot;</td><td>16</td><td>16</td></tr><tr><td>&quot;John Maclean&quot;</td><td>25</td><td>25</td></tr><tr><td>&quot;Sophie Louise&quot;</td><td>21</td><td>21</td></tr><tr><td>&quot;Slayer&quot;</td><td>12</td><td>12</td></tr><tr><td>&quot;MTB MAG&quot;</td><td>4</td><td>4</td></tr><tr><td>&quot;World Trendz&quot;</td><td>8</td><td>8</td></tr><tr><td>&quot;Wale&quot;</td><td>30</td><td>30</td></tr><tr><td>&quot;20th Century F…</td><td>138</td><td>136</td></tr><tr><td>&quot;Open Road Film…</td><td>7</td><td>7</td></tr><tr><td>&quot;BBC Three&quot;</td><td>8</td><td>8</td></tr><tr><td>&quot;jackfrags&quot;</td><td>9</td><td>9</td></tr><tr><td>&quot;Bandai Namco E…</td><td>15</td><td>15</td></tr><tr><td>&hellip;</td><td>&hellip;</td><td>&hellip;</td></tr><tr><td>&quot;Jonathan Pie&quot;</td><td>10</td><td>10</td></tr><tr><td>&quot;Warner Bros. P…</td><td>168</td><td>168</td></tr><tr><td>&quot;Film Gob&quot;</td><td>13</td><td>13</td></tr><tr><td>&quot;Kylo Ren&quot;</td><td>1</td><td>1</td></tr><tr><td>&quot;lambofgodVEVO&quot;</td><td>29</td><td>29</td></tr><tr><td>&quot;CrazyRussianHa…</td><td>12</td><td>12</td></tr><tr><td>&quot;ElAnalistaDeBi…</td><td>11</td><td>11</td></tr><tr><td>&quot;Jutarnji list&quot;</td><td>3</td><td>3</td></tr><tr><td>&quot;Austin Evans&quot;</td><td>13</td><td>13</td></tr><tr><td>&quot;PartyHatCookie…</td><td>1</td><td>1</td></tr><tr><td>&quot;Lauv&quot;</td><td>36</td><td>36</td></tr><tr><td>&quot;The Summit&quot;</td><td>8</td><td>8</td></tr></tbody></table></div>"
      ],
      "text/plain": [
       "shape: (1_625, 3)\n",
       "┌───────────────────┬───────┬───────────────┐\n",
       "│ channel_title     ┆ count ┆ trending_date │\n",
       "│ ---               ┆ ---   ┆ ---           │\n",
       "│ str               ┆ u32   ┆ u32           │\n",
       "╞═══════════════════╪═══════╪═══════════════╡\n",
       "│ FXitinPost        ┆ 16    ┆ 16            │\n",
       "│ John Maclean      ┆ 25    ┆ 25            │\n",
       "│ Sophie Louise     ┆ 21    ┆ 21            │\n",
       "│ Slayer            ┆ 12    ┆ 12            │\n",
       "│ …                 ┆ …     ┆ …             │\n",
       "│ Austin Evans      ┆ 13    ┆ 13            │\n",
       "│ PartyHatCookieCat ┆ 1     ┆ 1             │\n",
       "│ Lauv              ┆ 36    ┆ 36            │\n",
       "│ The Summit        ┆ 8     ┆ 8             │\n",
       "└───────────────────┴───────┴───────────────┘"
      ]
     },
     "execution_count": 130,
     "metadata": {},
     "output_type": "execute_result"
    }
   ],
   "source": [
    "df_pl.groupby(pl.col('channel_title')).agg(\n",
    "    pl.count(),\n",
    "    pl.col(\"trending_date\").n_unique()\n",
    ")"
   ]
  },
  {
   "cell_type": "code",
   "execution_count": null,
   "metadata": {},
   "outputs": [],
   "source": []
  },
  {
   "cell_type": "code",
   "execution_count": null,
   "metadata": {},
   "outputs": [],
   "source": []
  },
  {
   "cell_type": "code",
   "execution_count": 126,
   "metadata": {},
   "outputs": [
    {
     "name": "stdout",
     "output_type": "stream",
     "text": [
      "CPU times: user 4.45 ms, sys: 4.56 ms, total: 9.01 ms\n",
      "Wall time: 1.61 ms\n"
     ]
    }
   ],
   "source": [
    "%%time\n",
    "popular = df_pl.groupby(\"channel_title\").agg(pl.col('video_id').count()).sort('video_id', descending=True)"
   ]
  },
  {
   "cell_type": "code",
   "execution_count": 115,
   "metadata": {},
   "outputs": [
    {
     "data": {
      "text/html": [
       "<div><style>\n",
       ".dataframe > thead > tr > th,\n",
       ".dataframe > tbody > tr > td {\n",
       "  text-align: right;\n",
       "}\n",
       "</style>\n",
       "<small>shape: (1_625, 2)</small><table border=\"1\" class=\"dataframe\"><thead><tr><th>channel_title</th><th>video_id</th></tr><tr><td>str</td><td>u32</td></tr></thead><tbody><tr><td>&quot;The Tonight Sh…</td><td>208</td></tr><tr><td>&quot;Jimmy Kimmel L…</td><td>207</td></tr><tr><td>&quot;TheEllenShow&quot;</td><td>207</td></tr><tr><td>&quot;Saturday Night…</td><td>206</td></tr><tr><td>&quot;WWE&quot;</td><td>205</td></tr><tr><td>&quot;The Late Late …</td><td>202</td></tr><tr><td>&quot;Late Night wit…</td><td>194</td></tr><tr><td>&quot;Breakfast Club…</td><td>193</td></tr><tr><td>&quot;The Late Show …</td><td>189</td></tr><tr><td>&quot;Netflix&quot;</td><td>187</td></tr><tr><td>&quot;SMTOWN&quot;</td><td>178</td></tr><tr><td>&quot;Warner Bros. P…</td><td>168</td></tr><tr><td>&hellip;</td><td>&hellip;</td></tr><tr><td>&quot;Voynich Manusc…</td><td>1</td></tr><tr><td>&quot;Pop Blast&quot;</td><td>1</td></tr><tr><td>&quot;WE2LITCREW&quot;</td><td>1</td></tr><tr><td>&quot;KFC&quot;</td><td>1</td></tr><tr><td>&quot;Breathe Paradi…</td><td>1</td></tr><tr><td>&quot;Dale Dai&quot;</td><td>1</td></tr><tr><td>&quot;TimWestwoodTV&quot;</td><td>1</td></tr><tr><td>&quot;M2&quot;</td><td>1</td></tr><tr><td>&quot;Endless Entert…</td><td>1</td></tr><tr><td>&quot;MrRevillz&quot;</td><td>1</td></tr><tr><td>&quot;SsM m&quot;</td><td>1</td></tr><tr><td>&quot;zander&quot;</td><td>1</td></tr></tbody></table></div>"
      ],
      "text/plain": [
       "shape: (1_625, 2)\n",
       "┌───────────────────────────────────┬──────────┐\n",
       "│ channel_title                     ┆ video_id │\n",
       "│ ---                               ┆ ---      │\n",
       "│ str                               ┆ u32      │\n",
       "╞═══════════════════════════════════╪══════════╡\n",
       "│ The Tonight Show Starring Jimmy … ┆ 208      │\n",
       "│ Jimmy Kimmel Live                 ┆ 207      │\n",
       "│ TheEllenShow                      ┆ 207      │\n",
       "│ Saturday Night Live               ┆ 206      │\n",
       "│ …                                 ┆ …        │\n",
       "│ Endless Entertainment             ┆ 1        │\n",
       "│ MrRevillz                         ┆ 1        │\n",
       "│ SsM m                             ┆ 1        │\n",
       "│ zander                            ┆ 1        │\n",
       "└───────────────────────────────────┴──────────┘"
      ]
     },
     "execution_count": 115,
     "metadata": {},
     "output_type": "execute_result"
    }
   ],
   "source": [
    "popular"
   ]
  },
  {
   "attachments": {},
   "cell_type": "markdown",
   "metadata": {},
   "source": []
  },
  {
   "cell_type": "code",
   "execution_count": 91,
   "metadata": {},
   "outputs": [
    {
     "data": {
      "text/html": [
       "<div>\n",
       "<style scoped>\n",
       "    .dataframe tbody tr th:only-of-type {\n",
       "        vertical-align: middle;\n",
       "    }\n",
       "\n",
       "    .dataframe tbody tr th {\n",
       "        vertical-align: top;\n",
       "    }\n",
       "\n",
       "    .dataframe thead th {\n",
       "        text-align: right;\n",
       "    }\n",
       "</style>\n",
       "<table border=\"1\" class=\"dataframe\">\n",
       "  <thead>\n",
       "    <tr style=\"text-align: right;\">\n",
       "      <th></th>\n",
       "      <th>video_id</th>\n",
       "      <th>trending_date</th>\n",
       "      <th>title</th>\n",
       "      <th>channel_title</th>\n",
       "      <th>category_id</th>\n",
       "      <th>publish_time</th>\n",
       "      <th>tags</th>\n",
       "      <th>views</th>\n",
       "      <th>likes</th>\n",
       "      <th>dislikes</th>\n",
       "      <th>comment_count</th>\n",
       "      <th>thumbnail_link</th>\n",
       "      <th>comments_disabled</th>\n",
       "      <th>ratings_disabled</th>\n",
       "      <th>video_error_or_removed</th>\n",
       "      <th>description</th>\n",
       "    </tr>\n",
       "  </thead>\n",
       "  <tbody>\n",
       "    <tr>\n",
       "      <th>0</th>\n",
       "      <td>Jw1Y-zhQURU</td>\n",
       "      <td>2017-11-14</td>\n",
       "      <td>John Lewis Christmas Ad 2017 - #MozTheMonster</td>\n",
       "      <td>John Lewis</td>\n",
       "      <td>26</td>\n",
       "      <td>2017-11-10 07:38:29+00:00</td>\n",
       "      <td>christmas|\"john lewis christmas\"|\"john lewis\"|...</td>\n",
       "      <td>7224515</td>\n",
       "      <td>55681</td>\n",
       "      <td>10247</td>\n",
       "      <td>9479</td>\n",
       "      <td>https://i.ytimg.com/vi/Jw1Y-zhQURU/default.jpg</td>\n",
       "      <td>False</td>\n",
       "      <td>False</td>\n",
       "      <td>False</td>\n",
       "      <td>Click here to continue the story and make your...</td>\n",
       "    </tr>\n",
       "    <tr>\n",
       "      <th>1</th>\n",
       "      <td>3s1rvMFUweQ</td>\n",
       "      <td>2017-11-14</td>\n",
       "      <td>Taylor Swift: …Ready for It? (Live) - SNL</td>\n",
       "      <td>Saturday Night Live</td>\n",
       "      <td>24</td>\n",
       "      <td>2017-11-12 06:24:44+00:00</td>\n",
       "      <td>SNL|\"Saturday Night Live\"|\"SNL Season 43\"|\"Epi...</td>\n",
       "      <td>1053632</td>\n",
       "      <td>25561</td>\n",
       "      <td>2294</td>\n",
       "      <td>2757</td>\n",
       "      <td>https://i.ytimg.com/vi/3s1rvMFUweQ/default.jpg</td>\n",
       "      <td>False</td>\n",
       "      <td>False</td>\n",
       "      <td>False</td>\n",
       "      <td>Musical guest Taylor Swift performs …Ready for...</td>\n",
       "    </tr>\n",
       "    <tr>\n",
       "      <th>2</th>\n",
       "      <td>n1WpP7iowLc</td>\n",
       "      <td>2017-11-14</td>\n",
       "      <td>Eminem - Walk On Water (Audio) ft. Beyoncé</td>\n",
       "      <td>EminemVEVO</td>\n",
       "      <td>10</td>\n",
       "      <td>2017-11-10 17:00:03+00:00</td>\n",
       "      <td>Eminem|\"Walk\"|\"On\"|\"Water\"|\"Aftermath/Shady/In...</td>\n",
       "      <td>17158579</td>\n",
       "      <td>787420</td>\n",
       "      <td>43420</td>\n",
       "      <td>125882</td>\n",
       "      <td>https://i.ytimg.com/vi/n1WpP7iowLc/default.jpg</td>\n",
       "      <td>False</td>\n",
       "      <td>False</td>\n",
       "      <td>False</td>\n",
       "      <td>Eminem's new track Walk on Water ft. Beyoncé i...</td>\n",
       "    </tr>\n",
       "    <tr>\n",
       "      <th>3</th>\n",
       "      <td>PUTEiSjKwJU</td>\n",
       "      <td>2017-11-14</td>\n",
       "      <td>Goals from Salford City vs Class of 92 and Fri...</td>\n",
       "      <td>Salford City Football Club</td>\n",
       "      <td>17</td>\n",
       "      <td>2017-11-13 02:30:38+00:00</td>\n",
       "      <td>Salford City FC|\"Salford City\"|\"Salford\"|\"Clas...</td>\n",
       "      <td>27833</td>\n",
       "      <td>193</td>\n",
       "      <td>12</td>\n",
       "      <td>37</td>\n",
       "      <td>https://i.ytimg.com/vi/PUTEiSjKwJU/default.jpg</td>\n",
       "      <td>False</td>\n",
       "      <td>False</td>\n",
       "      <td>False</td>\n",
       "      <td>Salford drew 4-4 against the Class of 92 and F...</td>\n",
       "    </tr>\n",
       "    <tr>\n",
       "      <th>4</th>\n",
       "      <td>rHwDegptbI4</td>\n",
       "      <td>2017-11-14</td>\n",
       "      <td>Dashcam captures truck's near miss with child ...</td>\n",
       "      <td>Cute Girl Videos</td>\n",
       "      <td>25</td>\n",
       "      <td>2017-11-13 01:45:13+00:00</td>\n",
       "      <td>[none]</td>\n",
       "      <td>9815</td>\n",
       "      <td>30</td>\n",
       "      <td>2</td>\n",
       "      <td>30</td>\n",
       "      <td>https://i.ytimg.com/vi/rHwDegptbI4/default.jpg</td>\n",
       "      <td>False</td>\n",
       "      <td>False</td>\n",
       "      <td>False</td>\n",
       "      <td>Dashcam captures truck's near miss with child ...</td>\n",
       "    </tr>\n",
       "  </tbody>\n",
       "</table>\n",
       "</div>"
      ],
      "text/plain": [
       "      video_id trending_date  \\\n",
       "0  Jw1Y-zhQURU    2017-11-14   \n",
       "1  3s1rvMFUweQ    2017-11-14   \n",
       "2  n1WpP7iowLc    2017-11-14   \n",
       "3  PUTEiSjKwJU    2017-11-14   \n",
       "4  rHwDegptbI4    2017-11-14   \n",
       "\n",
       "                                               title  \\\n",
       "0      John Lewis Christmas Ad 2017 - #MozTheMonster   \n",
       "1          Taylor Swift: …Ready for It? (Live) - SNL   \n",
       "2         Eminem - Walk On Water (Audio) ft. Beyoncé   \n",
       "3  Goals from Salford City vs Class of 92 and Fri...   \n",
       "4  Dashcam captures truck's near miss with child ...   \n",
       "\n",
       "                channel_title  category_id              publish_time  \\\n",
       "0                  John Lewis           26 2017-11-10 07:38:29+00:00   \n",
       "1         Saturday Night Live           24 2017-11-12 06:24:44+00:00   \n",
       "2                  EminemVEVO           10 2017-11-10 17:00:03+00:00   \n",
       "3  Salford City Football Club           17 2017-11-13 02:30:38+00:00   \n",
       "4            Cute Girl Videos           25 2017-11-13 01:45:13+00:00   \n",
       "\n",
       "                                                tags     views   likes  \\\n",
       "0  christmas|\"john lewis christmas\"|\"john lewis\"|...   7224515   55681   \n",
       "1  SNL|\"Saturday Night Live\"|\"SNL Season 43\"|\"Epi...   1053632   25561   \n",
       "2  Eminem|\"Walk\"|\"On\"|\"Water\"|\"Aftermath/Shady/In...  17158579  787420   \n",
       "3  Salford City FC|\"Salford City\"|\"Salford\"|\"Clas...     27833     193   \n",
       "4                                             [none]      9815      30   \n",
       "\n",
       "   dislikes  comment_count                                  thumbnail_link  \\\n",
       "0     10247           9479  https://i.ytimg.com/vi/Jw1Y-zhQURU/default.jpg   \n",
       "1      2294           2757  https://i.ytimg.com/vi/3s1rvMFUweQ/default.jpg   \n",
       "2     43420         125882  https://i.ytimg.com/vi/n1WpP7iowLc/default.jpg   \n",
       "3        12             37  https://i.ytimg.com/vi/PUTEiSjKwJU/default.jpg   \n",
       "4         2             30  https://i.ytimg.com/vi/rHwDegptbI4/default.jpg   \n",
       "\n",
       "   comments_disabled  ratings_disabled  video_error_or_removed  \\\n",
       "0              False             False                   False   \n",
       "1              False             False                   False   \n",
       "2              False             False                   False   \n",
       "3              False             False                   False   \n",
       "4              False             False                   False   \n",
       "\n",
       "                                         description  \n",
       "0  Click here to continue the story and make your...  \n",
       "1  Musical guest Taylor Swift performs …Ready for...  \n",
       "2  Eminem's new track Walk on Water ft. Beyoncé i...  \n",
       "3  Salford drew 4-4 against the Class of 92 and F...  \n",
       "4  Dashcam captures truck's near miss with child ...  "
      ]
     },
     "execution_count": 91,
     "metadata": {},
     "output_type": "execute_result"
    }
   ],
   "source": [
    "df_pd.head()"
   ]
  },
  {
   "cell_type": "code",
   "execution_count": 65,
   "metadata": {},
   "outputs": [
    {
     "data": {
      "text/html": [
       "<div><style>\n",
       ".dataframe > thead > tr > th,\n",
       ".dataframe > tbody > tr > td {\n",
       "  text-align: right;\n",
       "}\n",
       "</style>\n",
       "<small>shape: (38_916, 16)</small><table border=\"1\" class=\"dataframe\"><thead><tr><th>video_id</th><th>trending_date</th><th>title</th><th>channel_title</th><th>category_id</th><th>publish_time</th><th>tags</th><th>views</th><th>likes</th><th>dislikes</th><th>comment_count</th><th>thumbnail_link</th><th>comments_disabled</th><th>ratings_disabled</th><th>video_error_or_removed</th><th>description</th></tr><tr><td>str</td><td>str</td><td>str</td><td>str</td><td>i64</td><td>str</td><td>str</td><td>i64</td><td>i64</td><td>i64</td><td>i64</td><td>str</td><td>bool</td><td>bool</td><td>bool</td><td>str</td></tr></thead><tbody><tr><td>&quot;_wM_jY_rass&quot;</td><td>&quot;17.14.11&quot;</td><td>&quot;Bone on Labour…</td><td>&quot;Ross Kempsell&quot;</td><td>25</td><td>&quot;2017-11-06T16:…</td><td>&quot;[none]&quot;</td><td>159065</td><td>1160</td><td>1164</td><td>0</td><td>&quot;https://i.ytim…</td><td>true</td><td>false</td><td>false</td><td>&quot;&quot;</td></tr><tr><td>&quot;8HON4AswPVk&quot;</td><td>&quot;17.14.11&quot;</td><td>&quot;Arvo Pärt - Ta…</td><td>&quot;JSaxofone&quot;</td><td>10</td><td>&quot;2012-09-13T12:…</td><td>&quot;Arvo|Pärt|Tabu…</td><td>728177</td><td>4007</td><td>71</td><td>240</td><td>&quot;https://i.ytim…</td><td>false</td><td>false</td><td>false</td><td>&quot;&quot;</td></tr><tr><td>&quot;j5AILysDDTI&quot;</td><td>&quot;17.14.11&quot;</td><td>&quot;Brad Bufanda D…</td><td>&quot;EinsteinEnt&quot;</td><td>24</td><td>&quot;2010-09-02T20:…</td><td>&quot;Brad Bufanda (…</td><td>154054</td><td>16</td><td>10</td><td>19</td><td>&quot;https://i.ytim…</td><td>false</td><td>false</td><td>false</td><td>&quot;&quot;</td></tr><tr><td>&quot;_wM_jY_rass&quot;</td><td>&quot;17.15.11&quot;</td><td>&quot;Bone on Labour…</td><td>&quot;Ross Kempsell&quot;</td><td>25</td><td>&quot;2017-11-06T16:…</td><td>&quot;[none]&quot;</td><td>160381</td><td>1168</td><td>1170</td><td>0</td><td>&quot;https://i.ytim…</td><td>true</td><td>false</td><td>false</td><td>&quot;&quot;</td></tr><tr><td>&quot;8HON4AswPVk&quot;</td><td>&quot;17.15.11&quot;</td><td>&quot;Arvo Pärt - Ta…</td><td>&quot;JSaxofone&quot;</td><td>10</td><td>&quot;2012-09-13T12:…</td><td>&quot;Arvo|Pärt|Tabu…</td><td>729358</td><td>4016</td><td>71</td><td>240</td><td>&quot;https://i.ytim…</td><td>false</td><td>false</td><td>false</td><td>&quot;&quot;</td></tr><tr><td>&quot;j5AILysDDTI&quot;</td><td>&quot;17.15.11&quot;</td><td>&quot;Brad Bufanda D…</td><td>&quot;EinsteinEnt&quot;</td><td>24</td><td>&quot;2010-09-02T20:…</td><td>&quot;Brad Bufanda (…</td><td>154978</td><td>17</td><td>10</td><td>18</td><td>&quot;https://i.ytim…</td><td>false</td><td>false</td><td>false</td><td>&quot;&quot;</td></tr><tr><td>&quot;_wM_jY_rass&quot;</td><td>&quot;17.16.11&quot;</td><td>&quot;Bone on Labour…</td><td>&quot;Ross Kempsell&quot;</td><td>25</td><td>&quot;2017-11-06T16:…</td><td>&quot;[none]&quot;</td><td>160933</td><td>1173</td><td>1172</td><td>0</td><td>&quot;https://i.ytim…</td><td>true</td><td>false</td><td>false</td><td>&quot;&quot;</td></tr><tr><td>&quot;8HON4AswPVk&quot;</td><td>&quot;17.16.11&quot;</td><td>&quot;Arvo Pärt - Ta…</td><td>&quot;JSaxofone&quot;</td><td>10</td><td>&quot;2012-09-13T12:…</td><td>&quot;Arvo|Pärt|Tabu…</td><td>730235</td><td>4024</td><td>72</td><td>240</td><td>&quot;https://i.ytim…</td><td>false</td><td>false</td><td>false</td><td>&quot;&quot;</td></tr><tr><td>&quot;_wM_jY_rass&quot;</td><td>&quot;17.17.11&quot;</td><td>&quot;Bone on Labour…</td><td>&quot;Ross Kempsell&quot;</td><td>25</td><td>&quot;2017-11-06T16:…</td><td>&quot;[none]&quot;</td><td>161378</td><td>1174</td><td>1174</td><td>0</td><td>&quot;https://i.ytim…</td><td>true</td><td>false</td><td>false</td><td>&quot;&quot;</td></tr><tr><td>&quot;8HON4AswPVk&quot;</td><td>&quot;17.17.11&quot;</td><td>&quot;Arvo Pärt - Ta…</td><td>&quot;JSaxofone&quot;</td><td>10</td><td>&quot;2012-09-13T12:…</td><td>&quot;Arvo|Pärt|Tabu…</td><td>731007</td><td>4022</td><td>72</td><td>240</td><td>&quot;https://i.ytim…</td><td>false</td><td>false</td><td>false</td><td>&quot;&quot;</td></tr><tr><td>&quot;_wM_jY_rass&quot;</td><td>&quot;17.18.11&quot;</td><td>&quot;Bone on Labour…</td><td>&quot;Ross Kempsell&quot;</td><td>25</td><td>&quot;2017-11-06T16:…</td><td>&quot;[none]&quot;</td><td>161472</td><td>1174</td><td>1174</td><td>0</td><td>&quot;https://i.ytim…</td><td>true</td><td>false</td><td>false</td><td>&quot;&quot;</td></tr><tr><td>&quot;tjVJgR4OrgM&quot;</td><td>&quot;17.19.11&quot;</td><td>&quot;President Trum…</td><td>&quot;President Trum…</td><td>25</td><td>&quot;2017-11-13T07:…</td><td>&quot;president trum…</td><td>147834</td><td>1396</td><td>59</td><td>264</td><td>&quot;https://i.ytim…</td><td>false</td><td>false</td><td>false</td><td>&quot;&quot;</td></tr><tr><td>&hellip;</td><td>&hellip;</td><td>&hellip;</td><td>&hellip;</td><td>&hellip;</td><td>&hellip;</td><td>&hellip;</td><td>&hellip;</td><td>&hellip;</td><td>&hellip;</td><td>&hellip;</td><td>&hellip;</td><td>&hellip;</td><td>&hellip;</td><td>&hellip;</td><td>&hellip;</td></tr><tr><td>&quot;Lu7a7zKbJo0&quot;</td><td>&quot;18.06.01&quot;</td><td>&quot;G-Eazy &amp; Halse…</td><td>&quot;Trap Nation&quot;</td><td>10</td><td>&quot;2017-12-30T15:…</td><td>&quot;Trap Music 201…</td><td>544231</td><td>23469</td><td>538</td><td>936</td><td>&quot;https://i.ytim…</td><td>false</td><td>false</td><td>false</td><td>&quot;🔥 G Eazy &amp; Hal…</td></tr><tr><td>&quot;Lu7a7zKbJo0&quot;</td><td>&quot;18.07.01&quot;</td><td>&quot;G-Eazy &amp; Halse…</td><td>&quot;Trap Nation&quot;</td><td>10</td><td>&quot;2017-12-30T15:…</td><td>&quot;Trap Music 201…</td><td>571029</td><td>23847</td><td>555</td><td>946</td><td>&quot;https://i.ytim…</td><td>false</td><td>false</td><td>false</td><td>&quot;🔥 G Eazy &amp; Hal…</td></tr><tr><td>&quot;Lu7a7zKbJo0&quot;</td><td>&quot;18.08.01&quot;</td><td>&quot;G-Eazy &amp; Halse…</td><td>&quot;Trap Nation&quot;</td><td>10</td><td>&quot;2017-12-30T15:…</td><td>&quot;Trap Music 201…</td><td>595306</td><td>24192</td><td>565</td><td>920</td><td>&quot;https://i.ytim…</td><td>false</td><td>false</td><td>false</td><td>&quot;🔥 G Eazy &amp; Hal…</td></tr><tr><td>&quot;Lu7a7zKbJo0&quot;</td><td>&quot;18.09.01&quot;</td><td>&quot;G-Eazy &amp; Halse…</td><td>&quot;Trap Nation&quot;</td><td>10</td><td>&quot;2017-12-30T15:…</td><td>&quot;Trap Music 201…</td><td>617440</td><td>24508</td><td>574</td><td>949</td><td>&quot;https://i.ytim…</td><td>false</td><td>false</td><td>false</td><td>&quot;🔥 G Eazy &amp; Hal…</td></tr><tr><td>&quot;Lu7a7zKbJo0&quot;</td><td>&quot;18.12.01&quot;</td><td>&quot;G-Eazy &amp; Halse…</td><td>&quot;Trap Nation&quot;</td><td>10</td><td>&quot;2017-12-30T15:…</td><td>&quot;Trap Music 201…</td><td>677684</td><td>25391</td><td>599</td><td>957</td><td>&quot;https://i.ytim…</td><td>false</td><td>false</td><td>false</td><td>&quot;🔥 G Eazy &amp; Hal…</td></tr><tr><td>&quot;Lu7a7zKbJo0&quot;</td><td>&quot;18.13.01&quot;</td><td>&quot;G-Eazy &amp; Halse…</td><td>&quot;Trap Nation&quot;</td><td>10</td><td>&quot;2017-12-30T15:…</td><td>&quot;Trap Music 201…</td><td>698041</td><td>25664</td><td>606</td><td>957</td><td>&quot;https://i.ytim…</td><td>false</td><td>false</td><td>false</td><td>&quot;🔥 G Eazy &amp; Hal…</td></tr><tr><td>&quot;Lu7a7zKbJo0&quot;</td><td>&quot;18.14.01&quot;</td><td>&quot;G-Eazy &amp; Halse…</td><td>&quot;Trap Nation&quot;</td><td>10</td><td>&quot;2017-12-30T15:…</td><td>&quot;Trap Music 201…</td><td>714335</td><td>25892</td><td>610</td><td>957</td><td>&quot;https://i.ytim…</td><td>false</td><td>false</td><td>false</td><td>&quot;🔥 G Eazy &amp; Hal…</td></tr><tr><td>&quot;Lu7a7zKbJo0&quot;</td><td>&quot;18.15.01&quot;</td><td>&quot;G-Eazy &amp; Halse…</td><td>&quot;Trap Nation&quot;</td><td>10</td><td>&quot;2017-12-30T15:…</td><td>&quot;Trap Music 201…</td><td>728134</td><td>26102</td><td>615</td><td>957</td><td>&quot;https://i.ytim…</td><td>false</td><td>false</td><td>false</td><td>&quot;🔥 G Eazy &amp; Hal…</td></tr><tr><td>&quot;Lu7a7zKbJo0&quot;</td><td>&quot;18.16.01&quot;</td><td>&quot;G-Eazy &amp; Halse…</td><td>&quot;Trap Nation&quot;</td><td>10</td><td>&quot;2017-12-30T15:…</td><td>&quot;Trap Music 201…</td><td>740784</td><td>26270</td><td>618</td><td>957</td><td>&quot;https://i.ytim…</td><td>false</td><td>false</td><td>false</td><td>&quot;🔥 G Eazy &amp; Hal…</td></tr><tr><td>&quot;iztt-GoNv18&quot;</td><td>&quot;18.12.06&quot;</td><td>&quot;(DAAAMN!) MIKE…</td><td>&quot;FightHype.com&quot;</td><td>17</td><td>&quot;2018-06-11T03:…</td><td>&quot;Mike Tyson|Don…</td><td>255898</td><td>1845</td><td>70</td><td>833</td><td>&quot;https://i.ytim…</td><td>false</td><td>false</td><td>false</td><td>&quot;😳😳😳 @miketyson…</td></tr><tr><td>&quot;iztt-GoNv18&quot;</td><td>&quot;18.13.06&quot;</td><td>&quot;(DAAAMN!) MIKE…</td><td>&quot;FightHype.com&quot;</td><td>17</td><td>&quot;2018-06-11T03:…</td><td>&quot;Mike Tyson|Don…</td><td>368536</td><td>2109</td><td>86</td><td>953</td><td>&quot;https://i.ytim…</td><td>false</td><td>false</td><td>false</td><td>&quot;😳😳😳 @miketyson…</td></tr><tr><td>&quot;iztt-GoNv18&quot;</td><td>&quot;18.14.06&quot;</td><td>&quot;(DAAAMN!) MIKE…</td><td>&quot;FightHype.com&quot;</td><td>17</td><td>&quot;2018-06-11T03:…</td><td>&quot;Mike Tyson|Don…</td><td>406742</td><td>2228</td><td>93</td><td>1008</td><td>&quot;https://i.ytim…</td><td>false</td><td>false</td><td>false</td><td>&quot;😳😳😳 @miketyson…</td></tr></tbody></table></div>"
      ],
      "text/plain": [
       "shape: (38_916, 16)\n",
       "┌────────┬────────────┬────────┬────────────┬───┬────────────┬────────────┬────────────┬───────────┐\n",
       "│ video_ ┆ trending_d ┆ title  ┆ channel_ti ┆ … ┆ comments_d ┆ ratings_di ┆ video_erro ┆ descripti │\n",
       "│ id     ┆ ate        ┆ ---    ┆ tle        ┆   ┆ isabled    ┆ sabled     ┆ r_or_remov ┆ on        │\n",
       "│ ---    ┆ ---        ┆ str    ┆ ---        ┆   ┆ ---        ┆ ---        ┆ ed         ┆ ---       │\n",
       "│ str    ┆ str        ┆        ┆ str        ┆   ┆ bool       ┆ bool       ┆ ---        ┆ str       │\n",
       "│        ┆            ┆        ┆            ┆   ┆            ┆            ┆ bool       ┆           │\n",
       "╞════════╪════════════╪════════╪════════════╪═══╪════════════╪════════════╪════════════╪═══════════╡\n",
       "│ _wM_jY ┆ 17.14.11   ┆ Bone   ┆ Ross       ┆ … ┆ true       ┆ false      ┆ false      ┆           │\n",
       "│ _rass  ┆            ┆ on     ┆ Kempsell   ┆   ┆            ┆            ┆            ┆           │\n",
       "│        ┆            ┆ Labour ┆            ┆   ┆            ┆            ┆            ┆           │\n",
       "│        ┆            ┆ HQ     ┆            ┆   ┆            ┆            ┆            ┆           │\n",
       "│ 8HON4A ┆ 17.14.11   ┆ Arvo   ┆ JSaxofone  ┆ … ┆ false      ┆ false      ┆ false      ┆           │\n",
       "│ swPVk  ┆            ┆ Pärt - ┆            ┆   ┆            ┆            ┆            ┆           │\n",
       "│        ┆            ┆ Tabula ┆            ┆   ┆            ┆            ┆            ┆           │\n",
       "│        ┆            ┆ Rasa   ┆            ┆   ┆            ┆            ┆            ┆           │\n",
       "│ j5AILy ┆ 17.14.11   ┆ Brad   ┆ EinsteinEn ┆ … ┆ false      ┆ false      ┆ false      ┆           │\n",
       "│ sDDTI  ┆            ┆ Bufand ┆ t          ┆   ┆            ┆            ┆            ┆           │\n",
       "│        ┆            ┆ a Demo ┆            ┆   ┆            ┆            ┆            ┆           │\n",
       "│        ┆            ┆ Reel   ┆            ┆   ┆            ┆            ┆            ┆           │\n",
       "│ _wM_jY ┆ 17.15.11   ┆ Bone   ┆ Ross       ┆ … ┆ true       ┆ false      ┆ false      ┆           │\n",
       "│ _rass  ┆            ┆ on     ┆ Kempsell   ┆   ┆            ┆            ┆            ┆           │\n",
       "│        ┆            ┆ Labour ┆            ┆   ┆            ┆            ┆            ┆           │\n",
       "│        ┆            ┆ HQ     ┆            ┆   ┆            ┆            ┆            ┆           │\n",
       "│ …      ┆ …          ┆ …      ┆ …          ┆ … ┆ …          ┆ …          ┆ …          ┆ …         │\n",
       "│ Lu7a7z ┆ 18.16.01   ┆ G-Eazy ┆ Trap       ┆ … ┆ false      ┆ false      ┆ false      ┆ 🔥 G Eazy │\n",
       "│ KbJo0  ┆            ┆ &      ┆ Nation     ┆   ┆            ┆            ┆            ┆ & Halsey  │\n",
       "│        ┆            ┆ Halsey ┆            ┆   ┆            ┆            ┆            ┆ - Him & I │\n",
       "│        ┆            ┆ - Him  ┆            ┆   ┆            ┆            ┆            ┆ (RMN…     │\n",
       "│        ┆            ┆ & I    ┆            ┆   ┆            ┆            ┆            ┆           │\n",
       "│        ┆            ┆ (RMND  ┆            ┆   ┆            ┆            ┆            ┆           │\n",
       "│        ┆            ┆ …      ┆            ┆   ┆            ┆            ┆            ┆           │\n",
       "│ iztt-G ┆ 18.12.06   ┆ (DAAAM ┆ FightHype. ┆ … ┆ false      ┆ false      ┆ false      ┆ 😳😳😳    │\n",
       "│ oNv18  ┆            ┆ N!)    ┆ com        ┆   ┆            ┆            ┆            ┆ @miketyso │\n",
       "│        ┆            ┆ MIKE   ┆            ┆   ┆            ┆            ┆            ┆ n throws  │\n",
       "│        ┆            ┆ TYSON  ┆            ┆   ┆            ┆            ┆            ┆ drink at  │\n",
       "│        ┆            ┆ THROWS ┆            ┆   ┆            ┆            ┆            ┆ D…        │\n",
       "│        ┆            ┆ WATE…  ┆            ┆   ┆            ┆            ┆            ┆           │\n",
       "│ iztt-G ┆ 18.13.06   ┆ (DAAAM ┆ FightHype. ┆ … ┆ false      ┆ false      ┆ false      ┆ 😳😳😳    │\n",
       "│ oNv18  ┆            ┆ N!)    ┆ com        ┆   ┆            ┆            ┆            ┆ @miketyso │\n",
       "│        ┆            ┆ MIKE   ┆            ┆   ┆            ┆            ┆            ┆ n throws  │\n",
       "│        ┆            ┆ TYSON  ┆            ┆   ┆            ┆            ┆            ┆ drink at  │\n",
       "│        ┆            ┆ THROWS ┆            ┆   ┆            ┆            ┆            ┆ D…        │\n",
       "│        ┆            ┆ WATE…  ┆            ┆   ┆            ┆            ┆            ┆           │\n",
       "│ iztt-G ┆ 18.14.06   ┆ (DAAAM ┆ FightHype. ┆ … ┆ false      ┆ false      ┆ false      ┆ 😳😳😳    │\n",
       "│ oNv18  ┆            ┆ N!)    ┆ com        ┆   ┆            ┆            ┆            ┆ @miketyso │\n",
       "│        ┆            ┆ MIKE   ┆            ┆   ┆            ┆            ┆            ┆ n throws  │\n",
       "│        ┆            ┆ TYSON  ┆            ┆   ┆            ┆            ┆            ┆ drink at  │\n",
       "│        ┆            ┆ THROWS ┆            ┆   ┆            ┆            ┆            ┆ D…        │\n",
       "│        ┆            ┆ WATE…  ┆            ┆   ┆            ┆            ┆            ┆           │\n",
       "└────────┴────────────┴────────┴────────────┴───┴────────────┴────────────┴────────────┴───────────┘"
      ]
     },
     "execution_count": 65,
     "metadata": {},
     "output_type": "execute_result"
    }
   ],
   "source": [
    "df_pl.sort(\"description\")"
   ]
  },
  {
   "attachments": {},
   "cell_type": "markdown",
   "metadata": {},
   "source": [
    "* Longest video in trend\n",
    "* Average length in trend\n",
    "* Most popular channel\n",
    "* Most popular category"
   ]
  },
  {
   "cell_type": "code",
   "execution_count": null,
   "metadata": {},
   "outputs": [],
   "source": []
  },
  {
   "cell_type": "code",
   "execution_count": 21,
   "metadata": {},
   "outputs": [
    {
     "name": "stdout",
     "output_type": "stream",
     "text": [
      "CPU times: user 2.41 ms, sys: 2.55 ms, total: 4.96 ms\n",
      "Wall time: 991 µs\n"
     ]
    },
    {
     "data": {
      "text/html": [
       "<div><style>\n",
       ".dataframe > thead > tr > th,\n",
       ".dataframe > tbody > tr > td {\n",
       "  text-align: right;\n",
       "}\n",
       "</style>\n",
       "<small>shape: (5, 2)</small><table border=\"1\" class=\"dataframe\"><thead><tr><th>trending_date</th><th>counts</th></tr><tr><td>str</td><td>u32</td></tr></thead><tbody><tr><td>&quot;17.14.11&quot;</td><td>200</td></tr><tr><td>&quot;17.17.11&quot;</td><td>200</td></tr><tr><td>&quot;17.18.11&quot;</td><td>200</td></tr><tr><td>&quot;17.19.11&quot;</td><td>200</td></tr><tr><td>&quot;17.20.11&quot;</td><td>200</td></tr></tbody></table></div>"
      ],
      "text/plain": [
       "shape: (5, 2)\n",
       "┌───────────────┬────────┐\n",
       "│ trending_date ┆ counts │\n",
       "│ ---           ┆ ---    │\n",
       "│ str           ┆ u32    │\n",
       "╞═══════════════╪════════╡\n",
       "│ 17.14.11      ┆ 200    │\n",
       "│ 17.17.11      ┆ 200    │\n",
       "│ 17.18.11      ┆ 200    │\n",
       "│ 17.19.11      ┆ 200    │\n",
       "│ 17.20.11      ┆ 200    │\n",
       "└───────────────┴────────┘"
      ]
     },
     "execution_count": 21,
     "metadata": {},
     "output_type": "execute_result"
    }
   ],
   "source": [
    "%%time\n",
    "df_pl['trending_date'].value_counts(sort=True).head()"
   ]
  },
  {
   "cell_type": "code",
   "execution_count": 22,
   "metadata": {},
   "outputs": [
    {
     "name": "stdout",
     "output_type": "stream",
     "text": [
      "CPU times: user 1.9 ms, sys: 56 µs, total: 1.96 ms\n",
      "Wall time: 1.91 ms\n"
     ]
    },
    {
     "data": {
      "text/plain": [
       "17.14.11    200\n",
       "18.02.01    200\n",
       "18.29.01    200\n",
       "18.28.01    200\n",
       "18.27.01    200\n",
       "Name: trending_date, dtype: int64"
      ]
     },
     "execution_count": 22,
     "metadata": {},
     "output_type": "execute_result"
    }
   ],
   "source": [
    "%%time\n",
    "df_pd['trending_date'].value_counts().head()"
   ]
  },
  {
   "cell_type": "code",
   "execution_count": null,
   "metadata": {},
   "outputs": [],
   "source": []
  }
 ],
 "metadata": {
  "kernelspec": {
   "display_name": "dev",
   "language": "python",
   "name": "python3"
  },
  "language_info": {
   "codemirror_mode": {
    "name": "ipython",
    "version": 3
   },
   "file_extension": ".py",
   "mimetype": "text/x-python",
   "name": "python",
   "nbconvert_exporter": "python",
   "pygments_lexer": "ipython3",
   "version": "3.10.9"
  },
  "orig_nbformat": 4
 },
 "nbformat": 4,
 "nbformat_minor": 2
}
