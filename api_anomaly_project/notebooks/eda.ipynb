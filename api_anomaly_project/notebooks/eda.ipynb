{
 "cells": [
  {
   "cell_type": "markdown",
   "metadata": {},
   "source": [
    "# Exploratory Data Analysis\n",
    "\n",
    "The main objectives for this notebook are:\n",
    "* Explore the clean dataset by performing univariate analysis\n",
    "* Investiage the relationships between your features and your target by perofrming bivariate and multivariate analyses\n",
    "* Extract relevant insights to share with business stakeholders\n",
    "* Understand steps that will be required for ML pre-processing\n",
    "\n",
    "The skills that you need to showcase:\n",
    "* Your ability to raise hypotheses, answer them, and interpret the results\n",
    "* You data wrangling and visualisation skills\n",
    "\n",
    "## How to stand out?\n",
    "1. Use non-Pandas DataFrame library like Polars or PySpark\n",
    "2. Use interactive plots (e.g. Plotly) for visualisations (don't forget to render your notebooks as HTML)\n",
    "    - Your visualisations should have some additional formatting\n",
    "3. Write clear insights after every section of the analysis\n",
    "4. Use well-written and documented utility functions"
   ]
  },
  {
   "cell_type": "markdown",
   "metadata": {},
   "source": [
    "# Imports"
   ]
  },
  {
   "cell_type": "code",
   "execution_count": 109,
   "metadata": {},
   "outputs": [
    {
     "name": "stdout",
     "output_type": "stream",
     "text": [
      "The autoreload extension is already loaded. To reload it, use:\n",
      "  %reload_ext autoreload\n"
     ]
    }
   ],
   "source": [
    "%load_ext autoreload\n",
    "%autoreload 2"
   ]
  },
  {
   "cell_type": "code",
   "execution_count": 110,
   "metadata": {},
   "outputs": [],
   "source": [
    "import sys, os\n",
    "\n",
    "# Path needs to be added manually to read from another folder\n",
    "path2add = os.path.normpath(os.path.abspath(os.path.join(os.path.dirname('__file__'), os.path.pardir, 'utils')))\n",
    "if (not (path2add in sys.path)) :\n",
    "    sys.path.append(path2add)\n",
    "    \n",
    "import polars as pl\n",
    "import plotly.express as px\n",
    "from visualisations import bar_plot, proportion_plot, boxplot_by_bin_with_target\n",
    "# etc"
   ]
  },
  {
   "cell_type": "markdown",
   "metadata": {},
   "source": [
    "# Data"
   ]
  },
  {
   "cell_type": "code",
   "execution_count": 111,
   "metadata": {},
   "outputs": [
    {
     "name": "stdout",
     "output_type": "stream",
     "text": [
      "(1695, 13)\n"
     ]
    },
    {
     "data": {
      "text/html": [
       "<div><style>\n",
       ".dataframe > thead > tr > th,\n",
       ".dataframe > tbody > tr > td {\n",
       "  text-align: right;\n",
       "}\n",
       "</style>\n",
       "<small>shape: (5, 13)</small><table border=\"1\" class=\"dataframe\"><thead><tr><th></th><th>_id</th><th>inter_api_access_duration(sec)</th><th>api_access_uniqueness</th><th>sequence_length(count)</th><th>vsession_duration(min)</th><th>ip_type</th><th>num_sessions</th><th>num_users</th><th>num_unique_apis</th><th>source</th><th>classification</th><th>is_anomaly</th></tr><tr><td>i64</td><td>str</td><td>f64</td><td>f64</td><td>f64</td><td>i64</td><td>str</td><td>f64</td><td>f64</td><td>f64</td><td>str</td><td>str</td><td>bool</td></tr></thead><tbody><tr><td>0</td><td>&quot;1f2c32d8-2d6e-…</td><td>0.000812</td><td>0.004066</td><td>85.643243</td><td>5405</td><td>&quot;default&quot;</td><td>1460.0</td><td>1295.0</td><td>451.0</td><td>&quot;E&quot;</td><td>&quot;normal&quot;</td><td>false</td></tr><tr><td>1</td><td>&quot;4c486414-d4f5-…</td><td>0.000063</td><td>0.002211</td><td>16.166805</td><td>519</td><td>&quot;default&quot;</td><td>9299.0</td><td>8447.0</td><td>302.0</td><td>&quot;E&quot;</td><td>&quot;normal&quot;</td><td>false</td></tr><tr><td>2</td><td>&quot;7e5838fc-bce1-…</td><td>0.004481</td><td>0.015324</td><td>99.573276</td><td>6211</td><td>&quot;default&quot;</td><td>255.0</td><td>232.0</td><td>354.0</td><td>&quot;E&quot;</td><td>&quot;normal&quot;</td><td>false</td></tr><tr><td>3</td><td>&quot;82661ecd-d87f-…</td><td>0.017837</td><td>0.014974</td><td>69.792793</td><td>8292</td><td>&quot;default&quot;</td><td>195.0</td><td>111.0</td><td>116.0</td><td>&quot;E&quot;</td><td>&quot;normal&quot;</td><td>false</td></tr><tr><td>4</td><td>&quot;d62d56ea-775e-…</td><td>0.000797</td><td>0.006056</td><td>14.952756</td><td>182</td><td>&quot;default&quot;</td><td>272.0</td><td>254.0</td><td>23.0</td><td>&quot;E&quot;</td><td>&quot;normal&quot;</td><td>false</td></tr></tbody></table></div>"
      ],
      "text/plain": [
       "shape: (5, 13)\n",
       "┌─────┬─────────────┬─────────────┬────────────┬───┬────────────┬────────┬────────────┬────────────┐\n",
       "│     ┆ _id         ┆ inter_api_a ┆ api_access ┆ … ┆ num_unique ┆ source ┆ classifica ┆ is_anomaly │\n",
       "│ --- ┆ ---         ┆ ccess_durat ┆ _uniquenes ┆   ┆ _apis      ┆ ---    ┆ tion       ┆ ---        │\n",
       "│ i64 ┆ str         ┆ ion(sec)    ┆ s          ┆   ┆ ---        ┆ str    ┆ ---        ┆ bool       │\n",
       "│     ┆             ┆ ---         ┆ ---        ┆   ┆ f64        ┆        ┆ str        ┆            │\n",
       "│     ┆             ┆ f64         ┆ f64        ┆   ┆            ┆        ┆            ┆            │\n",
       "╞═════╪═════════════╪═════════════╪════════════╪═══╪════════════╪════════╪════════════╪════════════╡\n",
       "│ 0   ┆ 1f2c32d8-2d ┆ 0.000812    ┆ 0.004066   ┆ … ┆ 451.0      ┆ E      ┆ normal     ┆ false      │\n",
       "│     ┆ 6e-3b68-bc4 ┆             ┆            ┆   ┆            ┆        ┆            ┆            │\n",
       "│     ┆ 6-789469f2… ┆             ┆            ┆   ┆            ┆        ┆            ┆            │\n",
       "│ 1   ┆ 4c486414-d4 ┆ 0.000063    ┆ 0.002211   ┆ … ┆ 302.0      ┆ E      ┆ normal     ┆ false      │\n",
       "│     ┆ f5-33f6-b48 ┆             ┆            ┆   ┆            ┆        ┆            ┆            │\n",
       "│     ┆ 5-24a8ed29… ┆             ┆            ┆   ┆            ┆        ┆            ┆            │\n",
       "│ 2   ┆ 7e5838fc-bc ┆ 0.004481    ┆ 0.015324   ┆ … ┆ 354.0      ┆ E      ┆ normal     ┆ false      │\n",
       "│     ┆ e1-371f-a3a ┆             ┆            ┆   ┆            ┆        ┆            ┆            │\n",
       "│     ┆ c-d8a0b2a0… ┆             ┆            ┆   ┆            ┆        ┆            ┆            │\n",
       "│ 3   ┆ 82661ecd-d8 ┆ 0.017837    ┆ 0.014974   ┆ … ┆ 116.0      ┆ E      ┆ normal     ┆ false      │\n",
       "│     ┆ 7f-3dff-855 ┆             ┆            ┆   ┆            ┆        ┆            ┆            │\n",
       "│     ┆ e-378f7cb6… ┆             ┆            ┆   ┆            ┆        ┆            ┆            │\n",
       "│ 4   ┆ d62d56ea-77 ┆ 0.000797    ┆ 0.006056   ┆ … ┆ 23.0       ┆ E      ┆ normal     ┆ false      │\n",
       "│     ┆ 5e-328c-8b0 ┆             ┆            ┆   ┆            ┆        ┆            ┆            │\n",
       "│     ┆ 8-db7ad7f8… ┆             ┆            ┆   ┆            ┆        ┆            ┆            │\n",
       "└─────┴─────────────┴─────────────┴────────────┴───┴────────────┴────────┴────────────┴────────────┘"
      ]
     },
     "execution_count": 111,
     "metadata": {},
     "output_type": "execute_result"
    }
   ],
   "source": [
    "data = pl.read_parquet(\"../data/supervised_clean_data.parquet\")\n",
    "print(data.shape)\n",
    "data.head()"
   ]
  },
  {
   "cell_type": "markdown",
   "metadata": {},
   "source": [
    "## Univariate Analysis\n",
    "This section goes through the avilable columns and plots them  to see the distributions, outliers, etc. This is done to introduce the data set and to get you familiar with it"
   ]
  },
  {
   "cell_type": "code",
   "execution_count": 112,
   "metadata": {},
   "outputs": [
    {
     "data": {
      "application/vnd.plotly.v1+json": {
       "config": {
        "plotlyServerURL": "https://plot.ly"
       },
       "data": [
        {
         "alignmentgroup": "True",
         "cliponaxis": false,
         "hovertemplate": "ip_type=%{x}<br>Counts=%{y}<extra></extra>",
         "legendgroup": "",
         "marker": {
          "color": "rgb(133, 92, 117)",
          "pattern": {
           "shape": ""
          }
         },
         "name": "",
         "offsetgroup": "",
         "orientation": "v",
         "showlegend": false,
         "textangle": 0,
         "textfont": {
          "size": 12
         },
         "textposition": "outside",
         "texttemplate": "%{y}",
         "type": "bar",
         "x": [
          "default",
          "datacenter"
         ],
         "xaxis": "x",
         "y": [
          1542,
          153
         ],
         "yaxis": "y"
        }
       ],
       "layout": {
        "barmode": "relative",
        "legend": {
         "tracegroupgap": 0
        },
        "template": {
         "data": {
          "bar": [
           {
            "error_x": {
             "color": "#2a3f5f"
            },
            "error_y": {
             "color": "#2a3f5f"
            },
            "marker": {
             "line": {
              "color": "#E5ECF6",
              "width": 0.5
             },
             "pattern": {
              "fillmode": "overlay",
              "size": 10,
              "solidity": 0.2
             }
            },
            "type": "bar"
           }
          ],
          "barpolar": [
           {
            "marker": {
             "line": {
              "color": "#E5ECF6",
              "width": 0.5
             },
             "pattern": {
              "fillmode": "overlay",
              "size": 10,
              "solidity": 0.2
             }
            },
            "type": "barpolar"
           }
          ],
          "carpet": [
           {
            "aaxis": {
             "endlinecolor": "#2a3f5f",
             "gridcolor": "white",
             "linecolor": "white",
             "minorgridcolor": "white",
             "startlinecolor": "#2a3f5f"
            },
            "baxis": {
             "endlinecolor": "#2a3f5f",
             "gridcolor": "white",
             "linecolor": "white",
             "minorgridcolor": "white",
             "startlinecolor": "#2a3f5f"
            },
            "type": "carpet"
           }
          ],
          "choropleth": [
           {
            "colorbar": {
             "outlinewidth": 0,
             "ticks": ""
            },
            "type": "choropleth"
           }
          ],
          "contour": [
           {
            "colorbar": {
             "outlinewidth": 0,
             "ticks": ""
            },
            "colorscale": [
             [
              0,
              "#0d0887"
             ],
             [
              0.1111111111111111,
              "#46039f"
             ],
             [
              0.2222222222222222,
              "#7201a8"
             ],
             [
              0.3333333333333333,
              "#9c179e"
             ],
             [
              0.4444444444444444,
              "#bd3786"
             ],
             [
              0.5555555555555556,
              "#d8576b"
             ],
             [
              0.6666666666666666,
              "#ed7953"
             ],
             [
              0.7777777777777778,
              "#fb9f3a"
             ],
             [
              0.8888888888888888,
              "#fdca26"
             ],
             [
              1,
              "#f0f921"
             ]
            ],
            "type": "contour"
           }
          ],
          "contourcarpet": [
           {
            "colorbar": {
             "outlinewidth": 0,
             "ticks": ""
            },
            "type": "contourcarpet"
           }
          ],
          "heatmap": [
           {
            "colorbar": {
             "outlinewidth": 0,
             "ticks": ""
            },
            "colorscale": [
             [
              0,
              "#0d0887"
             ],
             [
              0.1111111111111111,
              "#46039f"
             ],
             [
              0.2222222222222222,
              "#7201a8"
             ],
             [
              0.3333333333333333,
              "#9c179e"
             ],
             [
              0.4444444444444444,
              "#bd3786"
             ],
             [
              0.5555555555555556,
              "#d8576b"
             ],
             [
              0.6666666666666666,
              "#ed7953"
             ],
             [
              0.7777777777777778,
              "#fb9f3a"
             ],
             [
              0.8888888888888888,
              "#fdca26"
             ],
             [
              1,
              "#f0f921"
             ]
            ],
            "type": "heatmap"
           }
          ],
          "heatmapgl": [
           {
            "colorbar": {
             "outlinewidth": 0,
             "ticks": ""
            },
            "colorscale": [
             [
              0,
              "#0d0887"
             ],
             [
              0.1111111111111111,
              "#46039f"
             ],
             [
              0.2222222222222222,
              "#7201a8"
             ],
             [
              0.3333333333333333,
              "#9c179e"
             ],
             [
              0.4444444444444444,
              "#bd3786"
             ],
             [
              0.5555555555555556,
              "#d8576b"
             ],
             [
              0.6666666666666666,
              "#ed7953"
             ],
             [
              0.7777777777777778,
              "#fb9f3a"
             ],
             [
              0.8888888888888888,
              "#fdca26"
             ],
             [
              1,
              "#f0f921"
             ]
            ],
            "type": "heatmapgl"
           }
          ],
          "histogram": [
           {
            "marker": {
             "pattern": {
              "fillmode": "overlay",
              "size": 10,
              "solidity": 0.2
             }
            },
            "type": "histogram"
           }
          ],
          "histogram2d": [
           {
            "colorbar": {
             "outlinewidth": 0,
             "ticks": ""
            },
            "colorscale": [
             [
              0,
              "#0d0887"
             ],
             [
              0.1111111111111111,
              "#46039f"
             ],
             [
              0.2222222222222222,
              "#7201a8"
             ],
             [
              0.3333333333333333,
              "#9c179e"
             ],
             [
              0.4444444444444444,
              "#bd3786"
             ],
             [
              0.5555555555555556,
              "#d8576b"
             ],
             [
              0.6666666666666666,
              "#ed7953"
             ],
             [
              0.7777777777777778,
              "#fb9f3a"
             ],
             [
              0.8888888888888888,
              "#fdca26"
             ],
             [
              1,
              "#f0f921"
             ]
            ],
            "type": "histogram2d"
           }
          ],
          "histogram2dcontour": [
           {
            "colorbar": {
             "outlinewidth": 0,
             "ticks": ""
            },
            "colorscale": [
             [
              0,
              "#0d0887"
             ],
             [
              0.1111111111111111,
              "#46039f"
             ],
             [
              0.2222222222222222,
              "#7201a8"
             ],
             [
              0.3333333333333333,
              "#9c179e"
             ],
             [
              0.4444444444444444,
              "#bd3786"
             ],
             [
              0.5555555555555556,
              "#d8576b"
             ],
             [
              0.6666666666666666,
              "#ed7953"
             ],
             [
              0.7777777777777778,
              "#fb9f3a"
             ],
             [
              0.8888888888888888,
              "#fdca26"
             ],
             [
              1,
              "#f0f921"
             ]
            ],
            "type": "histogram2dcontour"
           }
          ],
          "mesh3d": [
           {
            "colorbar": {
             "outlinewidth": 0,
             "ticks": ""
            },
            "type": "mesh3d"
           }
          ],
          "parcoords": [
           {
            "line": {
             "colorbar": {
              "outlinewidth": 0,
              "ticks": ""
             }
            },
            "type": "parcoords"
           }
          ],
          "pie": [
           {
            "automargin": true,
            "type": "pie"
           }
          ],
          "scatter": [
           {
            "fillpattern": {
             "fillmode": "overlay",
             "size": 10,
             "solidity": 0.2
            },
            "type": "scatter"
           }
          ],
          "scatter3d": [
           {
            "line": {
             "colorbar": {
              "outlinewidth": 0,
              "ticks": ""
             }
            },
            "marker": {
             "colorbar": {
              "outlinewidth": 0,
              "ticks": ""
             }
            },
            "type": "scatter3d"
           }
          ],
          "scattercarpet": [
           {
            "marker": {
             "colorbar": {
              "outlinewidth": 0,
              "ticks": ""
             }
            },
            "type": "scattercarpet"
           }
          ],
          "scattergeo": [
           {
            "marker": {
             "colorbar": {
              "outlinewidth": 0,
              "ticks": ""
             }
            },
            "type": "scattergeo"
           }
          ],
          "scattergl": [
           {
            "marker": {
             "colorbar": {
              "outlinewidth": 0,
              "ticks": ""
             }
            },
            "type": "scattergl"
           }
          ],
          "scattermapbox": [
           {
            "marker": {
             "colorbar": {
              "outlinewidth": 0,
              "ticks": ""
             }
            },
            "type": "scattermapbox"
           }
          ],
          "scatterpolar": [
           {
            "marker": {
             "colorbar": {
              "outlinewidth": 0,
              "ticks": ""
             }
            },
            "type": "scatterpolar"
           }
          ],
          "scatterpolargl": [
           {
            "marker": {
             "colorbar": {
              "outlinewidth": 0,
              "ticks": ""
             }
            },
            "type": "scatterpolargl"
           }
          ],
          "scatterternary": [
           {
            "marker": {
             "colorbar": {
              "outlinewidth": 0,
              "ticks": ""
             }
            },
            "type": "scatterternary"
           }
          ],
          "surface": [
           {
            "colorbar": {
             "outlinewidth": 0,
             "ticks": ""
            },
            "colorscale": [
             [
              0,
              "#0d0887"
             ],
             [
              0.1111111111111111,
              "#46039f"
             ],
             [
              0.2222222222222222,
              "#7201a8"
             ],
             [
              0.3333333333333333,
              "#9c179e"
             ],
             [
              0.4444444444444444,
              "#bd3786"
             ],
             [
              0.5555555555555556,
              "#d8576b"
             ],
             [
              0.6666666666666666,
              "#ed7953"
             ],
             [
              0.7777777777777778,
              "#fb9f3a"
             ],
             [
              0.8888888888888888,
              "#fdca26"
             ],
             [
              1,
              "#f0f921"
             ]
            ],
            "type": "surface"
           }
          ],
          "table": [
           {
            "cells": {
             "fill": {
              "color": "#EBF0F8"
             },
             "line": {
              "color": "white"
             }
            },
            "header": {
             "fill": {
              "color": "#C8D4E3"
             },
             "line": {
              "color": "white"
             }
            },
            "type": "table"
           }
          ]
         },
         "layout": {
          "annotationdefaults": {
           "arrowcolor": "#2a3f5f",
           "arrowhead": 0,
           "arrowwidth": 1
          },
          "autotypenumbers": "strict",
          "coloraxis": {
           "colorbar": {
            "outlinewidth": 0,
            "ticks": ""
           }
          },
          "colorscale": {
           "diverging": [
            [
             0,
             "#8e0152"
            ],
            [
             0.1,
             "#c51b7d"
            ],
            [
             0.2,
             "#de77ae"
            ],
            [
             0.3,
             "#f1b6da"
            ],
            [
             0.4,
             "#fde0ef"
            ],
            [
             0.5,
             "#f7f7f7"
            ],
            [
             0.6,
             "#e6f5d0"
            ],
            [
             0.7,
             "#b8e186"
            ],
            [
             0.8,
             "#7fbc41"
            ],
            [
             0.9,
             "#4d9221"
            ],
            [
             1,
             "#276419"
            ]
           ],
           "sequential": [
            [
             0,
             "#0d0887"
            ],
            [
             0.1111111111111111,
             "#46039f"
            ],
            [
             0.2222222222222222,
             "#7201a8"
            ],
            [
             0.3333333333333333,
             "#9c179e"
            ],
            [
             0.4444444444444444,
             "#bd3786"
            ],
            [
             0.5555555555555556,
             "#d8576b"
            ],
            [
             0.6666666666666666,
             "#ed7953"
            ],
            [
             0.7777777777777778,
             "#fb9f3a"
            ],
            [
             0.8888888888888888,
             "#fdca26"
            ],
            [
             1,
             "#f0f921"
            ]
           ],
           "sequentialminus": [
            [
             0,
             "#0d0887"
            ],
            [
             0.1111111111111111,
             "#46039f"
            ],
            [
             0.2222222222222222,
             "#7201a8"
            ],
            [
             0.3333333333333333,
             "#9c179e"
            ],
            [
             0.4444444444444444,
             "#bd3786"
            ],
            [
             0.5555555555555556,
             "#d8576b"
            ],
            [
             0.6666666666666666,
             "#ed7953"
            ],
            [
             0.7777777777777778,
             "#fb9f3a"
            ],
            [
             0.8888888888888888,
             "#fdca26"
            ],
            [
             1,
             "#f0f921"
            ]
           ]
          },
          "colorway": [
           "#636efa",
           "#EF553B",
           "#00cc96",
           "#ab63fa",
           "#FFA15A",
           "#19d3f3",
           "#FF6692",
           "#B6E880",
           "#FF97FF",
           "#FECB52"
          ],
          "font": {
           "color": "#2a3f5f"
          },
          "geo": {
           "bgcolor": "white",
           "lakecolor": "white",
           "landcolor": "#E5ECF6",
           "showlakes": true,
           "showland": true,
           "subunitcolor": "white"
          },
          "hoverlabel": {
           "align": "left"
          },
          "hovermode": "closest",
          "mapbox": {
           "style": "light"
          },
          "paper_bgcolor": "white",
          "plot_bgcolor": "#E5ECF6",
          "polar": {
           "angularaxis": {
            "gridcolor": "white",
            "linecolor": "white",
            "ticks": ""
           },
           "bgcolor": "#E5ECF6",
           "radialaxis": {
            "gridcolor": "white",
            "linecolor": "white",
            "ticks": ""
           }
          },
          "scene": {
           "xaxis": {
            "backgroundcolor": "#E5ECF6",
            "gridcolor": "white",
            "gridwidth": 2,
            "linecolor": "white",
            "showbackground": true,
            "ticks": "",
            "zerolinecolor": "white"
           },
           "yaxis": {
            "backgroundcolor": "#E5ECF6",
            "gridcolor": "white",
            "gridwidth": 2,
            "linecolor": "white",
            "showbackground": true,
            "ticks": "",
            "zerolinecolor": "white"
           },
           "zaxis": {
            "backgroundcolor": "#E5ECF6",
            "gridcolor": "white",
            "gridwidth": 2,
            "linecolor": "white",
            "showbackground": true,
            "ticks": "",
            "zerolinecolor": "white"
           }
          },
          "shapedefaults": {
           "line": {
            "color": "#2a3f5f"
           }
          },
          "ternary": {
           "aaxis": {
            "gridcolor": "white",
            "linecolor": "white",
            "ticks": ""
           },
           "baxis": {
            "gridcolor": "white",
            "linecolor": "white",
            "ticks": ""
           },
           "bgcolor": "#E5ECF6",
           "caxis": {
            "gridcolor": "white",
            "linecolor": "white",
            "ticks": ""
           }
          },
          "title": {
           "x": 0.05
          },
          "xaxis": {
           "automargin": true,
           "gridcolor": "white",
           "linecolor": "white",
           "ticks": "",
           "title": {
            "standoff": 15
           },
           "zerolinecolor": "white",
           "zerolinewidth": 2
          },
          "yaxis": {
           "automargin": true,
           "gridcolor": "white",
           "linecolor": "white",
           "ticks": "",
           "title": {
            "standoff": 15
           },
           "zerolinecolor": "white",
           "zerolinewidth": 2
          }
         }
        },
        "title": {
         "text": "IP Type Counts"
        },
        "xaxis": {
         "anchor": "y",
         "domain": [
          0,
          1
         ],
         "title": {
          "text": "ip_type"
         }
        },
        "yaxis": {
         "anchor": "x",
         "domain": [
          0,
          1
         ],
         "title": {
          "text": "Counts"
         }
        }
       }
      }
     },
     "metadata": {},
     "output_type": "display_data"
    }
   ],
   "source": [
    "bar_plot(data, \"ip_type\", \"IP Type Counts\",)"
   ]
  },
  {
   "cell_type": "markdown",
   "metadata": {},
   "source": [
    "**Observations:**\n",
    "* There are just two ip types - `default` and `datacenter`, with `datacenter` being the most frequent one"
   ]
  },
  {
   "cell_type": "markdown",
   "metadata": {},
   "source": [
    "## Features vs Target"
   ]
  },
  {
   "cell_type": "markdown",
   "metadata": {},
   "source": [
    "This section performs a bi-variate analysis by looking at the distributions of normal vs outliers. This can help in determining what data and feature selection to perform."
   ]
  },
  {
   "cell_type": "code",
   "execution_count": 113,
   "metadata": {},
   "outputs": [
    {
     "data": {
      "application/vnd.plotly.v1+json": {
       "config": {
        "plotlyServerURL": "https://plot.ly"
       },
       "data": [
        {
         "alignmentgroup": "True",
         "cliponaxis": false,
         "hovertemplate": "color=True<br>ip_type=%{x}<br>is_anomaly proportion=%{y}<extra></extra>",
         "legendgroup": "True",
         "marker": {
          "color": "rgb(133, 92, 117)",
          "pattern": {
           "shape": ""
          }
         },
         "name": "True",
         "offsetgroup": "True",
         "orientation": "v",
         "showlegend": true,
         "textangle": 0,
         "textfont": {
          "size": 12
         },
         "textposition": "outside",
         "type": "bar",
         "x": [
          "datacenter",
          "default"
         ],
         "xaxis": "x",
         "y": [
          1,
          0.2827496757457847
         ],
         "yaxis": "y"
        },
        {
         "alignmentgroup": "True",
         "cliponaxis": false,
         "hovertemplate": "color=False<br>ip_type=%{x}<br>is_anomaly proportion=%{y}<extra></extra>",
         "legendgroup": "False",
         "marker": {
          "color": "rgb(217, 175, 107)",
          "pattern": {
           "shape": ""
          }
         },
         "name": "False",
         "offsetgroup": "False",
         "orientation": "v",
         "showlegend": true,
         "textangle": 0,
         "textfont": {
          "size": 12
         },
         "textposition": "outside",
         "type": "bar",
         "x": [
          "default"
         ],
         "xaxis": "x",
         "y": [
          0.7172503242542153
         ],
         "yaxis": "y"
        }
       ],
       "layout": {
        "barmode": "relative",
        "legend": {
         "title": {
          "text": "color"
         },
         "tracegroupgap": 0
        },
        "template": {
         "data": {
          "bar": [
           {
            "error_x": {
             "color": "#2a3f5f"
            },
            "error_y": {
             "color": "#2a3f5f"
            },
            "marker": {
             "line": {
              "color": "#E5ECF6",
              "width": 0.5
             },
             "pattern": {
              "fillmode": "overlay",
              "size": 10,
              "solidity": 0.2
             }
            },
            "type": "bar"
           }
          ],
          "barpolar": [
           {
            "marker": {
             "line": {
              "color": "#E5ECF6",
              "width": 0.5
             },
             "pattern": {
              "fillmode": "overlay",
              "size": 10,
              "solidity": 0.2
             }
            },
            "type": "barpolar"
           }
          ],
          "carpet": [
           {
            "aaxis": {
             "endlinecolor": "#2a3f5f",
             "gridcolor": "white",
             "linecolor": "white",
             "minorgridcolor": "white",
             "startlinecolor": "#2a3f5f"
            },
            "baxis": {
             "endlinecolor": "#2a3f5f",
             "gridcolor": "white",
             "linecolor": "white",
             "minorgridcolor": "white",
             "startlinecolor": "#2a3f5f"
            },
            "type": "carpet"
           }
          ],
          "choropleth": [
           {
            "colorbar": {
             "outlinewidth": 0,
             "ticks": ""
            },
            "type": "choropleth"
           }
          ],
          "contour": [
           {
            "colorbar": {
             "outlinewidth": 0,
             "ticks": ""
            },
            "colorscale": [
             [
              0,
              "#0d0887"
             ],
             [
              0.1111111111111111,
              "#46039f"
             ],
             [
              0.2222222222222222,
              "#7201a8"
             ],
             [
              0.3333333333333333,
              "#9c179e"
             ],
             [
              0.4444444444444444,
              "#bd3786"
             ],
             [
              0.5555555555555556,
              "#d8576b"
             ],
             [
              0.6666666666666666,
              "#ed7953"
             ],
             [
              0.7777777777777778,
              "#fb9f3a"
             ],
             [
              0.8888888888888888,
              "#fdca26"
             ],
             [
              1,
              "#f0f921"
             ]
            ],
            "type": "contour"
           }
          ],
          "contourcarpet": [
           {
            "colorbar": {
             "outlinewidth": 0,
             "ticks": ""
            },
            "type": "contourcarpet"
           }
          ],
          "heatmap": [
           {
            "colorbar": {
             "outlinewidth": 0,
             "ticks": ""
            },
            "colorscale": [
             [
              0,
              "#0d0887"
             ],
             [
              0.1111111111111111,
              "#46039f"
             ],
             [
              0.2222222222222222,
              "#7201a8"
             ],
             [
              0.3333333333333333,
              "#9c179e"
             ],
             [
              0.4444444444444444,
              "#bd3786"
             ],
             [
              0.5555555555555556,
              "#d8576b"
             ],
             [
              0.6666666666666666,
              "#ed7953"
             ],
             [
              0.7777777777777778,
              "#fb9f3a"
             ],
             [
              0.8888888888888888,
              "#fdca26"
             ],
             [
              1,
              "#f0f921"
             ]
            ],
            "type": "heatmap"
           }
          ],
          "heatmapgl": [
           {
            "colorbar": {
             "outlinewidth": 0,
             "ticks": ""
            },
            "colorscale": [
             [
              0,
              "#0d0887"
             ],
             [
              0.1111111111111111,
              "#46039f"
             ],
             [
              0.2222222222222222,
              "#7201a8"
             ],
             [
              0.3333333333333333,
              "#9c179e"
             ],
             [
              0.4444444444444444,
              "#bd3786"
             ],
             [
              0.5555555555555556,
              "#d8576b"
             ],
             [
              0.6666666666666666,
              "#ed7953"
             ],
             [
              0.7777777777777778,
              "#fb9f3a"
             ],
             [
              0.8888888888888888,
              "#fdca26"
             ],
             [
              1,
              "#f0f921"
             ]
            ],
            "type": "heatmapgl"
           }
          ],
          "histogram": [
           {
            "marker": {
             "pattern": {
              "fillmode": "overlay",
              "size": 10,
              "solidity": 0.2
             }
            },
            "type": "histogram"
           }
          ],
          "histogram2d": [
           {
            "colorbar": {
             "outlinewidth": 0,
             "ticks": ""
            },
            "colorscale": [
             [
              0,
              "#0d0887"
             ],
             [
              0.1111111111111111,
              "#46039f"
             ],
             [
              0.2222222222222222,
              "#7201a8"
             ],
             [
              0.3333333333333333,
              "#9c179e"
             ],
             [
              0.4444444444444444,
              "#bd3786"
             ],
             [
              0.5555555555555556,
              "#d8576b"
             ],
             [
              0.6666666666666666,
              "#ed7953"
             ],
             [
              0.7777777777777778,
              "#fb9f3a"
             ],
             [
              0.8888888888888888,
              "#fdca26"
             ],
             [
              1,
              "#f0f921"
             ]
            ],
            "type": "histogram2d"
           }
          ],
          "histogram2dcontour": [
           {
            "colorbar": {
             "outlinewidth": 0,
             "ticks": ""
            },
            "colorscale": [
             [
              0,
              "#0d0887"
             ],
             [
              0.1111111111111111,
              "#46039f"
             ],
             [
              0.2222222222222222,
              "#7201a8"
             ],
             [
              0.3333333333333333,
              "#9c179e"
             ],
             [
              0.4444444444444444,
              "#bd3786"
             ],
             [
              0.5555555555555556,
              "#d8576b"
             ],
             [
              0.6666666666666666,
              "#ed7953"
             ],
             [
              0.7777777777777778,
              "#fb9f3a"
             ],
             [
              0.8888888888888888,
              "#fdca26"
             ],
             [
              1,
              "#f0f921"
             ]
            ],
            "type": "histogram2dcontour"
           }
          ],
          "mesh3d": [
           {
            "colorbar": {
             "outlinewidth": 0,
             "ticks": ""
            },
            "type": "mesh3d"
           }
          ],
          "parcoords": [
           {
            "line": {
             "colorbar": {
              "outlinewidth": 0,
              "ticks": ""
             }
            },
            "type": "parcoords"
           }
          ],
          "pie": [
           {
            "automargin": true,
            "type": "pie"
           }
          ],
          "scatter": [
           {
            "fillpattern": {
             "fillmode": "overlay",
             "size": 10,
             "solidity": 0.2
            },
            "type": "scatter"
           }
          ],
          "scatter3d": [
           {
            "line": {
             "colorbar": {
              "outlinewidth": 0,
              "ticks": ""
             }
            },
            "marker": {
             "colorbar": {
              "outlinewidth": 0,
              "ticks": ""
             }
            },
            "type": "scatter3d"
           }
          ],
          "scattercarpet": [
           {
            "marker": {
             "colorbar": {
              "outlinewidth": 0,
              "ticks": ""
             }
            },
            "type": "scattercarpet"
           }
          ],
          "scattergeo": [
           {
            "marker": {
             "colorbar": {
              "outlinewidth": 0,
              "ticks": ""
             }
            },
            "type": "scattergeo"
           }
          ],
          "scattergl": [
           {
            "marker": {
             "colorbar": {
              "outlinewidth": 0,
              "ticks": ""
             }
            },
            "type": "scattergl"
           }
          ],
          "scattermapbox": [
           {
            "marker": {
             "colorbar": {
              "outlinewidth": 0,
              "ticks": ""
             }
            },
            "type": "scattermapbox"
           }
          ],
          "scatterpolar": [
           {
            "marker": {
             "colorbar": {
              "outlinewidth": 0,
              "ticks": ""
             }
            },
            "type": "scatterpolar"
           }
          ],
          "scatterpolargl": [
           {
            "marker": {
             "colorbar": {
              "outlinewidth": 0,
              "ticks": ""
             }
            },
            "type": "scatterpolargl"
           }
          ],
          "scatterternary": [
           {
            "marker": {
             "colorbar": {
              "outlinewidth": 0,
              "ticks": ""
             }
            },
            "type": "scatterternary"
           }
          ],
          "surface": [
           {
            "colorbar": {
             "outlinewidth": 0,
             "ticks": ""
            },
            "colorscale": [
             [
              0,
              "#0d0887"
             ],
             [
              0.1111111111111111,
              "#46039f"
             ],
             [
              0.2222222222222222,
              "#7201a8"
             ],
             [
              0.3333333333333333,
              "#9c179e"
             ],
             [
              0.4444444444444444,
              "#bd3786"
             ],
             [
              0.5555555555555556,
              "#d8576b"
             ],
             [
              0.6666666666666666,
              "#ed7953"
             ],
             [
              0.7777777777777778,
              "#fb9f3a"
             ],
             [
              0.8888888888888888,
              "#fdca26"
             ],
             [
              1,
              "#f0f921"
             ]
            ],
            "type": "surface"
           }
          ],
          "table": [
           {
            "cells": {
             "fill": {
              "color": "#EBF0F8"
             },
             "line": {
              "color": "white"
             }
            },
            "header": {
             "fill": {
              "color": "#C8D4E3"
             },
             "line": {
              "color": "white"
             }
            },
            "type": "table"
           }
          ]
         },
         "layout": {
          "annotationdefaults": {
           "arrowcolor": "#2a3f5f",
           "arrowhead": 0,
           "arrowwidth": 1
          },
          "autotypenumbers": "strict",
          "coloraxis": {
           "colorbar": {
            "outlinewidth": 0,
            "ticks": ""
           }
          },
          "colorscale": {
           "diverging": [
            [
             0,
             "#8e0152"
            ],
            [
             0.1,
             "#c51b7d"
            ],
            [
             0.2,
             "#de77ae"
            ],
            [
             0.3,
             "#f1b6da"
            ],
            [
             0.4,
             "#fde0ef"
            ],
            [
             0.5,
             "#f7f7f7"
            ],
            [
             0.6,
             "#e6f5d0"
            ],
            [
             0.7,
             "#b8e186"
            ],
            [
             0.8,
             "#7fbc41"
            ],
            [
             0.9,
             "#4d9221"
            ],
            [
             1,
             "#276419"
            ]
           ],
           "sequential": [
            [
             0,
             "#0d0887"
            ],
            [
             0.1111111111111111,
             "#46039f"
            ],
            [
             0.2222222222222222,
             "#7201a8"
            ],
            [
             0.3333333333333333,
             "#9c179e"
            ],
            [
             0.4444444444444444,
             "#bd3786"
            ],
            [
             0.5555555555555556,
             "#d8576b"
            ],
            [
             0.6666666666666666,
             "#ed7953"
            ],
            [
             0.7777777777777778,
             "#fb9f3a"
            ],
            [
             0.8888888888888888,
             "#fdca26"
            ],
            [
             1,
             "#f0f921"
            ]
           ],
           "sequentialminus": [
            [
             0,
             "#0d0887"
            ],
            [
             0.1111111111111111,
             "#46039f"
            ],
            [
             0.2222222222222222,
             "#7201a8"
            ],
            [
             0.3333333333333333,
             "#9c179e"
            ],
            [
             0.4444444444444444,
             "#bd3786"
            ],
            [
             0.5555555555555556,
             "#d8576b"
            ],
            [
             0.6666666666666666,
             "#ed7953"
            ],
            [
             0.7777777777777778,
             "#fb9f3a"
            ],
            [
             0.8888888888888888,
             "#fdca26"
            ],
            [
             1,
             "#f0f921"
            ]
           ]
          },
          "colorway": [
           "#636efa",
           "#EF553B",
           "#00cc96",
           "#ab63fa",
           "#FFA15A",
           "#19d3f3",
           "#FF6692",
           "#B6E880",
           "#FF97FF",
           "#FECB52"
          ],
          "font": {
           "color": "#2a3f5f"
          },
          "geo": {
           "bgcolor": "white",
           "lakecolor": "white",
           "landcolor": "#E5ECF6",
           "showlakes": true,
           "showland": true,
           "subunitcolor": "white"
          },
          "hoverlabel": {
           "align": "left"
          },
          "hovermode": "closest",
          "mapbox": {
           "style": "light"
          },
          "paper_bgcolor": "white",
          "plot_bgcolor": "#E5ECF6",
          "polar": {
           "angularaxis": {
            "gridcolor": "white",
            "linecolor": "white",
            "ticks": ""
           },
           "bgcolor": "#E5ECF6",
           "radialaxis": {
            "gridcolor": "white",
            "linecolor": "white",
            "ticks": ""
           }
          },
          "scene": {
           "xaxis": {
            "backgroundcolor": "#E5ECF6",
            "gridcolor": "white",
            "gridwidth": 2,
            "linecolor": "white",
            "showbackground": true,
            "ticks": "",
            "zerolinecolor": "white"
           },
           "yaxis": {
            "backgroundcolor": "#E5ECF6",
            "gridcolor": "white",
            "gridwidth": 2,
            "linecolor": "white",
            "showbackground": true,
            "ticks": "",
            "zerolinecolor": "white"
           },
           "zaxis": {
            "backgroundcolor": "#E5ECF6",
            "gridcolor": "white",
            "gridwidth": 2,
            "linecolor": "white",
            "showbackground": true,
            "ticks": "",
            "zerolinecolor": "white"
           }
          },
          "shapedefaults": {
           "line": {
            "color": "#2a3f5f"
           }
          },
          "ternary": {
           "aaxis": {
            "gridcolor": "white",
            "linecolor": "white",
            "ticks": ""
           },
           "baxis": {
            "gridcolor": "white",
            "linecolor": "white",
            "ticks": ""
           },
           "bgcolor": "#E5ECF6",
           "caxis": {
            "gridcolor": "white",
            "linecolor": "white",
            "ticks": ""
           }
          },
          "title": {
           "x": 0.05
          },
          "xaxis": {
           "automargin": true,
           "gridcolor": "white",
           "linecolor": "white",
           "ticks": "",
           "title": {
            "standoff": 15
           },
           "zerolinecolor": "white",
           "zerolinewidth": 2
          },
          "yaxis": {
           "automargin": true,
           "gridcolor": "white",
           "linecolor": "white",
           "ticks": "",
           "title": {
            "standoff": 15
           },
           "zerolinecolor": "white",
           "zerolinewidth": 2
          }
         }
        },
        "title": {
         "text": "Behaviour Type by Source"
        },
        "xaxis": {
         "anchor": "y",
         "domain": [
          0,
          1
         ],
         "title": {
          "text": "ip_type"
         }
        },
        "yaxis": {
         "anchor": "x",
         "domain": [
          0,
          1
         ],
         "title": {
          "text": "is_anomaly proportion"
         }
        }
       }
      }
     },
     "metadata": {},
     "output_type": "display_data"
    }
   ],
   "source": [
    "proportion_plot(data, \"ip_type\", \"is_anomaly\", \"Behaviour Type by Source\")"
   ]
  },
  {
   "cell_type": "markdown",
   "metadata": {},
   "source": [
    "**Observations:**\n",
    "* If the acitivty comes from a `datacenter`, it's guaranteed to be an outlier\n",
    "\n",
    "**Impact**\n",
    "* The dataset needs to be filtered to include only `default` traffic since we don't need a model to classify `datacenter` traffic"
   ]
  },
  {
   "cell_type": "code",
   "execution_count": null,
   "metadata": {},
   "outputs": [],
   "source": []
  },
  {
   "cell_type": "markdown",
   "metadata": {},
   "source": [
    "## Hypotheses\n",
    "This section is for you to showcase your analytical skill and to ask interesting questions."
   ]
  },
  {
   "cell_type": "markdown",
   "metadata": {},
   "source": [
    "### Are longer sessions with high speed inter API calls more anomalous?\n",
    "It's usually the case that if a lot of events happen in a short period of time - this might signal bot or other malicious activity. Let's see if it's the case for this dataset"
   ]
  },
  {
   "cell_type": "code",
   "execution_count": 114,
   "metadata": {},
   "outputs": [
    {
     "data": {
      "application/vnd.plotly.v1+json": {
       "config": {
        "plotlyServerURL": "https://plot.ly"
       },
       "data": [
        {
         "alignmentgroup": "True",
         "hovertemplate": "color=False<br>=%{x}<br>inter_api_access_duration(sec)=%{y}<extra></extra>",
         "legendgroup": "False",
         "marker": {
          "color": "rgb(133, 92, 117)"
         },
         "name": "False",
         "notched": false,
         "offsetgroup": "False",
         "orientation": "v",
         "showlegend": true,
         "type": "box",
         "x": [
          "(51.756000000000014, 87.9065420560748]",
          "(14.169145299145299, 17.130681818181817]",
          "(87.9065420560748, inf]",
          "(51.756000000000014, 87.9065420560748]",
          "(14.169145299145299, 17.130681818181817]",
          "(87.9065420560748, inf]",
          "(87.9065420560748, inf]",
          "(51.756000000000014, 87.9065420560748]",
          "(5.976, 8.680770741122833]",
          "(51.756000000000014, 87.9065420560748]",
          "(5.976, 8.680770741122833]",
          "(14.169145299145299, 17.130681818181817]",
          "(17.130681818181817, 21]",
          "(51.756000000000014, 87.9065420560748]",
          "(17.130681818181817, 21]",
          "(5.976, 8.680770741122833]",
          "(21, 33.93583302568712]",
          "(17.130681818181817, 21]",
          "(5.976, 8.680770741122833]",
          "(51.756000000000014, 87.9065420560748]",
          "(14.169145299145299, 17.130681818181817]",
          "(17.130681818181817, 21]",
          "(17.130681818181817, 21]",
          "(51.756000000000014, 87.9065420560748]",
          "(51.756000000000014, 87.9065420560748]",
          "(21, 33.93583302568712]",
          "(11.210478375992938, 14.169145299145299]",
          "(5.976, 8.680770741122833]",
          "(5.976, 8.680770741122833]",
          "(21, 33.93583302568712]",
          "(87.9065420560748, inf]",
          "(33.93583302568712, 51.756000000000014]",
          "(33.93583302568712, 51.756000000000014]",
          "(14.169145299145299, 17.130681818181817]",
          "(33.93583302568712, 51.756000000000014]",
          "(51.756000000000014, 87.9065420560748]",
          "(21, 33.93583302568712]",
          "(21, 33.93583302568712]",
          "(-inf, 5.976]",
          "(21, 33.93583302568712]",
          "(87.9065420560748, inf]",
          "(14.169145299145299, 17.130681818181817]",
          "(21, 33.93583302568712]",
          "(51.756000000000014, 87.9065420560748]",
          "(51.756000000000014, 87.9065420560748]",
          "(11.210478375992938, 14.169145299145299]",
          "(5.976, 8.680770741122833]",
          "(21, 33.93583302568712]",
          "(33.93583302568712, 51.756000000000014]",
          "(17.130681818181817, 21]",
          "(51.756000000000014, 87.9065420560748]",
          "(33.93583302568712, 51.756000000000014]",
          "(51.756000000000014, 87.9065420560748]",
          "(8.680770741122833, 11.210478375992938]",
          "(33.93583302568712, 51.756000000000014]",
          "(33.93583302568712, 51.756000000000014]",
          "(8.680770741122833, 11.210478375992938]",
          "(21, 33.93583302568712]",
          "(5.976, 8.680770741122833]",
          "(33.93583302568712, 51.756000000000014]",
          "(21, 33.93583302568712]",
          "(5.976, 8.680770741122833]",
          "(51.756000000000014, 87.9065420560748]",
          "(8.680770741122833, 11.210478375992938]",
          "(87.9065420560748, inf]",
          "(14.169145299145299, 17.130681818181817]",
          "(17.130681818181817, 21]",
          "(11.210478375992938, 14.169145299145299]",
          "(21, 33.93583302568712]",
          "(17.130681818181817, 21]",
          "(87.9065420560748, inf]",
          "(17.130681818181817, 21]",
          "(5.976, 8.680770741122833]",
          "(17.130681818181817, 21]",
          "(21, 33.93583302568712]",
          "(51.756000000000014, 87.9065420560748]",
          "(14.169145299145299, 17.130681818181817]",
          "(14.169145299145299, 17.130681818181817]",
          "(-inf, 5.976]",
          "(17.130681818181817, 21]",
          "(14.169145299145299, 17.130681818181817]",
          "(14.169145299145299, 17.130681818181817]",
          "(87.9065420560748, inf]",
          "(11.210478375992938, 14.169145299145299]",
          "(51.756000000000014, 87.9065420560748]",
          "(33.93583302568712, 51.756000000000014]",
          "(5.976, 8.680770741122833]",
          "(5.976, 8.680770741122833]",
          "(-inf, 5.976]",
          "(51.756000000000014, 87.9065420560748]",
          "(51.756000000000014, 87.9065420560748]",
          "(11.210478375992938, 14.169145299145299]",
          "(21, 33.93583302568712]",
          "(17.130681818181817, 21]",
          "(33.93583302568712, 51.756000000000014]",
          "(8.680770741122833, 11.210478375992938]",
          "(51.756000000000014, 87.9065420560748]",
          "(5.976, 8.680770741122833]",
          "(17.130681818181817, 21]",
          "(11.210478375992938, 14.169145299145299]",
          "(51.756000000000014, 87.9065420560748]",
          "(14.169145299145299, 17.130681818181817]",
          "(21, 33.93583302568712]",
          "(21, 33.93583302568712]",
          "(17.130681818181817, 21]",
          "(33.93583302568712, 51.756000000000014]",
          "(33.93583302568712, 51.756000000000014]",
          "(51.756000000000014, 87.9065420560748]",
          "(87.9065420560748, inf]",
          "(14.169145299145299, 17.130681818181817]",
          "(5.976, 8.680770741122833]",
          "(8.680770741122833, 11.210478375992938]",
          "(8.680770741122833, 11.210478375992938]",
          "(51.756000000000014, 87.9065420560748]",
          "(5.976, 8.680770741122833]",
          "(5.976, 8.680770741122833]",
          "(8.680770741122833, 11.210478375992938]",
          "(33.93583302568712, 51.756000000000014]",
          "(87.9065420560748, inf]",
          "(11.210478375992938, 14.169145299145299]",
          "(14.169145299145299, 17.130681818181817]",
          "(51.756000000000014, 87.9065420560748]",
          "(33.93583302568712, 51.756000000000014]",
          "(33.93583302568712, 51.756000000000014]",
          "(87.9065420560748, inf]",
          "(21, 33.93583302568712]",
          "(5.976, 8.680770741122833]",
          "(17.130681818181817, 21]",
          "(5.976, 8.680770741122833]",
          "(51.756000000000014, 87.9065420560748]",
          "(21, 33.93583302568712]",
          "(17.130681818181817, 21]",
          "(87.9065420560748, inf]",
          "(17.130681818181817, 21]",
          "(17.130681818181817, 21]",
          "(17.130681818181817, 21]",
          "(11.210478375992938, 14.169145299145299]",
          "(51.756000000000014, 87.9065420560748]",
          "(33.93583302568712, 51.756000000000014]",
          "(14.169145299145299, 17.130681818181817]",
          "(21, 33.93583302568712]",
          "(17.130681818181817, 21]",
          "(14.169145299145299, 17.130681818181817]",
          "(33.93583302568712, 51.756000000000014]",
          "(14.169145299145299, 17.130681818181817]",
          "(51.756000000000014, 87.9065420560748]",
          "(-inf, 5.976]",
          "(21, 33.93583302568712]",
          "(11.210478375992938, 14.169145299145299]",
          "(51.756000000000014, 87.9065420560748]",
          "(14.169145299145299, 17.130681818181817]",
          "(5.976, 8.680770741122833]",
          "(17.130681818181817, 21]",
          "(33.93583302568712, 51.756000000000014]",
          "(5.976, 8.680770741122833]",
          "(8.680770741122833, 11.210478375992938]",
          "(33.93583302568712, 51.756000000000014]",
          "(51.756000000000014, 87.9065420560748]",
          "(11.210478375992938, 14.169145299145299]",
          "(-inf, 5.976]",
          "(21, 33.93583302568712]",
          "(11.210478375992938, 14.169145299145299]",
          "(17.130681818181817, 21]",
          "(33.93583302568712, 51.756000000000014]",
          "(21, 33.93583302568712]",
          "(21, 33.93583302568712]",
          "(14.169145299145299, 17.130681818181817]",
          "(21, 33.93583302568712]",
          "(51.756000000000014, 87.9065420560748]",
          "(33.93583302568712, 51.756000000000014]",
          "(87.9065420560748, inf]",
          "(5.976, 8.680770741122833]",
          "(51.756000000000014, 87.9065420560748]",
          "(14.169145299145299, 17.130681818181817]",
          "(14.169145299145299, 17.130681818181817]",
          "(14.169145299145299, 17.130681818181817]",
          "(33.93583302568712, 51.756000000000014]",
          "(8.680770741122833, 11.210478375992938]",
          "(33.93583302568712, 51.756000000000014]",
          "(33.93583302568712, 51.756000000000014]",
          "(17.130681818181817, 21]",
          "(11.210478375992938, 14.169145299145299]",
          "(11.210478375992938, 14.169145299145299]",
          "(17.130681818181817, 21]",
          "(14.169145299145299, 17.130681818181817]",
          "(14.169145299145299, 17.130681818181817]",
          "(8.680770741122833, 11.210478375992938]",
          "(8.680770741122833, 11.210478375992938]",
          "(14.169145299145299, 17.130681818181817]",
          "(51.756000000000014, 87.9065420560748]",
          "(5.976, 8.680770741122833]",
          "(8.680770741122833, 11.210478375992938]",
          "(14.169145299145299, 17.130681818181817]",
          "(14.169145299145299, 17.130681818181817]",
          "(11.210478375992938, 14.169145299145299]",
          "(21, 33.93583302568712]",
          "(21, 33.93583302568712]",
          "(33.93583302568712, 51.756000000000014]",
          "(11.210478375992938, 14.169145299145299]",
          "(8.680770741122833, 11.210478375992938]",
          "(87.9065420560748, inf]",
          "(51.756000000000014, 87.9065420560748]",
          "(14.169145299145299, 17.130681818181817]",
          "(17.130681818181817, 21]",
          "(14.169145299145299, 17.130681818181817]",
          "(14.169145299145299, 17.130681818181817]",
          "(17.130681818181817, 21]",
          "(33.93583302568712, 51.756000000000014]",
          "(33.93583302568712, 51.756000000000014]",
          "(8.680770741122833, 11.210478375992938]",
          "(51.756000000000014, 87.9065420560748]",
          "(17.130681818181817, 21]",
          "(11.210478375992938, 14.169145299145299]",
          "(51.756000000000014, 87.9065420560748]",
          "(87.9065420560748, inf]",
          "(14.169145299145299, 17.130681818181817]",
          "(11.210478375992938, 14.169145299145299]",
          "(17.130681818181817, 21]",
          "(21, 33.93583302568712]",
          "(21, 33.93583302568712]",
          "(8.680770741122833, 11.210478375992938]",
          "(14.169145299145299, 17.130681818181817]",
          "(51.756000000000014, 87.9065420560748]",
          "(11.210478375992938, 14.169145299145299]",
          "(11.210478375992938, 14.169145299145299]",
          "(8.680770741122833, 11.210478375992938]",
          "(17.130681818181817, 21]",
          "(51.756000000000014, 87.9065420560748]",
          "(87.9065420560748, inf]",
          "(33.93583302568712, 51.756000000000014]",
          "(17.130681818181817, 21]",
          "(17.130681818181817, 21]",
          "(33.93583302568712, 51.756000000000014]",
          "(51.756000000000014, 87.9065420560748]",
          "(8.680770741122833, 11.210478375992938]",
          "(87.9065420560748, inf]",
          "(8.680770741122833, 11.210478375992938]",
          "(14.169145299145299, 17.130681818181817]",
          "(14.169145299145299, 17.130681818181817]",
          "(17.130681818181817, 21]",
          "(11.210478375992938, 14.169145299145299]",
          "(17.130681818181817, 21]",
          "(14.169145299145299, 17.130681818181817]",
          "(51.756000000000014, 87.9065420560748]",
          "(17.130681818181817, 21]",
          "(5.976, 8.680770741122833]",
          "(33.93583302568712, 51.756000000000014]",
          "(33.93583302568712, 51.756000000000014]",
          "(5.976, 8.680770741122833]",
          "(14.169145299145299, 17.130681818181817]",
          "(17.130681818181817, 21]",
          "(14.169145299145299, 17.130681818181817]",
          "(21, 33.93583302568712]",
          "(33.93583302568712, 51.756000000000014]",
          "(21, 33.93583302568712]",
          "(33.93583302568712, 51.756000000000014]",
          "(5.976, 8.680770741122833]",
          "(17.130681818181817, 21]",
          "(51.756000000000014, 87.9065420560748]",
          "(17.130681818181817, 21]",
          "(51.756000000000014, 87.9065420560748]",
          "(21, 33.93583302568712]",
          "(14.169145299145299, 17.130681818181817]",
          "(33.93583302568712, 51.756000000000014]",
          "(17.130681818181817, 21]",
          "(14.169145299145299, 17.130681818181817]",
          "(8.680770741122833, 11.210478375992938]",
          "(14.169145299145299, 17.130681818181817]",
          "(21, 33.93583302568712]",
          "(21, 33.93583302568712]",
          "(5.976, 8.680770741122833]",
          "(8.680770741122833, 11.210478375992938]",
          "(5.976, 8.680770741122833]",
          "(17.130681818181817, 21]",
          "(51.756000000000014, 87.9065420560748]",
          "(8.680770741122833, 11.210478375992938]",
          "(33.93583302568712, 51.756000000000014]",
          "(5.976, 8.680770741122833]",
          "(21, 33.93583302568712]",
          "(14.169145299145299, 17.130681818181817]",
          "(87.9065420560748, inf]",
          "(17.130681818181817, 21]",
          "(8.680770741122833, 11.210478375992938]",
          "(14.169145299145299, 17.130681818181817]",
          "(17.130681818181817, 21]",
          "(51.756000000000014, 87.9065420560748]",
          "(17.130681818181817, 21]",
          "(33.93583302568712, 51.756000000000014]",
          "(11.210478375992938, 14.169145299145299]",
          "(14.169145299145299, 17.130681818181817]",
          "(14.169145299145299, 17.130681818181817]",
          "(14.169145299145299, 17.130681818181817]",
          "(51.756000000000014, 87.9065420560748]",
          "(33.93583302568712, 51.756000000000014]",
          "(11.210478375992938, 14.169145299145299]",
          "(21, 33.93583302568712]",
          "(8.680770741122833, 11.210478375992938]",
          "(5.976, 8.680770741122833]",
          "(87.9065420560748, inf]",
          "(17.130681818181817, 21]",
          "(33.93583302568712, 51.756000000000014]",
          "(21, 33.93583302568712]",
          "(11.210478375992938, 14.169145299145299]",
          "(87.9065420560748, inf]",
          "(51.756000000000014, 87.9065420560748]",
          "(8.680770741122833, 11.210478375992938]",
          "(21, 33.93583302568712]",
          "(21, 33.93583302568712]",
          "(51.756000000000014, 87.9065420560748]",
          "(5.976, 8.680770741122833]",
          "(21, 33.93583302568712]",
          "(33.93583302568712, 51.756000000000014]",
          "(33.93583302568712, 51.756000000000014]",
          "(87.9065420560748, inf]",
          "(87.9065420560748, inf]",
          "(5.976, 8.680770741122833]",
          "(5.976, 8.680770741122833]",
          "(8.680770741122833, 11.210478375992938]",
          "(21, 33.93583302568712]",
          "(33.93583302568712, 51.756000000000014]",
          "(17.130681818181817, 21]",
          "(21, 33.93583302568712]",
          "(14.169145299145299, 17.130681818181817]",
          "(17.130681818181817, 21]",
          "(8.680770741122833, 11.210478375992938]",
          "(17.130681818181817, 21]",
          "(14.169145299145299, 17.130681818181817]",
          "(21, 33.93583302568712]",
          "(17.130681818181817, 21]",
          "(17.130681818181817, 21]",
          "(5.976, 8.680770741122833]",
          "(33.93583302568712, 51.756000000000014]",
          "(51.756000000000014, 87.9065420560748]",
          "(51.756000000000014, 87.9065420560748]",
          "(21, 33.93583302568712]",
          "(33.93583302568712, 51.756000000000014]",
          "(11.210478375992938, 14.169145299145299]",
          "(17.130681818181817, 21]",
          "(11.210478375992938, 14.169145299145299]",
          "(51.756000000000014, 87.9065420560748]",
          "(8.680770741122833, 11.210478375992938]",
          "(8.680770741122833, 11.210478375992938]",
          "(33.93583302568712, 51.756000000000014]",
          "(21, 33.93583302568712]",
          "(17.130681818181817, 21]",
          "(17.130681818181817, 21]",
          "(51.756000000000014, 87.9065420560748]",
          "(8.680770741122833, 11.210478375992938]",
          "(33.93583302568712, 51.756000000000014]",
          "(14.169145299145299, 17.130681818181817]",
          "(14.169145299145299, 17.130681818181817]",
          "(33.93583302568712, 51.756000000000014]",
          "(8.680770741122833, 11.210478375992938]",
          "(87.9065420560748, inf]",
          "(21, 33.93583302568712]",
          "(87.9065420560748, inf]",
          "(5.976, 8.680770741122833]",
          "(-inf, 5.976]",
          "(17.130681818181817, 21]",
          "(33.93583302568712, 51.756000000000014]",
          "(51.756000000000014, 87.9065420560748]",
          "(21, 33.93583302568712]",
          "(21, 33.93583302568712]",
          "(-inf, 5.976]",
          "(8.680770741122833, 11.210478375992938]",
          "(21, 33.93583302568712]",
          "(-inf, 5.976]",
          "(-inf, 5.976]",
          "(14.169145299145299, 17.130681818181817]",
          "(21, 33.93583302568712]",
          "(21, 33.93583302568712]",
          "(21, 33.93583302568712]",
          "(87.9065420560748, inf]",
          "(21, 33.93583302568712]",
          "(33.93583302568712, 51.756000000000014]",
          "(8.680770741122833, 11.210478375992938]",
          "(5.976, 8.680770741122833]",
          "(14.169145299145299, 17.130681818181817]",
          "(17.130681818181817, 21]",
          "(17.130681818181817, 21]",
          "(33.93583302568712, 51.756000000000014]",
          "(21, 33.93583302568712]",
          "(17.130681818181817, 21]",
          "(8.680770741122833, 11.210478375992938]",
          "(5.976, 8.680770741122833]",
          "(21, 33.93583302568712]",
          "(33.93583302568712, 51.756000000000014]",
          "(33.93583302568712, 51.756000000000014]",
          "(11.210478375992938, 14.169145299145299]",
          "(17.130681818181817, 21]",
          "(14.169145299145299, 17.130681818181817]",
          "(-inf, 5.976]",
          "(14.169145299145299, 17.130681818181817]",
          "(87.9065420560748, inf]",
          "(5.976, 8.680770741122833]",
          "(11.210478375992938, 14.169145299145299]",
          "(33.93583302568712, 51.756000000000014]",
          "(11.210478375992938, 14.169145299145299]",
          "(21, 33.93583302568712]",
          "(17.130681818181817, 21]",
          "(5.976, 8.680770741122833]",
          "(8.680770741122833, 11.210478375992938]",
          "(8.680770741122833, 11.210478375992938]",
          "(8.680770741122833, 11.210478375992938]",
          "(21, 33.93583302568712]",
          "(51.756000000000014, 87.9065420560748]",
          "(8.680770741122833, 11.210478375992938]",
          "(21, 33.93583302568712]",
          "(33.93583302568712, 51.756000000000014]",
          "(33.93583302568712, 51.756000000000014]",
          "(14.169145299145299, 17.130681818181817]",
          "(14.169145299145299, 17.130681818181817]",
          "(8.680770741122833, 11.210478375992938]",
          "(5.976, 8.680770741122833]",
          "(14.169145299145299, 17.130681818181817]",
          "(5.976, 8.680770741122833]",
          "(51.756000000000014, 87.9065420560748]",
          "(8.680770741122833, 11.210478375992938]",
          "(14.169145299145299, 17.130681818181817]",
          "(8.680770741122833, 11.210478375992938]",
          "(17.130681818181817, 21]",
          "(11.210478375992938, 14.169145299145299]",
          "(21, 33.93583302568712]",
          "(21, 33.93583302568712]",
          "(33.93583302568712, 51.756000000000014]",
          "(51.756000000000014, 87.9065420560748]",
          "(11.210478375992938, 14.169145299145299]",
          "(8.680770741122833, 11.210478375992938]",
          "(11.210478375992938, 14.169145299145299]",
          "(8.680770741122833, 11.210478375992938]",
          "(51.756000000000014, 87.9065420560748]",
          "(8.680770741122833, 11.210478375992938]",
          "(21, 33.93583302568712]",
          "(33.93583302568712, 51.756000000000014]",
          "(11.210478375992938, 14.169145299145299]",
          "(17.130681818181817, 21]",
          "(-inf, 5.976]",
          "(87.9065420560748, inf]",
          "(17.130681818181817, 21]",
          "(17.130681818181817, 21]",
          "(17.130681818181817, 21]",
          "(-inf, 5.976]",
          "(21, 33.93583302568712]",
          "(51.756000000000014, 87.9065420560748]",
          "(14.169145299145299, 17.130681818181817]",
          "(8.680770741122833, 11.210478375992938]",
          "(33.93583302568712, 51.756000000000014]",
          "(21, 33.93583302568712]",
          "(21, 33.93583302568712]",
          "(5.976, 8.680770741122833]",
          "(11.210478375992938, 14.169145299145299]",
          "(21, 33.93583302568712]",
          "(5.976, 8.680770741122833]",
          "(21, 33.93583302568712]",
          "(33.93583302568712, 51.756000000000014]",
          "(33.93583302568712, 51.756000000000014]",
          "(11.210478375992938, 14.169145299145299]",
          "(33.93583302568712, 51.756000000000014]",
          "(-inf, 5.976]",
          "(21, 33.93583302568712]",
          "(51.756000000000014, 87.9065420560748]",
          "(21, 33.93583302568712]",
          "(17.130681818181817, 21]",
          "(5.976, 8.680770741122833]",
          "(11.210478375992938, 14.169145299145299]",
          "(14.169145299145299, 17.130681818181817]",
          "(14.169145299145299, 17.130681818181817]",
          "(17.130681818181817, 21]",
          "(21, 33.93583302568712]",
          "(21, 33.93583302568712]",
          "(5.976, 8.680770741122833]",
          "(51.756000000000014, 87.9065420560748]",
          "(17.130681818181817, 21]",
          "(21, 33.93583302568712]",
          "(21, 33.93583302568712]",
          "(17.130681818181817, 21]",
          "(8.680770741122833, 11.210478375992938]",
          "(17.130681818181817, 21]",
          "(33.93583302568712, 51.756000000000014]",
          "(-inf, 5.976]",
          "(8.680770741122833, 11.210478375992938]",
          "(33.93583302568712, 51.756000000000014]",
          "(11.210478375992938, 14.169145299145299]",
          "(87.9065420560748, inf]",
          "(8.680770741122833, 11.210478375992938]",
          "(33.93583302568712, 51.756000000000014]",
          "(14.169145299145299, 17.130681818181817]",
          "(21, 33.93583302568712]",
          "(5.976, 8.680770741122833]",
          "(5.976, 8.680770741122833]",
          "(33.93583302568712, 51.756000000000014]",
          "(33.93583302568712, 51.756000000000014]",
          "(51.756000000000014, 87.9065420560748]",
          "(21, 33.93583302568712]",
          "(11.210478375992938, 14.169145299145299]",
          "(33.93583302568712, 51.756000000000014]",
          "(21, 33.93583302568712]",
          "(5.976, 8.680770741122833]",
          "(5.976, 8.680770741122833]",
          "(21, 33.93583302568712]",
          "(33.93583302568712, 51.756000000000014]",
          "(33.93583302568712, 51.756000000000014]",
          "(21, 33.93583302568712]",
          "(51.756000000000014, 87.9065420560748]",
          "(17.130681818181817, 21]",
          "(5.976, 8.680770741122833]",
          "(33.93583302568712, 51.756000000000014]",
          "(17.130681818181817, 21]",
          "(21, 33.93583302568712]",
          "(8.680770741122833, 11.210478375992938]",
          "(11.210478375992938, 14.169145299145299]",
          "(33.93583302568712, 51.756000000000014]",
          "(33.93583302568712, 51.756000000000014]",
          "(17.130681818181817, 21]",
          "(51.756000000000014, 87.9065420560748]",
          "(33.93583302568712, 51.756000000000014]",
          "(33.93583302568712, 51.756000000000014]",
          "(14.169145299145299, 17.130681818181817]",
          "(33.93583302568712, 51.756000000000014]",
          "(5.976, 8.680770741122833]",
          "(8.680770741122833, 11.210478375992938]",
          "(-inf, 5.976]",
          "(21, 33.93583302568712]",
          "(21, 33.93583302568712]",
          "(33.93583302568712, 51.756000000000014]",
          "(87.9065420560748, inf]",
          "(17.130681818181817, 21]",
          "(14.169145299145299, 17.130681818181817]",
          "(17.130681818181817, 21]",
          "(51.756000000000014, 87.9065420560748]",
          "(17.130681818181817, 21]",
          "(17.130681818181817, 21]",
          "(5.976, 8.680770741122833]",
          "(21, 33.93583302568712]",
          "(21, 33.93583302568712]",
          "(33.93583302568712, 51.756000000000014]",
          "(-inf, 5.976]",
          "(11.210478375992938, 14.169145299145299]",
          "(21, 33.93583302568712]",
          "(8.680770741122833, 11.210478375992938]",
          "(14.169145299145299, 17.130681818181817]",
          "(33.93583302568712, 51.756000000000014]",
          "(21, 33.93583302568712]",
          "(21, 33.93583302568712]",
          "(8.680770741122833, 11.210478375992938]",
          "(5.976, 8.680770741122833]",
          "(51.756000000000014, 87.9065420560748]",
          "(11.210478375992938, 14.169145299145299]",
          "(33.93583302568712, 51.756000000000014]",
          "(21, 33.93583302568712]",
          "(8.680770741122833, 11.210478375992938]",
          "(51.756000000000014, 87.9065420560748]",
          "(21, 33.93583302568712]",
          "(14.169145299145299, 17.130681818181817]",
          "(-inf, 5.976]",
          "(17.130681818181817, 21]",
          "(21, 33.93583302568712]",
          "(5.976, 8.680770741122833]",
          "(33.93583302568712, 51.756000000000014]",
          "(21, 33.93583302568712]",
          "(5.976, 8.680770741122833]",
          "(17.130681818181817, 21]",
          "(33.93583302568712, 51.756000000000014]",
          "(14.169145299145299, 17.130681818181817]",
          "(21, 33.93583302568712]",
          "(8.680770741122833, 11.210478375992938]",
          "(17.130681818181817, 21]",
          "(51.756000000000014, 87.9065420560748]",
          "(51.756000000000014, 87.9065420560748]",
          "(8.680770741122833, 11.210478375992938]",
          "(51.756000000000014, 87.9065420560748]",
          "(14.169145299145299, 17.130681818181817]",
          "(33.93583302568712, 51.756000000000014]",
          "(51.756000000000014, 87.9065420560748]",
          "(21, 33.93583302568712]",
          "(14.169145299145299, 17.130681818181817]",
          "(21, 33.93583302568712]",
          "(-inf, 5.976]",
          "(17.130681818181817, 21]",
          "(33.93583302568712, 51.756000000000014]",
          "(33.93583302568712, 51.756000000000014]",
          "(21, 33.93583302568712]",
          "(5.976, 8.680770741122833]",
          "(21, 33.93583302568712]",
          "(8.680770741122833, 11.210478375992938]",
          "(8.680770741122833, 11.210478375992938]",
          "(14.169145299145299, 17.130681818181817]",
          "(5.976, 8.680770741122833]",
          "(17.130681818181817, 21]",
          "(14.169145299145299, 17.130681818181817]",
          "(11.210478375992938, 14.169145299145299]",
          "(51.756000000000014, 87.9065420560748]",
          "(5.976, 8.680770741122833]",
          "(51.756000000000014, 87.9065420560748]",
          "(-inf, 5.976]",
          "(21, 33.93583302568712]",
          "(33.93583302568712, 51.756000000000014]",
          "(33.93583302568712, 51.756000000000014]",
          "(51.756000000000014, 87.9065420560748]",
          "(11.210478375992938, 14.169145299145299]",
          "(8.680770741122833, 11.210478375992938]",
          "(5.976, 8.680770741122833]",
          "(-inf, 5.976]",
          "(14.169145299145299, 17.130681818181817]",
          "(14.169145299145299, 17.130681818181817]",
          "(-inf, 5.976]",
          "(14.169145299145299, 17.130681818181817]",
          "(17.130681818181817, 21]",
          "(33.93583302568712, 51.756000000000014]",
          "(11.210478375992938, 14.169145299145299]",
          "(5.976, 8.680770741122833]",
          "(33.93583302568712, 51.756000000000014]",
          "(8.680770741122833, 11.210478375992938]",
          "(21, 33.93583302568712]",
          "(21, 33.93583302568712]",
          "(8.680770741122833, 11.210478375992938]",
          "(17.130681818181817, 21]",
          "(51.756000000000014, 87.9065420560748]",
          "(17.130681818181817, 21]",
          "(33.93583302568712, 51.756000000000014]",
          "(51.756000000000014, 87.9065420560748]",
          "(21, 33.93583302568712]",
          "(5.976, 8.680770741122833]",
          "(-inf, 5.976]",
          "(5.976, 8.680770741122833]",
          "(11.210478375992938, 14.169145299145299]",
          "(21, 33.93583302568712]",
          "(14.169145299145299, 17.130681818181817]",
          "(21, 33.93583302568712]",
          "(5.976, 8.680770741122833]",
          "(21, 33.93583302568712]",
          "(5.976, 8.680770741122833]",
          "(17.130681818181817, 21]",
          "(14.169145299145299, 17.130681818181817]",
          "(5.976, 8.680770741122833]",
          "(21, 33.93583302568712]",
          "(21, 33.93583302568712]",
          "(51.756000000000014, 87.9065420560748]",
          "(5.976, 8.680770741122833]",
          "(17.130681818181817, 21]",
          "(5.976, 8.680770741122833]",
          "(21, 33.93583302568712]",
          "(11.210478375992938, 14.169145299145299]",
          "(5.976, 8.680770741122833]",
          "(17.130681818181817, 21]",
          "(8.680770741122833, 11.210478375992938]",
          "(11.210478375992938, 14.169145299145299]",
          "(33.93583302568712, 51.756000000000014]",
          "(17.130681818181817, 21]",
          "(51.756000000000014, 87.9065420560748]",
          "(17.130681818181817, 21]",
          "(17.130681818181817, 21]",
          "(14.169145299145299, 17.130681818181817]",
          "(17.130681818181817, 21]",
          "(17.130681818181817, 21]",
          "(33.93583302568712, 51.756000000000014]",
          "(14.169145299145299, 17.130681818181817]",
          "(21, 33.93583302568712]",
          "(17.130681818181817, 21]",
          "(33.93583302568712, 51.756000000000014]",
          "(33.93583302568712, 51.756000000000014]",
          "(5.976, 8.680770741122833]",
          "(14.169145299145299, 17.130681818181817]",
          "(14.169145299145299, 17.130681818181817]",
          "(5.976, 8.680770741122833]",
          "(5.976, 8.680770741122833]",
          "(17.130681818181817, 21]",
          "(5.976, 8.680770741122833]",
          "(21, 33.93583302568712]",
          "(33.93583302568712, 51.756000000000014]",
          "(21, 33.93583302568712]",
          "(14.169145299145299, 17.130681818181817]",
          "(21, 33.93583302568712]",
          "(11.210478375992938, 14.169145299145299]",
          "(11.210478375992938, 14.169145299145299]",
          "(33.93583302568712, 51.756000000000014]",
          "(14.169145299145299, 17.130681818181817]",
          "(17.130681818181817, 21]",
          "(21, 33.93583302568712]",
          "(14.169145299145299, 17.130681818181817]",
          "(33.93583302568712, 51.756000000000014]",
          "(5.976, 8.680770741122833]",
          "(17.130681818181817, 21]",
          "(51.756000000000014, 87.9065420560748]",
          "(14.169145299145299, 17.130681818181817]",
          "(5.976, 8.680770741122833]",
          "(11.210478375992938, 14.169145299145299]",
          "(14.169145299145299, 17.130681818181817]",
          "(5.976, 8.680770741122833]",
          "(14.169145299145299, 17.130681818181817]",
          "(14.169145299145299, 17.130681818181817]",
          "(5.976, 8.680770741122833]",
          "(-inf, 5.976]",
          "(17.130681818181817, 21]",
          "(8.680770741122833, 11.210478375992938]",
          "(33.93583302568712, 51.756000000000014]",
          "(33.93583302568712, 51.756000000000014]",
          "(17.130681818181817, 21]",
          "(8.680770741122833, 11.210478375992938]",
          "(5.976, 8.680770741122833]",
          "(21, 33.93583302568712]",
          "(5.976, 8.680770741122833]",
          "(14.169145299145299, 17.130681818181817]",
          "(87.9065420560748, inf]",
          "(8.680770741122833, 11.210478375992938]",
          "(14.169145299145299, 17.130681818181817]",
          "(17.130681818181817, 21]",
          "(21, 33.93583302568712]",
          "(11.210478375992938, 14.169145299145299]",
          "(33.93583302568712, 51.756000000000014]",
          "(5.976, 8.680770741122833]",
          "(14.169145299145299, 17.130681818181817]",
          "(8.680770741122833, 11.210478375992938]",
          "(5.976, 8.680770741122833]",
          "(11.210478375992938, 14.169145299145299]",
          "(5.976, 8.680770741122833]",
          "(5.976, 8.680770741122833]",
          "(-inf, 5.976]",
          "(14.169145299145299, 17.130681818181817]",
          "(17.130681818181817, 21]",
          "(21, 33.93583302568712]",
          "(17.130681818181817, 21]",
          "(5.976, 8.680770741122833]",
          "(8.680770741122833, 11.210478375992938]",
          "(17.130681818181817, 21]",
          "(14.169145299145299, 17.130681818181817]",
          "(33.93583302568712, 51.756000000000014]",
          "(17.130681818181817, 21]",
          "(21, 33.93583302568712]",
          "(21, 33.93583302568712]",
          "(33.93583302568712, 51.756000000000014]",
          "(21, 33.93583302568712]",
          "(51.756000000000014, 87.9065420560748]",
          "(33.93583302568712, 51.756000000000014]",
          "(14.169145299145299, 17.130681818181817]",
          "(17.130681818181817, 21]",
          "(8.680770741122833, 11.210478375992938]",
          "(21, 33.93583302568712]",
          "(33.93583302568712, 51.756000000000014]",
          "(5.976, 8.680770741122833]",
          "(33.93583302568712, 51.756000000000014]",
          "(14.169145299145299, 17.130681818181817]",
          "(11.210478375992938, 14.169145299145299]",
          "(11.210478375992938, 14.169145299145299]",
          "(14.169145299145299, 17.130681818181817]",
          "(11.210478375992938, 14.169145299145299]",
          "(33.93583302568712, 51.756000000000014]",
          "(8.680770741122833, 11.210478375992938]",
          "(5.976, 8.680770741122833]",
          "(33.93583302568712, 51.756000000000014]",
          "(8.680770741122833, 11.210478375992938]",
          "(8.680770741122833, 11.210478375992938]",
          "(21, 33.93583302568712]",
          "(33.93583302568712, 51.756000000000014]",
          "(-inf, 5.976]",
          "(17.130681818181817, 21]",
          "(33.93583302568712, 51.756000000000014]",
          "(33.93583302568712, 51.756000000000014]",
          "(14.169145299145299, 17.130681818181817]",
          "(33.93583302568712, 51.756000000000014]",
          "(11.210478375992938, 14.169145299145299]",
          "(33.93583302568712, 51.756000000000014]",
          "(33.93583302568712, 51.756000000000014]",
          "(17.130681818181817, 21]",
          "(14.169145299145299, 17.130681818181817]",
          "(5.976, 8.680770741122833]",
          "(-inf, 5.976]",
          "(17.130681818181817, 21]",
          "(8.680770741122833, 11.210478375992938]",
          "(5.976, 8.680770741122833]",
          "(5.976, 8.680770741122833]",
          "(17.130681818181817, 21]",
          "(17.130681818181817, 21]",
          "(8.680770741122833, 11.210478375992938]",
          "(33.93583302568712, 51.756000000000014]",
          "(21, 33.93583302568712]",
          "(17.130681818181817, 21]",
          "(17.130681818181817, 21]",
          "(8.680770741122833, 11.210478375992938]",
          "(21, 33.93583302568712]",
          "(17.130681818181817, 21]",
          "(87.9065420560748, inf]",
          "(11.210478375992938, 14.169145299145299]",
          "(5.976, 8.680770741122833]",
          "(-inf, 5.976]",
          "(8.680770741122833, 11.210478375992938]",
          "(33.93583302568712, 51.756000000000014]",
          "(33.93583302568712, 51.756000000000014]",
          "(17.130681818181817, 21]",
          "(17.130681818181817, 21]",
          "(14.169145299145299, 17.130681818181817]",
          "(33.93583302568712, 51.756000000000014]",
          "(33.93583302568712, 51.756000000000014]",
          "(5.976, 8.680770741122833]",
          "(5.976, 8.680770741122833]",
          "(11.210478375992938, 14.169145299145299]",
          "(33.93583302568712, 51.756000000000014]",
          "(5.976, 8.680770741122833]",
          "(33.93583302568712, 51.756000000000014]",
          "(51.756000000000014, 87.9065420560748]",
          "(17.130681818181817, 21]",
          "(8.680770741122833, 11.210478375992938]",
          "(11.210478375992938, 14.169145299145299]",
          "(33.93583302568712, 51.756000000000014]",
          "(5.976, 8.680770741122833]",
          "(8.680770741122833, 11.210478375992938]",
          "(5.976, 8.680770741122833]",
          "(-inf, 5.976]",
          "(17.130681818181817, 21]",
          "(14.169145299145299, 17.130681818181817]",
          "(11.210478375992938, 14.169145299145299]",
          "(33.93583302568712, 51.756000000000014]",
          "(21, 33.93583302568712]",
          "(5.976, 8.680770741122833]",
          "(33.93583302568712, 51.756000000000014]",
          "(33.93583302568712, 51.756000000000014]",
          "(14.169145299145299, 17.130681818181817]",
          "(17.130681818181817, 21]",
          "(17.130681818181817, 21]",
          "(33.93583302568712, 51.756000000000014]",
          "(17.130681818181817, 21]",
          "(14.169145299145299, 17.130681818181817]",
          "(14.169145299145299, 17.130681818181817]",
          "(14.169145299145299, 17.130681818181817]",
          "(14.169145299145299, 17.130681818181817]",
          "(8.680770741122833, 11.210478375992938]",
          "(5.976, 8.680770741122833]",
          "(8.680770741122833, 11.210478375992938]",
          "(17.130681818181817, 21]",
          "(11.210478375992938, 14.169145299145299]",
          "(33.93583302568712, 51.756000000000014]",
          "(21, 33.93583302568712]",
          "(14.169145299145299, 17.130681818181817]",
          "(11.210478375992938, 14.169145299145299]",
          "(21, 33.93583302568712]",
          "(33.93583302568712, 51.756000000000014]",
          "(14.169145299145299, 17.130681818181817]",
          "(21, 33.93583302568712]",
          "(14.169145299145299, 17.130681818181817]",
          "(14.169145299145299, 17.130681818181817]",
          "(14.169145299145299, 17.130681818181817]",
          "(-inf, 5.976]",
          "(17.130681818181817, 21]",
          "(8.680770741122833, 11.210478375992938]",
          "(-inf, 5.976]",
          "(21, 33.93583302568712]",
          "(17.130681818181817, 21]",
          "(5.976, 8.680770741122833]",
          "(14.169145299145299, 17.130681818181817]",
          "(5.976, 8.680770741122833]",
          "(5.976, 8.680770741122833]",
          "(14.169145299145299, 17.130681818181817]",
          "(17.130681818181817, 21]",
          "(8.680770741122833, 11.210478375992938]",
          "(21, 33.93583302568712]",
          "(14.169145299145299, 17.130681818181817]",
          "(17.130681818181817, 21]",
          "(17.130681818181817, 21]",
          "(33.93583302568712, 51.756000000000014]",
          "(8.680770741122833, 11.210478375992938]",
          "(8.680770741122833, 11.210478375992938]",
          "(8.680770741122833, 11.210478375992938]",
          "(17.130681818181817, 21]",
          "(11.210478375992938, 14.169145299145299]",
          "(-inf, 5.976]",
          "(14.169145299145299, 17.130681818181817]",
          "(14.169145299145299, 17.130681818181817]",
          "(5.976, 8.680770741122833]",
          "(21, 33.93583302568712]",
          "(17.130681818181817, 21]",
          "(33.93583302568712, 51.756000000000014]",
          "(5.976, 8.680770741122833]",
          "(21, 33.93583302568712]",
          "(17.130681818181817, 21]",
          "(5.976, 8.680770741122833]",
          "(14.169145299145299, 17.130681818181817]",
          "(33.93583302568712, 51.756000000000014]",
          "(11.210478375992938, 14.169145299145299]",
          "(33.93583302568712, 51.756000000000014]",
          "(8.680770741122833, 11.210478375992938]",
          "(21, 33.93583302568712]",
          "(11.210478375992938, 14.169145299145299]",
          "(11.210478375992938, 14.169145299145299]",
          "(14.169145299145299, 17.130681818181817]",
          "(8.680770741122833, 11.210478375992938]",
          "(5.976, 8.680770741122833]",
          "(11.210478375992938, 14.169145299145299]",
          "(8.680770741122833, 11.210478375992938]",
          "(11.210478375992938, 14.169145299145299]",
          "(33.93583302568712, 51.756000000000014]",
          "(5.976, 8.680770741122833]",
          "(21, 33.93583302568712]",
          "(11.210478375992938, 14.169145299145299]",
          "(33.93583302568712, 51.756000000000014]",
          "(8.680770741122833, 11.210478375992938]",
          "(17.130681818181817, 21]",
          "(14.169145299145299, 17.130681818181817]",
          "(5.976, 8.680770741122833]",
          "(17.130681818181817, 21]",
          "(11.210478375992938, 14.169145299145299]",
          "(21, 33.93583302568712]",
          "(8.680770741122833, 11.210478375992938]",
          "(14.169145299145299, 17.130681818181817]",
          "(21, 33.93583302568712]",
          "(17.130681818181817, 21]",
          "(14.169145299145299, 17.130681818181817]",
          "(5.976, 8.680770741122833]",
          "(33.93583302568712, 51.756000000000014]",
          "(11.210478375992938, 14.169145299145299]",
          "(33.93583302568712, 51.756000000000014]",
          "(11.210478375992938, 14.169145299145299]",
          "(17.130681818181817, 21]",
          "(11.210478375992938, 14.169145299145299]",
          "(33.93583302568712, 51.756000000000014]",
          "(5.976, 8.680770741122833]",
          "(14.169145299145299, 17.130681818181817]",
          "(5.976, 8.680770741122833]",
          "(21, 33.93583302568712]",
          "(5.976, 8.680770741122833]",
          "(8.680770741122833, 11.210478375992938]",
          "(17.130681818181817, 21]",
          "(14.169145299145299, 17.130681818181817]",
          "(-inf, 5.976]",
          "(11.210478375992938, 14.169145299145299]",
          "(8.680770741122833, 11.210478375992938]",
          "(14.169145299145299, 17.130681818181817]",
          "(14.169145299145299, 17.130681818181817]",
          "(14.169145299145299, 17.130681818181817]",
          "(17.130681818181817, 21]",
          "(14.169145299145299, 17.130681818181817]",
          "(11.210478375992938, 14.169145299145299]",
          "(14.169145299145299, 17.130681818181817]",
          "(5.976, 8.680770741122833]",
          "(-inf, 5.976]",
          "(5.976, 8.680770741122833]",
          "(5.976, 8.680770741122833]",
          "(-inf, 5.976]",
          "(-inf, 5.976]",
          "(-inf, 5.976]",
          "(8.680770741122833, 11.210478375992938]",
          "(5.976, 8.680770741122833]",
          "(14.169145299145299, 17.130681818181817]",
          "(11.210478375992938, 14.169145299145299]",
          "(5.976, 8.680770741122833]",
          "(14.169145299145299, 17.130681818181817]",
          "(5.976, 8.680770741122833]",
          "(14.169145299145299, 17.130681818181817]",
          "(8.680770741122833, 11.210478375992938]",
          "(21, 33.93583302568712]",
          "(8.680770741122833, 11.210478375992938]",
          "(5.976, 8.680770741122833]",
          "(8.680770741122833, 11.210478375992938]",
          "(11.210478375992938, 14.169145299145299]",
          "(8.680770741122833, 11.210478375992938]",
          "(11.210478375992938, 14.169145299145299]",
          "(-inf, 5.976]",
          "(8.680770741122833, 11.210478375992938]",
          "(14.169145299145299, 17.130681818181817]",
          "(-inf, 5.976]",
          "(11.210478375992938, 14.169145299145299]",
          "(8.680770741122833, 11.210478375992938]",
          "(14.169145299145299, 17.130681818181817]",
          "(11.210478375992938, 14.169145299145299]",
          "(11.210478375992938, 14.169145299145299]",
          "(-inf, 5.976]",
          "(8.680770741122833, 11.210478375992938]",
          "(11.210478375992938, 14.169145299145299]",
          "(8.680770741122833, 11.210478375992938]",
          "(14.169145299145299, 17.130681818181817]",
          "(14.169145299145299, 17.130681818181817]",
          "(11.210478375992938, 14.169145299145299]",
          "(21, 33.93583302568712]",
          "(17.130681818181817, 21]",
          "(-inf, 5.976]",
          "(11.210478375992938, 14.169145299145299]",
          "(8.680770741122833, 11.210478375992938]",
          "(11.210478375992938, 14.169145299145299]",
          "(14.169145299145299, 17.130681818181817]",
          "(8.680770741122833, 11.210478375992938]",
          "(17.130681818181817, 21]",
          "(14.169145299145299, 17.130681818181817]",
          "(11.210478375992938, 14.169145299145299]",
          "(11.210478375992938, 14.169145299145299]",
          "(8.680770741122833, 11.210478375992938]",
          "(8.680770741122833, 11.210478375992938]",
          "(11.210478375992938, 14.169145299145299]",
          "(8.680770741122833, 11.210478375992938]",
          "(14.169145299145299, 17.130681818181817]",
          "(17.130681818181817, 21]",
          "(8.680770741122833, 11.210478375992938]",
          "(11.210478375992938, 14.169145299145299]",
          "(14.169145299145299, 17.130681818181817]",
          "(51.756000000000014, 87.9065420560748]",
          "(14.169145299145299, 17.130681818181817]",
          "(8.680770741122833, 11.210478375992938]",
          "(-inf, 5.976]",
          "(11.210478375992938, 14.169145299145299]",
          "(8.680770741122833, 11.210478375992938]",
          "(11.210478375992938, 14.169145299145299]",
          "(11.210478375992938, 14.169145299145299]",
          "(11.210478375992938, 14.169145299145299]",
          "(8.680770741122833, 11.210478375992938]",
          "(11.210478375992938, 14.169145299145299]",
          "(51.756000000000014, 87.9065420560748]",
          "(21, 33.93583302568712]",
          "(11.210478375992938, 14.169145299145299]",
          "(11.210478375992938, 14.169145299145299]",
          "(14.169145299145299, 17.130681818181817]",
          "(8.680770741122833, 11.210478375992938]",
          "(11.210478375992938, 14.169145299145299]",
          "(8.680770741122833, 11.210478375992938]",
          "(14.169145299145299, 17.130681818181817]",
          "(8.680770741122833, 11.210478375992938]",
          "(8.680770741122833, 11.210478375992938]",
          "(8.680770741122833, 11.210478375992938]",
          "(11.210478375992938, 14.169145299145299]",
          "(-inf, 5.976]",
          "(14.169145299145299, 17.130681818181817]",
          "(11.210478375992938, 14.169145299145299]",
          "(11.210478375992938, 14.169145299145299]",
          "(11.210478375992938, 14.169145299145299]",
          "(11.210478375992938, 14.169145299145299]",
          "(8.680770741122833, 11.210478375992938]",
          "(-inf, 5.976]",
          "(8.680770741122833, 11.210478375992938]",
          "(-inf, 5.976]",
          "(14.169145299145299, 17.130681818181817]",
          "(33.93583302568712, 51.756000000000014]",
          "(17.130681818181817, 21]",
          "(8.680770741122833, 11.210478375992938]",
          "(17.130681818181817, 21]",
          "(17.130681818181817, 21]",
          "(8.680770741122833, 11.210478375992938]",
          "(17.130681818181817, 21]",
          "(11.210478375992938, 14.169145299145299]",
          "(-inf, 5.976]",
          "(-inf, 5.976]",
          "(-inf, 5.976]",
          "(11.210478375992938, 14.169145299145299]",
          "(17.130681818181817, 21]",
          "(8.680770741122833, 11.210478375992938]",
          "(11.210478375992938, 14.169145299145299]",
          "(8.680770741122833, 11.210478375992938]",
          "(17.130681818181817, 21]",
          "(14.169145299145299, 17.130681818181817]",
          "(11.210478375992938, 14.169145299145299]",
          "(-inf, 5.976]",
          "(11.210478375992938, 14.169145299145299]",
          "(14.169145299145299, 17.130681818181817]",
          "(8.680770741122833, 11.210478375992938]",
          "(11.210478375992938, 14.169145299145299]",
          "(-inf, 5.976]",
          "(8.680770741122833, 11.210478375992938]",
          "(11.210478375992938, 14.169145299145299]",
          "(8.680770741122833, 11.210478375992938]",
          "(-inf, 5.976]",
          "(11.210478375992938, 14.169145299145299]",
          "(11.210478375992938, 14.169145299145299]",
          "(8.680770741122833, 11.210478375992938]",
          "(8.680770741122833, 11.210478375992938]",
          "(8.680770741122833, 11.210478375992938]",
          "(11.210478375992938, 14.169145299145299]",
          "(-inf, 5.976]",
          "(11.210478375992938, 14.169145299145299]",
          "(8.680770741122833, 11.210478375992938]",
          "(14.169145299145299, 17.130681818181817]",
          "(11.210478375992938, 14.169145299145299]",
          "(-inf, 5.976]",
          "(8.680770741122833, 11.210478375992938]",
          "(14.169145299145299, 17.130681818181817]",
          "(11.210478375992938, 14.169145299145299]",
          "(11.210478375992938, 14.169145299145299]",
          "(14.169145299145299, 17.130681818181817]",
          "(11.210478375992938, 14.169145299145299]",
          "(11.210478375992938, 14.169145299145299]",
          "(14.169145299145299, 17.130681818181817]",
          "(5.976, 8.680770741122833]",
          "(11.210478375992938, 14.169145299145299]",
          "(8.680770741122833, 11.210478375992938]",
          "(8.680770741122833, 11.210478375992938]",
          "(-inf, 5.976]",
          "(14.169145299145299, 17.130681818181817]",
          "(11.210478375992938, 14.169145299145299]",
          "(8.680770741122833, 11.210478375992938]",
          "(-inf, 5.976]",
          "(11.210478375992938, 14.169145299145299]",
          "(11.210478375992938, 14.169145299145299]",
          "(11.210478375992938, 14.169145299145299]",
          "(17.130681818181817, 21]",
          "(11.210478375992938, 14.169145299145299]",
          "(-inf, 5.976]",
          "(11.210478375992938, 14.169145299145299]",
          "(-inf, 5.976]",
          "(14.169145299145299, 17.130681818181817]",
          "(14.169145299145299, 17.130681818181817]",
          "(14.169145299145299, 17.130681818181817]",
          "(14.169145299145299, 17.130681818181817]",
          "(8.680770741122833, 11.210478375992938]",
          "(11.210478375992938, 14.169145299145299]",
          "(11.210478375992938, 14.169145299145299]",
          "(8.680770741122833, 11.210478375992938]",
          "(11.210478375992938, 14.169145299145299]",
          "(14.169145299145299, 17.130681818181817]",
          "(11.210478375992938, 14.169145299145299]",
          "(8.680770741122833, 11.210478375992938]",
          "(14.169145299145299, 17.130681818181817]"
         ],
         "x0": " ",
         "xaxis": "x",
         "y": [
          0.0008122137266923936,
          0.00006324646128836197,
          0.004480996493658284,
          0.017837098231573513,
          0.0007971300684570827,
          0.0016601732773791798,
          0.004798067474615132,
          0.0075695735919234855,
          0.0007075345519393668,
          0.0007985063310334369,
          0.00029815745393634843,
          0.02153788634097707,
          0.0005854347826086956,
          0.024036203866432338,
          0.013711644591611479,
          0.000005924300603400988,
          0.0045198787537008315,
          0.015495678790061217,
          0.0016153125,
          0.01225919135863641,
          0.0009801966292134832,
          0.013987527114967462,
          0.0001470276383685587,
          0.0007481497753975047,
          0.026375936486637594,
          0.0012406642161453456,
          0.000528044466902476,
          0.0008268641470888662,
          0.0007321248741188319,
          0.0105085276714236,
          0.00249812817376478,
          0.00009682095888992441,
          0.01440345536816125,
          0.010757931844888366,
          0.001627679806362379,
          0.0006712919889772012,
          0.00020665736650391382,
          0.02036945706251352,
          0.2723377926421405,
          0.0000067114093959731546,
          0.001816000537956499,
          0.00006623176296677165,
          0.00000506420690902514,
          0.0009786140452173126,
          0.0010616992276238073,
          0.0034550387596899226,
          0.0005352635486265776,
          0.007342207597965899,
          0.0001744515743918818,
          0.024929719626168224,
          0.0006547140934909662,
          0.0214460716747071,
          0.0005637082862411517,
          0.0006764923989618094,
          0.004164353786992142,
          0.00012947170229261272,
          0.00017736486486486487,
          0.00823816717019134,
          0.0010583991755410511,
          0.00013443640124095142,
          0.005768597997138769,
          0.0006275346851654216,
          0.0006286427976686096,
          0.0007401528512639623,
          0.0008889407100798694,
          0.00000797773654916512,
          0.005862909820831165,
          0.0002380456547857429,
          0.004520852252881593,
          0.00011488134841428255,
          0.001698440651006902,
          0.000008999581414817915,
          0.00001056338028169014,
          0.0038639285255174186,
          0.004532562446813836,
          0.000690716104579338,
          0.0010746268656716418,
          0.00012627279185413212,
          0.0006844526218951243,
          0.00011815206310028437,
          0.00013706871321257847,
          0.00022656014470907445,
          0.0011438437406467202,
          0.0005661438089950028,
          0.0019899827829081233,
          0.000174822974036192,
          0.00027636022514071295,
          0.001065329218106996,
          0.0008096836049856184,
          0.001636296773007263,
          0.000015584415584415583,
          0.000010537870472008782,
          0.0007904060567347058,
          0.004521033285685113,
          0.032573954983922834,
          0.000687196110210697,
          0.0008111798940645639,
          0.00021522118742724097,
          0.00013336437408540642,
          0.000007945306725794531,
          0.0009523556465950375,
          0.000059494309838472834,
          0.012636692913385827,
          0.003405857740585774,
          0.00011137929004532877,
          0.0017537530065522102,
          0.033249895266024294,
          0.008162127346337872,
          0.0014914648953646167,
          0.02068049104180491,
          0.000736468200270636,
          0.006876943881000676,
          0.0004312849162011173,
          0.0010156193721774305,
          0.00000648807032231059,
          0.00015787094586958977,
          0.0007277335264301232,
          0.027153026026967703,
          0.0014051329702772322,
          0.0004783923172683621,
          0.0000721398403058236,
          0.0069517395772166765,
          0.024043488453874103,
          0.000013205086403651776,
          0.004618707235961928,
          0.014568627450980393,
          0.000005676552363299351,
          0.0001116905309056626,
          0.0016403861625100564,
          0.013343175970801173,
          0.0002124609510586602,
          0.003244803654261535,
          0.0030679652407539565,
          0.01786587982832618,
          0.003442353445922228,
          0.005746173784250802,
          0.000726353126642144,
          0.0014038182239154687,
          0.00015594162612925645,
          0.0009884564643799472,
          0.0033458302749703574,
          0.0107882566311494,
          0.022756160632795862,
          0.00537970655824642,
          0.028319413092550788,
          0.002339171507363727,
          0.2122073732718894,
          0.0006404027139417817,
          0.00044260151410874054,
          0.001345318580030869,
          0.0006374363720499768,
          0.000005389604457842331,
          0.0001325283989426306,
          0.02246529513555086,
          0.0001478673851493287,
          0.0018826777087646654,
          0.015301232876712327,
          0.00813919481155164,
          0.0006607806691449814,
          0.2255160427807487,
          0.001053919892466779,
          0.00041403958944281525,
          0.00012365591397849463,
          0.00219,
          0.0007118914888328658,
          0.00009621412479185034,
          0.00007316289653326194,
          0.0012226976744186047,
          0.010031964025279533,
          0.005721005970689343,
          0.005208591151328731,
          0.0010014005602240897,
          0.0013581131426606294,
          0.0009502849905003167,
          0.0008817351598173517,
          0.00021786823498314942,
          0.025191055834876953,
          0.0020429864253393663,
          0.01554018954018954,
          0.00382478077297824,
          0.001053362573099415,
          0.000405982905982906,
          0.0008091397849462365,
          0.0035869193314909857,
          0.0000757015321608081,
          0.00005950166857926741,
          0.00397927090779128,
          0.00012457465349821563,
          0.0000838293394061729,
          0.0017704202198705434,
          0.0008952536824877251,
          0.00024076773566569483,
          0.00006450981853411335,
          0.00008468588397931494,
          0.002106299212598425,
          0.0009452799412796151,
          0.00011292299493738343,
          0.03371925360474979,
          0.00031338783852835974,
          0.000009210268469527728,
          0.024822377746279232,
          0.003955638982531413,
          0.00007835574260159472,
          0.003834223191457362,
          0.00001077414205905826,
          0.02697568275346053,
          0.00008060268799841006,
          0.00011697697207251348,
          0.005311280853481472,
          0.000008605549701440113,
          0.002215248651887358,
          0.00007212255444813584,
          0.0005695642041482172,
          0.008141857142857143,
          0.00806228117949117,
          0.00006526161473904414,
          0.000012351124834583149,
          0.0008647594278283485,
          0.0016827816696441116,
          0.0006219558240513498,
          0.000009863588667366213,
          0.00006542754438265439,
          0.030543402777777777,
          0.0014190912714228776,
          0.0002824388149420352,
          0.000005021316911416391,
          0.0006518804243008679,
          0.009442262943571844,
          0.008043660432353656,
          0.007465552914245466,
          0.00016280864197530865,
          0.0007058678500986193,
          0.00015683977612911622,
          0.00447069099378882,
          0.00014072096128170893,
          0.0127689417989418,
          0.0003444444444444444,
          0.00005680046598482123,
          0.0005163358147229115,
          0.0001467492481741372,
          0.0009321047526673132,
          0.00012432031636183885,
          0.0050821474773609316,
          0.008521179515118495,
          0.0006040675547098002,
          0.0013483309143686503,
          0.010260242792109256,
          0.00024258600237247923,
          0.000005319714863283329,
          0.0001445606152250929,
          0.003907494486288544,
          0.0008084868788386377,
          0.004996039944903581,
          0.0446536559139785,
          0.0008931685283098148,
          0.00001849763140085721,
          0.0011830732292917167,
          0.024336088154269974,
          0.0033897868918375553,
          0.0001118984533859141,
          0.01675531380753138,
          0.0017247808543203005,
          0.030506020278833968,
          0.00015373134328358208,
          0.0007070787110406762,
          0.001038932146829811,
          0.0001262098167991704,
          0.00011339320166976532,
          0.0010475375724823478,
          0.002034318655269018,
          0.000007273744579661491,
          0.0000062004822597313125,
          0.0002492836676217765,
          0.012659233847913093,
          0.008421431633090441,
          0.0007233532934131737,
          0.005364597007088474,
          0.0005651815181518152,
          0.007583504931180232,
          0.000009936575052854123,
          0.01530301028592998,
          0.000836560805577072,
          0.001942297149122807,
          0.00014577199589181785,
          0.004972556347074623,
          0.014292301139388777,
          0.00010466348701642819,
          0.009935624341265879,
          0.0000925067593665508,
          0.00006087015635622025,
          0.00007937681976143515,
          0.0008316455696202532,
          0.005116200276069771,
          0.012272269292420425,
          0.00045831359545239227,
          0.0008980619711364897,
          0.0015457154571545714,
          0.0015287356321839081,
          0.009545935479409426,
          0.0006318082788671025,
          0.003012718831608473,
          0.011852781300960319,
          0.00020317905868529276,
          0.0148145968216598,
          0.013715940621531631,
          0.0005737246680642907,
          0.013011979670861568,
          0.0007881859005905512,
          0.010500175592625111,
          0.002079289131920711,
          0.0007625546889861137,
          0.0001942377408891433,
          0.005075339233038348,
          0.005245298518409857,
          0.00823788021323299,
          0.0015892997639653816,
          0.0009986577181208055,
          0.0009569152787834902,
          0.00025065322881672266,
          0.015500942408376963,
          0.01695133505598622,
          0.0008935898612513245,
          0.022303283767038416,
          0.00013885748487065238,
          0.000006153443309766955,
          0.004096383734307008,
          0.00008983481766758935,
          0.0010549088068209217,
          0.004079396817462302,
          0.004738993710691824,
          0.000005057422821620483,
          0.0029267646669315322,
          0.0010168194695398067,
          0.0019776376784720936,
          0.007055979133226324,
          0.04244366875300915,
          0.000008933773548261798,
          0.014634077555816687,
          0.0048497615262321145,
          0.0030724771855574658,
          0.000004525352257533682,
          0.000009475218658892128,
          0.000013589897775105232,
          0.00032581245105716523,
          0.003951188123362596,
          0.006494610667162237,
          0.006765911907175847,
          0.000005015673981191223,
          0.04540337078651685,
          0.0001535487434410384,
          0.0000116973618715779,
          0.030374023293527938,
          0.0005288966725043783,
          0.011098554893500446,
          0.0025206725809779245,
          0.006742741302641904,
          0.0012820906994619524,
          0.000978337236533958,
          0.009269688947716745,
          0.00034146013835717644,
          0.0030049081697276756,
          0.0001236326555837093,
          0.000106759461426492,
          0.0009022988505747126,
          0.00019665985003408315,
          0.0008846545683055948,
          0.0004620829120323559,
          0.21509868421052633,
          0.0010178443968593862,
          0.00010483460559796437,
          0.010453644553644554,
          0.00000912280701754386,
          0.005956436594738398,
          0.000005241935483870968,
          0.00009323554242296329,
          0.0013915453915453915,
          0.0012937665782493369,
          0.0008804086538461538,
          0.02665243639499784,
          0.00014155130158309597,
          0.000011352169525731583,
          0.0007873606564795679,
          0.00029045290240272163,
          0.00014870768110666183,
          0.0006909158050221565,
          0.00000895638629283489,
          0.0071045425933697025,
          0.000005769735116706006,
          0.00001044504995458674,
          0.0036229989580373215,
          0.022352941176470586,
          0.0006547314578005116,
          0.0008136461704422869,
          0.009021366901255169,
          0.0008342433697347894,
          0.00039167120304844856,
          0.015139527127186482,
          0.000010715914272685818,
          0.0009034234069746211,
          0.00015548391429914701,
          0.0004444077862091719,
          0.0000067276641550053825,
          0.0012017205576980126,
          0.00015475231574708015,
          0.001408871601445859,
          0.014776949673453707,
          0.0021853888452474466,
          0.0018834264757247644,
          0.0002092770710518151,
          0.0001469290042642328,
          0.00011818154284156647,
          0.0000599772923762799,
          0.001106045589692765,
          0.0001726051726051726,
          0.00007105233665807464,
          0.001031967213114754,
          0.009438662465697734,
          0.0005565326633165829,
          0.00008134200196270854,
          0.000008781558726673984,
          0.0012576786291626251,
          0.00014378676010511827,
          0.0014155185238639769,
          0.009079537729435759,
          0.01399701089181885,
          0.0020369776609724046,
          0.0006075491209927611,
          0.000007154213036565978,
          0.00017802056555269924,
          0.0008338741077222583,
          0.0034209178923850303,
          0.0006841919548341566,
          0.0010209334286185477,
          0.02114375323331609,
          0.000010347864376926464,
          0.02036287141730213,
          0.0006820964039785768,
          0.010502835723598435,
          0.006726186029137094,
          0.007276873700388754,
          0.0001262686009588444,
          0.0006196403872752421,
          0.002574350582941297,
          0.013826137787056368,
          0.00007730804795353893,
          0.000013448090371167295,
          0.007451733232856066,
          0.0023061844017439044,
          0.008571741511500548,
          0.000847682119205298,
          0.0004023756495916852,
          0.00942039481368999,
          0.0013959633027522936,
          0.0008653463799812537,
          0.00014290310127396732,
          0.004587241782512668,
          0.0004216489216489216,
          0.029514660831509845,
          0.000749730312837109,
          0.001734564236523391,
          0.013808762619725603,
          0.0005453616673477728,
          0.004183941090432238,
          0.000006363636363636364,
          0.00010020237303171435,
          0.00009066235714396178,
          0.0008939108600125549,
          0.004644739312762096,
          0.007119562166713444,
          0.0028700956149027364,
          0.000008852629751779205,
          0.001935720640569395,
          0.00014377190617417094,
          0.0001342225927469779,
          0.0012277554406790478,
          0.000152172330980278,
          0.0008859824780976219,
          0.0008251928020565553,
          0.010306855002025111,
          0.0009083224967490247,
          0.000009286702232760325,
          0.00240633130962706,
          0.0004029895908980876,
          0.02911835767864193,
          0.0011303456356180433,
          0.003020376707855482,
          0.0008444733796296297,
          0.012475441289332308,
          0.00034506866416978777,
          0.000009361233480176211,
          0.000018002209657503088,
          0.0033107572115384618,
          0.003947258485639687,
          0.0005133782150871742,
          0.00021470026727758688,
          0.015655037546933665,
          0.016771214642262895,
          0.001587512291052114,
          0.0009108409321175278,
          0.0005292713967546929,
          0.003293523387766399,
          0.006969623155179825,
          0.0036886803473384993,
          0.00924685216850614,
          0.014236825396825397,
          0.0005768817204301075,
          0.007307044410413476,
          0.01213445587259456,
          0.0011945881514432825,
          0.0009601215343714394,
          0.000015073009891662741,
          0.00013105489773950486,
          0.009457938257993386,
          0.0001117560865644725,
          0.016962536212799577,
          0.028010907704042715,
          0.000005006739842095128,
          0.00008447219887114208,
          0.010570473568900625,
          0.000003231435403606282,
          0.000005461010922021844,
          0.20297442455242967,
          0.005947441317976382,
          0.0014752482734284417,
          0.039617851536218884,
          0.0199841381741276,
          0.0030462405284631825,
          0.04942935596605092,
          0.00012660593319317918,
          0.000884905313476742,
          0.004285917915949865,
          0.0006825121443442053,
          0.000004871426289730075,
          0.003132183121091789,
          0.011557008451602615,
          0.0001971363715732495,
          0.000988607594936709,
          0.000003893129770992366,
          0.013716922695738354,
          0.0012947303921568628,
          0.0009904644724700092,
          0.010300271190352548,
          0.0011470083073363945,
          0.0007688702516033547,
          0.000980068060281964,
          0.0011132930513595165,
          0.015029285626761427,
          0.00030038397164517083,
          0.03266341364921254,
          0.002108533196643915,
          0.0007286075949367089,
          0.0033941814033086135,
          0.013201780415430268,
          0.00006906012947653462,
          0.001419629057187017,
          0.015892504667911443,
          0.006829869304774006,
          0.0014867854947756608,
          0.02425289635737397,
          0.00083966562230644,
          0.0005365329512893982,
          0.004880537716338304,
          0.010229563197625652,
          0.0008554063860667635,
          0.011193988310603952,
          0.0010767558911004347,
          0.0133085860017002,
          0.01547196191051995,
          0.009489490616621984,
          0.0009024896265560166,
          0.016681123919308358,
          0.0011567912488605287,
          0.0027297082754514784,
          0.002141100661790317,
          0.008852464262854704,
          0.0000921001521380248,
          0.0025555754670489672,
          0.16700721153846154,
          0.00011395216400911163,
          0.00015614766299493896,
          0.000010351444152696424,
          0.009682982791586997,
          0.0008409763313609467,
          0.0009740273525209226,
          0.0044609634551495015,
          0.0015845231296402055,
          0.00001099163679808841,
          0.003443512304250559,
          0.00013092777046921005,
          0.0008283969465648855,
          0.0004864227642276423,
          0.008315704313254128,
          0.0010739856801909309,
          0.01716776930821228,
          0.2646054421768707,
          0.01115412533268812,
          0.0006802810427473899,
          0.020898339204831404,
          0.006490720311486048,
          0.00026093423379964625,
          0.0029434410646387832,
          0.0008511520737327188,
          0.0007926136363636363,
          0.0000658922914466737,
          0.029655080213903746,
          0.0007626666666666667,
          0.01121621101270697,
          0.00018234005589546037,
          0.007194649644983146,
          0.004656287069988138,
          0.00020322262413679712,
          0.011711971104231165,
          0.0000042564280750521195,
          0.02361231145536078,
          0.002053240946374108,
          0.0005371144798745427,
          0.006823672148827177,
          0.007437699069945216,
          0.006333560540339572,
          0.0003118239739220625,
          0.015517532757593806,
          0.014922611850060458,
          0.0013913824057450628,
          0.0006807051909892263,
          0.001102880658436214,
          0.000177430073098532,
          0.006300916030534351,
          0.00000834756213242269,
          0.015628055260361318,
          0.00039536567704561907,
          0.000008579272477693891,
          0.00018410924891371818,
          0.013175474129994477,
          0.0011022612217347282,
          0.0008593852190974493,
          0.0016237016564605575,
          0.006607640825432236,
          0.004493166885676741,
          0.0009827771797631863,
          0.013051013874066169,
          0.001594721157939549,
          0.0012945414995581537,
          0.0004907883461868038,
          0.0006483253588516747,
          0.004017886816838996,
          0.000005338853780780126,
          0.0007482464929859719,
          0.00010161090458488229,
          0.00015849673202614377,
          0.007887185959850943,
          0.007517720167006505,
          0.0072069849407241275,
          0.00028376593099160705,
          0.00014370839936608557,
          0.015351756007393715,
          0.004773584905660377,
          0.0002388264955305982,
          0.0087049601857996,
          0.02276120857699805,
          0.001687166304132885,
          0.009125379645480148,
          0.0011483138334480384,
          0.000047748759036889044,
          0.0005948275862068965,
          0.0006542857142857142,
          0.0014052901023890786,
          0.016826001313197638,
          0.0010136186770428016,
          0.0015786555521566227,
          0.009179837416357906,
          0.0069937665281450696,
          0.00020081919926156686,
          0.012058560238716896,
          0.0004909766454352442,
          0.0007213049690427052,
          0.007760529323837158,
          0.0009075008409014463,
          0.0007557018575123442,
          0.012255196304849884,
          0.000011423550087873463,
          0.0074779352894079965,
          0.0012065439672801638,
          0.00011721639950678175,
          0.004237031547745077,
          0.00014749700598802395,
          0.0003030707610146863,
          0.000607641252552757,
          0.00008110454301186391,
          0.003021072796934866,
          0.029169176470588237,
          0.0008833073727933542,
          0.00018433091879527258,
          0.001620274914089347,
          0.016442596674013224,
          0.000009344012204424104,
          0.001552197255915689,
          0.00041105263157894737,
          0.0001167995444191344,
          0.0020496134020618556,
          0.0006812785388127854,
          0.011379407616361071,
          0.0007574791564492398,
          0.000011145272867025366,
          0.007154165493948776,
          0.0006380403458213257,
          0.00010386686543551675,
          0.0008313206577595067,
          0.007789576316255983,
          0.000014560582423296931,
          0.002623933360422592,
          0.00046189294576391346,
          0.0001389806512505899,
          0.00012028739184177998,
          0.0008413533834586467,
          0.0023505338078291813,
          0.0005437352245862884,
          0.00017702138428444893,
          0.2349673590504451,
          0.000011153298528713812,
          0.0061780364070426735,
          0.011330717488789239,
          0.0007144249512670565,
          0.0012011834319526626,
          0.00065655133295519,
          0.00013540635109262562,
          0.00028253156201006683,
          0.000904912226670773,
          0.014015707874337006,
          0.00014089560477471881,
          0.005439771729587357,
          0.0018292638860210612,
          0.01978670562454346,
          0.005055073349633252,
          0.00016803506818814363,
          0.00020167828995860972,
          0.012072524407252441,
          0.0006525374855824682,
          0.020754788507581803,
          0.026129130269654386,
          0.0017436893203883494,
          0.010136343790931205,
          0.001126098586167367,
          0.0004800057954216169,
          0.00045840436413228773,
          0.0013315525876460767,
          0.00015681566309567788,
          0.0037586253920632753,
          0.000014823599169878447,
          0.000007923128792987187,
          0.03311582504223766,
          0.0009163822525597269,
          0.001068559185859668,
          0.00047414997671169074,
          0.0030473389355742293,
          0.0007173601147776184,
          0.00013596621661809312,
          0.00010842042654431133,
          0.009357689586415386,
          0.00009519876097057305,
          0.00011254655493482309,
          0.001210510078157137,
          0.013427782974742751,
          0.027498795522176562,
          0.0001479716024340771,
          0.015622423398328691,
          0.000338099740014181,
          0.21245548961424332,
          0.013592235004108463,
          0.00000872865275142315,
          0.0000053680981595092024,
          0.0013731751824817518,
          0.0039614649681528665,
          0.00022511424597655474,
          0.001761622992392223,
          0.00013849118942731278,
          0.005608487425088357,
          0.0001490367139222101,
          0.010515787447054293,
          0.0023251953125,
          0.00009971319311663481,
          0.00015104537050206229,
          0.011341967734605772,
          0.000014305750350631136,
          0.003071143085531575,
          0.0009839506172839507,
          0.00000728650539201399,
          0.028066328054974606,
          0.0007268475691232398,
          0.018110181644359465,
          0.00012991712384732113,
          0.026031739961759084,
          0.000019812526629740094,
          0.024057231511808306,
          0.00023751248751248752,
          0.0011138014527845037,
          0.001316609735269001,
          0.00028209751875360646,
          0.000022606382978723404,
          0.00013658062234794908,
          0.000020128824476650564,
          0.0007061721991701245,
          0.0006731682920730183,
          0.00000915157292659676,
          0.0005984570168993387,
          0.0008619737750172532,
          0.000261103781882146,
          0.0013848797250859107,
          0.0010404595404595405,
          0.0001791093917194831,
          0.012652989190381646,
          0.001731607280184568,
          0.01566732838783826,
          0.01332029520295203,
          0.000006792639249104606,
          0.028435845213849287,
          0.00014591284281530132,
          0.0008616863905325444,
          0.007396409584713768,
          0.00014047719892700832,
          0.05077223154362416,
          0.00621937441643324,
          0.00123078231292517,
          0.0001966099823321555,
          0.0008382608695652174,
          0.000008530438154323382,
          0.0000063254744105807935,
          0.000156508102456874,
          0.0008394557823129252,
          0.003950332089009551,
          0.00048358189429618004,
          0.014741549522480954,
          0.00012420267180166084,
          0.0009428658722884204,
          0.0006502472422974515,
          0.012894183168316833,
          0.028123132704858594,
          0.0010003368137420005,
          0.005874878444084278,
          0.015124620060790274,
          0.001054109589041096,
          0.014124564025909317,
          0.20863424657534246,
          0.02337637265320581,
          0.000004753199268738575,
          0.21859948320413436,
          0.0027393031233074565,
          0.0001778323510150622,
          0.0013234077750206782,
          0.0007803819444444444,
          0.000005288262131895479,
          0.0007875354107648725,
          0.0001230855435188644,
          0.01766826287978864,
          0.0009471553377370552,
          0.008320604427784936,
          0.0259119825708061,
          0.00014478685853923433,
          0.00011729134235420907,
          0.0002682570593962999,
          0.0008025629887054734,
          0.0010240303541315346,
          0.0018334714167357084,
          0.00012117274884193876,
          0.0007109406540169559,
          0.23302567975830815,
          0.000850860155382908,
          0.000008737092930897538,
          0.0003348193336461755,
          0.004289143480632842,
          0.00015600478787072749,
          0.02735242689176967,
          0.00000851214754389076,
          0.009756835769561479,
          0.0299823828550672,
          0.0001732083922677982,
          0.00011418033877682934,
          0.0000102757409893628,
          0.00052577173605211,
          0.00011321021388862716,
          0.0008037459283387622,
          0.0004983635822671823,
          0.0020994152046783627,
          0.000016625615763546798,
          0.000761147362697118,
          0.0001113580795732385,
          0.0007688588007736944,
          0.0009326325140657387,
          0.000007413376309427881,
          0.0013891102257636123,
          0.031524084061744465,
          0.00016059584035975265,
          0.005760158246105662,
          0.00009687034277198212,
          0.00013470826262889962,
          0.00038680555555555555,
          0.00011448903772696353,
          0.0008915776241357636,
          0.0001932740626207963,
          0.008441739824421389,
          0.000015499070055796652,
          0.009250254007676676,
          0.000005709452315500105,
          0.027461521450685537,
          0.000009386523633925577,
          0.011143172395345728,
          0.0010012066365007542,
          0.0015551558752997603,
          0.04019125237707145,
          0.0033106646058732613,
          0.00013445378151260505,
          0.0004706386292834891,
          0.014813193228254525,
          0.0005657383419689119,
          0.03867808958445764,
          0.0006927244582043344,
          0.0009643507281553398,
          0.00045368210596467845,
          0.00015624772047559998,
          0.00048403575989782886,
          0.0011276159212146083,
          0.014404344048653345,
          0.01604850313297749,
          0.2568981818181818,
          0.0010969418960244648,
          0.0008115702479338843,
          0.000140731723811456,
          0.0009135373934995267,
          0.00000881316098707403,
          0.0009206489675516224,
          0.0008960953011250827,
          0.0004104619403871274,
          0.000804678188319428,
          0.0007853457172342621,
          0.0011567164179104477,
          0.000004786934484700583,
          0.0012459016393442624,
          0.0000916030534351145,
          0.00003289473684210526,
          0.0000996309963099631,
          0.0016362876254180604,
          0.0019441805225653207,
          0.0008552036199095022,
          0.0009480259870064967,
          0.0014376979936642027,
          0.0005295267042987409,
          0.0006828087167070218,
          0.0009498982706002035,
          0.001086231884057971,
          0.0015319080012957565,
          0.0011054054054054055,
          0.0010303347280334726,
          0.0010659203980099502,
          0.0011376811594202899,
          0.0009981735159817352,
          0.000675438596491228,
          0.00020741758241758242,
          0.0006085440278988666,
          0.0007180008126777733,
          0.00012962962962962963,
          0.0012559274755927477,
          0.0011291187739463603,
          0.0020535810446957454,
          0.001252925877763329,
          0.000822998046875,
          0.000026442307692307694,
          0.0007726849697533737,
          0.0014243079584775086,
          0.0012031134173461824,
          0.002671273221567739,
          0.0005411570247933885,
          0.0006550141242937853,
          0.002216757741347905,
          0.001940069150979639,
          0.00010450450450450451,
          0.0008278236914600551,
          0.0011223241590214068,
          0.00231651376146789,
          0.0008660145586897179,
          0.0009322974472807991,
          0.0027144896502498215,
          0.0009952483801295897,
          0.00047329749103942653,
          0.0010568454763811048,
          0.0011710414902624895,
          0.0009752916952642417,
          0.0010473563218390805,
          0.0017595744680851063,
          0.0019062776304155616,
          0.0010226814516129032,
          0.0019690376569037656,
          0.0006313107920333487,
          0.0010058458165875046,
          0.006453588101183367,
          0.0020440484196368527,
          0.0023191899710703952,
          0.00017716535433070864,
          0.0015050980392156863,
          0.0016348408710217754,
          0.001076820307281229,
          0.00043724696356275305,
          0.0008604978863316111,
          0.0007291558777835318,
          0.00149743964886613,
          0.004839534883720931,
          0.003774625267665953,
          0.0007679856115107913,
          0.0007114731839782757,
          0.0007773262901259651,
          0.0011629292221443587,
          0.002758206195099399,
          0.002744595676541233,
          0.0025718113612004283,
          0.0009661016949152542,
          0.0014185861795075457,
          0.0007889972144846796,
          0.0012676537585421413,
          0.00004608294930875576,
          0.000936201239518775,
          0.0018492063492063493,
          0.001161533196440794,
          0.0008179012345679012,
          0.007278867924528302,
          0.0014662113587347232,
          0.00002904564315352697,
          0.0006897570584372949,
          0.00015865384615384616,
          0.0016852189781021898,
          0.00642619462178371,
          0.0013243243243243243,
          0.0008181818181818183,
          0.001681703629032258,
          0.0017723952326028451,
          0.0018238993710691825,
          0.001931248064416228,
          0.002101081812035159,
          0.00007661290322580645,
          0.00010192837465564738,
          0.00014092140921409212,
          0.0011751863684771034,
          0.001429991356957649,
          0.0008493265993265994,
          0.0006240530303030302,
          0.0006214092140921409,
          0.0013688204683434519,
          0.0012833402575820523,
          0.0012704755614266843,
          0.00006493506493506494,
          0.0013342105263157895,
          0.0008803582853486884,
          0.0013836424957841484,
          0.0008246250604741171,
          0.00011952191235059761,
          0.0007037444933920704,
          0.0009204474829086389,
          0.0011841526045487894,
          0.00003255813953488372,
          0.0006409214092140921,
          0.0008760708166761851,
          0.0014535055350553506,
          0.0019245283018867925,
          0.0020539499036608864,
          0.000790794979079498,
          0.00024669603524229077,
          0.001435907335907336,
          0.0009929742388758783,
          0.000533204384268214,
          0.0022775384615384615,
          0.000023952095808383234,
          0.001110070257611241,
          0.0009712701612903227,
          0.001035606517803259,
          0.0010647109577221743,
          0.0012274573517465474,
          0.0010337748344370862,
          0.0010616078136739292,
          0.0006789500252397779,
          0.0010897284533648171,
          0.0007504019292604501,
          0.0016114754098360655,
          0.0011022176022176021,
          0.00014133333333333334,
          0.0008411642411642412,
          0.00155875468164794,
          0.006715909090909091,
          0.00023636363636363636,
          0.001331109763493026,
          0.000599197247706422,
          0.0030368311327310634,
          0.0010136319376825706,
          0.001921116504854369,
          0.0001319910514541387,
          0.0007221873035826524,
          0.0000712401055408971,
          0.0006163484486873508,
          0.001799429657794677,
          0.0011759674134419551,
          0.0006327387198321092,
          0.0010170006071645416,
          0.000804322429906542,
          0.0005649477806788512,
          0.000600896860986547,
          0.0006178493845039826,
          0.0007767902488572879,
          0.0013443054641211322,
          0.0011292984869325996,
          0.0012205029013539653
         ],
         "y0": " ",
         "yaxis": "y"
        },
        {
         "alignmentgroup": "True",
         "hovertemplate": "color=True<br>=%{x}<br>inter_api_access_duration(sec)=%{y}<extra></extra>",
         "legendgroup": "True",
         "marker": {
          "color": "rgb(217, 175, 107)"
         },
         "name": "True",
         "notched": false,
         "offsetgroup": "True",
         "orientation": "v",
         "showlegend": true,
         "type": "box",
         "x": [
          "(87.9065420560748, inf]",
          "(5.976, 8.680770741122833]",
          "(17.130681818181817, 21]",
          "(8.680770741122833, 11.210478375992938]",
          "(51.756000000000014, 87.9065420560748]",
          "(33.93583302568712, 51.756000000000014]",
          "(-inf, 5.976]",
          "(51.756000000000014, 87.9065420560748]",
          "(87.9065420560748, inf]",
          "(11.210478375992938, 14.169145299145299]",
          "(-inf, 5.976]",
          "(11.210478375992938, 14.169145299145299]",
          "(87.9065420560748, inf]",
          "(87.9065420560748, inf]",
          "(87.9065420560748, inf]",
          "(87.9065420560748, inf]",
          "(87.9065420560748, inf]",
          "(87.9065420560748, inf]",
          "(87.9065420560748, inf]",
          "(-inf, 5.976]",
          "(87.9065420560748, inf]",
          "(51.756000000000014, 87.9065420560748]",
          "(87.9065420560748, inf]",
          "(11.210478375992938, 14.169145299145299]",
          "(-inf, 5.976]",
          "(87.9065420560748, inf]",
          "(14.169145299145299, 17.130681818181817]",
          "(-inf, 5.976]",
          "(8.680770741122833, 11.210478375992938]",
          "(21, 33.93583302568712]",
          "(-inf, 5.976]",
          "(87.9065420560748, inf]",
          "(87.9065420560748, inf]",
          "(87.9065420560748, inf]",
          "(-inf, 5.976]",
          "(21, 33.93583302568712]",
          "(51.756000000000014, 87.9065420560748]",
          "(-inf, 5.976]",
          "(87.9065420560748, inf]",
          "(21, 33.93583302568712]",
          "(-inf, 5.976]",
          "(17.130681818181817, 21]",
          "(87.9065420560748, inf]",
          "(11.210478375992938, 14.169145299145299]",
          "(87.9065420560748, inf]",
          "(-inf, 5.976]",
          "(-inf, 5.976]",
          "(51.756000000000014, 87.9065420560748]",
          "(87.9065420560748, inf]",
          "(11.210478375992938, 14.169145299145299]",
          "(33.93583302568712, 51.756000000000014]",
          "(14.169145299145299, 17.130681818181817]",
          "(-inf, 5.976]",
          "(11.210478375992938, 14.169145299145299]",
          "(33.93583302568712, 51.756000000000014]",
          "(17.130681818181817, 21]",
          "(87.9065420560748, inf]",
          "(51.756000000000014, 87.9065420560748]",
          "(87.9065420560748, inf]",
          "(17.130681818181817, 21]",
          "(87.9065420560748, inf]",
          "(17.130681818181817, 21]",
          "(5.976, 8.680770741122833]",
          "(87.9065420560748, inf]",
          "(21, 33.93583302568712]",
          "(5.976, 8.680770741122833]",
          "(87.9065420560748, inf]",
          "(5.976, 8.680770741122833]",
          "(-inf, 5.976]",
          "(51.756000000000014, 87.9065420560748]",
          "(11.210478375992938, 14.169145299145299]",
          "(11.210478375992938, 14.169145299145299]",
          "(51.756000000000014, 87.9065420560748]",
          "(-inf, 5.976]",
          "(87.9065420560748, inf]",
          "(-inf, 5.976]",
          "(87.9065420560748, inf]",
          "(87.9065420560748, inf]",
          "(87.9065420560748, inf]",
          "(87.9065420560748, inf]",
          "(87.9065420560748, inf]",
          "(51.756000000000014, 87.9065420560748]",
          "(21, 33.93583302568712]",
          "(87.9065420560748, inf]",
          "(-inf, 5.976]",
          "(51.756000000000014, 87.9065420560748]",
          "(33.93583302568712, 51.756000000000014]",
          "(33.93583302568712, 51.756000000000014]",
          "(33.93583302568712, 51.756000000000014]",
          "(33.93583302568712, 51.756000000000014]",
          "(-inf, 5.976]",
          "(87.9065420560748, inf]",
          "(17.130681818181817, 21]",
          "(8.680770741122833, 11.210478375992938]",
          "(33.93583302568712, 51.756000000000014]",
          "(8.680770741122833, 11.210478375992938]",
          "(11.210478375992938, 14.169145299145299]",
          "(5.976, 8.680770741122833]",
          "(-inf, 5.976]",
          "(51.756000000000014, 87.9065420560748]",
          "(5.976, 8.680770741122833]",
          "(21, 33.93583302568712]",
          "(8.680770741122833, 11.210478375992938]",
          "(21, 33.93583302568712]",
          "(17.130681818181817, 21]",
          "(87.9065420560748, inf]",
          "(87.9065420560748, inf]",
          "(-inf, 5.976]",
          "(-inf, 5.976]",
          "(11.210478375992938, 14.169145299145299]",
          "(87.9065420560748, inf]",
          "(8.680770741122833, 11.210478375992938]",
          "(33.93583302568712, 51.756000000000014]",
          "(-inf, 5.976]",
          "(5.976, 8.680770741122833]",
          "(8.680770741122833, 11.210478375992938]",
          "(33.93583302568712, 51.756000000000014]",
          "(11.210478375992938, 14.169145299145299]",
          "(-inf, 5.976]",
          "(21, 33.93583302568712]",
          "(8.680770741122833, 11.210478375992938]",
          "(87.9065420560748, inf]",
          "(5.976, 8.680770741122833]",
          "(87.9065420560748, inf]",
          "(21, 33.93583302568712]",
          "(8.680770741122833, 11.210478375992938]",
          "(51.756000000000014, 87.9065420560748]",
          "(87.9065420560748, inf]",
          "(33.93583302568712, 51.756000000000014]",
          "(87.9065420560748, inf]",
          "(11.210478375992938, 14.169145299145299]",
          "(33.93583302568712, 51.756000000000014]",
          "(21, 33.93583302568712]",
          "(87.9065420560748, inf]",
          "(-inf, 5.976]",
          "(21, 33.93583302568712]",
          "(5.976, 8.680770741122833]",
          "(33.93583302568712, 51.756000000000014]",
          "(87.9065420560748, inf]",
          "(87.9065420560748, inf]",
          "(-inf, 5.976]",
          "(33.93583302568712, 51.756000000000014]",
          "(33.93583302568712, 51.756000000000014]",
          "(87.9065420560748, inf]",
          "(17.130681818181817, 21]",
          "(21, 33.93583302568712]",
          "(5.976, 8.680770741122833]",
          "(-inf, 5.976]",
          "(51.756000000000014, 87.9065420560748]",
          "(-inf, 5.976]",
          "(87.9065420560748, inf]",
          "(87.9065420560748, inf]",
          "(17.130681818181817, 21]",
          "(11.210478375992938, 14.169145299145299]",
          "(-inf, 5.976]",
          "(87.9065420560748, inf]",
          "(51.756000000000014, 87.9065420560748]",
          "(11.210478375992938, 14.169145299145299]",
          "(5.976, 8.680770741122833]",
          "(8.680770741122833, 11.210478375992938]",
          "(-inf, 5.976]",
          "(5.976, 8.680770741122833]",
          "(51.756000000000014, 87.9065420560748]",
          "(14.169145299145299, 17.130681818181817]",
          "(87.9065420560748, inf]",
          "(11.210478375992938, 14.169145299145299]",
          "(-inf, 5.976]",
          "(5.976, 8.680770741122833]",
          "(87.9065420560748, inf]",
          "(87.9065420560748, inf]",
          "(87.9065420560748, inf]",
          "(87.9065420560748, inf]",
          "(11.210478375992938, 14.169145299145299]",
          "(21, 33.93583302568712]",
          "(87.9065420560748, inf]",
          "(-inf, 5.976]",
          "(33.93583302568712, 51.756000000000014]",
          "(-inf, 5.976]",
          "(8.680770741122833, 11.210478375992938]",
          "(5.976, 8.680770741122833]",
          "(-inf, 5.976]",
          "(33.93583302568712, 51.756000000000014]",
          "(11.210478375992938, 14.169145299145299]",
          "(87.9065420560748, inf]",
          "(-inf, 5.976]",
          "(5.976, 8.680770741122833]",
          "(87.9065420560748, inf]",
          "(5.976, 8.680770741122833]",
          "(51.756000000000014, 87.9065420560748]",
          "(33.93583302568712, 51.756000000000014]",
          "(51.756000000000014, 87.9065420560748]",
          "(-inf, 5.976]",
          "(21, 33.93583302568712]",
          "(87.9065420560748, inf]",
          "(17.130681818181817, 21]",
          "(51.756000000000014, 87.9065420560748]",
          "(17.130681818181817, 21]",
          "(87.9065420560748, inf]",
          "(-inf, 5.976]",
          "(8.680770741122833, 11.210478375992938]",
          "(51.756000000000014, 87.9065420560748]",
          "(87.9065420560748, inf]",
          "(87.9065420560748, inf]",
          "(8.680770741122833, 11.210478375992938]",
          "(33.93583302568712, 51.756000000000014]",
          "(21, 33.93583302568712]",
          "(17.130681818181817, 21]",
          "(21, 33.93583302568712]",
          "(-inf, 5.976]",
          "(87.9065420560748, inf]",
          "(5.976, 8.680770741122833]",
          "(87.9065420560748, inf]",
          "(87.9065420560748, inf]",
          "(87.9065420560748, inf]",
          "(17.130681818181817, 21]",
          "(8.680770741122833, 11.210478375992938]",
          "(-inf, 5.976]",
          "(21, 33.93583302568712]",
          "(51.756000000000014, 87.9065420560748]",
          "(87.9065420560748, inf]",
          "(51.756000000000014, 87.9065420560748]",
          "(-inf, 5.976]",
          "(87.9065420560748, inf]",
          "(87.9065420560748, inf]",
          "(-inf, 5.976]",
          "(-inf, 5.976]",
          "(17.130681818181817, 21]",
          "(11.210478375992938, 14.169145299145299]",
          "(87.9065420560748, inf]",
          "(8.680770741122833, 11.210478375992938]",
          "(21, 33.93583302568712]",
          "(-inf, 5.976]",
          "(87.9065420560748, inf]",
          "(5.976, 8.680770741122833]",
          "(17.130681818181817, 21]",
          "(-inf, 5.976]",
          "(33.93583302568712, 51.756000000000014]",
          "(87.9065420560748, inf]",
          "(87.9065420560748, inf]",
          "(-inf, 5.976]",
          "(5.976, 8.680770741122833]",
          "(51.756000000000014, 87.9065420560748]",
          "(87.9065420560748, inf]",
          "(87.9065420560748, inf]",
          "(87.9065420560748, inf]",
          "(-inf, 5.976]",
          "(-inf, 5.976]",
          "(17.130681818181817, 21]",
          "(17.130681818181817, 21]",
          "(87.9065420560748, inf]",
          "(33.93583302568712, 51.756000000000014]",
          "(87.9065420560748, inf]",
          "(11.210478375992938, 14.169145299145299]",
          "(87.9065420560748, inf]",
          "(33.93583302568712, 51.756000000000014]",
          "(5.976, 8.680770741122833]",
          "(-inf, 5.976]",
          "(87.9065420560748, inf]",
          "(17.130681818181817, 21]",
          "(87.9065420560748, inf]",
          "(5.976, 8.680770741122833]",
          "(11.210478375992938, 14.169145299145299]",
          "(-inf, 5.976]",
          "(14.169145299145299, 17.130681818181817]",
          "(-inf, 5.976]",
          "(8.680770741122833, 11.210478375992938]",
          "(-inf, 5.976]",
          "(87.9065420560748, inf]",
          "(11.210478375992938, 14.169145299145299]",
          "(87.9065420560748, inf]",
          "(8.680770741122833, 11.210478375992938]",
          "(8.680770741122833, 11.210478375992938]",
          "(5.976, 8.680770741122833]",
          "(11.210478375992938, 14.169145299145299]",
          "(87.9065420560748, inf]",
          "(87.9065420560748, inf]",
          "(5.976, 8.680770741122833]",
          "(5.976, 8.680770741122833]",
          "(33.93583302568712, 51.756000000000014]",
          "(21, 33.93583302568712]",
          "(8.680770741122833, 11.210478375992938]",
          "(-inf, 5.976]",
          "(-inf, 5.976]",
          "(51.756000000000014, 87.9065420560748]",
          "(5.976, 8.680770741122833]",
          "(17.130681818181817, 21]",
          "(21, 33.93583302568712]",
          "(21, 33.93583302568712]",
          "(87.9065420560748, inf]",
          "(11.210478375992938, 14.169145299145299]",
          "(51.756000000000014, 87.9065420560748]",
          "(87.9065420560748, inf]",
          "(-inf, 5.976]",
          "(8.680770741122833, 11.210478375992938]",
          "(-inf, 5.976]",
          "(8.680770741122833, 11.210478375992938]",
          "(87.9065420560748, inf]",
          "(-inf, 5.976]",
          "(-inf, 5.976]",
          "(87.9065420560748, inf]",
          "(8.680770741122833, 11.210478375992938]",
          "(-inf, 5.976]",
          "(5.976, 8.680770741122833]",
          "(87.9065420560748, inf]",
          "(8.680770741122833, 11.210478375992938]",
          "(87.9065420560748, inf]",
          "(8.680770741122833, 11.210478375992938]",
          "(51.756000000000014, 87.9065420560748]",
          "(87.9065420560748, inf]",
          "(-inf, 5.976]",
          "(21, 33.93583302568712]",
          "(21, 33.93583302568712]",
          "(8.680770741122833, 11.210478375992938]",
          "(51.756000000000014, 87.9065420560748]",
          "(87.9065420560748, inf]",
          "(5.976, 8.680770741122833]",
          "(33.93583302568712, 51.756000000000014]",
          "(-inf, 5.976]",
          "(87.9065420560748, inf]",
          "(51.756000000000014, 87.9065420560748]",
          "(87.9065420560748, inf]",
          "(87.9065420560748, inf]",
          "(17.130681818181817, 21]",
          "(5.976, 8.680770741122833]",
          "(87.9065420560748, inf]",
          "(87.9065420560748, inf]",
          "(21, 33.93583302568712]",
          "(33.93583302568712, 51.756000000000014]",
          "(8.680770741122833, 11.210478375992938]",
          "(87.9065420560748, inf]",
          "(87.9065420560748, inf]",
          "(11.210478375992938, 14.169145299145299]",
          "(87.9065420560748, inf]",
          "(11.210478375992938, 14.169145299145299]",
          "(-inf, 5.976]",
          "(51.756000000000014, 87.9065420560748]",
          "(-inf, 5.976]",
          "(87.9065420560748, inf]",
          "(5.976, 8.680770741122833]",
          "(33.93583302568712, 51.756000000000014]",
          "(-inf, 5.976]",
          "(87.9065420560748, inf]",
          "(8.680770741122833, 11.210478375992938]",
          "(87.9065420560748, inf]",
          "(-inf, 5.976]",
          "(-inf, 5.976]",
          "(87.9065420560748, inf]",
          "(14.169145299145299, 17.130681818181817]",
          "(21, 33.93583302568712]",
          "(33.93583302568712, 51.756000000000014]",
          "(87.9065420560748, inf]",
          "(-inf, 5.976]",
          "(87.9065420560748, inf]",
          "(11.210478375992938, 14.169145299145299]",
          "(87.9065420560748, inf]",
          "(-inf, 5.976]",
          "(5.976, 8.680770741122833]",
          "(87.9065420560748, inf]",
          "(11.210478375992938, 14.169145299145299]",
          "(17.130681818181817, 21]",
          "(87.9065420560748, inf]",
          "(87.9065420560748, inf]",
          "(87.9065420560748, inf]",
          "(8.680770741122833, 11.210478375992938]",
          "(14.169145299145299, 17.130681818181817]",
          "(5.976, 8.680770741122833]",
          "(87.9065420560748, inf]",
          "(87.9065420560748, inf]",
          "(11.210478375992938, 14.169145299145299]",
          "(87.9065420560748, inf]",
          "(5.976, 8.680770741122833]",
          "(51.756000000000014, 87.9065420560748]",
          "(33.93583302568712, 51.756000000000014]",
          "(87.9065420560748, inf]",
          "(11.210478375992938, 14.169145299145299]",
          "(8.680770741122833, 11.210478375992938]",
          "(87.9065420560748, inf]",
          "(8.680770741122833, 11.210478375992938]",
          "(-inf, 5.976]",
          "(17.130681818181817, 21]",
          "(-inf, 5.976]",
          "(51.756000000000014, 87.9065420560748]",
          "(8.680770741122833, 11.210478375992938]",
          "(87.9065420560748, inf]",
          "(87.9065420560748, inf]",
          "(87.9065420560748, inf]",
          "(5.976, 8.680770741122833]",
          "(11.210478375992938, 14.169145299145299]",
          "(87.9065420560748, inf]",
          "(-inf, 5.976]",
          "(11.210478375992938, 14.169145299145299]",
          "(17.130681818181817, 21]",
          "(51.756000000000014, 87.9065420560748]",
          "(33.93583302568712, 51.756000000000014]",
          "(11.210478375992938, 14.169145299145299]",
          "(-inf, 5.976]",
          "(5.976, 8.680770741122833]",
          "(-inf, 5.976]",
          "(8.680770741122833, 11.210478375992938]",
          "(87.9065420560748, inf]",
          "(33.93583302568712, 51.756000000000014]",
          "(87.9065420560748, inf]",
          "(11.210478375992938, 14.169145299145299]",
          "(33.93583302568712, 51.756000000000014]",
          "(-inf, 5.976]",
          "(21, 33.93583302568712]",
          "(87.9065420560748, inf]",
          "(87.9065420560748, inf]",
          "(87.9065420560748, inf]",
          "(87.9065420560748, inf]",
          "(-inf, 5.976]",
          "(51.756000000000014, 87.9065420560748]",
          "(5.976, 8.680770741122833]",
          "(87.9065420560748, inf]",
          "(-inf, 5.976]",
          "(87.9065420560748, inf]",
          "(14.169145299145299, 17.130681818181817]",
          "(-inf, 5.976]",
          "(87.9065420560748, inf]",
          "(-inf, 5.976]",
          "(5.976, 8.680770741122833]",
          "(8.680770741122833, 11.210478375992938]",
          "(14.169145299145299, 17.130681818181817]",
          "(21, 33.93583302568712]",
          "(21, 33.93583302568712]",
          "(33.93583302568712, 51.756000000000014]",
          "(51.756000000000014, 87.9065420560748]",
          "(5.976, 8.680770741122833]",
          "(-inf, 5.976]",
          "(11.210478375992938, 14.169145299145299]",
          "(8.680770741122833, 11.210478375992938]",
          "(21, 33.93583302568712]",
          "(-inf, 5.976]",
          "(14.169145299145299, 17.130681818181817]",
          "(17.130681818181817, 21]",
          "(-inf, 5.976]",
          "(21, 33.93583302568712]",
          "(8.680770741122833, 11.210478375992938]",
          "(87.9065420560748, inf]",
          "(11.210478375992938, 14.169145299145299]",
          "(-inf, 5.976]",
          "(-inf, 5.976]",
          "(14.169145299145299, 17.130681818181817]",
          "(17.130681818181817, 21]",
          "(8.680770741122833, 11.210478375992938]",
          "(33.93583302568712, 51.756000000000014]",
          "(5.976, 8.680770741122833]",
          "(87.9065420560748, inf]",
          "(14.169145299145299, 17.130681818181817]",
          "(8.680770741122833, 11.210478375992938]",
          "(51.756000000000014, 87.9065420560748]",
          "(8.680770741122833, 11.210478375992938]",
          "(51.756000000000014, 87.9065420560748]",
          "(51.756000000000014, 87.9065420560748]",
          "(-inf, 5.976]",
          "(51.756000000000014, 87.9065420560748]",
          "(51.756000000000014, 87.9065420560748]",
          "(5.976, 8.680770741122833]",
          "(14.169145299145299, 17.130681818181817]",
          "(5.976, 8.680770741122833]",
          "(51.756000000000014, 87.9065420560748]",
          "(17.130681818181817, 21]",
          "(51.756000000000014, 87.9065420560748]",
          "(21, 33.93583302568712]",
          "(5.976, 8.680770741122833]",
          "(51.756000000000014, 87.9065420560748]",
          "(5.976, 8.680770741122833]",
          "(21, 33.93583302568712]",
          "(51.756000000000014, 87.9065420560748]",
          "(51.756000000000014, 87.9065420560748]",
          "(11.210478375992938, 14.169145299145299]",
          "(21, 33.93583302568712]",
          "(87.9065420560748, inf]",
          "(51.756000000000014, 87.9065420560748]",
          "(51.756000000000014, 87.9065420560748]",
          "(51.756000000000014, 87.9065420560748]",
          "(51.756000000000014, 87.9065420560748]",
          "(87.9065420560748, inf]",
          "(5.976, 8.680770741122833]",
          "(-inf, 5.976]",
          "(87.9065420560748, inf]",
          "(51.756000000000014, 87.9065420560748]",
          "(-inf, 5.976]",
          "(5.976, 8.680770741122833]",
          "(-inf, 5.976]",
          "(21, 33.93583302568712]",
          "(-inf, 5.976]",
          "(-inf, 5.976]",
          "(87.9065420560748, inf]",
          "(51.756000000000014, 87.9065420560748]",
          "(5.976, 8.680770741122833]",
          "(51.756000000000014, 87.9065420560748]",
          "(-inf, 5.976]",
          "(51.756000000000014, 87.9065420560748]",
          "(87.9065420560748, inf]",
          "(5.976, 8.680770741122833]",
          "(11.210478375992938, 14.169145299145299]",
          "(21, 33.93583302568712]",
          "(-inf, 5.976]",
          "(5.976, 8.680770741122833]",
          "(-inf, 5.976]",
          "(-inf, 5.976]",
          "(14.169145299145299, 17.130681818181817]",
          "(11.210478375992938, 14.169145299145299]",
          "(51.756000000000014, 87.9065420560748]",
          "(5.976, 8.680770741122833]",
          "(51.756000000000014, 87.9065420560748]",
          "(51.756000000000014, 87.9065420560748]",
          "(51.756000000000014, 87.9065420560748]",
          "(51.756000000000014, 87.9065420560748]",
          "(51.756000000000014, 87.9065420560748]",
          "(51.756000000000014, 87.9065420560748]",
          "(51.756000000000014, 87.9065420560748]",
          "(51.756000000000014, 87.9065420560748]",
          "(51.756000000000014, 87.9065420560748]",
          "(-inf, 5.976]",
          "(51.756000000000014, 87.9065420560748]",
          "(87.9065420560748, inf]",
          "(-inf, 5.976]",
          "(87.9065420560748, inf]",
          "(51.756000000000014, 87.9065420560748]",
          "(-inf, 5.976]",
          "(-inf, 5.976]",
          "(17.130681818181817, 21]",
          "(87.9065420560748, inf]",
          "(-inf, 5.976]",
          "(33.93583302568712, 51.756000000000014]",
          "(-inf, 5.976]",
          "(51.756000000000014, 87.9065420560748]",
          "(5.976, 8.680770741122833]",
          "(51.756000000000014, 87.9065420560748]",
          "(-inf, 5.976]",
          "(51.756000000000014, 87.9065420560748]",
          "(51.756000000000014, 87.9065420560748]",
          "(51.756000000000014, 87.9065420560748]",
          "(-inf, 5.976]",
          "(51.756000000000014, 87.9065420560748]",
          "(87.9065420560748, inf]",
          "(14.169145299145299, 17.130681818181817]",
          "(51.756000000000014, 87.9065420560748]",
          "(-inf, 5.976]",
          "(51.756000000000014, 87.9065420560748]",
          "(-inf, 5.976]",
          "(11.210478375992938, 14.169145299145299]",
          "(5.976, 8.680770741122833]",
          "(51.756000000000014, 87.9065420560748]",
          "(87.9065420560748, inf]",
          "(5.976, 8.680770741122833]",
          "(-inf, 5.976]",
          "(-inf, 5.976]",
          "(-inf, 5.976]",
          "(-inf, 5.976]",
          "(-inf, 5.976]",
          "(51.756000000000014, 87.9065420560748]",
          "(14.169145299145299, 17.130681818181817]",
          "(51.756000000000014, 87.9065420560748]",
          "(87.9065420560748, inf]",
          "(51.756000000000014, 87.9065420560748]",
          "(51.756000000000014, 87.9065420560748]",
          "(51.756000000000014, 87.9065420560748]",
          "(-inf, 5.976]",
          "(33.93583302568712, 51.756000000000014]",
          "(-inf, 5.976]",
          "(51.756000000000014, 87.9065420560748]",
          "(-inf, 5.976]",
          "(51.756000000000014, 87.9065420560748]",
          "(51.756000000000014, 87.9065420560748]",
          "(51.756000000000014, 87.9065420560748]",
          "(51.756000000000014, 87.9065420560748]",
          "(51.756000000000014, 87.9065420560748]",
          "(51.756000000000014, 87.9065420560748]",
          "(51.756000000000014, 87.9065420560748]",
          "(-inf, 5.976]",
          "(5.976, 8.680770741122833]",
          "(51.756000000000014, 87.9065420560748]",
          "(17.130681818181817, 21]",
          "(51.756000000000014, 87.9065420560748]",
          "(51.756000000000014, 87.9065420560748]",
          "(51.756000000000014, 87.9065420560748]",
          "(-inf, 5.976]",
          "(11.210478375992938, 14.169145299145299]",
          "(-inf, 5.976]",
          "(51.756000000000014, 87.9065420560748]",
          "(11.210478375992938, 14.169145299145299]",
          "(14.169145299145299, 17.130681818181817]",
          "(-inf, 5.976]",
          "(-inf, 5.976]",
          "(-inf, 5.976]",
          "(5.976, 8.680770741122833]"
         ],
         "x0": " ",
         "xaxis": "x",
         "y": [
          0.002787878787878788,
          0.001625,
          0.0006666666666666666,
          0.00811111111111111,
          3.509857142857143,
          0.00062,
          0.015,
          9.598933823529412,
          16.28032894736842,
          28.316714285714287,
          0.004125,
          0.002,
          0.4584274809160306,
          0.0017815884476534297,
          0.0017815884476534297,
          0.0017815884476534297,
          0.0017815884476534297,
          1.1446502242152468,
          0.00019277810133954573,
          0.0105,
          0.015758522727272725,
          0.009871212121212121,
          0.9922392909896602,
          0.012375,
          0.010833333333333334,
          0.8426556886227545,
          3.78996875,
          0.005,
          0.0881,
          0.0008846153846153846,
          0.02,
          0.465609375,
          0.14329368029739778,
          0.0009753086419753087,
          0.008,
          2.733840909090909,
          0.7996388888888889,
          0.009,
          0.007211864406779661,
          0.7283,
          0.00225,
          0.32822222222222225,
          10.012815217391305,
          0.28878571428571426,
          0.041960000000000004,
          0.0085,
          0.00875,
          19.480412790697674,
          2.09685,
          0.0025,
          0.20261764705882354,
          0.0008666666666666667,
          0.02325,
          0.003625,
          5.7043513513513515,
          0.49223809523809525,
          0.0003581780538302277,
          0.05201724137931034,
          0.0009746666666666666,
          0.0012631578947368421,
          2.5239969325153373,
          0.014305555555555556,
          0.04825,
          0.0001991421568627451,
          0.06388888888888888,
          1.52875,
          0.8496745843230403,
          0.002,
          0.003,
          10.078358974358975,
          0.23121428571428573,
          0.0035,
          10.668225352112676,
          0.011,
          0.003405609492988134,
          0.006666666666666667,
          11.721073076923078,
          11.721073076923078,
          11.721073076923078,
          11.721073076923078,
          0.39792319277108434,
          0.8376634615384615,
          0.08442,
          0.020774193548387096,
          0.011,
          0.19481927710843375,
          0.4807558139534884,
          0.4807558139534884,
          0.4807558139534884,
          0.4807558139534884,
          0.066,
          0.7404627659574468,
          0.0010526315789473684,
          2.267,
          0.0595,
          0.0017777777777777776,
          0.001,
          0.003,
          0.0135,
          3.2100862068965514,
          0.60275,
          0.621859375,
          0.005818181818181819,
          46.98109090909091,
          0.6690952380952381,
          0.0006034019695613249,
          0.9535379310344828,
          0.1565,
          0.00725,
          0.0014285714285714286,
          2.9757903930131007,
          0.1035,
          7.064972972972973,
          0.0215,
          0.0035,
          0.8047777777777778,
          0.15016,
          0.0012857142857142859,
          1.2718333333333331,
          2.9852580645161293,
          0.0029090909090909093,
          1.3121852791878172,
          0.0019375,
          2.731596551724138,
          0.17521739130434782,
          0.45805,
          0.12772950819672133,
          10.25305,
          2.2770405405405403,
          0.0013658340048348105,
          0.043375,
          0.16410256410256413,
          45.74734782608696,
          0.5691422594142259,
          0.003625,
          0.00030434782608695655,
          10.640357142857143,
          0.9239264705882353,
          0.0003151680290644868,
          4.189119658119658,
          0.006,
          1.1560714285714286,
          4.7732624999999995,
          0.8589049999999999,
          20.33578947368421,
          41.283227272727274,
          3.5641875,
          0.076875,
          2.749826923076923,
          0.895125,
          26.36399504950495,
          1.5245,
          0.0009473684210526315,
          4.6,
          0.335,
          0.034640776699029124,
          0.025451923076923077,
          18.789785714285713,
          0.7276666666666667,
          0.3506,
          0.06333333333333334,
          1.88075,
          0.006009615384615385,
          0.2174375,
          0.21913566739606127,
          0.0014615384615384614,
          0.050833333333333335,
          0.004833333333333333,
          0.002528695652173913,
          0.002528695652173913,
          0.002528695652173913,
          0.002528695652173913,
          0.002769230769230769,
          0.11534615384615383,
          2.958545918367347,
          0.005,
          0.05518,
          19.126833333333334,
          0.0018888888888888887,
          0.3436666666666667,
          0.067,
          21.208,
          0.00275,
          0.798755376344086,
          0.008,
          0.005833333333333333,
          29.826886243386245,
          0.002125,
          0.96625,
          0.0006571428571428571,
          0.03187209302325582,
          0.0013,
          0.00048148148148148144,
          0.9792114537444934,
          0.4246388888888889,
          0.06444354838709677,
          0.37402380952380954,
          0.0017966171617161716,
          0.00525,
          0.0051818181818181815,
          1.778529761904762,
          0.5916531476997579,
          0.3788506493506493,
          0.13745,
          0.033416666666666664,
          21.59933333333333,
          0.013,
          0.42854838709677423,
          0.010199999999999999,
          1.4016814814814815,
          0.0013125,
          0.07674500000000001,
          2.3419475190839694,
          0.8916562162162162,
          3.4339473684210526,
          0.406,
          0.00825,
          3.1715,
          0.09934177215189874,
          0.46553846153846157,
          2.234935483870968,
          0.04725,
          0.017526785714285717,
          1.43863,
          0.0075,
          0.186,
          3.2275238095238095,
          0.5923846153846154,
          1.4064173913043478,
          0.0016666666666666668,
          2.0565862068965517,
          0.01025,
          5.741806122448979,
          0.0021875,
          0.0008611111111111112,
          0.007,
          0.6076323529411765,
          0.005881909547738694,
          0.00854251012145749,
          0.00575,
          55.363375,
          2.7446346153846153,
          2.936099173553719,
          0.4082303370786517,
          2.625864988558352,
          0.0525,
          0.0065,
          0.207,
          0.0588,
          0.44158749999999997,
          19.133529411764705,
          0.006900000000000001,
          0.037625,
          0.5694191616766467,
          10.61148,
          0.004583333333333333,
          0.01175,
          0.023431818181818182,
          0.314452380952381,
          0.309114006514658,
          0.0014166666666666668,
          0.002625,
          0.01075,
          81.1654117647059,
          0.0174,
          0.0175,
          0.0075,
          0.00164,
          0.002,
          1.2663202247191012,
          0.1791111111111111,
          0.004909090909090909,
          0.0019375,
          0.00225,
          0.024982698961937718,
          0.013721951219512196,
          0.0125,
          0.0019375,
          0.019970588235294115,
          0.12032692307692308,
          0.0015454545454545454,
          0.008,
          0.006,
          3.8361417910447764,
          1.5965714285714288,
          0.2348611111111111,
          0.0010208333333333332,
          0.002391304347826087,
          0.9593564814814816,
          2.985230769230769,
          22.909453333333335,
          0.45209848484848486,
          2.6115,
          0.13418181818181818,
          0.01025,
          18.909666666666666,
          0.009602836879432624,
          0.09966666666666667,
          0.003,
          3.240220873786408,
          0.0034545454545454545,
          0.37825,
          0.6194285714285714,
          0.6660741324921136,
          0.005090909090909091,
          0.00022029372496662218,
          0.0009090909090909091,
          3.705173333333333,
          2.6953165938864627,
          0.0086,
          0.5553541666666666,
          0.18644827586206894,
          0.45644444444444443,
          28.738330357142857,
          1.118925561797753,
          0.0025625,
          1.1024347826086958,
          0.062,
          0.00003076923076923077,
          1.7049756097560975,
          0.27815900131406046,
          0.9772767653758542,
          0.21725,
          0.26725,
          2.159348432055749,
          2.758485294117647,
          0.5653636363636364,
          0.007380434782608696,
          0.03554545454545455,
          0.0008457943925233645,
          0.007202985074626866,
          0.29507142857142854,
          2.2128500948766603,
          0.008708333333333334,
          0.0085,
          0.09531034482758621,
          0.11616666666666667,
          0.05714705882352941,
          10.237916666666665,
          0.0008372093023255815,
          0.0065,
          1.0001322033898306,
          0.0015555555555555557,
          0.0330990099009901,
          0.004,
          0.00625,
          0.005333333333333333,
          1.056529411764706,
          0.0020217391304347826,
          0.055790697674418605,
          0.021979591836734695,
          0.00425,
          1.1106098901098902,
          0.016458333333333332,
          0.7863671399594321,
          0.6635,
          1.0587142857142857,
          1.3499385342789598,
          0.0009230769230769232,
          0.50525,
          0.0011412985630654604,
          15.5070658436214,
          1.994448275862069,
          0.0013,
          0.394,
          0.0410625,
          6.728789473684211,
          0.05327272727272727,
          0.002,
          0.052055555555555556,
          0.004583333333333333,
          2.0936363636363633,
          0.32530263157894734,
          5.359954545454545,
          0.0010769230769230769,
          0.0017777777777777776,
          7.760952586206897,
          0.45209090909090904,
          0.061,
          0.24427777777777776,
          0.040625,
          9.396714285714285,
          0.01172222222222222,
          2.0058467741935484,
          5.4968515625,
          1.734480144404332,
          28.289166666666667,
          0.0016153846153846153,
          30.854923780487805,
          0.4746666666666667,
          0.40329166666666666,
          5.33315,
          1.6711923076923076,
          1.8814102564102564,
          0.025857142857142856,
          0.009800000000000001,
          48.83175,
          0.01175,
          0.006,
          1.4162962962962964,
          0.06835294117647059,
          3.4990290697674418,
          0.0013076923076923077,
          0.028485714285714284,
          0.07075,
          0.3186724137931034,
          8.750117924528302,
          8.750117924528302,
          8.750117924528302,
          8.750117924528302,
          0.01375,
          1.1086518987341771,
          0.001875,
          0.010959349593495935,
          0.00575,
          0.7225973597359736,
          0.0018666666666666666,
          0.06025,
          0.0014321462945139558,
          0.007666666666666667,
          0.006833333333333333,
          0.03565,
          0.2834,
          0.0116,
          3.6822241379310343,
          26.973636363636363,
          84.04507407407408,
          0.00175,
          1.3918333333333333,
          0.0016153846153846153,
          0.1085,
          1.1018076923076925,
          4.76825,
          2.4726999999999997,
          0.7793809523809524,
          0.106,
          3.487462962962963,
          5.276555555555555,
          11.328421348314606,
          10.62225,
          0.011,
          0.00025,
          3.8401176470588236,
          3.1979210526315787,
          2.40195,
          9.324283783783784,
          9.141666666666666,
          4.17793085106383,
          9.253941176470587,
          7.797227272727273,
          0.12425396825396826,
          0.0213,
          0.14357142857142857,
          0.11404597701149426,
          0.005666666666666667,
          0.126578125,
          0.17622641509433962,
          0.0018571428571428571,
          0.0038666666666666667,
          0.005666666666666667,
          0.15325396825396825,
          0.014305555555555556,
          0.09226760563380282,
          0.05618181818181818,
          0.005,
          0.13294117647058823,
          0.00475,
          0.0086875,
          0.11233333333333333,
          0.12258730158730158,
          0.024166666666666666,
          0.0727741935483871,
          0.10118433179723502,
          0.11019047619047619,
          0.12583098591549297,
          0.2140793650793651,
          0.09522222222222222,
          1.448434599156118,
          0.01525,
          0.005,
          0.026534161490683227,
          0.08876623376623377,
          0.008333333333333333,
          0.017375,
          0.009333333333333334,
          0.00078125,
          0.00625,
          0.041125,
          0.0033930514859773966,
          0.08933802816901408,
          0.004083333333333333,
          0.11706349206349206,
          0.03425,
          0.11033333333333332,
          0.0033227659574468086,
          0.050666666666666665,
          0.2598076923076923,
          0.007453125,
          0.0066,
          0.030285714285714284,
          0.053125,
          0.008333333333333333,
          0.004266666666666667,
          0.028416666666666666,
          0.13225396825396826,
          0.003,
          0.0880909090909091,
          0.13490140845070422,
          0.17187301587301587,
          0.10544444444444444,
          0.10284126984126983,
          0.15884126984126984,
          0.15884126984126984,
          0.15884126984126984,
          0.15884126984126984,
          0.005333333333333333,
          0.09761904761904762,
          0.0053905508072174734,
          0.007666666666666667,
          0.09182707622298067,
          0.12815873015873014,
          0.00725,
          0.0216,
          0.07614285714285714,
          0.0037791912766924124,
          0.043,
          0.1246470588235294,
          0.050375,
          0.12258730158730158,
          0.00425,
          0.09677777777777777,
          0.004666666666666667,
          0.11494339622641508,
          0.12215873015873016,
          0.11660317460317461,
          0.086,
          0.13452564102564102,
          0.11901487414187643,
          0.003529411764705882,
          5.169958904109588,
          0.008333333333333333,
          0.11411111111111111,
          0.008199999999999999,
          0.0034615384615384616,
          0.5298571428571429,
          0.10506349206349207,
          0.11307407407407408,
          0.00475,
          0.0505,
          0.0505,
          0.0505,
          0.0505,
          0.006,
          0.11198412698412699,
          0.00140625,
          0.07716470588235294,
          0.0033422876949740035,
          0.1149047619047619,
          0.10077777777777777,
          0.0983661971830986,
          0.08575,
          0.2256904761904762,
          0.005,
          0.13452380952380952,
          0.1105,
          0.14132432432432432,
          0.12944444444444445,
          0.10653968253968255,
          0.10971428571428571,
          0.1624805194805195,
          0.10987301587301587,
          0.1150952380952381,
          0.008,
          0.05575,
          0.12427272727272727,
          0.05819047619047619,
          0.10376190476190476,
          0.09246753246753246,
          0.10849350649350649,
          0.07933333333333333,
          1.3799230769230768,
          0.287,
          1.5643125,
          159.78385714285713,
          45.603433333333335,
          852.92925,
          59.243,
          0.754,
          66.93485714285714
         ],
         "y0": " ",
         "yaxis": "y"
        }
       ],
       "layout": {
        "boxmode": "group",
        "legend": {
         "title": {
          "text": "color"
         },
         "tracegroupgap": 0
        },
        "margin": {
         "t": 60
        },
        "template": {
         "data": {
          "bar": [
           {
            "error_x": {
             "color": "#2a3f5f"
            },
            "error_y": {
             "color": "#2a3f5f"
            },
            "marker": {
             "line": {
              "color": "#E5ECF6",
              "width": 0.5
             },
             "pattern": {
              "fillmode": "overlay",
              "size": 10,
              "solidity": 0.2
             }
            },
            "type": "bar"
           }
          ],
          "barpolar": [
           {
            "marker": {
             "line": {
              "color": "#E5ECF6",
              "width": 0.5
             },
             "pattern": {
              "fillmode": "overlay",
              "size": 10,
              "solidity": 0.2
             }
            },
            "type": "barpolar"
           }
          ],
          "carpet": [
           {
            "aaxis": {
             "endlinecolor": "#2a3f5f",
             "gridcolor": "white",
             "linecolor": "white",
             "minorgridcolor": "white",
             "startlinecolor": "#2a3f5f"
            },
            "baxis": {
             "endlinecolor": "#2a3f5f",
             "gridcolor": "white",
             "linecolor": "white",
             "minorgridcolor": "white",
             "startlinecolor": "#2a3f5f"
            },
            "type": "carpet"
           }
          ],
          "choropleth": [
           {
            "colorbar": {
             "outlinewidth": 0,
             "ticks": ""
            },
            "type": "choropleth"
           }
          ],
          "contour": [
           {
            "colorbar": {
             "outlinewidth": 0,
             "ticks": ""
            },
            "colorscale": [
             [
              0,
              "#0d0887"
             ],
             [
              0.1111111111111111,
              "#46039f"
             ],
             [
              0.2222222222222222,
              "#7201a8"
             ],
             [
              0.3333333333333333,
              "#9c179e"
             ],
             [
              0.4444444444444444,
              "#bd3786"
             ],
             [
              0.5555555555555556,
              "#d8576b"
             ],
             [
              0.6666666666666666,
              "#ed7953"
             ],
             [
              0.7777777777777778,
              "#fb9f3a"
             ],
             [
              0.8888888888888888,
              "#fdca26"
             ],
             [
              1,
              "#f0f921"
             ]
            ],
            "type": "contour"
           }
          ],
          "contourcarpet": [
           {
            "colorbar": {
             "outlinewidth": 0,
             "ticks": ""
            },
            "type": "contourcarpet"
           }
          ],
          "heatmap": [
           {
            "colorbar": {
             "outlinewidth": 0,
             "ticks": ""
            },
            "colorscale": [
             [
              0,
              "#0d0887"
             ],
             [
              0.1111111111111111,
              "#46039f"
             ],
             [
              0.2222222222222222,
              "#7201a8"
             ],
             [
              0.3333333333333333,
              "#9c179e"
             ],
             [
              0.4444444444444444,
              "#bd3786"
             ],
             [
              0.5555555555555556,
              "#d8576b"
             ],
             [
              0.6666666666666666,
              "#ed7953"
             ],
             [
              0.7777777777777778,
              "#fb9f3a"
             ],
             [
              0.8888888888888888,
              "#fdca26"
             ],
             [
              1,
              "#f0f921"
             ]
            ],
            "type": "heatmap"
           }
          ],
          "heatmapgl": [
           {
            "colorbar": {
             "outlinewidth": 0,
             "ticks": ""
            },
            "colorscale": [
             [
              0,
              "#0d0887"
             ],
             [
              0.1111111111111111,
              "#46039f"
             ],
             [
              0.2222222222222222,
              "#7201a8"
             ],
             [
              0.3333333333333333,
              "#9c179e"
             ],
             [
              0.4444444444444444,
              "#bd3786"
             ],
             [
              0.5555555555555556,
              "#d8576b"
             ],
             [
              0.6666666666666666,
              "#ed7953"
             ],
             [
              0.7777777777777778,
              "#fb9f3a"
             ],
             [
              0.8888888888888888,
              "#fdca26"
             ],
             [
              1,
              "#f0f921"
             ]
            ],
            "type": "heatmapgl"
           }
          ],
          "histogram": [
           {
            "marker": {
             "pattern": {
              "fillmode": "overlay",
              "size": 10,
              "solidity": 0.2
             }
            },
            "type": "histogram"
           }
          ],
          "histogram2d": [
           {
            "colorbar": {
             "outlinewidth": 0,
             "ticks": ""
            },
            "colorscale": [
             [
              0,
              "#0d0887"
             ],
             [
              0.1111111111111111,
              "#46039f"
             ],
             [
              0.2222222222222222,
              "#7201a8"
             ],
             [
              0.3333333333333333,
              "#9c179e"
             ],
             [
              0.4444444444444444,
              "#bd3786"
             ],
             [
              0.5555555555555556,
              "#d8576b"
             ],
             [
              0.6666666666666666,
              "#ed7953"
             ],
             [
              0.7777777777777778,
              "#fb9f3a"
             ],
             [
              0.8888888888888888,
              "#fdca26"
             ],
             [
              1,
              "#f0f921"
             ]
            ],
            "type": "histogram2d"
           }
          ],
          "histogram2dcontour": [
           {
            "colorbar": {
             "outlinewidth": 0,
             "ticks": ""
            },
            "colorscale": [
             [
              0,
              "#0d0887"
             ],
             [
              0.1111111111111111,
              "#46039f"
             ],
             [
              0.2222222222222222,
              "#7201a8"
             ],
             [
              0.3333333333333333,
              "#9c179e"
             ],
             [
              0.4444444444444444,
              "#bd3786"
             ],
             [
              0.5555555555555556,
              "#d8576b"
             ],
             [
              0.6666666666666666,
              "#ed7953"
             ],
             [
              0.7777777777777778,
              "#fb9f3a"
             ],
             [
              0.8888888888888888,
              "#fdca26"
             ],
             [
              1,
              "#f0f921"
             ]
            ],
            "type": "histogram2dcontour"
           }
          ],
          "mesh3d": [
           {
            "colorbar": {
             "outlinewidth": 0,
             "ticks": ""
            },
            "type": "mesh3d"
           }
          ],
          "parcoords": [
           {
            "line": {
             "colorbar": {
              "outlinewidth": 0,
              "ticks": ""
             }
            },
            "type": "parcoords"
           }
          ],
          "pie": [
           {
            "automargin": true,
            "type": "pie"
           }
          ],
          "scatter": [
           {
            "fillpattern": {
             "fillmode": "overlay",
             "size": 10,
             "solidity": 0.2
            },
            "type": "scatter"
           }
          ],
          "scatter3d": [
           {
            "line": {
             "colorbar": {
              "outlinewidth": 0,
              "ticks": ""
             }
            },
            "marker": {
             "colorbar": {
              "outlinewidth": 0,
              "ticks": ""
             }
            },
            "type": "scatter3d"
           }
          ],
          "scattercarpet": [
           {
            "marker": {
             "colorbar": {
              "outlinewidth": 0,
              "ticks": ""
             }
            },
            "type": "scattercarpet"
           }
          ],
          "scattergeo": [
           {
            "marker": {
             "colorbar": {
              "outlinewidth": 0,
              "ticks": ""
             }
            },
            "type": "scattergeo"
           }
          ],
          "scattergl": [
           {
            "marker": {
             "colorbar": {
              "outlinewidth": 0,
              "ticks": ""
             }
            },
            "type": "scattergl"
           }
          ],
          "scattermapbox": [
           {
            "marker": {
             "colorbar": {
              "outlinewidth": 0,
              "ticks": ""
             }
            },
            "type": "scattermapbox"
           }
          ],
          "scatterpolar": [
           {
            "marker": {
             "colorbar": {
              "outlinewidth": 0,
              "ticks": ""
             }
            },
            "type": "scatterpolar"
           }
          ],
          "scatterpolargl": [
           {
            "marker": {
             "colorbar": {
              "outlinewidth": 0,
              "ticks": ""
             }
            },
            "type": "scatterpolargl"
           }
          ],
          "scatterternary": [
           {
            "marker": {
             "colorbar": {
              "outlinewidth": 0,
              "ticks": ""
             }
            },
            "type": "scatterternary"
           }
          ],
          "surface": [
           {
            "colorbar": {
             "outlinewidth": 0,
             "ticks": ""
            },
            "colorscale": [
             [
              0,
              "#0d0887"
             ],
             [
              0.1111111111111111,
              "#46039f"
             ],
             [
              0.2222222222222222,
              "#7201a8"
             ],
             [
              0.3333333333333333,
              "#9c179e"
             ],
             [
              0.4444444444444444,
              "#bd3786"
             ],
             [
              0.5555555555555556,
              "#d8576b"
             ],
             [
              0.6666666666666666,
              "#ed7953"
             ],
             [
              0.7777777777777778,
              "#fb9f3a"
             ],
             [
              0.8888888888888888,
              "#fdca26"
             ],
             [
              1,
              "#f0f921"
             ]
            ],
            "type": "surface"
           }
          ],
          "table": [
           {
            "cells": {
             "fill": {
              "color": "#EBF0F8"
             },
             "line": {
              "color": "white"
             }
            },
            "header": {
             "fill": {
              "color": "#C8D4E3"
             },
             "line": {
              "color": "white"
             }
            },
            "type": "table"
           }
          ]
         },
         "layout": {
          "annotationdefaults": {
           "arrowcolor": "#2a3f5f",
           "arrowhead": 0,
           "arrowwidth": 1
          },
          "autotypenumbers": "strict",
          "coloraxis": {
           "colorbar": {
            "outlinewidth": 0,
            "ticks": ""
           }
          },
          "colorscale": {
           "diverging": [
            [
             0,
             "#8e0152"
            ],
            [
             0.1,
             "#c51b7d"
            ],
            [
             0.2,
             "#de77ae"
            ],
            [
             0.3,
             "#f1b6da"
            ],
            [
             0.4,
             "#fde0ef"
            ],
            [
             0.5,
             "#f7f7f7"
            ],
            [
             0.6,
             "#e6f5d0"
            ],
            [
             0.7,
             "#b8e186"
            ],
            [
             0.8,
             "#7fbc41"
            ],
            [
             0.9,
             "#4d9221"
            ],
            [
             1,
             "#276419"
            ]
           ],
           "sequential": [
            [
             0,
             "#0d0887"
            ],
            [
             0.1111111111111111,
             "#46039f"
            ],
            [
             0.2222222222222222,
             "#7201a8"
            ],
            [
             0.3333333333333333,
             "#9c179e"
            ],
            [
             0.4444444444444444,
             "#bd3786"
            ],
            [
             0.5555555555555556,
             "#d8576b"
            ],
            [
             0.6666666666666666,
             "#ed7953"
            ],
            [
             0.7777777777777778,
             "#fb9f3a"
            ],
            [
             0.8888888888888888,
             "#fdca26"
            ],
            [
             1,
             "#f0f921"
            ]
           ],
           "sequentialminus": [
            [
             0,
             "#0d0887"
            ],
            [
             0.1111111111111111,
             "#46039f"
            ],
            [
             0.2222222222222222,
             "#7201a8"
            ],
            [
             0.3333333333333333,
             "#9c179e"
            ],
            [
             0.4444444444444444,
             "#bd3786"
            ],
            [
             0.5555555555555556,
             "#d8576b"
            ],
            [
             0.6666666666666666,
             "#ed7953"
            ],
            [
             0.7777777777777778,
             "#fb9f3a"
            ],
            [
             0.8888888888888888,
             "#fdca26"
            ],
            [
             1,
             "#f0f921"
            ]
           ]
          },
          "colorway": [
           "#636efa",
           "#EF553B",
           "#00cc96",
           "#ab63fa",
           "#FFA15A",
           "#19d3f3",
           "#FF6692",
           "#B6E880",
           "#FF97FF",
           "#FECB52"
          ],
          "font": {
           "color": "#2a3f5f"
          },
          "geo": {
           "bgcolor": "white",
           "lakecolor": "white",
           "landcolor": "#E5ECF6",
           "showlakes": true,
           "showland": true,
           "subunitcolor": "white"
          },
          "hoverlabel": {
           "align": "left"
          },
          "hovermode": "closest",
          "mapbox": {
           "style": "light"
          },
          "paper_bgcolor": "white",
          "plot_bgcolor": "#E5ECF6",
          "polar": {
           "angularaxis": {
            "gridcolor": "white",
            "linecolor": "white",
            "ticks": ""
           },
           "bgcolor": "#E5ECF6",
           "radialaxis": {
            "gridcolor": "white",
            "linecolor": "white",
            "ticks": ""
           }
          },
          "scene": {
           "xaxis": {
            "backgroundcolor": "#E5ECF6",
            "gridcolor": "white",
            "gridwidth": 2,
            "linecolor": "white",
            "showbackground": true,
            "ticks": "",
            "zerolinecolor": "white"
           },
           "yaxis": {
            "backgroundcolor": "#E5ECF6",
            "gridcolor": "white",
            "gridwidth": 2,
            "linecolor": "white",
            "showbackground": true,
            "ticks": "",
            "zerolinecolor": "white"
           },
           "zaxis": {
            "backgroundcolor": "#E5ECF6",
            "gridcolor": "white",
            "gridwidth": 2,
            "linecolor": "white",
            "showbackground": true,
            "ticks": "",
            "zerolinecolor": "white"
           }
          },
          "shapedefaults": {
           "line": {
            "color": "#2a3f5f"
           }
          },
          "ternary": {
           "aaxis": {
            "gridcolor": "white",
            "linecolor": "white",
            "ticks": ""
           },
           "baxis": {
            "gridcolor": "white",
            "linecolor": "white",
            "ticks": ""
           },
           "bgcolor": "#E5ECF6",
           "caxis": {
            "gridcolor": "white",
            "linecolor": "white",
            "ticks": ""
           }
          },
          "title": {
           "x": 0.05
          },
          "xaxis": {
           "automargin": true,
           "gridcolor": "white",
           "linecolor": "white",
           "ticks": "",
           "title": {
            "standoff": 15
           },
           "zerolinecolor": "white",
           "zerolinewidth": 2
          },
          "yaxis": {
           "automargin": true,
           "gridcolor": "white",
           "linecolor": "white",
           "ticks": "",
           "title": {
            "standoff": 15
           },
           "zerolinecolor": "white",
           "zerolinewidth": 2
          }
         }
        },
        "xaxis": {
         "anchor": "y",
         "categoryarray": [
          "(-inf, 5.976]",
          "(5.976, 8.680770741122833]",
          "(8.680770741122833, 11.210478375992938]",
          "(11.210478375992938, 14.169145299145299]",
          "(14.169145299145299, 17.130681818181817]",
          "(17.130681818181817, 21]",
          "(21, 33.93583302568712]",
          "(33.93583302568712, 51.756000000000014]",
          "(51.756000000000014, 87.9065420560748]",
          "(87.9065420560748, inf]"
         ],
         "categoryorder": "array",
         "domain": [
          0,
          1
         ],
         "title": {
          "text": ""
         }
        },
        "yaxis": {
         "anchor": "x",
         "domain": [
          0,
          1
         ],
         "title": {
          "text": "inter_api_access_duration(sec)"
         },
         "type": "log"
        }
       }
      }
     },
     "metadata": {},
     "output_type": "display_data"
    }
   ],
   "source": [
    "boxplot_by_bin_with_target(\n",
    "    data = data,\n",
    "    column_to_bin = \"sequence_length(count)\",\n",
    "    numeric_column = \"inter_api_access_duration(sec)\",\n",
    "    target = \"is_anomaly\"\n",
    ")"
   ]
  },
  {
   "cell_type": "markdown",
   "metadata": {},
   "source": [
    "**Observations**\n",
    "* Outliers have faster inter API duration than normal traffic\n",
    "* In the shortest sequence length, the difference in inter API duration is not as drastic as it is for longer sequences\n",
    "\n",
    "**Insights**\n",
    "* Longer sequences with faster inter API access duration are more likely to be anomalous\n"
   ]
  },
  {
   "cell_type": "markdown",
   "metadata": {},
   "source": [
    "## Summary\n",
    "\n",
    "### Main Insights\n",
    "* Most of the traffic comes from the default source, only 9% comes from datacenters\n",
    "* All the datacenter traffic is considered to be anomalous\n",
    "* Longer sequences with faster inter API access ruations are more likely to be anomalous\n",
    "\n",
    "### Implications for Modelling\n",
    "* Dataset needs to be filter to include only the `default` source type\n",
    "* Interaction between `sequence_length` and `inter_api_duration` needs to be either manually encoded, or a tree-based model needs to be used"
   ]
  },
  {
   "cell_type": "markdown",
   "metadata": {},
   "source": []
  }
 ],
 "metadata": {
  "kernelspec": {
   "display_name": "dev",
   "language": "python",
   "name": "python3"
  },
  "language_info": {
   "codemirror_mode": {
    "name": "ipython",
    "version": 3
   },
   "file_extension": ".py",
   "mimetype": "text/x-python",
   "name": "python",
   "nbconvert_exporter": "python",
   "pygments_lexer": "ipython3",
   "version": "3.10.13"
  }
 },
 "nbformat": 4,
 "nbformat_minor": 2
}
